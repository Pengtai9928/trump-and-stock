{
 "cells": [
  {
   "cell_type": "code",
   "execution_count": 1,
   "metadata": {},
   "outputs": [],
   "source": [
    "import pandas as pd\n",
    "import numpy as np\n",
    "import multiprocessing\n",
    "from time import time\n",
    "import matplotlib.pyplot as plt\n",
    "import seaborn as sns\n",
    "%matplotlib inline"
   ]
  },
  {
   "cell_type": "code",
   "execution_count": 2,
   "metadata": {},
   "outputs": [],
   "source": [
    "df = pd.read_csv('../data/tweets&sentiment&logreturns.csv')"
   ]
  },
  {
   "cell_type": "markdown",
   "metadata": {},
   "source": [
    "## Feature preprocessing"
   ]
  },
  {
   "cell_type": "markdown",
   "metadata": {},
   "source": [
    "### Drop features"
   ]
  },
  {
   "cell_type": "markdown",
   "metadata": {},
   "source": [
    "In this step, features not useful for modelling are discarded. Such features are:\n",
    "* source\n",
    "* text\n",
    "* created_at\n",
    "* id_str\n",
    "* hashtag\n",
    "* mention\n",
    "* neg_sentiment\n",
    "* neu_sentiment\n",
    "* pos_sentiment\n",
    "* created_date\n",
    "* created_time\n",
    "* passed_closing\n",
    "* market_date"
   ]
  },
  {
   "cell_type": "code",
   "execution_count": 3,
   "metadata": {},
   "outputs": [],
   "source": [
    "# drop review_no, product_id and review_date\n",
    "df = df.drop(columns=['source', 'text', 'created_at', 'id_str', 'hashtag', 'mention', \n",
    "                      'neg_sentiment', 'neu_sentiment', 'pos_sentiment', 'created_date',\n",
    "                      'created_time', 'passed_closing', 'market_date'\n",
    "                     ], errors='ignore')"
   ]
  },
  {
   "cell_type": "code",
   "execution_count": 4,
   "metadata": {
    "scrolled": true
   },
   "outputs": [
    {
     "data": {
      "text/plain": [
       "Index(['cleaned_text', 'retweet_count', 'favorite_count', 'is_retweet',\n",
       "       'hashtag_count', 'mention_count', 'word_count', 'char_count',\n",
       "       'word_density', 'punctuation_freq', 'upper_case_freq',\n",
       "       'compound_sentiment', '^GSPC', '^IXIC', 'VGT'],\n",
       "      dtype='object')"
      ]
     },
     "execution_count": 4,
     "metadata": {},
     "output_type": "execute_result"
    }
   ],
   "source": [
    "df.columns"
   ]
  },
  {
   "cell_type": "markdown",
   "metadata": {},
   "source": [
    "### Type casting"
   ]
  },
  {
   "cell_type": "code",
   "execution_count": 5,
   "metadata": {},
   "outputs": [
    {
     "data": {
      "text/plain": [
       "cleaned_text           object\n",
       "retweet_count           int64\n",
       "favorite_count          int64\n",
       "is_retweet             object\n",
       "hashtag_count           int64\n",
       "mention_count           int64\n",
       "word_count              int64\n",
       "char_count              int64\n",
       "word_density          float64\n",
       "punctuation_freq      float64\n",
       "upper_case_freq       float64\n",
       "compound_sentiment    float64\n",
       "^GSPC                 float64\n",
       "^IXIC                 float64\n",
       "VGT                   float64\n",
       "dtype: object"
      ]
     },
     "execution_count": 5,
     "metadata": {},
     "output_type": "execute_result"
    }
   ],
   "source": [
    "df.dtypes"
   ]
  },
  {
   "cell_type": "code",
   "execution_count": 6,
   "metadata": {},
   "outputs": [],
   "source": [
    "# change is_tweet from boolean to binary\n",
    "df['is_retweet'] = df['is_retweet'].replace({True:1, False:0})"
   ]
  },
  {
   "cell_type": "markdown",
   "metadata": {},
   "source": [
    "### Drop NA values"
   ]
  },
  {
   "cell_type": "code",
   "execution_count": 7,
   "metadata": {},
   "outputs": [
    {
     "data": {
      "text/plain": [
       "cleaned_text          1192\n",
       "retweet_count            0\n",
       "favorite_count           0\n",
       "is_retweet              58\n",
       "hashtag_count            0\n",
       "mention_count            0\n",
       "word_count               0\n",
       "char_count               0\n",
       "word_density           928\n",
       "punctuation_freq       928\n",
       "upper_case_freq        928\n",
       "compound_sentiment       0\n",
       "^GSPC                    0\n",
       "^IXIC                    0\n",
       "VGT                      0\n",
       "dtype: int64"
      ]
     },
     "execution_count": 7,
     "metadata": {},
     "output_type": "execute_result"
    }
   ],
   "source": [
    "df.isna().sum()"
   ]
  },
  {
   "cell_type": "code",
   "execution_count": 8,
   "metadata": {},
   "outputs": [],
   "source": [
    "df = df.dropna(how='any')\n",
    "df = df.reset_index().drop(columns=['index'])"
   ]
  },
  {
   "cell_type": "code",
   "execution_count": 9,
   "metadata": {},
   "outputs": [
    {
     "data": {
      "text/html": [
       "<div>\n",
       "<style scoped>\n",
       "    .dataframe tbody tr th:only-of-type {\n",
       "        vertical-align: middle;\n",
       "    }\n",
       "\n",
       "    .dataframe tbody tr th {\n",
       "        vertical-align: top;\n",
       "    }\n",
       "\n",
       "    .dataframe thead th {\n",
       "        text-align: right;\n",
       "    }\n",
       "</style>\n",
       "<table border=\"1\" class=\"dataframe\">\n",
       "  <thead>\n",
       "    <tr style=\"text-align: right;\">\n",
       "      <th></th>\n",
       "      <th>cleaned_text</th>\n",
       "      <th>retweet_count</th>\n",
       "      <th>favorite_count</th>\n",
       "      <th>is_retweet</th>\n",
       "      <th>hashtag_count</th>\n",
       "      <th>mention_count</th>\n",
       "      <th>word_count</th>\n",
       "      <th>char_count</th>\n",
       "      <th>word_density</th>\n",
       "      <th>punctuation_freq</th>\n",
       "      <th>upper_case_freq</th>\n",
       "      <th>compound_sentiment</th>\n",
       "      <th>^GSPC</th>\n",
       "      <th>^IXIC</th>\n",
       "      <th>VGT</th>\n",
       "    </tr>\n",
       "  </thead>\n",
       "  <tbody>\n",
       "    <tr>\n",
       "      <th>0</th>\n",
       "      <td>thank</td>\n",
       "      <td>19616</td>\n",
       "      <td>65721</td>\n",
       "      <td>0.0</td>\n",
       "      <td>0</td>\n",
       "      <td>1</td>\n",
       "      <td>5</td>\n",
       "      <td>28</td>\n",
       "      <td>5.600000</td>\n",
       "      <td>0.400000</td>\n",
       "      <td>0.000000</td>\n",
       "      <td>0.4199</td>\n",
       "      <td>0.005279</td>\n",
       "      <td>0.014137</td>\n",
       "      <td>0.012381</td>\n",
       "    </tr>\n",
       "    <tr>\n",
       "      <th>1</th>\n",
       "      <td>big news maine court side rnc uphold ban ballo...</td>\n",
       "      <td>29393</td>\n",
       "      <td>0</td>\n",
       "      <td>1.0</td>\n",
       "      <td>0</td>\n",
       "      <td>0</td>\n",
       "      <td>24</td>\n",
       "      <td>138</td>\n",
       "      <td>5.750000</td>\n",
       "      <td>0.291667</td>\n",
       "      <td>0.166667</td>\n",
       "      <td>0.0000</td>\n",
       "      <td>0.005279</td>\n",
       "      <td>0.014137</td>\n",
       "      <td>0.012381</td>\n",
       "    </tr>\n",
       "    <tr>\n",
       "      <th>2</th>\n",
       "      <td>thank paul</td>\n",
       "      <td>15992</td>\n",
       "      <td>63294</td>\n",
       "      <td>0.0</td>\n",
       "      <td>0</td>\n",
       "      <td>0</td>\n",
       "      <td>4</td>\n",
       "      <td>16</td>\n",
       "      <td>4.000000</td>\n",
       "      <td>0.250000</td>\n",
       "      <td>0.000000</td>\n",
       "      <td>0.4199</td>\n",
       "      <td>0.005279</td>\n",
       "      <td>0.014137</td>\n",
       "      <td>0.012381</td>\n",
       "    </tr>\n",
       "    <tr>\n",
       "      <th>3</th>\n",
       "      <td>defective ballot new york want replace happen ...</td>\n",
       "      <td>51445</td>\n",
       "      <td>190750</td>\n",
       "      <td>0.0</td>\n",
       "      <td>0</td>\n",
       "      <td>0</td>\n",
       "      <td>42</td>\n",
       "      <td>199</td>\n",
       "      <td>4.738095</td>\n",
       "      <td>0.119048</td>\n",
       "      <td>0.857143</td>\n",
       "      <td>-0.7988</td>\n",
       "      <td>0.005279</td>\n",
       "      <td>0.014137</td>\n",
       "      <td>0.012381</td>\n",
       "    </tr>\n",
       "    <tr>\n",
       "      <th>4</th>\n",
       "      <td>half years secure americas border rebuild awes...</td>\n",
       "      <td>18885</td>\n",
       "      <td>70838</td>\n",
       "      <td>0.0</td>\n",
       "      <td>1</td>\n",
       "      <td>0</td>\n",
       "      <td>43</td>\n",
       "      <td>239</td>\n",
       "      <td>5.558140</td>\n",
       "      <td>0.093023</td>\n",
       "      <td>0.116279</td>\n",
       "      <td>-0.1260</td>\n",
       "      <td>0.005279</td>\n",
       "      <td>0.014137</td>\n",
       "      <td>0.012381</td>\n",
       "    </tr>\n",
       "  </tbody>\n",
       "</table>\n",
       "</div>"
      ],
      "text/plain": [
       "                                        cleaned_text  retweet_count  \\\n",
       "0                                              thank          19616   \n",
       "1  big news maine court side rnc uphold ban ballo...          29393   \n",
       "2                                         thank paul          15992   \n",
       "3  defective ballot new york want replace happen ...          51445   \n",
       "4  half years secure americas border rebuild awes...          18885   \n",
       "\n",
       "   favorite_count  is_retweet  hashtag_count  mention_count  word_count  \\\n",
       "0           65721         0.0              0              1           5   \n",
       "1               0         1.0              0              0          24   \n",
       "2           63294         0.0              0              0           4   \n",
       "3          190750         0.0              0              0          42   \n",
       "4           70838         0.0              1              0          43   \n",
       "\n",
       "   char_count  word_density  punctuation_freq  upper_case_freq  \\\n",
       "0          28      5.600000          0.400000         0.000000   \n",
       "1         138      5.750000          0.291667         0.166667   \n",
       "2          16      4.000000          0.250000         0.000000   \n",
       "3         199      4.738095          0.119048         0.857143   \n",
       "4         239      5.558140          0.093023         0.116279   \n",
       "\n",
       "   compound_sentiment     ^GSPC     ^IXIC       VGT  \n",
       "0              0.4199  0.005279  0.014137  0.012381  \n",
       "1              0.0000  0.005279  0.014137  0.012381  \n",
       "2              0.4199  0.005279  0.014137  0.012381  \n",
       "3             -0.7988  0.005279  0.014137  0.012381  \n",
       "4             -0.1260  0.005279  0.014137  0.012381  "
      ]
     },
     "execution_count": 9,
     "metadata": {},
     "output_type": "execute_result"
    }
   ],
   "source": [
    "df.head()"
   ]
  },
  {
   "cell_type": "markdown",
   "metadata": {},
   "source": [
    "### Correlation plot\n",
    "From the correlation plot it can be seen that the meta text features have little correlation with the target variables"
   ]
  },
  {
   "cell_type": "code",
   "execution_count": 10,
   "metadata": {},
   "outputs": [],
   "source": [
    "from string import ascii_letters"
   ]
  },
  {
   "cell_type": "code",
   "execution_count": 11,
   "metadata": {},
   "outputs": [
    {
     "data": {
      "image/png": "[encoded data removed]",
      "text/plain": [
       "<Figure size 792x648 with 2 Axes>"
      ]
     },
     "metadata": {},
     "output_type": "display_data"
    }
   ],
   "source": [
    "sns.set_theme(style=\"white\")\n",
    "\n",
    "# Generate a large random dataset\n",
    "rs = np.random.RandomState(33)\n",
    "d = pd.DataFrame(data=rs.normal(size=(100, 26)),\n",
    "                 columns=list(ascii_letters[26:]))\n",
    "\n",
    "# Compute the correlation matrix\n",
    "corr = df.corr()\n",
    "\n",
    "# Generate a mask for the upper triangle\n",
    "mask = np.triu(np.ones_like(corr, dtype=bool))\n",
    "\n",
    "# Set up the matplotlib figure\n",
    "f, ax = plt.subplots(figsize=(11, 9))\n",
    "\n",
    "# Generate a custom diverging colormap\n",
    "cmap = sns.diverging_palette(230, 20, as_cmap=True)\n",
    "\n",
    "# Draw the heatmap with the mask and correct aspect ratio\n",
    "sns.heatmap(corr, mask=mask, cmap=cmap, vmax=.3, center=0,\n",
    "            square=True, linewidths=.5, cbar_kws={\"shrink\": .5}, annot = True)\n",
    "\n",
    "plt.show()"
   ]
  },
  {
   "cell_type": "markdown",
   "metadata": {},
   "source": [
    "### Normalise features\n",
    "Normalisation is essential for deep-learning/NN-related tasks. MinMax Scaler is chosen in this case to rescale the numeric inputs."
   ]
  },
  {
   "cell_type": "code",
   "execution_count": 12,
   "metadata": {},
   "outputs": [],
   "source": [
    "from sklearn.preprocessing import MinMaxScaler"
   ]
  },
  {
   "cell_type": "code",
   "execution_count": 13,
   "metadata": {},
   "outputs": [],
   "source": [
    "# obtain a list of numeric columns\n",
    "numeric_cols = list(df.columns)\n",
    "\n",
    "# remove text and output columns\n",
    "numeric_cols.remove('cleaned_text')\n",
    "numeric_cols.remove('^GSPC')\n",
    "numeric_cols.remove('^IXIC')\n",
    "numeric_cols.remove('VGT')"
   ]
  },
  {
   "cell_type": "code",
   "execution_count": 14,
   "metadata": {},
   "outputs": [],
   "source": [
    "# scale the features\n",
    "scaler = MinMaxScaler() \n",
    "df[numeric_cols] = scaler.fit_transform(df[numeric_cols])"
   ]
  },
  {
   "cell_type": "markdown",
   "metadata": {},
   "source": [
    "### Word embedding\n",
    "Word2Vec is the chosen text embedding method for several reasons:\n",
    "* The mapping between the target word to its context word implicitly embeds the sub-linear relationship into the vector space of words, so that relationships like “king:man as queen:woman” can be infered by word vectors.\n",
    "* It is less computationally expensive than deep language models such as GloVe, BERT, ElMo. BERT + transfer learning with BiLSTM was initially chosen for this problem but due to the relatively large dataset and limited computational power, training was extremely slow."
   ]
  },
  {
   "cell_type": "markdown",
   "metadata": {},
   "source": [
    "#### Further process text for Word2Vec"
   ]
  },
  {
   "cell_type": "code",
   "execution_count": 15,
   "metadata": {},
   "outputs": [],
   "source": [
    "import nltk"
   ]
  },
  {
   "cell_type": "code",
   "execution_count": 16,
   "metadata": {},
   "outputs": [],
   "source": [
    "def process_text_w2v(paragraph):    \n",
    "    result = list()\n",
    "    for line in nltk.sent_tokenize(paragraph):\n",
    "        tokenizer = nltk.RegexpTokenizer(r\"\\w+\")\n",
    "        tokens = [token for token in tokenizer.tokenize(line)]\n",
    "        result.append(tokens) \n",
    "    return result"
   ]
  },
  {
   "cell_type": "code",
   "execution_count": 17,
   "metadata": {},
   "outputs": [],
   "source": [
    "df['cleaned_text_w2v'] = df['cleaned_text'].apply(lambda x: process_text_w2v(x))"
   ]
  },
  {
   "cell_type": "code",
   "execution_count": 18,
   "metadata": {},
   "outputs": [],
   "source": [
    "# compile all sentences together to compose the corpus for later usage.\n",
    "sentences = [sent for x in df['cleaned_text_w2v'].values.tolist() for sent in x]"
   ]
  },
  {
   "cell_type": "markdown",
   "metadata": {
    "_uuid": "89c305fcd163488441ac2ac6133678bd973b4419"
   },
   "source": [
    "#### Set parameters for word2vec model\n",
    "`min_count` is set to 1 since we would like to obtain the embeddings of all words in our vocabulary for subsequent modelling to work. Normally, `min_count` is set to a larger value."
   ]
  },
  {
   "cell_type": "code",
   "execution_count": 19,
   "metadata": {},
   "outputs": [],
   "source": [
    "import gensim\n",
    "from gensim.models.phrases import Phrases, Phraser\n",
    "from gensim.models import Word2Vec"
   ]
  },
  {
   "cell_type": "code",
   "execution_count": 20,
   "metadata": {
    "_uuid": "ad619db82c219d6cb81fad516563feb0c4d474cd"
   },
   "outputs": [],
   "source": [
    "w2v_model = Word2Vec(min_count=1, \n",
    "                     window=3,\n",
    "                     size=64,\n",
    "                     sample=6e-5, \n",
    "                     alpha=0.03, \n",
    "                     min_alpha=0.0007, \n",
    "                     negative=20,\n",
    "                     workers=multiprocessing.cpu_count())"
   ]
  },
  {
   "cell_type": "markdown",
   "metadata": {
    "_uuid": "d7e9f1bd338f9e15647b5209ffd8fbb131cd7ee5"
   },
   "source": [
    "#### Building the Vocabulary Table\n",
    "Digest all the words and filter out the unique words, and doing some basic counts on them."
   ]
  },
  {
   "cell_type": "code",
   "execution_count": 21,
   "metadata": {
    "_uuid": "66358ad743e05e17dfbed3899af9c41056143daa"
   },
   "outputs": [
    {
     "name": "stdout",
     "output_type": "stream",
     "text": [
      "Time to build vocab: 0.12 mins\n"
     ]
    }
   ],
   "source": [
    "t = time()\n",
    "w2v_model.build_vocab(sentences, progress_per=10000)\n",
    "print('Time to build vocab: {} mins'.format(round((time() - t) / 60, 2)))"
   ]
  },
  {
   "cell_type": "markdown",
   "metadata": {
    "_uuid": "63260d82061abb47db7f2f8b23e07ec629adf5a9"
   },
   "source": [
    "### Train Word2Vec"
   ]
  },
  {
   "cell_type": "code",
   "execution_count": 22,
   "metadata": {
    "scrolled": true
   },
   "outputs": [
    {
     "name": "stdout",
     "output_type": "stream",
     "text": [
      "Time to train the model: 0.31 mins\n"
     ]
    }
   ],
   "source": [
    "start_time = time()\n",
    "w2v_model.train(sentences, total_examples=w2v_model.corpus_count, epochs=30, report_delay=1)\n",
    "print('Time to train the model: {} mins'.format(round((time() - start_time) / 60, 2)))"
   ]
  },
  {
   "cell_type": "code",
   "execution_count": 23,
   "metadata": {},
   "outputs": [],
   "source": [
    "w2v_model.save('../model/word2vec/word2vec.model')"
   ]
  },
  {
   "cell_type": "code",
   "execution_count": 24,
   "metadata": {
    "_uuid": "34dd51c7f2f39d016b982ef81e4df576f6b31bcb"
   },
   "outputs": [],
   "source": [
    "w2v_model.init_sims(replace=True)"
   ]
  },
  {
   "cell_type": "markdown",
   "metadata": {},
   "source": [
    "#### Generate Word2Vec vectors\n",
    "generate and write the word embedding vectors to directory"
   ]
  },
  {
   "cell_type": "code",
   "execution_count": 25,
   "metadata": {},
   "outputs": [],
   "source": [
    "# # load the model from the model file\n",
    "# w2v_model = Word2Vec.load('../model/word2vec.model')"
   ]
  },
  {
   "cell_type": "code",
   "execution_count": 26,
   "metadata": {},
   "outputs": [
    {
     "name": "stderr",
     "output_type": "stream",
     "text": [
      "C:\\ProgramData\\Anaconda3\\lib\\site-packages\\ipykernel_launcher.py:5: DeprecationWarning: Call to deprecated `__getitem__` (Method will be removed in 4.0.0, use self.wv.__getitem__() instead).\n",
      "  \"\"\"\n"
     ]
    }
   ],
   "source": [
    "# Store the vectors in a csv file\n",
    "with open('../model/word2vec/word2vec.csv', 'w+') as word2vec_file:\n",
    "    \n",
    "    for index, row in df.iterrows():\n",
    "        model_vector = (np.mean([w2v_model[token] for token in row['cleaned_text_w2v'][0]], axis=0)).tolist()\n",
    "        \n",
    "        if index == 0:\n",
    "            header = \",\".join(str(ele) for ele in range(64))\n",
    "            word2vec_file.write(header)\n",
    "            word2vec_file.write(\"\\n\")\n",
    "        \n",
    "        # Check if the line exists else it is vector of zeros\n",
    "        if type(model_vector) is list:  \n",
    "            line1 = \",\".join( [str(vector_element) for vector_element in model_vector] )\n",
    "        else:\n",
    "            line1 = \",\".join([str(0) for i in range(64)])\n",
    "        \n",
    "        word2vec_file.write(line1)\n",
    "        word2vec_file.write('\\n')"
   ]
  },
  {
   "cell_type": "markdown",
   "metadata": {},
   "source": [
    "#### Concatenate the word embeddings with other features in the datasets"
   ]
  },
  {
   "cell_type": "code",
   "execution_count": 27,
   "metadata": {},
   "outputs": [],
   "source": [
    "w2v_embeddings = pd.read_csv('../model/word2vec/word2vec.csv')"
   ]
  },
  {
   "cell_type": "code",
   "execution_count": 28,
   "metadata": {},
   "outputs": [],
   "source": [
    "df = pd.concat([df, w2v_embeddings], axis=1)"
   ]
  },
  {
   "cell_type": "code",
   "execution_count": 29,
   "metadata": {
    "scrolled": false
   },
   "outputs": [
    {
     "data": {
      "text/html": [
       "<div>\n",
       "<style scoped>\n",
       "    .dataframe tbody tr th:only-of-type {\n",
       "        vertical-align: middle;\n",
       "    }\n",
       "\n",
       "    .dataframe tbody tr th {\n",
       "        vertical-align: top;\n",
       "    }\n",
       "\n",
       "    .dataframe thead th {\n",
       "        text-align: right;\n",
       "    }\n",
       "</style>\n",
       "<table border=\"1\" class=\"dataframe\">\n",
       "  <thead>\n",
       "    <tr style=\"text-align: right;\">\n",
       "      <th></th>\n",
       "      <th>cleaned_text</th>\n",
       "      <th>retweet_count</th>\n",
       "      <th>favorite_count</th>\n",
       "      <th>is_retweet</th>\n",
       "      <th>hashtag_count</th>\n",
       "      <th>mention_count</th>\n",
       "      <th>word_count</th>\n",
       "      <th>char_count</th>\n",
       "      <th>word_density</th>\n",
       "      <th>punctuation_freq</th>\n",
       "      <th>...</th>\n",
       "      <th>54</th>\n",
       "      <th>55</th>\n",
       "      <th>56</th>\n",
       "      <th>57</th>\n",
       "      <th>58</th>\n",
       "      <th>59</th>\n",
       "      <th>60</th>\n",
       "      <th>61</th>\n",
       "      <th>62</th>\n",
       "      <th>63</th>\n",
       "    </tr>\n",
       "  </thead>\n",
       "  <tbody>\n",
       "    <tr>\n",
       "      <th>0</th>\n",
       "      <td>thank</td>\n",
       "      <td>0.053084</td>\n",
       "      <td>0.074713</td>\n",
       "      <td>0.0</td>\n",
       "      <td>0.0</td>\n",
       "      <td>0.1</td>\n",
       "      <td>0.057971</td>\n",
       "      <td>0.085174</td>\n",
       "      <td>0.328571</td>\n",
       "      <td>0.240000</td>\n",
       "      <td>...</td>\n",
       "      <td>-0.045763</td>\n",
       "      <td>0.075537</td>\n",
       "      <td>0.034320</td>\n",
       "      <td>-0.113978</td>\n",
       "      <td>-0.082235</td>\n",
       "      <td>0.023694</td>\n",
       "      <td>-0.108171</td>\n",
       "      <td>0.123489</td>\n",
       "      <td>-0.026809</td>\n",
       "      <td>0.012996</td>\n",
       "    </tr>\n",
       "    <tr>\n",
       "      <th>1</th>\n",
       "      <td>big news maine court side rnc uphold ban ballo...</td>\n",
       "      <td>0.079542</td>\n",
       "      <td>0.000000</td>\n",
       "      <td>1.0</td>\n",
       "      <td>0.0</td>\n",
       "      <td>0.0</td>\n",
       "      <td>0.333333</td>\n",
       "      <td>0.432177</td>\n",
       "      <td>0.339286</td>\n",
       "      <td>0.175000</td>\n",
       "      <td>...</td>\n",
       "      <td>-0.009335</td>\n",
       "      <td>-0.031917</td>\n",
       "      <td>0.001181</td>\n",
       "      <td>-0.016655</td>\n",
       "      <td>-0.047610</td>\n",
       "      <td>0.058175</td>\n",
       "      <td>-0.045615</td>\n",
       "      <td>0.028987</td>\n",
       "      <td>-0.156598</td>\n",
       "      <td>0.041495</td>\n",
       "    </tr>\n",
       "    <tr>\n",
       "      <th>2</th>\n",
       "      <td>thank paul</td>\n",
       "      <td>0.043277</td>\n",
       "      <td>0.071954</td>\n",
       "      <td>0.0</td>\n",
       "      <td>0.0</td>\n",
       "      <td>0.0</td>\n",
       "      <td>0.043478</td>\n",
       "      <td>0.047319</td>\n",
       "      <td>0.214286</td>\n",
       "      <td>0.150000</td>\n",
       "      <td>...</td>\n",
       "      <td>-0.012806</td>\n",
       "      <td>0.116678</td>\n",
       "      <td>-0.016092</td>\n",
       "      <td>-0.107752</td>\n",
       "      <td>-0.029858</td>\n",
       "      <td>0.014566</td>\n",
       "      <td>-0.046429</td>\n",
       "      <td>0.149606</td>\n",
       "      <td>-0.073625</td>\n",
       "      <td>0.072921</td>\n",
       "    </tr>\n",
       "    <tr>\n",
       "      <th>3</th>\n",
       "      <td>defective ballot new york want replace happen ...</td>\n",
       "      <td>0.139217</td>\n",
       "      <td>0.216848</td>\n",
       "      <td>0.0</td>\n",
       "      <td>0.0</td>\n",
       "      <td>0.0</td>\n",
       "      <td>0.594203</td>\n",
       "      <td>0.624606</td>\n",
       "      <td>0.267007</td>\n",
       "      <td>0.071429</td>\n",
       "      <td>...</td>\n",
       "      <td>-0.019787</td>\n",
       "      <td>-0.050878</td>\n",
       "      <td>0.002318</td>\n",
       "      <td>-0.052379</td>\n",
       "      <td>0.024359</td>\n",
       "      <td>-0.000785</td>\n",
       "      <td>-0.014440</td>\n",
       "      <td>0.049268</td>\n",
       "      <td>-0.146037</td>\n",
       "      <td>-0.041080</td>\n",
       "    </tr>\n",
       "    <tr>\n",
       "      <th>4</th>\n",
       "      <td>half years secure americas border rebuild awes...</td>\n",
       "      <td>0.051105</td>\n",
       "      <td>0.080530</td>\n",
       "      <td>0.0</td>\n",
       "      <td>0.1</td>\n",
       "      <td>0.0</td>\n",
       "      <td>0.608696</td>\n",
       "      <td>0.750789</td>\n",
       "      <td>0.325581</td>\n",
       "      <td>0.055814</td>\n",
       "      <td>...</td>\n",
       "      <td>0.005815</td>\n",
       "      <td>-0.028766</td>\n",
       "      <td>0.029667</td>\n",
       "      <td>-0.148738</td>\n",
       "      <td>0.011978</td>\n",
       "      <td>-0.016228</td>\n",
       "      <td>0.074570</td>\n",
       "      <td>0.055709</td>\n",
       "      <td>-0.151549</td>\n",
       "      <td>-0.125265</td>\n",
       "    </tr>\n",
       "  </tbody>\n",
       "</table>\n",
       "<p>5 rows × 80 columns</p>\n",
       "</div>"
      ],
      "text/plain": [
       "                                        cleaned_text  retweet_count  \\\n",
       "0                                              thank       0.053084   \n",
       "1  big news maine court side rnc uphold ban ballo...       0.079542   \n",
       "2                                         thank paul       0.043277   \n",
       "3  defective ballot new york want replace happen ...       0.139217   \n",
       "4  half years secure americas border rebuild awes...       0.051105   \n",
       "\n",
       "   favorite_count  is_retweet  hashtag_count  mention_count  word_count  \\\n",
       "0        0.074713         0.0            0.0            0.1    0.057971   \n",
       "1        0.000000         1.0            0.0            0.0    0.333333   \n",
       "2        0.071954         0.0            0.0            0.0    0.043478   \n",
       "3        0.216848         0.0            0.0            0.0    0.594203   \n",
       "4        0.080530         0.0            0.1            0.0    0.608696   \n",
       "\n",
       "   char_count  word_density  punctuation_freq  ...        54        55  \\\n",
       "0    0.085174      0.328571          0.240000  ... -0.045763  0.075537   \n",
       "1    0.432177      0.339286          0.175000  ... -0.009335 -0.031917   \n",
       "2    0.047319      0.214286          0.150000  ... -0.012806  0.116678   \n",
       "3    0.624606      0.267007          0.071429  ... -0.019787 -0.050878   \n",
       "4    0.750789      0.325581          0.055814  ...  0.005815 -0.028766   \n",
       "\n",
       "         56        57        58        59        60        61        62  \\\n",
       "0  0.034320 -0.113978 -0.082235  0.023694 -0.108171  0.123489 -0.026809   \n",
       "1  0.001181 -0.016655 -0.047610  0.058175 -0.045615  0.028987 -0.156598   \n",
       "2 -0.016092 -0.107752 -0.029858  0.014566 -0.046429  0.149606 -0.073625   \n",
       "3  0.002318 -0.052379  0.024359 -0.000785 -0.014440  0.049268 -0.146037   \n",
       "4  0.029667 -0.148738  0.011978 -0.016228  0.074570  0.055709 -0.151549   \n",
       "\n",
       "         63  \n",
       "0  0.012996  \n",
       "1  0.041495  \n",
       "2  0.072921  \n",
       "3 -0.041080  \n",
       "4 -0.125265  \n",
       "\n",
       "[5 rows x 80 columns]"
      ]
     },
     "execution_count": 29,
     "metadata": {},
     "output_type": "execute_result"
    }
   ],
   "source": [
    "df.head()"
   ]
  },
  {
   "cell_type": "markdown",
   "metadata": {},
   "source": [
    "#### Drop `cleaned_text` and `cleaned_text_w2v`"
   ]
  },
  {
   "cell_type": "code",
   "execution_count": 30,
   "metadata": {},
   "outputs": [],
   "source": [
    "df = df.drop(columns=['cleaned_text', 'cleaned_text_w2v'], errors='ignore')"
   ]
  },
  {
   "cell_type": "markdown",
   "metadata": {},
   "source": [
    "### Train test split"
   ]
  },
  {
   "cell_type": "code",
   "execution_count": 31,
   "metadata": {},
   "outputs": [],
   "source": [
    "from sklearn.model_selection import train_test_split"
   ]
  },
  {
   "cell_type": "code",
   "execution_count": 32,
   "metadata": {},
   "outputs": [],
   "source": [
    "y_GSPC = df['^GSPC']\n",
    "y_IXIC = df['^IXIC']\n",
    "y_VGT = df['VGT']\n",
    "X = df.drop(columns=['^GSPC', '^IXIC', 'VGT'], errors='ignore')"
   ]
  },
  {
   "cell_type": "code",
   "execution_count": 33,
   "metadata": {},
   "outputs": [],
   "source": [
    "# train is 75% of the entire data set\n",
    "train_ratio = 0.75"
   ]
  },
  {
   "cell_type": "markdown",
   "metadata": {},
   "source": [
    "#### GSPC"
   ]
  },
  {
   "cell_type": "code",
   "execution_count": 34,
   "metadata": {},
   "outputs": [],
   "source": [
    "X_train_GSPC, X_test_GSPC, y_train_GSPC, y_test_GSPC = train_test_split(X, y_GSPC, test_size=1 - train_ratio, random_state=1)"
   ]
  },
  {
   "cell_type": "markdown",
   "metadata": {},
   "source": [
    "#### IXIC"
   ]
  },
  {
   "cell_type": "code",
   "execution_count": 35,
   "metadata": {},
   "outputs": [],
   "source": [
    "X_train_IXIC, X_test_IXIC, y_train_IXIC, y_test_IXIC = train_test_split(X, y_IXIC, test_size=1 - train_ratio, random_state=1)"
   ]
  },
  {
   "cell_type": "markdown",
   "metadata": {},
   "source": [
    "#### VGT"
   ]
  },
  {
   "cell_type": "code",
   "execution_count": 36,
   "metadata": {},
   "outputs": [],
   "source": [
    "X_train_VGT, X_test_VGT, y_train_VGT, y_test_VGT = train_test_split(X, y_VGT, test_size=1 - train_ratio, random_state=1)"
   ]
  },
  {
   "cell_type": "markdown",
   "metadata": {},
   "source": [
    "## Modelling - XGBoost \n",
    "XGBoost is chosen to be the classification model for a few reasons:\n",
    "* XGBoost is an ensemble method which helps improve machine learning results by combining and improving on the results from multiple single models.\n",
    "* As compared to gradient boosting algorithms, XGBoost uses a more regularized model formalization to control over-fitting, which gives it better performance.\n",
    "* XGBoost is built with the engineering goal to push the limit of computation resources for boosted tree algorithms. It utilises computational power more efficiently for faster, and production-ready training and testing, which is a good choice given the limited computation resources."
   ]
  },
  {
   "cell_type": "code",
   "execution_count": 37,
   "metadata": {},
   "outputs": [],
   "source": [
    "import xgboost\n",
    "from xgboost.sklearn import XGBClassifier\n",
    "from sklearn.metrics import mean_squared_error"
   ]
  },
  {
   "cell_type": "markdown",
   "metadata": {},
   "source": [
    "### Define baseline parameters"
   ]
  },
  {
   "cell_type": "code",
   "execution_count": 38,
   "metadata": {},
   "outputs": [],
   "source": [
    "params = {'objective':'reg:linear',\n",
    "          'learning_rate':0.05,\n",
    "          'n_estimators':200,\n",
    "          'max_depth':10,\n",
    "          'min_child_weight':5,\n",
    "          'gamma':0.1,\n",
    "          'subsample':0.7,\n",
    "          'colsample_bytree':0.7,\n",
    "          'n_jobs':4,\n",
    "          'random_state':1,\n",
    "          'seed':1\n",
    "         }"
   ]
  },
  {
   "cell_type": "markdown",
   "metadata": {},
   "source": [
    "### Define error metrics"
   ]
  },
  {
   "cell_type": "markdown",
   "metadata": {},
   "source": [
    "Write a custom function to calculate MAPE, mean average percentage error. MAPE expresses expresses accuracy as a percentage of the error. Because the MAPE is a percentage, it can be easier to understand than the other accuracy measure statistics e.g. RMSE. Refer to the picture below for a guide on the interpretation of MAPE values"
   ]
  },
  {
   "cell_type": "markdown",
   "metadata": {},
   "source": [
    "<img src=\"https://www.researchgate.net/profile/Albert_Sese/publication/257812432/figure/tbl1/AS:601657310203931@1520457689632/nterpretation-of-typical-MAPE-values.png\" width=300 align=\"left\"/>"
   ]
  },
  {
   "cell_type": "code",
   "execution_count": 39,
   "metadata": {},
   "outputs": [],
   "source": [
    "# define custom functions to calculate MAPE\n",
    "\n",
    "def percentage_error(actual, predicted):\n",
    "    res = np.empty(actual.shape)\n",
    "    for j in range(actual.shape[0]):\n",
    "        if actual[j] != 0:\n",
    "            res[j] = (actual[j] - predicted[j]) / actual[j]\n",
    "        else:\n",
    "            res[j] = predicted[j] / np.mean(actual)\n",
    "    return res\n",
    "\n",
    "def mean_absolute_percentage_error(y_true, y_pred): \n",
    "    return np.mean(np.abs(percentage_error(np.asarray(y_true), np.asarray(y_pred)))) * 100"
   ]
  },
  {
   "cell_type": "markdown",
   "metadata": {},
   "source": [
    "### GSPC"
   ]
  },
  {
   "cell_type": "code",
   "execution_count": 40,
   "metadata": {},
   "outputs": [],
   "source": [
    "# initialise an xgboost object\n",
    "xgb_GSPC = xgboost.XGBModel(**params)"
   ]
  },
  {
   "cell_type": "code",
   "execution_count": 41,
   "metadata": {},
   "outputs": [
    {
     "name": "stdout",
     "output_type": "stream",
     "text": [
      "[0]\tvalidation_0-rmse:0.475073\tvalidation_1-rmse:0.474663\n",
      "[50]\tvalidation_0-rmse:0.039876\tvalidation_1-rmse:0.039398\n",
      "[100]\tvalidation_0-rmse:0.016229\tvalidation_1-rmse:0.015891\n",
      "[150]\tvalidation_0-rmse:0.015984\tvalidation_1-rmse:0.015707\n",
      "[199]\tvalidation_0-rmse:0.015983\tvalidation_1-rmse:0.015711\n"
     ]
    },
    {
     "data": {
      "text/plain": [
       "XGBModel(base_score=0.5, booster='gbtree', colsample_bylevel=1,\n",
       "         colsample_bytree=0.7, gamma=0.1, importance_type='gain',\n",
       "         learning_rate=0.05, max_delta_step=0, max_depth=10, min_child_weight=5,\n",
       "         missing=None, n_estimators=200, n_jobs=4, nthread=None,\n",
       "         objective='reg:linear', random_state=1, reg_alpha=0, reg_lambda=1,\n",
       "         scale_pos_weight=1, seed=1, silent=True, subsample=0.7)"
      ]
     },
     "execution_count": 41,
     "metadata": {},
     "output_type": "execute_result"
    }
   ],
   "source": [
    "xgb_GSPC.fit(X_train_GSPC, y_train_GSPC,\n",
    "             eval_set=[(X_train_GSPC, y_train_GSPC), (X_test_GSPC, y_test_GSPC)],\n",
    "             eval_metric='rmse',\n",
    "             verbose=50)"
   ]
  },
  {
   "cell_type": "code",
   "execution_count": 42,
   "metadata": {},
   "outputs": [
    {
     "data": {
      "text/plain": [
       "{'validation_0': {'rmse': [0.475073,\n",
       "   0.451346,\n",
       "   0.428809,\n",
       "   0.407401,\n",
       "   0.387061,\n",
       "   0.367744,\n",
       "   0.349389,\n",
       "   0.331955,\n",
       "   0.315392,\n",
       "   0.299674,\n",
       "   0.284736,\n",
       "   0.270554,\n",
       "   0.257076,\n",
       "   0.244279,\n",
       "   0.232123,\n",
       "   0.220575,\n",
       "   0.209608,\n",
       "   0.199184,\n",
       "   0.189293,\n",
       "   0.179894,\n",
       "   0.170974,\n",
       "   0.162501,\n",
       "   0.154448,\n",
       "   0.146817,\n",
       "   0.13956,\n",
       "   0.132675,\n",
       "   0.126139,\n",
       "   0.119936,\n",
       "   0.114046,\n",
       "   0.10846,\n",
       "   0.103162,\n",
       "   0.098127,\n",
       "   0.093351,\n",
       "   0.088826,\n",
       "   0.084532,\n",
       "   0.080461,\n",
       "   0.076604,\n",
       "   0.072948,\n",
       "   0.069481,\n",
       "   0.066198,\n",
       "   0.063087,\n",
       "   0.060143,\n",
       "   0.057346,\n",
       "   0.054705,\n",
       "   0.052207,\n",
       "   0.049849,\n",
       "   0.047619,\n",
       "   0.045519,\n",
       "   0.04353,\n",
       "   0.041645,\n",
       "   0.039876,\n",
       "   0.038205,\n",
       "   0.036639,\n",
       "   0.035163,\n",
       "   0.033779,\n",
       "   0.032477,\n",
       "   0.031252,\n",
       "   0.030113,\n",
       "   0.029042,\n",
       "   0.028036,\n",
       "   0.027095,\n",
       "   0.026225,\n",
       "   0.02541,\n",
       "   0.024653,\n",
       "   0.023945,\n",
       "   0.023289,\n",
       "   0.02268,\n",
       "   0.02212,\n",
       "   0.021597,\n",
       "   0.021116,\n",
       "   0.020671,\n",
       "   0.020263,\n",
       "   0.019891,\n",
       "   0.019542,\n",
       "   0.019223,\n",
       "   0.018934,\n",
       "   0.018665,\n",
       "   0.018422,\n",
       "   0.018201,\n",
       "   0.017997,\n",
       "   0.017813,\n",
       "   0.017642,\n",
       "   0.017486,\n",
       "   0.017345,\n",
       "   0.017218,\n",
       "   0.0171,\n",
       "   0.016995,\n",
       "   0.016899,\n",
       "   0.016811,\n",
       "   0.016732,\n",
       "   0.016662,\n",
       "   0.016598,\n",
       "   0.01654,\n",
       "   0.016486,\n",
       "   0.016437,\n",
       "   0.016393,\n",
       "   0.016354,\n",
       "   0.016317,\n",
       "   0.016284,\n",
       "   0.016255,\n",
       "   0.016229,\n",
       "   0.016205,\n",
       "   0.016185,\n",
       "   0.016165,\n",
       "   0.016147,\n",
       "   0.016131,\n",
       "   0.016116,\n",
       "   0.016103,\n",
       "   0.016091,\n",
       "   0.016081,\n",
       "   0.016072,\n",
       "   0.016064,\n",
       "   0.016056,\n",
       "   0.016049,\n",
       "   0.016043,\n",
       "   0.016036,\n",
       "   0.016031,\n",
       "   0.016026,\n",
       "   0.016023,\n",
       "   0.016019,\n",
       "   0.016015,\n",
       "   0.016012,\n",
       "   0.016009,\n",
       "   0.016006,\n",
       "   0.016004,\n",
       "   0.016002,\n",
       "   0.016,\n",
       "   0.015999,\n",
       "   0.015997,\n",
       "   0.015995,\n",
       "   0.015995,\n",
       "   0.015993,\n",
       "   0.015992,\n",
       "   0.015992,\n",
       "   0.015991,\n",
       "   0.01599,\n",
       "   0.015989,\n",
       "   0.015989,\n",
       "   0.015988,\n",
       "   0.015987,\n",
       "   0.015987,\n",
       "   0.015987,\n",
       "   0.015986,\n",
       "   0.015986,\n",
       "   0.015985,\n",
       "   0.015985,\n",
       "   0.015985,\n",
       "   0.015985,\n",
       "   0.015984,\n",
       "   0.015984,\n",
       "   0.015984,\n",
       "   0.015984,\n",
       "   0.015984,\n",
       "   0.015984,\n",
       "   0.015984,\n",
       "   0.015984,\n",
       "   0.015984,\n",
       "   0.015983,\n",
       "   0.015983,\n",
       "   0.015983,\n",
       "   0.015983,\n",
       "   0.015983,\n",
       "   0.015983,\n",
       "   0.015983,\n",
       "   0.015983,\n",
       "   0.015983,\n",
       "   0.015983,\n",
       "   0.015983,\n",
       "   0.015983,\n",
       "   0.015983,\n",
       "   0.015983,\n",
       "   0.015983,\n",
       "   0.015983,\n",
       "   0.015983,\n",
       "   0.015983,\n",
       "   0.015983,\n",
       "   0.015983,\n",
       "   0.015983,\n",
       "   0.015983,\n",
       "   0.015983,\n",
       "   0.015983,\n",
       "   0.015983,\n",
       "   0.015983,\n",
       "   0.015983,\n",
       "   0.015983,\n",
       "   0.015983,\n",
       "   0.015983,\n",
       "   0.015983,\n",
       "   0.015983,\n",
       "   0.015983,\n",
       "   0.015983,\n",
       "   0.015983,\n",
       "   0.015983,\n",
       "   0.015983,\n",
       "   0.015983,\n",
       "   0.015983,\n",
       "   0.015983,\n",
       "   0.015983,\n",
       "   0.015983,\n",
       "   0.015983]},\n",
       " 'validation_1': {'rmse': [0.474663,\n",
       "   0.450935,\n",
       "   0.428398,\n",
       "   0.40699,\n",
       "   0.386649,\n",
       "   0.367332,\n",
       "   0.348976,\n",
       "   0.331541,\n",
       "   0.314978,\n",
       "   0.299259,\n",
       "   0.284321,\n",
       "   0.270138,\n",
       "   0.256659,\n",
       "   0.243861,\n",
       "   0.231704,\n",
       "   0.220155,\n",
       "   0.209187,\n",
       "   0.198763,\n",
       "   0.188871,\n",
       "   0.179471,\n",
       "   0.170549,\n",
       "   0.162076,\n",
       "   0.154021,\n",
       "   0.146388,\n",
       "   0.13913,\n",
       "   0.132243,\n",
       "   0.125706,\n",
       "   0.119502,\n",
       "   0.11361,\n",
       "   0.108023,\n",
       "   0.102723,\n",
       "   0.097687,\n",
       "   0.092909,\n",
       "   0.088382,\n",
       "   0.084086,\n",
       "   0.080013,\n",
       "   0.076155,\n",
       "   0.072496,\n",
       "   0.069027,\n",
       "   0.065743,\n",
       "   0.06263,\n",
       "   0.059683,\n",
       "   0.056884,\n",
       "   0.05424,\n",
       "   0.051741,\n",
       "   0.04938,\n",
       "   0.047148,\n",
       "   0.045046,\n",
       "   0.043055,\n",
       "   0.041169,\n",
       "   0.039398,\n",
       "   0.037725,\n",
       "   0.036157,\n",
       "   0.03468,\n",
       "   0.033295,\n",
       "   0.031991,\n",
       "   0.030766,\n",
       "   0.029626,\n",
       "   0.028554,\n",
       "   0.027548,\n",
       "   0.026608,\n",
       "   0.025739,\n",
       "   0.024924,\n",
       "   0.024168,\n",
       "   0.023462,\n",
       "   0.022807,\n",
       "   0.022201,\n",
       "   0.021643,\n",
       "   0.021123,\n",
       "   0.020645,\n",
       "   0.020203,\n",
       "   0.019799,\n",
       "   0.019431,\n",
       "   0.019085,\n",
       "   0.01877,\n",
       "   0.018486,\n",
       "   0.018222,\n",
       "   0.017984,\n",
       "   0.017767,\n",
       "   0.017568,\n",
       "   0.017389,\n",
       "   0.017224,\n",
       "   0.017072,\n",
       "   0.016936,\n",
       "   0.016814,\n",
       "   0.016701,\n",
       "   0.016601,\n",
       "   0.016509,\n",
       "   0.016426,\n",
       "   0.016352,\n",
       "   0.016286,\n",
       "   0.016226,\n",
       "   0.016172,\n",
       "   0.016123,\n",
       "   0.016077,\n",
       "   0.016037,\n",
       "   0.016002,\n",
       "   0.015968,\n",
       "   0.015939,\n",
       "   0.015913,\n",
       "   0.015891,\n",
       "   0.01587,\n",
       "   0.015852,\n",
       "   0.015835,\n",
       "   0.01582,\n",
       "   0.015806,\n",
       "   0.015794,\n",
       "   0.015783,\n",
       "   0.015774,\n",
       "   0.015766,\n",
       "   0.015759,\n",
       "   0.015753,\n",
       "   0.015747,\n",
       "   0.015741,\n",
       "   0.015737,\n",
       "   0.015732,\n",
       "   0.015728,\n",
       "   0.015725,\n",
       "   0.015723,\n",
       "   0.01572,\n",
       "   0.015718,\n",
       "   0.015716,\n",
       "   0.015714,\n",
       "   0.015713,\n",
       "   0.015712,\n",
       "   0.015711,\n",
       "   0.01571,\n",
       "   0.015709,\n",
       "   0.015708,\n",
       "   0.015708,\n",
       "   0.015707,\n",
       "   0.015707,\n",
       "   0.015707,\n",
       "   0.015706,\n",
       "   0.015706,\n",
       "   0.015706,\n",
       "   0.015706,\n",
       "   0.015706,\n",
       "   0.015706,\n",
       "   0.015706,\n",
       "   0.015706,\n",
       "   0.015706,\n",
       "   0.015706,\n",
       "   0.015706,\n",
       "   0.015706,\n",
       "   0.015706,\n",
       "   0.015706,\n",
       "   0.015707,\n",
       "   0.015707,\n",
       "   0.015707,\n",
       "   0.015707,\n",
       "   0.015707,\n",
       "   0.015707,\n",
       "   0.015707,\n",
       "   0.015707,\n",
       "   0.015708,\n",
       "   0.015708,\n",
       "   0.015708,\n",
       "   0.015708,\n",
       "   0.015708,\n",
       "   0.015708,\n",
       "   0.015708,\n",
       "   0.015708,\n",
       "   0.015708,\n",
       "   0.015708,\n",
       "   0.015709,\n",
       "   0.015709,\n",
       "   0.015709,\n",
       "   0.015709,\n",
       "   0.015709,\n",
       "   0.015709,\n",
       "   0.015709,\n",
       "   0.015709,\n",
       "   0.01571,\n",
       "   0.015709,\n",
       "   0.01571,\n",
       "   0.01571,\n",
       "   0.01571,\n",
       "   0.015709,\n",
       "   0.01571,\n",
       "   0.01571,\n",
       "   0.01571,\n",
       "   0.01571,\n",
       "   0.01571,\n",
       "   0.01571,\n",
       "   0.01571,\n",
       "   0.01571,\n",
       "   0.01571,\n",
       "   0.01571,\n",
       "   0.01571,\n",
       "   0.01571,\n",
       "   0.01571,\n",
       "   0.01571,\n",
       "   0.015711,\n",
       "   0.015711,\n",
       "   0.015711,\n",
       "   0.015711,\n",
       "   0.015711,\n",
       "   0.015711,\n",
       "   0.015711]}}"
      ]
     },
     "execution_count": 42,
     "metadata": {},
     "output_type": "execute_result"
    }
   ],
   "source": [
    "evals_result_GSPC = xgb_GSPC.evals_result()\n",
    "evals_result_GSPC"
   ]
  },
  {
   "cell_type": "code",
   "execution_count": 43,
   "metadata": {},
   "outputs": [
    {
     "name": "stderr",
     "output_type": "stream",
     "text": [
      "C:\\ProgramData\\Anaconda3\\lib\\site-packages\\xgboost\\sklearn.py:528: RuntimeWarning: invalid value encountered in true_divide\n",
      "  return all_features / all_features.sum()\n"
     ]
    },
    {
     "data": {
      "text/plain": [
       "array([nan, nan, nan, nan, nan, nan, nan, nan, nan, nan, nan, nan, nan,\n",
       "       nan, nan, nan, nan, nan, nan, nan, nan, nan, nan, nan, nan, nan,\n",
       "       nan, nan, nan, nan, nan, nan, nan, nan, nan, nan, nan, nan, nan,\n",
       "       nan, nan, nan, nan, nan, nan, nan, nan, nan, nan, nan, nan, nan,\n",
       "       nan, nan, nan, nan, nan, nan, nan, nan, nan, nan, nan, nan, nan,\n",
       "       nan, nan, nan, nan, nan, nan, nan, nan, nan, nan], dtype=float32)"
      ]
     },
     "execution_count": 43,
     "metadata": {},
     "output_type": "execute_result"
    }
   ],
   "source": [
    "xgb_GSPC.feature_importances_"
   ]
  },
  {
   "cell_type": "code",
   "execution_count": 44,
   "metadata": {},
   "outputs": [
    {
     "data": {
      "text/plain": [
       "array([0.00022206, 0.00022206, 0.00022206, ..., 0.00022206, 0.00022206,\n",
       "       0.00022206], dtype=float32)"
      ]
     },
     "execution_count": 44,
     "metadata": {},
     "output_type": "execute_result"
    }
   ],
   "source": [
    "xgb_GSPC.predict(X_test_GSPC)"
   ]
  },
  {
   "cell_type": "code",
   "execution_count": 45,
   "metadata": {},
   "outputs": [
    {
     "data": {
      "text/plain": [
       "0.01571070620198092"
      ]
     },
     "execution_count": 45,
     "metadata": {},
     "output_type": "execute_result"
    }
   ],
   "source": [
    "# # retrieve the RMSE on the test set\n",
    "mean_squared_error(xgb_GSPC.predict(X_test_GSPC), y_test_GSPC, squared=False) #RMSE"
   ]
  },
  {
   "cell_type": "code",
   "execution_count": 46,
   "metadata": {},
   "outputs": [
    {
     "data": {
      "text/plain": [
       "106.10202566075553"
      ]
     },
     "execution_count": 46,
     "metadata": {},
     "output_type": "execute_result"
    }
   ],
   "source": [
    "# # retrieve the MAPE on the test set\n",
    "mean_absolute_percentage_error(y_test_GSPC, xgb_GSPC.predict(X_test_GSPC)) #MAPE"
   ]
  },
  {
   "cell_type": "markdown",
   "metadata": {},
   "source": [
    "#### IXIC"
   ]
  },
  {
   "cell_type": "code",
   "execution_count": 37,
   "metadata": {},
   "outputs": [],
   "source": [
    "dtrain_IXIC = xgboost.DMatrix(data=X_train_IXIC, label=y_train_IXIC)\n",
    "dtest_IXIC = xgboost.DMatrix(data=X_test_IXIC, label=y_test_IXIC)"
   ]
  },
  {
   "cell_type": "code",
   "execution_count": 38,
   "metadata": {},
   "outputs": [
    {
     "name": "stdout",
     "output_type": "stream",
     "text": [
      "[0]\ttrain-rmse:0.474628+4.25287e-05\ttest-rmse:0.474628+0.000391236\n",
      "[10]\ttrain-rmse:0.284525+2.39935e-05\ttest-rmse:0.284525+0.000415228\n",
      "[20]\ttrain-rmse:0.170921+2.15184e-05\ttest-rmse:0.17092+0.000429047\n",
      "[30]\ttrain-rmse:0.103261+1.30629e-05\ttest-rmse:0.103261+0.000452604\n",
      "[40]\ttrain-rmse:0.0633441+1.85065e-05\ttest-rmse:0.0633425+0.00046824\n",
      "[50]\ttrain-rmse:0.0403532+2.05271e-05\ttest-rmse:0.0403506+0.000499508\n",
      "[60]\ttrain-rmse:0.0278191+3.61786e-05\ttest-rmse:0.0278149+0.000517897\n",
      "[70]\ttrain-rmse:0.02162+3.98848e-05\ttest-rmse:0.0216144+0.000526511\n",
      "[80]\ttrain-rmse:0.0189079+4.64014e-05\ttest-rmse:0.0189019+0.000513789\n",
      "[90]\ttrain-rmse:0.017835+5.0446e-05\ttest-rmse:0.0178291+0.000494304\n",
      "[100]\ttrain-rmse:0.0174341+5.00209e-05\ttest-rmse:0.0174285+0.000480473\n",
      "[110]\ttrain-rmse:0.0172877+4.99801e-05\ttest-rmse:0.0172822+0.000470645\n",
      "[120]\ttrain-rmse:0.0172351+5.07926e-05\ttest-rmse:0.0172298+0.000463814\n",
      "[130]\ttrain-rmse:0.017216+5.05193e-05\ttest-rmse:0.0172109+0.000459839\n",
      "[140]\ttrain-rmse:0.0172094+5.04424e-05\ttest-rmse:0.0172043+0.000457554\n",
      "[150]\ttrain-rmse:0.0172067+5.03032e-05\ttest-rmse:0.0172019+0.000456369\n",
      "[160]\ttrain-rmse:0.017206+5.06754e-05\ttest-rmse:0.0172008+0.000455313\n",
      "[170]\ttrain-rmse:0.0172056+5.02637e-05\ttest-rmse:0.0172004+0.000454891\n",
      "[180]\ttrain-rmse:0.0172055+5.0387e-05\ttest-rmse:0.0172003+0.000454574\n",
      "[190]\ttrain-rmse:0.0172054+5.05395e-05\ttest-rmse:0.0172003+0.000454015\n"
     ]
    }
   ],
   "source": [
    "cv_results_IXIC = xgboost.cv(dtrain=dtrain_IXIC, \n",
    "                             params=params, \n",
    "                             nfold=10, \n",
    "                             num_boost_round=200,\n",
    "                             early_stopping_rounds=10,\n",
    "                             metrics=\"rmse\", \n",
    "                             as_pandas=True,\n",
    "                             verbose_eval=10,\n",
    "                             seed=1)"
   ]
  },
  {
   "cell_type": "code",
   "execution_count": 39,
   "metadata": {},
   "outputs": [
    {
     "data": {
      "text/html": [
       "<div>\n",
       "<style scoped>\n",
       "    .dataframe tbody tr th:only-of-type {\n",
       "        vertical-align: middle;\n",
       "    }\n",
       "\n",
       "    .dataframe tbody tr th {\n",
       "        vertical-align: top;\n",
       "    }\n",
       "\n",
       "    .dataframe thead th {\n",
       "        text-align: right;\n",
       "    }\n",
       "</style>\n",
       "<table border=\"1\" class=\"dataframe\">\n",
       "  <thead>\n",
       "    <tr style=\"text-align: right;\">\n",
       "      <th></th>\n",
       "      <th>train-rmse-mean</th>\n",
       "      <th>train-rmse-std</th>\n",
       "      <th>test-rmse-mean</th>\n",
       "      <th>test-rmse-std</th>\n",
       "    </tr>\n",
       "  </thead>\n",
       "  <tbody>\n",
       "    <tr>\n",
       "      <th>180</th>\n",
       "      <td>0.017205</td>\n",
       "      <td>0.000050</td>\n",
       "      <td>0.0172</td>\n",
       "      <td>0.000455</td>\n",
       "    </tr>\n",
       "    <tr>\n",
       "      <th>181</th>\n",
       "      <td>0.017205</td>\n",
       "      <td>0.000050</td>\n",
       "      <td>0.0172</td>\n",
       "      <td>0.000454</td>\n",
       "    </tr>\n",
       "    <tr>\n",
       "      <th>182</th>\n",
       "      <td>0.017205</td>\n",
       "      <td>0.000050</td>\n",
       "      <td>0.0172</td>\n",
       "      <td>0.000454</td>\n",
       "    </tr>\n",
       "    <tr>\n",
       "      <th>183</th>\n",
       "      <td>0.017205</td>\n",
       "      <td>0.000051</td>\n",
       "      <td>0.0172</td>\n",
       "      <td>0.000454</td>\n",
       "    </tr>\n",
       "    <tr>\n",
       "      <th>184</th>\n",
       "      <td>0.017205</td>\n",
       "      <td>0.000051</td>\n",
       "      <td>0.0172</td>\n",
       "      <td>0.000454</td>\n",
       "    </tr>\n",
       "  </tbody>\n",
       "</table>\n",
       "</div>"
      ],
      "text/plain": [
       "     train-rmse-mean  train-rmse-std  test-rmse-mean  test-rmse-std\n",
       "180         0.017205        0.000050          0.0172       0.000455\n",
       "181         0.017205        0.000050          0.0172       0.000454\n",
       "182         0.017205        0.000050          0.0172       0.000454\n",
       "183         0.017205        0.000051          0.0172       0.000454\n",
       "184         0.017205        0.000051          0.0172       0.000454"
      ]
     },
     "execution_count": 39,
     "metadata": {},
     "output_type": "execute_result"
    }
   ],
   "source": [
    "cv_results_IXIC.tail()"
   ]
  },
  {
   "cell_type": "code",
   "execution_count": 40,
   "metadata": {},
   "outputs": [
    {
     "data": {
      "text/plain": [
       "0.017200100000000003"
      ]
     },
     "execution_count": 40,
     "metadata": {},
     "output_type": "execute_result"
    }
   ],
   "source": [
    "cv_results_IXIC['test-rmse-mean'].min()"
   ]
  },
  {
   "cell_type": "code",
   "execution_count": 41,
   "metadata": {},
   "outputs": [
    {
     "name": "stdout",
     "output_type": "stream",
     "text": [
      "[0]\tTest-rmse:0.474204\n",
      "Will train until Test-rmse hasn't improved in 10 rounds.\n",
      "[10]\tTest-rmse:0.284085\n",
      "[20]\tTest-rmse:0.170478\n",
      "[30]\tTest-rmse:0.102798\n",
      "[40]\tTest-rmse:0.062866\n",
      "[50]\tTest-rmse:0.039846\n",
      "[60]\tTest-rmse:0.027313\n",
      "[70]\tTest-rmse:0.021149\n",
      "[80]\tTest-rmse:0.018492\n",
      "[90]\tTest-rmse:0.01746\n",
      "[100]\tTest-rmse:0.017095\n",
      "[110]\tTest-rmse:0.016974\n",
      "[120]\tTest-rmse:0.016936\n",
      "[130]\tTest-rmse:0.016927\n",
      "[140]\tTest-rmse:0.016926\n",
      "Stopping. Best iteration:\n",
      "[132]\tTest-rmse:0.016926\n",
      "\n"
     ]
    }
   ],
   "source": [
    "xgb_IXIC = xgboost.train(\n",
    "                        params,\n",
    "                        dtrain_IXIC,\n",
    "                        num_boost_round=200,\n",
    "                        evals=[(dtest_IXIC, \"Test\")],\n",
    "                        early_stopping_rounds=10,\n",
    "                        verbose_eval=10\n",
    "                        )"
   ]
  },
  {
   "cell_type": "code",
   "execution_count": 42,
   "metadata": {},
   "outputs": [
    {
     "data": {
      "text/plain": [
       "0.01692609394379573"
      ]
     },
     "execution_count": 42,
     "metadata": {},
     "output_type": "execute_result"
    }
   ],
   "source": [
    "# retrieve the RMSE on the test set\n",
    "mean_squared_error(xgb_IXIC.predict(dtest_IXIC), y_test_IXIC, squared=False) #RMSE"
   ]
  },
  {
   "cell_type": "code",
   "execution_count": 70,
   "metadata": {},
   "outputs": [
    {
     "data": {
      "text/plain": [
       "116.91577284046161"
      ]
     },
     "execution_count": 70,
     "metadata": {},
     "output_type": "execute_result"
    }
   ],
   "source": [
    "# retrieve the MAPE on the test set\n",
    "mean_absolute_percentage_error(y_test_IXIC, xgb_IXIC.predict(dtest_IXIC)) #MAPE"
   ]
  },
  {
   "cell_type": "markdown",
   "metadata": {},
   "source": [
    "#### VGT"
   ]
  },
  {
   "cell_type": "code",
   "execution_count": 43,
   "metadata": {},
   "outputs": [],
   "source": [
    "dtrain_VGT = xgboost.DMatrix(data=X_train_VGT, label=y_train_VGT)\n",
    "dtest_VGT = xgboost.DMatrix(data=X_test_VGT, label=y_test_VGT)"
   ]
  },
  {
   "cell_type": "code",
   "execution_count": 44,
   "metadata": {},
   "outputs": [
    {
     "name": "stdout",
     "output_type": "stream",
     "text": [
      "[0]\ttrain-rmse:0.474614+4.77225e-05\ttest-rmse:0.474615+0.000438783\n",
      "[10]\ttrain-rmse:0.28459+2.67163e-05\ttest-rmse:0.284589+0.000465734\n",
      "[20]\ttrain-rmse:0.17108+2.44508e-05\ttest-rmse:0.171079+0.000479823\n",
      "[30]\ttrain-rmse:0.103554+1.45245e-05\ttest-rmse:0.103553+0.000506038\n",
      "[40]\ttrain-rmse:0.0638388+1.9999e-05\ttest-rmse:0.0638367+0.000520913\n",
      "[50]\ttrain-rmse:0.0411348+2.29425e-05\ttest-rmse:0.0411317+0.000549458\n",
      "[60]\ttrain-rmse:0.0289469+4.01533e-05\ttest-rmse:0.0289424+0.000557033\n",
      "[70]\ttrain-rmse:0.023054+4.26943e-05\ttest-rmse:0.0230483+0.000553864\n",
      "[80]\ttrain-rmse:0.0205328+4.87561e-05\ttest-rmse:0.0205269+0.000531872\n",
      "[90]\ttrain-rmse:0.0195494+5.22536e-05\ttest-rmse:0.0195439+0.000508448\n",
      "[100]\ttrain-rmse:0.0191846+5.17073e-05\ttest-rmse:0.0191792+0.000493776\n",
      "[110]\ttrain-rmse:0.0190513+5.1451e-05\ttest-rmse:0.0190464+0.000483544\n",
      "[120]\ttrain-rmse:0.0190037+5.21173e-05\ttest-rmse:0.0189988+0.000476794\n",
      "[130]\ttrain-rmse:0.0189863+5.20904e-05\ttest-rmse:0.0189819+0.000472852\n",
      "[140]\ttrain-rmse:0.0189803+5.19616e-05\ttest-rmse:0.0189758+0.000470983\n",
      "[150]\ttrain-rmse:0.0189782+5.2063e-05\ttest-rmse:0.0189734+0.000469564\n",
      "[160]\ttrain-rmse:0.0189773+5.21901e-05\ttest-rmse:0.0189725+0.000468719\n",
      "[170]\ttrain-rmse:0.018977+5.21421e-05\ttest-rmse:0.0189721+0.000468177\n"
     ]
    }
   ],
   "source": [
    "cv_results_VGT = xgboost.cv(dtrain=dtrain_VGT, \n",
    "                             params=params, \n",
    "                             nfold=10, \n",
    "                             num_boost_round=200,\n",
    "                             early_stopping_rounds=10,\n",
    "                             metrics=\"rmse\", \n",
    "                             as_pandas=True,\n",
    "                             verbose_eval=10,\n",
    "                             seed=1)"
   ]
  },
  {
   "cell_type": "code",
   "execution_count": 45,
   "metadata": {},
   "outputs": [
    {
     "data": {
      "text/html": [
       "<div>\n",
       "<style scoped>\n",
       "    .dataframe tbody tr th:only-of-type {\n",
       "        vertical-align: middle;\n",
       "    }\n",
       "\n",
       "    .dataframe tbody tr th {\n",
       "        vertical-align: top;\n",
       "    }\n",
       "\n",
       "    .dataframe thead th {\n",
       "        text-align: right;\n",
       "    }\n",
       "</style>\n",
       "<table border=\"1\" class=\"dataframe\">\n",
       "  <thead>\n",
       "    <tr style=\"text-align: right;\">\n",
       "      <th></th>\n",
       "      <th>train-rmse-mean</th>\n",
       "      <th>train-rmse-std</th>\n",
       "      <th>test-rmse-mean</th>\n",
       "      <th>test-rmse-std</th>\n",
       "    </tr>\n",
       "  </thead>\n",
       "  <tbody>\n",
       "    <tr>\n",
       "      <th>165</th>\n",
       "      <td>0.018977</td>\n",
       "      <td>0.000052</td>\n",
       "      <td>0.018972</td>\n",
       "      <td>0.000468</td>\n",
       "    </tr>\n",
       "    <tr>\n",
       "      <th>166</th>\n",
       "      <td>0.018977</td>\n",
       "      <td>0.000052</td>\n",
       "      <td>0.018972</td>\n",
       "      <td>0.000468</td>\n",
       "    </tr>\n",
       "    <tr>\n",
       "      <th>167</th>\n",
       "      <td>0.018977</td>\n",
       "      <td>0.000052</td>\n",
       "      <td>0.018972</td>\n",
       "      <td>0.000468</td>\n",
       "    </tr>\n",
       "    <tr>\n",
       "      <th>168</th>\n",
       "      <td>0.018977</td>\n",
       "      <td>0.000052</td>\n",
       "      <td>0.018972</td>\n",
       "      <td>0.000468</td>\n",
       "    </tr>\n",
       "    <tr>\n",
       "      <th>169</th>\n",
       "      <td>0.018977</td>\n",
       "      <td>0.000052</td>\n",
       "      <td>0.018972</td>\n",
       "      <td>0.000468</td>\n",
       "    </tr>\n",
       "  </tbody>\n",
       "</table>\n",
       "</div>"
      ],
      "text/plain": [
       "     train-rmse-mean  train-rmse-std  test-rmse-mean  test-rmse-std\n",
       "165         0.018977        0.000052        0.018972       0.000468\n",
       "166         0.018977        0.000052        0.018972       0.000468\n",
       "167         0.018977        0.000052        0.018972       0.000468\n",
       "168         0.018977        0.000052        0.018972       0.000468\n",
       "169         0.018977        0.000052        0.018972       0.000468"
      ]
     },
     "execution_count": 45,
     "metadata": {},
     "output_type": "execute_result"
    }
   ],
   "source": [
    "cv_results_VGT.tail()"
   ]
  },
  {
   "cell_type": "code",
   "execution_count": 46,
   "metadata": {},
   "outputs": [
    {
     "data": {
      "text/plain": [
       "0.0189721"
      ]
     },
     "execution_count": 46,
     "metadata": {},
     "output_type": "execute_result"
    }
   ],
   "source": [
    "cv_results_VGT['test-rmse-mean'].min()"
   ]
  },
  {
   "cell_type": "code",
   "execution_count": 48,
   "metadata": {},
   "outputs": [
    {
     "name": "stdout",
     "output_type": "stream",
     "text": [
      "[0]\tTest-rmse:0.47403\n",
      "Will train until Test-rmse hasn't improved in 10 rounds.\n",
      "[10]\tTest-rmse:0.283986\n",
      "[20]\tTest-rmse:0.170479\n",
      "[30]\tTest-rmse:0.102939\n",
      "[40]\tTest-rmse:0.06322\n",
      "[50]\tTest-rmse:0.040509\n",
      "[60]\tTest-rmse:0.028364\n",
      "[70]\tTest-rmse:0.022556\n",
      "[80]\tTest-rmse:0.020128\n",
      "[90]\tTest-rmse:0.019211\n",
      "[100]\tTest-rmse:0.018896\n",
      "[110]\tTest-rmse:0.018796\n",
      "[120]\tTest-rmse:0.018768\n",
      "[130]\tTest-rmse:0.018763\n",
      "Stopping. Best iteration:\n",
      "[127]\tTest-rmse:0.018763\n",
      "\n"
     ]
    }
   ],
   "source": [
    "xgb_VGT = xgboost.train(\n",
    "                        params,\n",
    "                        dtrain_VGT,\n",
    "                        num_boost_round=200,\n",
    "                        evals=[(dtest_VGT, \"Test\")],\n",
    "                        early_stopping_rounds=10,\n",
    "                        verbose_eval=10\n",
    "                        )"
   ]
  },
  {
   "cell_type": "code",
   "execution_count": 49,
   "metadata": {},
   "outputs": [
    {
     "data": {
      "text/plain": [
       "0.018763496376940903"
      ]
     },
     "execution_count": 49,
     "metadata": {},
     "output_type": "execute_result"
    }
   ],
   "source": [
    "# retrieve the RMSE on the test set\n",
    "mean_squared_error(xgb_VGT.predict(dtest_VGT), y_test_VGT, squared=False) #RMSE"
   ]
  },
  {
   "cell_type": "code",
   "execution_count": 66,
   "metadata": {},
   "outputs": [
    {
     "data": {
      "text/plain": [
       "125.31275911747726"
      ]
     },
     "execution_count": 66,
     "metadata": {},
     "output_type": "execute_result"
    }
   ],
   "source": [
    "# retrieve the MAPE on the test set\n",
    "mean_absolute_percentage_error(y_test_VGT, xgb_VGT.predict(dtest_VGT)) #MAPE"
   ]
  }
 ],
 "metadata": {
  "kernelspec": {
   "display_name": "Python 3",
   "language": "python",
   "name": "python3"
  },
  "language_info": {
   "codemirror_mode": {
    "name": "ipython",
    "version": 3
   },
   "file_extension": ".py",
   "mimetype": "text/x-python",
   "name": "python",
   "nbconvert_exporter": "python",
   "pygments_lexer": "ipython3",
   "version": "3.7.3"
  }
 },
 "nbformat": 4,
 "nbformat_minor": 4
}
