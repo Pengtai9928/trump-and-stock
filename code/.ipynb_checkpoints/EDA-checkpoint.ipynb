{
 "cells": [
  {
   "cell_type": "code",
   "execution_count": 1,
   "metadata": {},
   "outputs": [],
   "source": [
    "import pandas as pd\n",
    "import numpy as np\n",
    "import matplotlib.pyplot as plt\n",
    "import seaborn as sns\n",
    "import wordcloud\n",
    "import nltk\n",
    "import sweetviz as sv\n",
    "\n",
    "%matplotlib inline"
   ]
  },
  {
   "cell_type": "code",
   "execution_count": 2,
   "metadata": {},
   "outputs": [
    {
     "data": {
      "text/html": [
       "<div>\n",
       "<style scoped>\n",
       "    .dataframe tbody tr th:only-of-type {\n",
       "        vertical-align: middle;\n",
       "    }\n",
       "\n",
       "    .dataframe tbody tr th {\n",
       "        vertical-align: top;\n",
       "    }\n",
       "\n",
       "    .dataframe thead th {\n",
       "        text-align: right;\n",
       "    }\n",
       "</style>\n",
       "<table border=\"1\" class=\"dataframe\">\n",
       "  <thead>\n",
       "    <tr style=\"text-align: right;\">\n",
       "      <th></th>\n",
       "      <th>source</th>\n",
       "      <th>text</th>\n",
       "      <th>cleaned_text</th>\n",
       "      <th>created_at</th>\n",
       "      <th>retweet_count</th>\n",
       "      <th>favorite_count</th>\n",
       "      <th>is_retweet</th>\n",
       "      <th>id_str</th>\n",
       "      <th>hashtag</th>\n",
       "      <th>mention</th>\n",
       "      <th>...</th>\n",
       "      <th>char_count</th>\n",
       "      <th>word_density</th>\n",
       "      <th>punctuation_freq</th>\n",
       "      <th>upper_case_freq</th>\n",
       "      <th>created_date</th>\n",
       "      <th>created_time</th>\n",
       "      <th>passed_closing</th>\n",
       "      <th>market_date</th>\n",
       "      <th>^GSPC</th>\n",
       "      <th>VGT</th>\n",
       "    </tr>\n",
       "  </thead>\n",
       "  <tbody>\n",
       "    <tr>\n",
       "      <th>0</th>\n",
       "      <td>Twitter for iPhone</td>\n",
       "      <td>https://t.co/HUSFkHqsyC</td>\n",
       "      <td>NaN</td>\n",
       "      <td>2020-09-29 23:57:50</td>\n",
       "      <td>75761</td>\n",
       "      <td>321378</td>\n",
       "      <td>False</td>\n",
       "      <td>1311153253472636928</td>\n",
       "      <td>[]</td>\n",
       "      <td>[]</td>\n",
       "      <td>...</td>\n",
       "      <td>0</td>\n",
       "      <td>NaN</td>\n",
       "      <td>NaN</td>\n",
       "      <td>NaN</td>\n",
       "      <td>2020-09-29</td>\n",
       "      <td>23:57:50</td>\n",
       "      <td>1</td>\n",
       "      <td>2020-09-30</td>\n",
       "      <td>0.00822</td>\n",
       "      <td>0.007412</td>\n",
       "    </tr>\n",
       "    <tr>\n",
       "      <th>1</th>\n",
       "      <td>Twitter for iPhone</td>\n",
       "      <td>RT @TyCardon: Regardless who you’re pulling fo...</td>\n",
       "      <td>regardless youre pull think agree joe rogan wo...</td>\n",
       "      <td>2020-09-29 22:51:43</td>\n",
       "      <td>30926</td>\n",
       "      <td>0</td>\n",
       "      <td>True</td>\n",
       "      <td>1311136617327984640</td>\n",
       "      <td>[]</td>\n",
       "      <td>[]</td>\n",
       "      <td>...</td>\n",
       "      <td>139</td>\n",
       "      <td>4.964286</td>\n",
       "      <td>0.071429</td>\n",
       "      <td>0.071429</td>\n",
       "      <td>2020-09-29</td>\n",
       "      <td>22:51:43</td>\n",
       "      <td>1</td>\n",
       "      <td>2020-09-30</td>\n",
       "      <td>0.00822</td>\n",
       "      <td>0.007412</td>\n",
       "    </tr>\n",
       "    <tr>\n",
       "      <th>2</th>\n",
       "      <td>Twitter for iPhone</td>\n",
       "      <td>RT @realDonaldTrump: Rigged Election!</td>\n",
       "      <td>rig election</td>\n",
       "      <td>2020-09-29 22:37:44</td>\n",
       "      <td>66647</td>\n",
       "      <td>0</td>\n",
       "      <td>True</td>\n",
       "      <td>1311133095651717123</td>\n",
       "      <td>[]</td>\n",
       "      <td>[]</td>\n",
       "      <td>...</td>\n",
       "      <td>40</td>\n",
       "      <td>5.714286</td>\n",
       "      <td>0.428571</td>\n",
       "      <td>0.142857</td>\n",
       "      <td>2020-09-29</td>\n",
       "      <td>22:37:44</td>\n",
       "      <td>1</td>\n",
       "      <td>2020-09-30</td>\n",
       "      <td>0.00822</td>\n",
       "      <td>0.007412</td>\n",
       "    </tr>\n",
       "    <tr>\n",
       "      <th>3</th>\n",
       "      <td>Twitter for iPhone</td>\n",
       "      <td>https://t.co/58ssX7EfUj</td>\n",
       "      <td>NaN</td>\n",
       "      <td>2020-09-29 22:35:11</td>\n",
       "      <td>20658</td>\n",
       "      <td>65014</td>\n",
       "      <td>False</td>\n",
       "      <td>1311132452853706752</td>\n",
       "      <td>[]</td>\n",
       "      <td>[]</td>\n",
       "      <td>...</td>\n",
       "      <td>0</td>\n",
       "      <td>NaN</td>\n",
       "      <td>NaN</td>\n",
       "      <td>NaN</td>\n",
       "      <td>2020-09-29</td>\n",
       "      <td>22:35:11</td>\n",
       "      <td>1</td>\n",
       "      <td>2020-09-30</td>\n",
       "      <td>0.00822</td>\n",
       "      <td>0.007412</td>\n",
       "    </tr>\n",
       "    <tr>\n",
       "      <th>4</th>\n",
       "      <td>Twitter for iPhone</td>\n",
       "      <td>Volunteer to be a Trump Election Poll Watcher....</td>\n",
       "      <td>volunteer trump election poll watcher sign tod...</td>\n",
       "      <td>2020-09-29 22:30:39</td>\n",
       "      <td>14609</td>\n",
       "      <td>48540</td>\n",
       "      <td>False</td>\n",
       "      <td>1311131311965306885</td>\n",
       "      <td>['#MakeAmericaGreatAgain']</td>\n",
       "      <td>[]</td>\n",
       "      <td>...</td>\n",
       "      <td>87</td>\n",
       "      <td>5.800000</td>\n",
       "      <td>0.200000</td>\n",
       "      <td>0.000000</td>\n",
       "      <td>2020-09-29</td>\n",
       "      <td>22:30:39</td>\n",
       "      <td>1</td>\n",
       "      <td>2020-09-30</td>\n",
       "      <td>0.00822</td>\n",
       "      <td>0.007412</td>\n",
       "    </tr>\n",
       "  </tbody>\n",
       "</table>\n",
       "<p>5 rows × 21 columns</p>\n",
       "</div>"
      ],
      "text/plain": [
       "               source                                               text  \\\n",
       "0  Twitter for iPhone                            https://t.co/HUSFkHqsyC   \n",
       "1  Twitter for iPhone  RT @TyCardon: Regardless who you’re pulling fo...   \n",
       "2  Twitter for iPhone              RT @realDonaldTrump: Rigged Election!   \n",
       "3  Twitter for iPhone                            https://t.co/58ssX7EfUj   \n",
       "4  Twitter for iPhone  Volunteer to be a Trump Election Poll Watcher....   \n",
       "\n",
       "                                        cleaned_text           created_at  \\\n",
       "0                                                NaN  2020-09-29 23:57:50   \n",
       "1  regardless youre pull think agree joe rogan wo...  2020-09-29 22:51:43   \n",
       "2                                       rig election  2020-09-29 22:37:44   \n",
       "3                                                NaN  2020-09-29 22:35:11   \n",
       "4  volunteer trump election poll watcher sign tod...  2020-09-29 22:30:39   \n",
       "\n",
       "   retweet_count  favorite_count is_retweet               id_str  \\\n",
       "0          75761          321378      False  1311153253472636928   \n",
       "1          30926               0       True  1311136617327984640   \n",
       "2          66647               0       True  1311133095651717123   \n",
       "3          20658           65014      False  1311132452853706752   \n",
       "4          14609           48540      False  1311131311965306885   \n",
       "\n",
       "                      hashtag mention  ...  char_count  word_density  \\\n",
       "0                          []      []  ...           0           NaN   \n",
       "1                          []      []  ...         139      4.964286   \n",
       "2                          []      []  ...          40      5.714286   \n",
       "3                          []      []  ...           0           NaN   \n",
       "4  ['#MakeAmericaGreatAgain']      []  ...          87      5.800000   \n",
       "\n",
       "   punctuation_freq  upper_case_freq  created_date created_time  \\\n",
       "0               NaN              NaN    2020-09-29     23:57:50   \n",
       "1          0.071429         0.071429    2020-09-29     22:51:43   \n",
       "2          0.428571         0.142857    2020-09-29     22:37:44   \n",
       "3               NaN              NaN    2020-09-29     22:35:11   \n",
       "4          0.200000         0.000000    2020-09-29     22:30:39   \n",
       "\n",
       "  passed_closing  market_date    ^GSPC       VGT  \n",
       "0              1   2020-09-30  0.00822  0.007412  \n",
       "1              1   2020-09-30  0.00822  0.007412  \n",
       "2              1   2020-09-30  0.00822  0.007412  \n",
       "3              1   2020-09-30  0.00822  0.007412  \n",
       "4              1   2020-09-30  0.00822  0.007412  \n",
       "\n",
       "[5 rows x 21 columns]"
      ]
     },
     "execution_count": 2,
     "metadata": {},
     "output_type": "execute_result"
    }
   ],
   "source": [
    "df = pd.read_csv('../data/tweets&logreturns.csv')\n",
    "df.head()"
   ]
  },
  {
   "cell_type": "markdown",
   "metadata": {},
   "source": [
    "### Sweetviz report"
   ]
  },
  {
   "cell_type": "code",
   "execution_count": 11,
   "metadata": {},
   "outputs": [
    {
     "data": {
      "application/vnd.jupyter.widget-view+json": {
       "model_id": "e64434c9adaa4075ac732c8d8707df40",
       "version_major": 2,
       "version_minor": 0
      },
      "text/plain": [
       "HBox(children=(HTML(value=''), FloatProgress(value=0.0, layout=Layout(flex='2'), max=22.0), HTML(value='')), l…"
      ]
     },
     "metadata": {},
     "output_type": "display_data"
    },
    {
     "name": "stdout",
     "output_type": "stream",
     "text": [
      "\n"
     ]
    },
    {
     "data": {
      "application/vnd.jupyter.widget-view+json": {
       "model_id": "bbf2145d2620468d9876205561bd4fdb",
       "version_major": 2,
       "version_minor": 0
      },
      "text/plain": [
       "HBox(children=(HTML(value=''), FloatProgress(value=0.0, layout=Layout(flex='2'), max=21.0), HTML(value='')), l…"
      ]
     },
     "metadata": {},
     "output_type": "display_data"
    },
    {
     "name": "stdout",
     "output_type": "stream",
     "text": [
      "\n"
     ]
    },
    {
     "data": {
      "application/vnd.jupyter.widget-view+json": {
       "model_id": "d0da6d1967cb493fa0596c0a63c58fe4",
       "version_major": 2,
       "version_minor": 0
      },
      "text/plain": [
       "HBox(children=(HTML(value=''), FloatProgress(value=0.0, layout=Layout(flex='2'), max=1.0), HTML(value='')), la…"
      ]
     },
     "metadata": {},
     "output_type": "display_data"
    },
    {
     "name": "stdout",
     "output_type": "stream",
     "text": [
      "\n",
      "Report ../data/EDA_Sweetviz_report.html was generated! NOTEBOOK/COLAB USERS: the web browser MAY not pop up, regardless, the report IS saved in your notebook/colab files.\n"
     ]
    }
   ],
   "source": [
    "# generates a html report saved to '../data/EDA_Sweetviz_report.html'\n",
    "my_report = sv.analyze(df)\n",
    "my_report.show_html(filepath='../data/EDA_Sweetviz_report.html', open_browser=True)"
   ]
  },
  {
   "cell_type": "markdown",
   "metadata": {},
   "source": [
    "## Time series plots"
   ]
  },
  {
   "cell_type": "code",
   "execution_count": 3,
   "metadata": {},
   "outputs": [
    {
     "data": {
      "text/html": [
       "<div>\n",
       "<style scoped>\n",
       "    .dataframe tbody tr th:only-of-type {\n",
       "        vertical-align: middle;\n",
       "    }\n",
       "\n",
       "    .dataframe tbody tr th {\n",
       "        vertical-align: top;\n",
       "    }\n",
       "\n",
       "    .dataframe thead th {\n",
       "        text-align: right;\n",
       "    }\n",
       "</style>\n",
       "<table border=\"1\" class=\"dataframe\">\n",
       "  <thead>\n",
       "    <tr style=\"text-align: right;\">\n",
       "      <th></th>\n",
       "      <th>source</th>\n",
       "      <th>text</th>\n",
       "      <th>cleaned_text</th>\n",
       "      <th>created_at</th>\n",
       "      <th>retweet_count</th>\n",
       "      <th>favorite_count</th>\n",
       "      <th>is_retweet</th>\n",
       "      <th>id_str</th>\n",
       "      <th>hashtag</th>\n",
       "      <th>mention</th>\n",
       "      <th>...</th>\n",
       "      <th>punctuation_freq</th>\n",
       "      <th>upper_case_freq</th>\n",
       "      <th>created_date</th>\n",
       "      <th>created_time</th>\n",
       "      <th>passed_closing</th>\n",
       "      <th>market_date</th>\n",
       "      <th>^GSPC</th>\n",
       "      <th>VGT</th>\n",
       "      <th>created_datetime</th>\n",
       "      <th>count</th>\n",
       "    </tr>\n",
       "  </thead>\n",
       "  <tbody>\n",
       "    <tr>\n",
       "      <th>0</th>\n",
       "      <td>Twitter for iPhone</td>\n",
       "      <td>https://t.co/HUSFkHqsyC</td>\n",
       "      <td>NaN</td>\n",
       "      <td>2020-09-29 23:57:50</td>\n",
       "      <td>75761</td>\n",
       "      <td>321378</td>\n",
       "      <td>False</td>\n",
       "      <td>1311153253472636928</td>\n",
       "      <td>[]</td>\n",
       "      <td>[]</td>\n",
       "      <td>...</td>\n",
       "      <td>NaN</td>\n",
       "      <td>NaN</td>\n",
       "      <td>2020-09-29</td>\n",
       "      <td>23:57:50</td>\n",
       "      <td>1</td>\n",
       "      <td>2020-09-30</td>\n",
       "      <td>0.00822</td>\n",
       "      <td>0.007412</td>\n",
       "      <td>2020-09-29 23:57:50</td>\n",
       "      <td>1</td>\n",
       "    </tr>\n",
       "    <tr>\n",
       "      <th>1</th>\n",
       "      <td>Twitter for iPhone</td>\n",
       "      <td>RT @TyCardon: Regardless who you’re pulling fo...</td>\n",
       "      <td>regardless youre pull think agree joe rogan wo...</td>\n",
       "      <td>2020-09-29 22:51:43</td>\n",
       "      <td>30926</td>\n",
       "      <td>0</td>\n",
       "      <td>True</td>\n",
       "      <td>1311136617327984640</td>\n",
       "      <td>[]</td>\n",
       "      <td>[]</td>\n",
       "      <td>...</td>\n",
       "      <td>0.071429</td>\n",
       "      <td>0.071429</td>\n",
       "      <td>2020-09-29</td>\n",
       "      <td>22:51:43</td>\n",
       "      <td>1</td>\n",
       "      <td>2020-09-30</td>\n",
       "      <td>0.00822</td>\n",
       "      <td>0.007412</td>\n",
       "      <td>2020-09-29 22:51:43</td>\n",
       "      <td>1</td>\n",
       "    </tr>\n",
       "    <tr>\n",
       "      <th>2</th>\n",
       "      <td>Twitter for iPhone</td>\n",
       "      <td>RT @realDonaldTrump: Rigged Election!</td>\n",
       "      <td>rig election</td>\n",
       "      <td>2020-09-29 22:37:44</td>\n",
       "      <td>66647</td>\n",
       "      <td>0</td>\n",
       "      <td>True</td>\n",
       "      <td>1311133095651717123</td>\n",
       "      <td>[]</td>\n",
       "      <td>[]</td>\n",
       "      <td>...</td>\n",
       "      <td>0.428571</td>\n",
       "      <td>0.142857</td>\n",
       "      <td>2020-09-29</td>\n",
       "      <td>22:37:44</td>\n",
       "      <td>1</td>\n",
       "      <td>2020-09-30</td>\n",
       "      <td>0.00822</td>\n",
       "      <td>0.007412</td>\n",
       "      <td>2020-09-29 22:37:44</td>\n",
       "      <td>1</td>\n",
       "    </tr>\n",
       "    <tr>\n",
       "      <th>3</th>\n",
       "      <td>Twitter for iPhone</td>\n",
       "      <td>https://t.co/58ssX7EfUj</td>\n",
       "      <td>NaN</td>\n",
       "      <td>2020-09-29 22:35:11</td>\n",
       "      <td>20658</td>\n",
       "      <td>65014</td>\n",
       "      <td>False</td>\n",
       "      <td>1311132452853706752</td>\n",
       "      <td>[]</td>\n",
       "      <td>[]</td>\n",
       "      <td>...</td>\n",
       "      <td>NaN</td>\n",
       "      <td>NaN</td>\n",
       "      <td>2020-09-29</td>\n",
       "      <td>22:35:11</td>\n",
       "      <td>1</td>\n",
       "      <td>2020-09-30</td>\n",
       "      <td>0.00822</td>\n",
       "      <td>0.007412</td>\n",
       "      <td>2020-09-29 22:35:11</td>\n",
       "      <td>1</td>\n",
       "    </tr>\n",
       "    <tr>\n",
       "      <th>4</th>\n",
       "      <td>Twitter for iPhone</td>\n",
       "      <td>Volunteer to be a Trump Election Poll Watcher....</td>\n",
       "      <td>volunteer trump election poll watcher sign tod...</td>\n",
       "      <td>2020-09-29 22:30:39</td>\n",
       "      <td>14609</td>\n",
       "      <td>48540</td>\n",
       "      <td>False</td>\n",
       "      <td>1311131311965306885</td>\n",
       "      <td>['#MakeAmericaGreatAgain']</td>\n",
       "      <td>[]</td>\n",
       "      <td>...</td>\n",
       "      <td>0.200000</td>\n",
       "      <td>0.000000</td>\n",
       "      <td>2020-09-29</td>\n",
       "      <td>22:30:39</td>\n",
       "      <td>1</td>\n",
       "      <td>2020-09-30</td>\n",
       "      <td>0.00822</td>\n",
       "      <td>0.007412</td>\n",
       "      <td>2020-09-29 22:30:39</td>\n",
       "      <td>1</td>\n",
       "    </tr>\n",
       "  </tbody>\n",
       "</table>\n",
       "<p>5 rows × 23 columns</p>\n",
       "</div>"
      ],
      "text/plain": [
       "               source                                               text  \\\n",
       "0  Twitter for iPhone                            https://t.co/HUSFkHqsyC   \n",
       "1  Twitter for iPhone  RT @TyCardon: Regardless who you’re pulling fo...   \n",
       "2  Twitter for iPhone              RT @realDonaldTrump: Rigged Election!   \n",
       "3  Twitter for iPhone                            https://t.co/58ssX7EfUj   \n",
       "4  Twitter for iPhone  Volunteer to be a Trump Election Poll Watcher....   \n",
       "\n",
       "                                        cleaned_text           created_at  \\\n",
       "0                                                NaN  2020-09-29 23:57:50   \n",
       "1  regardless youre pull think agree joe rogan wo...  2020-09-29 22:51:43   \n",
       "2                                       rig election  2020-09-29 22:37:44   \n",
       "3                                                NaN  2020-09-29 22:35:11   \n",
       "4  volunteer trump election poll watcher sign tod...  2020-09-29 22:30:39   \n",
       "\n",
       "   retweet_count  favorite_count is_retweet               id_str  \\\n",
       "0          75761          321378      False  1311153253472636928   \n",
       "1          30926               0       True  1311136617327984640   \n",
       "2          66647               0       True  1311133095651717123   \n",
       "3          20658           65014      False  1311132452853706752   \n",
       "4          14609           48540      False  1311131311965306885   \n",
       "\n",
       "                      hashtag mention  ...  punctuation_freq  upper_case_freq  \\\n",
       "0                          []      []  ...               NaN              NaN   \n",
       "1                          []      []  ...          0.071429         0.071429   \n",
       "2                          []      []  ...          0.428571         0.142857   \n",
       "3                          []      []  ...               NaN              NaN   \n",
       "4  ['#MakeAmericaGreatAgain']      []  ...          0.200000         0.000000   \n",
       "\n",
       "   created_date  created_time  passed_closing market_date    ^GSPC       VGT  \\\n",
       "0    2020-09-29      23:57:50               1  2020-09-30  0.00822  0.007412   \n",
       "1    2020-09-29      22:51:43               1  2020-09-30  0.00822  0.007412   \n",
       "2    2020-09-29      22:37:44               1  2020-09-30  0.00822  0.007412   \n",
       "3    2020-09-29      22:35:11               1  2020-09-30  0.00822  0.007412   \n",
       "4    2020-09-29      22:30:39               1  2020-09-30  0.00822  0.007412   \n",
       "\n",
       "     created_datetime  count  \n",
       "0 2020-09-29 23:57:50      1  \n",
       "1 2020-09-29 22:51:43      1  \n",
       "2 2020-09-29 22:37:44      1  \n",
       "3 2020-09-29 22:35:11      1  \n",
       "4 2020-09-29 22:30:39      1  \n",
       "\n",
       "[5 rows x 23 columns]"
      ]
     },
     "execution_count": 3,
     "metadata": {},
     "output_type": "execute_result"
    }
   ],
   "source": [
    "# join created_date and created_time\n",
    "df['created_datetime'] = df['created_date'] + ' ' + df['created_time']\n",
    "df['created_datetime'] = pd.to_datetime(df['created_datetime'])\n",
    "\n",
    "# create a dummy column called count and fill the column with 1 for the frequency counts to work\n",
    "df['count'] = 1\n",
    "\n",
    "df.head()"
   ]
  },
  {
   "cell_type": "code",
   "execution_count": 40,
   "metadata": {},
   "outputs": [],
   "source": [
    "hourly_freq = df.groupby(df['created_datetime'].dt.hour)['count'].sum().fillna(0).reset_index(name ='count')\n",
    "daily_freq = df.groupby(pd.Grouper(key='created_datetime', freq='D'))['count'].sum().fillna(0).reset_index(name ='count')\n",
    "weekly_freq = df.groupby(df['created_datetime'].dt.weekday)['count'].sum().fillna(0).reset_index(name ='count')\n",
    "monthly_freq = df.groupby(df['created_datetime'].dt.month)['count'].sum().fillna(0).reset_index(name ='count')\n",
    "yearly_freq = df.groupby(df['created_datetime'].dt.year)['count'].sum().fillna(0).reset_index(name ='count')"
   ]
  },
  {
   "cell_type": "code",
   "execution_count": 50,
   "metadata": {},
   "outputs": [],
   "source": [
    "plots = [hourly_freq, daily_freq, weekly_freq, monthly_freq, yearly_freq]\n",
    "titles = ['Hourly Tweets Frequency', 'Daily Tweets Frequency', 'Weekly Tweets Frequency', 'Monthly Tweets Frequency', 'Yearly Tweets Frequency']\n",
    "x_labels = ['hour', 'day', 'day of the week', 'month', 'year']"
   ]
  },
  {
   "cell_type": "code",
   "execution_count": 53,
   "metadata": {},
   "outputs": [
    {
     "data": {
      "image/png": "[encoded data removed]",
      "text/plain": [
       "<Figure size 1008x144 with 1 Axes>"
      ]
     },
     "metadata": {},
     "output_type": "display_data"
    },
    {
     "data": {
      "image/png": "[encoded data removed]",
      "text/plain": [
       "<Figure size 1008x144 with 1 Axes>"
      ]
     },
     "metadata": {},
     "output_type": "display_data"
    },
    {
     "data": {
      "image/png": "[encoded data removed]",
      "text/plain": [
       "<Figure size 1008x144 with 1 Axes>"
      ]
     },
     "metadata": {},
     "output_type": "display_data"
    },
    {
     "data": {
      "image/png": "[encoded data removed]",
      "text/plain": [
       "<Figure size 1008x144 with 1 Axes>"
      ]
     },
     "metadata": {},
     "output_type": "display_data"
    },
    {
     "data": {
      "image/png": "[encoded data removed]",
      "text/plain": [
       "<Figure size 1008x144 with 1 Axes>"
      ]
     },
     "metadata": {},
     "output_type": "display_data"
    }
   ],
   "source": [
    "sns.set(rc={'figure.figsize':(14, 2)})\n",
    "for i in range(len(plots)):\n",
    "    ax = sns.lineplot(x='created_datetime', y='count', data=plots[i])\n",
    "    ax.set_title(titles[i])\n",
    "    ax.set_xlabel(x_labels[i])\n",
    "    plt.show()"
   ]
  },
  {
   "cell_type": "code",
   "execution_count": null,
   "metadata": {},
   "outputs": [],
   "source": [
    "# set datetime index\n",
    "# df = df.set_index('created_datetime')"
   ]
  }
 ],
 "metadata": {
  "kernelspec": {
   "display_name": "Python 3",
   "language": "python",
   "name": "python3"
  },
  "language_info": {
   "codemirror_mode": {
    "name": "ipython",
    "version": 3
   },
   "file_extension": ".py",
   "mimetype": "text/x-python",
   "name": "python",
   "nbconvert_exporter": "python",
   "pygments_lexer": "ipython3",
   "version": "3.7.3"
  }
 },
 "nbformat": 4,
 "nbformat_minor": 4
}
