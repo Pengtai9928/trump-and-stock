{
  "nbformat": 4,
  "nbformat_minor": 0,
  "metadata": {
    "kernelspec": {
      "display_name": "Python 3",
      "language": "python",
      "name": "python3"
    },
    "language_info": {
      "codemirror_mode": {
        "name": "ipython",
        "version": 3
      },
      "file_extension": ".py",
      "mimetype": "text/x-python",
      "name": "python",
      "nbconvert_exporter": "python",
      "pygments_lexer": "ipython3",
      "version": "3.7.3"
    },
    "colab": {
      "name": "modelling - baseline (AutoKeras).ipynb",
      "provenance": [],
      "collapsed_sections": []
    }
  },
  "cells": [
    {
      "cell_type": "code",
      "metadata": {
        "id": "Eso-FPEyY733"
      },
      "source": [
        "%%capture\n",
        "!pip install git+https://github.com/keras-team/keras-tuner.git@1.0.2rc4\n",
        "!pip install autokeras"
      ],
      "execution_count": 6,
      "outputs": []
    },
    {
      "cell_type": "code",
      "metadata": {
        "id": "XLZVUWYoROk2"
      },
      "source": [
        "import pandas as pd\n",
        "import numpy as np\n",
        "import tensorflow as tf\n",
        "from tensorflow import keras\n",
        "from keras.callbacks import EarlyStopping, CSVLogger\n",
        "from keras.models import load_model\n",
        "import autokeras as ak\n",
        "\n",
        "from sklearn.model_selection import train_test_split"
      ],
      "execution_count": 56,
      "outputs": []
    },
    {
      "cell_type": "code",
      "metadata": {
        "id": "buH7PJvWlSsw",
        "outputId": "302dbe4b-2914-43b6-ab6c-3b37f86e668b",
        "colab": {
          "base_uri": "https://localhost:8080/"
        }
      },
      "source": [
        "from google.colab import drive\n",
        "drive.mount('/content/gdrive')"
      ],
      "execution_count": 8,
      "outputs": [
        {
          "output_type": "stream",
          "text": [
            "Mounted at /content/gdrive\n"
          ],
          "name": "stdout"
        }
      ]
    },
    {
      "cell_type": "code",
      "metadata": {
        "id": "x4AeOTmCmJ5m",
        "outputId": "06c7e52d-daff-4162-dcee-07e13f7dd7bf",
        "colab": {
          "base_uri": "https://localhost:8080/"
        }
      },
      "source": [
        "cd \"gdrive/My Drive/BT4222/Final Project/code\""
      ],
      "execution_count": 9,
      "outputs": [
        {
          "output_type": "stream",
          "text": [
            "/content/gdrive/My Drive/BT4222/Final Project/code\n"
          ],
          "name": "stdout"
        }
      ]
    },
    {
      "cell_type": "markdown",
      "metadata": {
        "id": "ZgcQHKmckSib"
      },
      "source": [
        "## <font color='navy'>0. Text preperation</font>"
      ]
    },
    {
      "cell_type": "markdown",
      "metadata": {
        "id": "RjNgVOG0lSs_"
      },
      "source": [
        "### Drop features"
      ]
    },
    {
      "cell_type": "code",
      "metadata": {
        "id": "ZmTHuHvJlStA"
      },
      "source": [
        "df = pd.read_csv('../data/tweets&sentiment&logreturns.csv')"
      ],
      "execution_count": 10,
      "outputs": []
    },
    {
      "cell_type": "code",
      "metadata": {
        "id": "YA_yoifClStH"
      },
      "source": [
        "df = df[['cleaned_text', '^GSPC', '^IXIC', 'VGT']]"
      ],
      "execution_count": 11,
      "outputs": []
    },
    {
      "cell_type": "markdown",
      "metadata": {
        "id": "RiPQRJ26lStN"
      },
      "source": [
        "### Drop NA values"
      ]
    },
    {
      "cell_type": "code",
      "metadata": {
        "id": "4Qz3a37elStO",
        "outputId": "6af82b47-9e70-4192-9566-7be03929058b",
        "colab": {
          "base_uri": "https://localhost:8080/"
        }
      },
      "source": [
        "df.isna().sum()"
      ],
      "execution_count": 12,
      "outputs": [
        {
          "output_type": "execute_result",
          "data": {
            "text/plain": [
              "cleaned_text    1192\n",
              "^GSPC              0\n",
              "^IXIC              0\n",
              "VGT                0\n",
              "dtype: int64"
            ]
          },
          "metadata": {
            "tags": []
          },
          "execution_count": 12
        }
      ]
    },
    {
      "cell_type": "code",
      "metadata": {
        "id": "YDyhOiXzlStV"
      },
      "source": [
        "df = df.dropna(how='any')\n",
        "df = df.reset_index().drop(columns=['index'])"
      ],
      "execution_count": 13,
      "outputs": []
    },
    {
      "cell_type": "code",
      "metadata": {
        "id": "R55yeF-QlStb",
        "outputId": "a89eb112-2ece-4f8b-ec0c-f62f2a658bb8",
        "colab": {
          "base_uri": "https://localhost:8080/",
          "height": 202
        }
      },
      "source": [
        "df.head()"
      ],
      "execution_count": 14,
      "outputs": [
        {
          "output_type": "execute_result",
          "data": {
            "text/html": [
              "<div>\n",
              "<style scoped>\n",
              "    .dataframe tbody tr th:only-of-type {\n",
              "        vertical-align: middle;\n",
              "    }\n",
              "\n",
              "    .dataframe tbody tr th {\n",
              "        vertical-align: top;\n",
              "    }\n",
              "\n",
              "    .dataframe thead th {\n",
              "        text-align: right;\n",
              "    }\n",
              "</style>\n",
              "<table border=\"1\" class=\"dataframe\">\n",
              "  <thead>\n",
              "    <tr style=\"text-align: right;\">\n",
              "      <th></th>\n",
              "      <th>cleaned_text</th>\n",
              "      <th>^GSPC</th>\n",
              "      <th>^IXIC</th>\n",
              "      <th>VGT</th>\n",
              "    </tr>\n",
              "  </thead>\n",
              "  <tbody>\n",
              "    <tr>\n",
              "      <th>0</th>\n",
              "      <td>thank</td>\n",
              "      <td>0.005279</td>\n",
              "      <td>0.014137</td>\n",
              "      <td>0.012381</td>\n",
              "    </tr>\n",
              "    <tr>\n",
              "      <th>1</th>\n",
              "      <td>big news maine court side rnc uphold ban ballo...</td>\n",
              "      <td>0.005279</td>\n",
              "      <td>0.014137</td>\n",
              "      <td>0.012381</td>\n",
              "    </tr>\n",
              "    <tr>\n",
              "      <th>2</th>\n",
              "      <td>thank paul</td>\n",
              "      <td>0.005279</td>\n",
              "      <td>0.014137</td>\n",
              "      <td>0.012381</td>\n",
              "    </tr>\n",
              "    <tr>\n",
              "      <th>3</th>\n",
              "      <td>defective ballot new york want replace happen ...</td>\n",
              "      <td>0.005279</td>\n",
              "      <td>0.014137</td>\n",
              "      <td>0.012381</td>\n",
              "    </tr>\n",
              "    <tr>\n",
              "      <th>4</th>\n",
              "      <td>half years secure americas border rebuild awes...</td>\n",
              "      <td>0.005279</td>\n",
              "      <td>0.014137</td>\n",
              "      <td>0.012381</td>\n",
              "    </tr>\n",
              "  </tbody>\n",
              "</table>\n",
              "</div>"
            ],
            "text/plain": [
              "                                        cleaned_text  ...       VGT\n",
              "0                                              thank  ...  0.012381\n",
              "1  big news maine court side rnc uphold ban ballo...  ...  0.012381\n",
              "2                                         thank paul  ...  0.012381\n",
              "3  defective ballot new york want replace happen ...  ...  0.012381\n",
              "4  half years secure americas border rebuild awes...  ...  0.012381\n",
              "\n",
              "[5 rows x 4 columns]"
            ]
          },
          "metadata": {
            "tags": []
          },
          "execution_count": 14
        }
      ]
    },
    {
      "cell_type": "markdown",
      "metadata": {
        "id": "2pZ3jmFlR4vH"
      },
      "source": [
        "### Train test split"
      ]
    },
    {
      "cell_type": "code",
      "metadata": {
        "id": "1BJkom1hR7l5"
      },
      "source": [
        "y_GSPC = df['^GSPC'].to_frame().to_numpy()\n",
        "y_IXIC = df['^IXIC'].to_frame().to_numpy()\n",
        "y_VGT = df['VGT'].to_frame().to_numpy()\n",
        "X = df['cleaned_text'].to_numpy()"
      ],
      "execution_count": 15,
      "outputs": []
    },
    {
      "cell_type": "code",
      "metadata": {
        "id": "Qj4mQzedSVu5"
      },
      "source": [
        "# train is 80% of the entire data set\n",
        "train_ratio = 0.8"
      ],
      "execution_count": 16,
      "outputs": []
    },
    {
      "cell_type": "markdown",
      "metadata": {
        "id": "fgVNB9FcSjkM"
      },
      "source": [
        "#### GSPC"
      ]
    },
    {
      "cell_type": "code",
      "metadata": {
        "id": "vawKxCG4SaS5"
      },
      "source": [
        "X_train_GSPC, X_test_GSPC, y_train_GSPC, y_test_GSPC = train_test_split(X, y_GSPC, test_size=1 - train_ratio, random_state=1)"
      ],
      "execution_count": 17,
      "outputs": []
    },
    {
      "cell_type": "markdown",
      "metadata": {
        "id": "l2EgR-dWStHh"
      },
      "source": [
        "#### IXIC"
      ]
    },
    {
      "cell_type": "code",
      "metadata": {
        "id": "b_Siswi4SxbG"
      },
      "source": [
        "X_train_IXIC, X_test_IXIC, y_train_IXIC, y_test_IXIC = train_test_split(X, y_IXIC, test_size=1 - train_ratio, random_state=1)"
      ],
      "execution_count": 18,
      "outputs": []
    },
    {
      "cell_type": "markdown",
      "metadata": {
        "id": "cmsB_DdxSvPp"
      },
      "source": [
        "#### VGT"
      ]
    },
    {
      "cell_type": "code",
      "metadata": {
        "id": "X7NR9eiESrvW"
      },
      "source": [
        "X_train_VGT, X_test_VGT, y_train_VGT, y_test_VGT = train_test_split(X, y_VGT, test_size=1 - train_ratio, random_state=1)"
      ],
      "execution_count": 19,
      "outputs": []
    },
    {
      "cell_type": "markdown",
      "metadata": {
        "id": "rTH4SfatVIta"
      },
      "source": [
        "## <font color='navy'>1. Build Models</font>"
      ]
    },
    {
      "cell_type": "markdown",
      "metadata": {
        "id": "R_vwC3SpboHY"
      },
      "source": [
        "### Define error metrics\n",
        "\n",
        "Write a custom function to calculate MAPE, mean average percentage error. MAPE expresses expresses accuracy as a percentage of the error. Because the MAPE is a percentage, it can be easier to understand than the other accuracy measure statistics e.g. RMSE. Refer to the picture below for a guide on the interpretation of MAPE values"
      ]
    },
    {
      "cell_type": "markdown",
      "metadata": {
        "id": "rPA8WYZSbk2_"
      },
      "source": [
        "<img src=\"https://www.researchgate.net/profile/Albert_Sese/publication/257812432/figure/tbl1/AS:601657310203931@1520457689632/nterpretation-of-typical-MAPE-values.png\" width=300 align=\"left\"/>"
      ]
    },
    {
      "cell_type": "code",
      "metadata": {
        "id": "7Xns2HJVbyRb"
      },
      "source": [
        "# define custom functions to calculate MAPE\n",
        "\n",
        "def percentage_error(actual, predicted):\n",
        "    res = np.empty(actual.shape)\n",
        "    for j in range(actual.shape[0]):\n",
        "        if actual[j] != 0:\n",
        "            res[j] = (actual[j] - predicted[j]) / actual[j]\n",
        "        else:\n",
        "            res[j] = predicted[j] / np.mean(actual)\n",
        "    return res\n",
        "\n",
        "def mean_absolute_percentage_error(y_true, y_pred): \n",
        "    return np.mean(np.abs(percentage_error(np.asarray(y_true), np.asarray(y_pred)))) * 100"
      ],
      "execution_count": 32,
      "outputs": []
    },
    {
      "cell_type": "markdown",
      "metadata": {
        "id": "rGBLLN5HVN75"
      },
      "source": [
        "#### GSPC"
      ]
    },
    {
      "cell_type": "code",
      "metadata": {
        "id": "UoRb753HXS9i"
      },
      "source": [
        "# Create checkpoints and save model weights during training \n",
        "GSPC_CHECKPOINT_PATH = \"../model/AutoKeras_GSPC/checkpoints/GSPC_cp.ckpt\"\n",
        "\n",
        "# Path to save training history\n",
        "GSPC_LOG_PATH = '../model/AutoKeras_GSPC/log/GSPC_history.log'\n",
        "\n",
        "# Path to save the best model\n",
        "GSPC_BEST_MODEL_PATH = \"../model/AutoKeras_GSPC/best_model\""
      ],
      "execution_count": 54,
      "outputs": []
    },
    {
      "cell_type": "code",
      "metadata": {
        "id": "Hj7dQHkbYDVa"
      },
      "source": [
        "# Create a callback that saves the model's weights\n",
        "GSPC_cp_callback = tf.keras.callbacks.ModelCheckpoint(filepath=GSPC_CHECKPOINT_PATH,\n",
        "                                                      save_weights_only=True,\n",
        "                                                      verbose=1\n",
        "                                                     )\n",
        "\n",
        "# Create a callback that saves the model's training history\n",
        "GSPC_csv_logger = CSVLogger(GSPC_LOG_PATH, separator=',', append=False)"
      ],
      "execution_count": 38,
      "outputs": []
    },
    {
      "cell_type": "code",
      "metadata": {
        "id": "rVvJ2hU5R3Cb"
      },
      "source": [
        "# Initialize the text regressor.\n",
        "GSPC_reg = ak.TextRegressor(\n",
        "                            overwrite=False,\n",
        "                            max_trials=10, # It tries 10 different models\n",
        "                            loss=\"mean_squared_error\",\n",
        "                            objective=\"val_loss\",\n",
        "                            seed=1\n",
        "                           ) "
      ],
      "execution_count": 39,
      "outputs": []
    },
    {
      "cell_type": "code",
      "metadata": {
        "id": "lRLOrwgWVUaB",
        "outputId": "d02172db-38e1-4206-fb2d-ccda9f17ed90",
        "colab": {
          "base_uri": "https://localhost:8080/"
        }
      },
      "source": [
        "# Feed the text regressor with training data.\n",
        "GSPC_reg.fit(X_train_GSPC, y_train_GSPC, \n",
        "             epochs=10,\n",
        "             validation_split=0.2,\n",
        "             callbacks=[GSPC_cp_callback, GSPC_csv_logger]\n",
        "            )"
      ],
      "execution_count": 40,
      "outputs": [
        {
          "output_type": "stream",
          "text": [
            "Trial 10 Complete [00h 02m 15s]\n",
            "val_loss: 0.00024642361677251756\n",
            "\n",
            "Best val_loss So Far: 0.0002422880061203614\n",
            "Total elapsed time: 00h 54m 22s\n",
            "INFO:tensorflow:Oracle triggered exit\n",
            "Epoch 1/10\n",
            "656/658 [============================>.] - ETA: 0s - loss: 2.6135e-04 - mean_squared_error: 2.6135e-04\n",
            "Epoch 00001: saving model to ../model/AutoKeras_GSPC/checkpoints/GSPC_cp.ckpt\n",
            "\n",
            "Epoch 00001: saving model to ../model/AutoKeras_GSPC/checkpoints/GSPC_cp.ckpt\n",
            "658/658 [==============================] - 16s 24ms/step - loss: 2.6130e-04 - mean_squared_error: 2.6130e-04\n",
            "Epoch 2/10\n",
            "657/658 [============================>.] - ETA: 0s - loss: 2.5473e-04 - mean_squared_error: 2.5473e-04\n",
            "Epoch 00002: saving model to ../model/AutoKeras_GSPC/checkpoints/GSPC_cp.ckpt\n",
            "\n",
            "Epoch 00002: saving model to ../model/AutoKeras_GSPC/checkpoints/GSPC_cp.ckpt\n",
            "658/658 [==============================] - 16s 25ms/step - loss: 2.5469e-04 - mean_squared_error: 2.5469e-04\n",
            "Epoch 3/10\n",
            "656/658 [============================>.] - ETA: 0s - loss: 2.3333e-04 - mean_squared_error: 2.3333e-04\n",
            "Epoch 00003: saving model to ../model/AutoKeras_GSPC/checkpoints/GSPC_cp.ckpt\n",
            "\n",
            "Epoch 00003: saving model to ../model/AutoKeras_GSPC/checkpoints/GSPC_cp.ckpt\n",
            "658/658 [==============================] - 16s 25ms/step - loss: 2.3336e-04 - mean_squared_error: 2.3336e-04\n",
            "Epoch 4/10\n",
            "657/658 [============================>.] - ETA: 0s - loss: 2.0010e-04 - mean_squared_error: 2.0010e-04\n",
            "Epoch 00004: saving model to ../model/AutoKeras_GSPC/checkpoints/GSPC_cp.ckpt\n",
            "\n",
            "Epoch 00004: saving model to ../model/AutoKeras_GSPC/checkpoints/GSPC_cp.ckpt\n",
            "658/658 [==============================] - 16s 24ms/step - loss: 2.0007e-04 - mean_squared_error: 2.0007e-04\n",
            "Epoch 5/10\n",
            "657/658 [============================>.] - ETA: 0s - loss: 1.7077e-04 - mean_squared_error: 1.7077e-04\n",
            "Epoch 00005: saving model to ../model/AutoKeras_GSPC/checkpoints/GSPC_cp.ckpt\n",
            "\n",
            "Epoch 00005: saving model to ../model/AutoKeras_GSPC/checkpoints/GSPC_cp.ckpt\n",
            "658/658 [==============================] - 16s 25ms/step - loss: 1.7073e-04 - mean_squared_error: 1.7073e-04\n",
            "Epoch 6/10\n",
            "656/658 [============================>.] - ETA: 0s - loss: 1.5145e-04 - mean_squared_error: 1.5145e-04\n",
            "Epoch 00006: saving model to ../model/AutoKeras_GSPC/checkpoints/GSPC_cp.ckpt\n",
            "\n",
            "Epoch 00006: saving model to ../model/AutoKeras_GSPC/checkpoints/GSPC_cp.ckpt\n",
            "658/658 [==============================] - 16s 24ms/step - loss: 1.5150e-04 - mean_squared_error: 1.5150e-04\n",
            "Epoch 7/10\n",
            "656/658 [============================>.] - ETA: 0s - loss: 1.3442e-04 - mean_squared_error: 1.3442e-04\n",
            "Epoch 00007: saving model to ../model/AutoKeras_GSPC/checkpoints/GSPC_cp.ckpt\n",
            "\n",
            "Epoch 00007: saving model to ../model/AutoKeras_GSPC/checkpoints/GSPC_cp.ckpt\n",
            "658/658 [==============================] - 16s 25ms/step - loss: 1.3448e-04 - mean_squared_error: 1.3448e-04\n",
            "Epoch 8/10\n",
            "658/658 [==============================] - ETA: 0s - loss: 1.1829e-04 - mean_squared_error: 1.1829e-04\n",
            "Epoch 00008: saving model to ../model/AutoKeras_GSPC/checkpoints/GSPC_cp.ckpt\n",
            "\n",
            "Epoch 00008: saving model to ../model/AutoKeras_GSPC/checkpoints/GSPC_cp.ckpt\n",
            "658/658 [==============================] - 16s 24ms/step - loss: 1.1829e-04 - mean_squared_error: 1.1829e-04\n",
            "Epoch 9/10\n",
            "656/658 [============================>.] - ETA: 0s - loss: 1.0418e-04 - mean_squared_error: 1.0418e-04\n",
            "Epoch 00009: saving model to ../model/AutoKeras_GSPC/checkpoints/GSPC_cp.ckpt\n",
            "\n",
            "Epoch 00009: saving model to ../model/AutoKeras_GSPC/checkpoints/GSPC_cp.ckpt\n",
            "658/658 [==============================] - 16s 24ms/step - loss: 1.0423e-04 - mean_squared_error: 1.0423e-04\n",
            "Epoch 10/10\n",
            "658/658 [==============================] - ETA: 0s - loss: 9.1923e-05 - mean_squared_error: 9.1923e-05\n",
            "Epoch 00010: saving model to ../model/AutoKeras_GSPC/checkpoints/GSPC_cp.ckpt\n",
            "\n",
            "Epoch 00010: saving model to ../model/AutoKeras_GSPC/checkpoints/GSPC_cp.ckpt\n",
            "658/658 [==============================] - 16s 24ms/step - loss: 9.1923e-05 - mean_squared_error: 9.1923e-05\n",
            "INFO:tensorflow:Assets written to: ./text_regressor/best_model/assets\n"
          ],
          "name": "stdout"
        }
      ]
    },
    {
      "cell_type": "code",
      "metadata": {
        "id": "VelOF7FNVmli"
      },
      "source": [
        "# Predict with the best model\n",
        "y_pred_GSPC = GSPC_reg.predict(X_test_GSPC)"
      ],
      "execution_count": 41,
      "outputs": []
    },
    {
      "cell_type": "code",
      "metadata": {
        "id": "y8LncuyEV5IU",
        "outputId": "cfc51b41-e7bf-4ddd-9e11-b90cb7421101",
        "colab": {
          "base_uri": "https://localhost:8080/"
        }
      },
      "source": [
        "# Evaluate the best model with testing data based on MSE\n",
        "evaluate_GSPC = GSPC_reg.evaluate(X_test_GSPC, y_test_GSPC)"
      ],
      "execution_count": 42,
      "outputs": [
        {
          "output_type": "stream",
          "text": [
            "165/165 [==============================] - 1s 5ms/step - loss: 2.5639e-04 - mean_squared_error: 2.5639e-04\n"
          ],
          "name": "stdout"
        }
      ]
    },
    {
      "cell_type": "code",
      "metadata": {
        "id": "gWXEGi_Bb2eE",
        "outputId": "6576a5f5-562b-4ee5-bcee-8dec22834f86",
        "colab": {
          "base_uri": "https://localhost:8080/"
        }
      },
      "source": [
        "# Evaluate the best model with testing data based on MAPE\n",
        "mean_absolute_percentage_error(y_test_GSPC, y_pred_GSPC)"
      ],
      "execution_count": 43,
      "outputs": [
        {
          "output_type": "execute_result",
          "data": {
            "text/plain": [
              "387.7718566112492"
            ]
          },
          "metadata": {
            "tags": []
          },
          "execution_count": 43
        }
      ]
    },
    {
      "cell_type": "code",
      "metadata": {
        "id": "wD87OgEtqH_A",
        "outputId": "f17b6211-d492-497d-b9ce-c1657f31fd77",
        "colab": {
          "base_uri": "https://localhost:8080/"
        }
      },
      "source": [
        "# export the best keras model from the pool of candidate models\n",
        "best_model_GSPC = GSPC_reg.export_model()\n",
        "best_model_GSPC.summary()"
      ],
      "execution_count": 50,
      "outputs": [
        {
          "output_type": "stream",
          "text": [
            "WARNING:tensorflow:7 out of the last 7 calls to <function recreate_function.<locals>.restored_function_body at 0x7faa765e2730> triggered tf.function retracing. Tracing is expensive and the excessive number of tracings could be due to (1) creating @tf.function repeatedly in a loop, (2) passing tensors with different shapes, (3) passing Python objects instead of tensors. For (1), please define your @tf.function outside of the loop. For (2), @tf.function has experimental_relax_shapes=True option that relaxes argument shapes that can avoid unnecessary retracing. For (3), please refer to https://www.tensorflow.org/tutorials/customization/performance#python_or_tensor_args and https://www.tensorflow.org/api_docs/python/tf/function for  more details.\n",
            "Model: \"functional_1\"\n",
            "_________________________________________________________________\n",
            "Layer (type)                 Output Shape              Param #   \n",
            "=================================================================\n",
            "input_1 (InputLayer)         [(None,)]                 0         \n",
            "_________________________________________________________________\n",
            "tf_op_layer_ExpandDims (Tens (None, 1)                 0         \n",
            "_________________________________________________________________\n",
            "text_vectorization (TextVect (None, 64)                0         \n",
            "_________________________________________________________________\n",
            "embedding (Embedding)        (None, 64, 128)           640128    \n",
            "_________________________________________________________________\n",
            "dropout (Dropout)            (None, 64, 128)           0         \n",
            "_________________________________________________________________\n",
            "conv1d (Conv1D)              (None, 62, 32)            12320     \n",
            "_________________________________________________________________\n",
            "max_pooling1d (MaxPooling1D) (None, 31, 32)            0         \n",
            "_________________________________________________________________\n",
            "conv1d_1 (Conv1D)            (None, 29, 32)            3104      \n",
            "_________________________________________________________________\n",
            "max_pooling1d_1 (MaxPooling1 (None, 14, 32)            0         \n",
            "_________________________________________________________________\n",
            "flatten (Flatten)            (None, 448)               0         \n",
            "_________________________________________________________________\n",
            "dense (Dense)                (None, 32)                14368     \n",
            "_________________________________________________________________\n",
            "re_lu (ReLU)                 (None, 32)                0         \n",
            "_________________________________________________________________\n",
            "dense_1 (Dense)              (None, 32)                1056      \n",
            "_________________________________________________________________\n",
            "re_lu_1 (ReLU)               (None, 32)                0         \n",
            "_________________________________________________________________\n",
            "regression_head_1 (Dense)    (None, 1)                 33        \n",
            "=================================================================\n",
            "Total params: 671,009\n",
            "Trainable params: 671,009\n",
            "Non-trainable params: 0\n",
            "_________________________________________________________________\n"
          ],
          "name": "stdout"
        }
      ]
    },
    {
      "cell_type": "code",
      "metadata": {
        "id": "LfVBVbKGqVQ_",
        "outputId": "4d2142cb-0a53-4ed7-8cbf-65a77ccae6cf",
        "colab": {
          "base_uri": "https://localhost:8080/"
        }
      },
      "source": [
        "# save the best keras model to disk\n",
        "best_model_GSPC.save(GSPC_BEST_MODEL_PATH, save_format=\"tf\")"
      ],
      "execution_count": 55,
      "outputs": [
        {
          "output_type": "stream",
          "text": [
            "INFO:tensorflow:Assets written to: ../model/AutoKeras_GSPC/best_model/assets\n"
          ],
          "name": "stdout"
        }
      ]
    },
    {
      "cell_type": "code",
      "metadata": {
        "id": "RffFQ1b1tdAB",
        "outputId": "9537eda9-590a-4751-e7da-9a1b8e76523d",
        "colab": {
          "base_uri": "https://localhost:8080/"
        }
      },
      "source": [
        "# # load the best model\n",
        "# best_model_GSPC = load_model(GSPC_BEST_MODEL_PATH, custom_objects=ak.CUSTOM_OBJECTS)"
      ],
      "execution_count": 57,
      "outputs": [
        {
          "output_type": "stream",
          "text": [
            "WARNING:tensorflow:8 out of the last 8 calls to <function recreate_function.<locals>.restored_function_body at 0x7faa760ffc80> triggered tf.function retracing. Tracing is expensive and the excessive number of tracings could be due to (1) creating @tf.function repeatedly in a loop, (2) passing tensors with different shapes, (3) passing Python objects instead of tensors. For (1), please define your @tf.function outside of the loop. For (2), @tf.function has experimental_relax_shapes=True option that relaxes argument shapes that can avoid unnecessary retracing. For (3), please refer to https://www.tensorflow.org/tutorials/customization/performance#python_or_tensor_args and https://www.tensorflow.org/api_docs/python/tf/function for  more details.\n"
          ],
          "name": "stdout"
        }
      ]
    },
    {
      "cell_type": "markdown",
      "metadata": {
        "id": "Db677dk4VN76"
      },
      "source": [
        "#### IXIC"
      ]
    },
    {
      "cell_type": "markdown",
      "metadata": {
        "id": "YVCVamARVN77"
      },
      "source": [
        "#### VGT"
      ]
    }
  ]
}