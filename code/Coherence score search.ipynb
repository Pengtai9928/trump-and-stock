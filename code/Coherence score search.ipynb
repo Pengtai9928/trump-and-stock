{
 "cells": [
  {
   "cell_type": "code",
   "execution_count": 1,
   "metadata": {},
   "outputs": [],
   "source": [
    "import pandas as pd\n",
    "import numpy as np\n",
    "#text preprocessing\n",
    "import re\n",
    "import string\n",
    "import nltk\n",
    "from nltk.stem import WordNetLemmatizer\n",
    "from nltk.corpus import stopwords\n",
    "\n",
    "from gensim.models import LdaSeqModel\n",
    "from gensim.models import LdaModel,LdaMulticore\n",
    "from gensim.models.coherencemodel import CoherenceModel\n",
    "PYTHONHASHSEED=0 #Disable randomization"
   ]
  },
  {
   "cell_type": "code",
   "execution_count": 2,
   "metadata": {},
   "outputs": [
    {
     "data": {
      "text/html": [
       "<div>\n",
       "<style scoped>\n",
       "    .dataframe tbody tr th:only-of-type {\n",
       "        vertical-align: middle;\n",
       "    }\n",
       "\n",
       "    .dataframe tbody tr th {\n",
       "        vertical-align: top;\n",
       "    }\n",
       "\n",
       "    .dataframe thead th {\n",
       "        text-align: right;\n",
       "    }\n",
       "</style>\n",
       "<table border=\"1\" class=\"dataframe\">\n",
       "  <thead>\n",
       "    <tr style=\"text-align: right;\">\n",
       "      <th></th>\n",
       "      <th>cleaned_text</th>\n",
       "      <th>created_at</th>\n",
       "    </tr>\n",
       "    <tr>\n",
       "      <th>source</th>\n",
       "      <th></th>\n",
       "      <th></th>\n",
       "    </tr>\n",
       "  </thead>\n",
       "  <tbody>\n",
       "    <tr>\n",
       "      <th>Twitter for iPhone</th>\n",
       "      <td>regardless youre pull think agree joe rogan wo...</td>\n",
       "      <td>2020-09-29 22:51:43</td>\n",
       "    </tr>\n",
       "    <tr>\n",
       "      <th>Twitter for iPhone</th>\n",
       "      <td>rig election</td>\n",
       "      <td>2020-09-29 22:37:44</td>\n",
       "    </tr>\n",
       "    <tr>\n",
       "      <th>Twitter for iPhone</th>\n",
       "      <td>volunteer trump election poll watcher sign tod...</td>\n",
       "      <td>2020-09-29 22:30:39</td>\n",
       "    </tr>\n",
       "    <tr>\n",
       "      <th>Twitter for iPhone</th>\n",
       "      <td>epa one trillion tree initiative build preside...</td>\n",
       "      <td>2020-09-29 22:26:18</td>\n",
       "    </tr>\n",
       "    <tr>\n",
       "      <th>Twitter for iPhone</th>\n",
       "      <td>joe biden could not name single law enforcemen...</td>\n",
       "      <td>2020-09-29 22:15:30</td>\n",
       "    </tr>\n",
       "  </tbody>\n",
       "</table>\n",
       "</div>"
      ],
      "text/plain": [
       "                                                         cleaned_text  \\\n",
       "source                                                                  \n",
       "Twitter for iPhone  regardless youre pull think agree joe rogan wo...   \n",
       "Twitter for iPhone                                       rig election   \n",
       "Twitter for iPhone  volunteer trump election poll watcher sign tod...   \n",
       "Twitter for iPhone  epa one trillion tree initiative build preside...   \n",
       "Twitter for iPhone  joe biden could not name single law enforcemen...   \n",
       "\n",
       "                             created_at  \n",
       "source                                   \n",
       "Twitter for iPhone  2020-09-29 22:51:43  \n",
       "Twitter for iPhone  2020-09-29 22:37:44  \n",
       "Twitter for iPhone  2020-09-29 22:30:39  \n",
       "Twitter for iPhone  2020-09-29 22:26:18  \n",
       "Twitter for iPhone  2020-09-29 22:15:30  "
      ]
     },
     "execution_count": 2,
     "metadata": {},
     "output_type": "execute_result"
    }
   ],
   "source": [
    "df = pd.read_csv(\"tweets&logreturns.csv\", index_col = 0)\n",
    "req = df.loc[:,['cleaned_text','created_at']]\n",
    "req = req.dropna()\n",
    "req.head()"
   ]
  },
  {
   "cell_type": "code",
   "execution_count": 3,
   "metadata": {},
   "outputs": [
    {
     "name": "stdout",
     "output_type": "stream",
     "text": [
      "(9181, 21)\n",
      "(7835, 21)\n",
      "(3572, 21)\n",
      "(2602, 21)\n",
      "(4223, 21)\n"
     ]
    }
   ],
   "source": [
    "#See time slice quantity\n",
    "print(df.loc[df['created_at']>='2020-01-01'].shape)\n",
    "print(df.loc[(df['created_at']<'2020-01-01') & (df['created_at']>='2019-01-01')].shape)\n",
    "print(df.loc[(df['created_at']<'2019-01-01') & (df['created_at']>='2018-01-01')].shape)\n",
    "print(df.loc[(df['created_at']<'2018-01-01') & (df['created_at']>='2017-01-01')].shape)\n",
    "print(df.loc[(df['created_at']<'2017-01-01') & (df['created_at']>='2016-01-01')].shape)"
   ]
  },
  {
   "cell_type": "code",
   "execution_count": 4,
   "metadata": {},
   "outputs": [],
   "source": [
    "#Split df by time\n",
    "df_20 = req.loc[req['created_at']>='2020-01-01'].reset_index()\n",
    "df_19 = req.loc[(req['created_at']<'2020-01-01') & (req['created_at']>='2019-01-01')].reset_index()\n",
    "df_18 = req.loc[(req['created_at']<'2019-01-01') & (req['created_at']>='2018-01-01')].reset_index()\n",
    "df_17 = req.loc[(req['created_at']<'2018-01-01') & (req['created_at']>='2017-01-01')].reset_index()\n",
    "df_16 = req.loc[(req['created_at']<'2017-01-01')].reset_index()\n",
    "\n",
    "#Put into list for for loop\n",
    "df_all = [df_16,df_17,df_18,df_19,df_20]"
   ]
  },
  {
   "cell_type": "markdown",
   "metadata": {},
   "source": [
    "# Get optimal coherence score per time split"
   ]
  },
  {
   "cell_type": "code",
   "execution_count": null,
   "metadata": {},
   "outputs": [],
   "source": [
    "'''\n",
    "#Just long loop\n",
    "years = 2016\n",
    "coherence_test = []\n",
    "for year in df_all:\n",
    "\n",
    "    # Tokenize the documents.\n",
    "    from nltk.tokenize import RegexpTokenizer\n",
    "    docs = year.cleaned_text\n",
    "    # Split the documents into tokens.\n",
    "    tokenizer = RegexpTokenizer(r'\\w+')\n",
    "    for idx in range(len(docs)):\n",
    "        docs[idx] = docs[idx].lower()  # Convert to lowercase.\n",
    "        docs[idx] = tokenizer.tokenize(docs[idx])  # Split into words.\n",
    "\n",
    "    # Remove numbers, but not words that contain numbers.\n",
    "    docs = [[token for token in doc if not token.isnumeric()] for doc in docs]\n",
    "\n",
    "    # Remove words that are only one character.\n",
    "    docs = [[token for token in doc if len(token) > 1] for doc in docs]\n",
    "\n",
    "    #Remove stopwords\n",
    "    stop = list(stopwords.words('english'))\n",
    "    docs = [[token for token in doc if token not in stop] for doc in docs]\n",
    "\n",
    "    # Lemmatize the documents.\n",
    "    from nltk.stem.wordnet import WordNetLemmatizer\n",
    "\n",
    "    lemmatizer = WordNetLemmatizer()\n",
    "    docs = [[lemmatizer.lemmatize(token) for token in doc] for doc in docs]\n",
    "\n",
    "    from gensim.models import Phrases\n",
    "\n",
    "    # Add bigrams and trigrams to docs (only ones that appear 10 times or more).\n",
    "    bigram = Phrases(docs, min_count=10)\n",
    "    for idx in range(len(docs)):\n",
    "        for token in bigram[docs[idx]]:\n",
    "            if '_' in token:\n",
    "                # Token is a bigram, add to document.\n",
    "                docs[idx].append(token)\n",
    "\n",
    "    # Remove rare and common tokens.\n",
    "    from gensim.corpora import Dictionary\n",
    "\n",
    "    # Create a dictionary representation of the documents.\n",
    "    dictionary = Dictionary(docs)\n",
    "\n",
    "    # Filter out words that occur less than 20 documents, or more than 50% of the documents.\n",
    "    dictionary.filter_extremes(no_below=10, no_above=0.5)\n",
    "\n",
    "    # Bag-of-words representation of the documents.\n",
    "    corpus = [dictionary.doc2bow(doc) for doc in docs]\n",
    "    print('Number of unique tokens: %d' % len(dictionary))\n",
    "    print('Number of documents: %d' % len(corpus))\n",
    "\n",
    "    # Make a index to word dictionary.\n",
    "    temp = dictionary[0]  # This is only to \"load\" the dictionary.\n",
    "    id2word = dictionary.id2token\n",
    "\n",
    "    \n",
    "    # Train LDA model.\n",
    "    from gensim.models import LdaModel\n",
    "\n",
    "    # Set training parameters.\n",
    "    chunksize = 199\n",
    "    passes = 20\n",
    "    iterations = 400\n",
    "    eval_every = None  # Don't evaluate model perplexity, takes too much time.\n",
    "\n",
    "    val = []\n",
    "    for i in np.arange(5,81,5):\n",
    "        model = LdaModel(\n",
    "        corpus=corpus,\n",
    "        id2word=id2word,\n",
    "        chunksize=chunksize,\n",
    "        alpha='auto',\n",
    "        eta='auto',\n",
    "        iterations=iterations,\n",
    "        num_topics=i,\n",
    "        passes=passes,\n",
    "        eval_every=eval_every\n",
    "        )\n",
    " \n",
    "        cm = CoherenceModel(model, corpus=corpus, texts = docs,dictionary=dictionary,coherence='c_v')\n",
    "        score = cm.get_coherence()\n",
    "        print(str('Year: %d, topics: %d, coherence score: %.3f'%(years,i,score)))\n",
    "        val.append([years,i,score])\n",
    "    coherence_test.append(val)\n",
    "    years = years + 1\n",
    "'''"
   ]
  },
  {
   "cell_type": "code",
   "execution_count": 131,
   "metadata": {},
   "outputs": [],
   "source": [
    "temp = []\n",
    "for i in coherence_test:\n",
    "    for j in i:\n",
    "        temp.append(j)\n",
    "temp2 = pd.DataFrame(temp)\n",
    "temp2.columns=[\"Year\",\"Topics\",\"score\"]\n",
    "#temp2.to_csv(\"coherence_scores.csv\",index=False)"
   ]
  },
  {
   "cell_type": "code",
   "execution_count": 6,
   "metadata": {},
   "outputs": [],
   "source": [
    "temp2 = pd.read_csv(\"coherence_scores.csv\")"
   ]
  },
  {
   "cell_type": "code",
   "execution_count": 7,
   "metadata": {},
   "outputs": [
    {
     "data": {
      "text/html": [
       "<div>\n",
       "<style scoped>\n",
       "    .dataframe tbody tr th:only-of-type {\n",
       "        vertical-align: middle;\n",
       "    }\n",
       "\n",
       "    .dataframe tbody tr th {\n",
       "        vertical-align: top;\n",
       "    }\n",
       "\n",
       "    .dataframe thead th {\n",
       "        text-align: right;\n",
       "    }\n",
       "</style>\n",
       "<table border=\"1\" class=\"dataframe\">\n",
       "  <thead>\n",
       "    <tr style=\"text-align: right;\">\n",
       "      <th></th>\n",
       "      <th>Year</th>\n",
       "      <th>Topics</th>\n",
       "      <th>score</th>\n",
       "      <th>marginal</th>\n",
       "    </tr>\n",
       "  </thead>\n",
       "  <tbody>\n",
       "    <tr>\n",
       "      <th>0</th>\n",
       "      <td>2016</td>\n",
       "      <td>5</td>\n",
       "      <td>0.368127</td>\n",
       "      <td>0.000000</td>\n",
       "    </tr>\n",
       "    <tr>\n",
       "      <th>1</th>\n",
       "      <td>2016</td>\n",
       "      <td>10</td>\n",
       "      <td>0.411682</td>\n",
       "      <td>0.043554</td>\n",
       "    </tr>\n",
       "    <tr>\n",
       "      <th>2</th>\n",
       "      <td>2016</td>\n",
       "      <td>15</td>\n",
       "      <td>0.430524</td>\n",
       "      <td>0.018843</td>\n",
       "    </tr>\n",
       "    <tr>\n",
       "      <th>3</th>\n",
       "      <td>2016</td>\n",
       "      <td>20</td>\n",
       "      <td>0.471881</td>\n",
       "      <td>0.041357</td>\n",
       "    </tr>\n",
       "    <tr>\n",
       "      <th>4</th>\n",
       "      <td>2016</td>\n",
       "      <td>25</td>\n",
       "      <td>0.473081</td>\n",
       "      <td>0.001200</td>\n",
       "    </tr>\n",
       "    <tr>\n",
       "      <th>...</th>\n",
       "      <td>...</td>\n",
       "      <td>...</td>\n",
       "      <td>...</td>\n",
       "      <td>...</td>\n",
       "    </tr>\n",
       "    <tr>\n",
       "      <th>75</th>\n",
       "      <td>2020</td>\n",
       "      <td>60</td>\n",
       "      <td>0.534051</td>\n",
       "      <td>0.004037</td>\n",
       "    </tr>\n",
       "    <tr>\n",
       "      <th>76</th>\n",
       "      <td>2020</td>\n",
       "      <td>65</td>\n",
       "      <td>0.550515</td>\n",
       "      <td>0.016464</td>\n",
       "    </tr>\n",
       "    <tr>\n",
       "      <th>77</th>\n",
       "      <td>2020</td>\n",
       "      <td>70</td>\n",
       "      <td>0.557009</td>\n",
       "      <td>0.006493</td>\n",
       "    </tr>\n",
       "    <tr>\n",
       "      <th>78</th>\n",
       "      <td>2020</td>\n",
       "      <td>75</td>\n",
       "      <td>0.564973</td>\n",
       "      <td>0.007964</td>\n",
       "    </tr>\n",
       "    <tr>\n",
       "      <th>79</th>\n",
       "      <td>2020</td>\n",
       "      <td>80</td>\n",
       "      <td>0.570279</td>\n",
       "      <td>0.005306</td>\n",
       "    </tr>\n",
       "  </tbody>\n",
       "</table>\n",
       "<p>80 rows × 4 columns</p>\n",
       "</div>"
      ],
      "text/plain": [
       "    Year  Topics     score  marginal\n",
       "0   2016       5  0.368127  0.000000\n",
       "1   2016      10  0.411682  0.043554\n",
       "2   2016      15  0.430524  0.018843\n",
       "3   2016      20  0.471881  0.041357\n",
       "4   2016      25  0.473081  0.001200\n",
       "..   ...     ...       ...       ...\n",
       "75  2020      60  0.534051  0.004037\n",
       "76  2020      65  0.550515  0.016464\n",
       "77  2020      70  0.557009  0.006493\n",
       "78  2020      75  0.564973  0.007964\n",
       "79  2020      80  0.570279  0.005306\n",
       "\n",
       "[80 rows x 4 columns]"
      ]
     },
     "execution_count": 7,
     "metadata": {},
     "output_type": "execute_result"
    }
   ],
   "source": [
    "lamb = lambda x: x - x.shift(1)\n",
    "temp2['marginal'] = temp2.groupby('Year').score.apply(lamb)\n",
    "temp2.fillna(0,inplace=True)\n",
    "temp2"
   ]
  },
  {
   "cell_type": "code",
   "execution_count": 9,
   "metadata": {},
   "outputs": [
    {
     "data": {
      "text/plain": [
       "Year\n",
       "2016    AxesSubplot(0.125,0.125;0.775x0.755)\n",
       "2017    AxesSubplot(0.125,0.125;0.775x0.755)\n",
       "2018    AxesSubplot(0.125,0.125;0.775x0.755)\n",
       "2019    AxesSubplot(0.125,0.125;0.775x0.755)\n",
       "2020    AxesSubplot(0.125,0.125;0.775x0.755)\n",
       "dtype: object"
      ]
     },
     "execution_count": 9,
     "metadata": {},
     "output_type": "execute_result"
    },
    {
     "data": {
      "image/png": "[encoded data removed]",
      "text/plain": [
       "<Figure size 432x288 with 1 Axes>"
      ]
     },
     "metadata": {
      "needs_background": "light"
     },
     "output_type": "display_data"
    },
    {
     "data": {
      "image/png": "[encoded data removed]",
      "text/plain": [
       "<Figure size 432x288 with 1 Axes>"
      ]
     },
     "metadata": {
      "needs_background": "light"
     },
     "output_type": "display_data"
    },
    {
     "data": {
      "image/png": "[encoded data removed]",
      "text/plain": [
       "<Figure size 432x288 with 1 Axes>"
      ]
     },
     "metadata": {
      "needs_background": "light"
     },
     "output_type": "display_data"
    },
    {
     "data": {
      "image/png": "[encoded data removed]",
      "text/plain": [
       "<Figure size 432x288 with 1 Axes>"
      ]
     },
     "metadata": {
      "needs_background": "light"
     },
     "output_type": "display_data"
    },
    {
     "data": {
      "image/png": "[encoded data removed]",
      "text/plain": [
       "<Figure size 432x288 with 1 Axes>"
      ]
     },
     "metadata": {
      "needs_background": "light"
     },
     "output_type": "display_data"
    }
   ],
   "source": [
    "import matplotlib.pyplot as plt\n",
    "%matplotlib inline\n",
    "temp2.groupby('Year').plot(x='Topics',y='marginal')\n"
   ]
  },
  {
   "cell_type": "markdown",
   "metadata": {},
   "source": [
    "From above, optimal where marginal last increased >= 0.2 is:<br>\n",
    "2016: 40 <br>\n",
    "2017: 45<br>\n",
    "2018: 65<br>\n",
    "2019: 60<br>\n",
    "2020: 50<br>\n",
    "\n",
    "Average == 52 topics"
   ]
  },
  {
   "cell_type": "markdown",
   "metadata": {},
   "source": [
    "# Get optimal num of topics without time split"
   ]
  },
  {
   "cell_type": "code",
   "execution_count": 29,
   "metadata": {},
   "outputs": [
    {
     "name": "stdout",
     "output_type": "stream",
     "text": [
      "Number of unique tokens: 4058\n",
      "Number of documents: 26229\n",
      "topics: 5, coherence score: 0.259\n",
      "topics: 10, coherence score: 0.313\n",
      "topics: 15, coherence score: 0.316\n",
      "topics: 20, coherence score: 0.305\n",
      "topics: 25, coherence score: 0.322\n",
      "topics: 30, coherence score: 0.346\n",
      "topics: 35, coherence score: 0.396\n",
      "topics: 40, coherence score: 0.420\n",
      "topics: 45, coherence score: 0.446\n",
      "topics: 50, coherence score: 0.477\n"
     ]
    },
    {
     "ename": "KeyboardInterrupt",
     "evalue": "",
     "output_type": "error",
     "traceback": [
      "\u001b[1;31m---------------------------------------------------------------------------\u001b[0m",
      "\u001b[1;31mKeyboardInterrupt\u001b[0m                         Traceback (most recent call last)",
      "\u001b[1;32m<ipython-input-29-110fb062382e>\u001b[0m in \u001b[0;36m<module>\u001b[1;34m\u001b[0m\n\u001b[0;32m     75\u001b[0m     \u001b[0mpasses\u001b[0m\u001b[1;33m=\u001b[0m\u001b[0mpasses\u001b[0m\u001b[1;33m,\u001b[0m\u001b[1;33m\u001b[0m\u001b[1;33m\u001b[0m\u001b[0m\n\u001b[0;32m     76\u001b[0m     \u001b[0meval_every\u001b[0m\u001b[1;33m=\u001b[0m\u001b[0meval_every\u001b[0m\u001b[1;33m,\u001b[0m\u001b[1;33m\u001b[0m\u001b[1;33m\u001b[0m\u001b[0m\n\u001b[1;32m---> 77\u001b[1;33m     \u001b[0mrandom_state\u001b[0m\u001b[1;33m=\u001b[0m\u001b[1;36m4222\u001b[0m\u001b[1;33m\u001b[0m\u001b[1;33m\u001b[0m\u001b[0m\n\u001b[0m\u001b[0;32m     78\u001b[0m     )\n\u001b[0;32m     79\u001b[0m \u001b[1;33m\u001b[0m\u001b[0m\n",
      "\u001b[1;32m~\\Anaconda3\\lib\\site-packages\\gensim\\models\\ldamodel.py\u001b[0m in \u001b[0;36m__init__\u001b[1;34m(self, corpus, num_topics, id2word, distributed, chunksize, passes, update_every, alpha, eta, decay, offset, eval_every, iterations, gamma_threshold, minimum_probability, random_state, ns_conf, minimum_phi_value, per_word_topics, callbacks, dtype)\u001b[0m\n\u001b[0;32m    517\u001b[0m         \u001b[1;32mif\u001b[0m \u001b[0mcorpus\u001b[0m \u001b[1;32mis\u001b[0m \u001b[1;32mnot\u001b[0m \u001b[1;32mNone\u001b[0m\u001b[1;33m:\u001b[0m\u001b[1;33m\u001b[0m\u001b[1;33m\u001b[0m\u001b[0m\n\u001b[0;32m    518\u001b[0m             \u001b[0muse_numpy\u001b[0m \u001b[1;33m=\u001b[0m \u001b[0mself\u001b[0m\u001b[1;33m.\u001b[0m\u001b[0mdispatcher\u001b[0m \u001b[1;32mis\u001b[0m \u001b[1;32mnot\u001b[0m \u001b[1;32mNone\u001b[0m\u001b[1;33m\u001b[0m\u001b[1;33m\u001b[0m\u001b[0m\n\u001b[1;32m--> 519\u001b[1;33m             \u001b[0mself\u001b[0m\u001b[1;33m.\u001b[0m\u001b[0mupdate\u001b[0m\u001b[1;33m(\u001b[0m\u001b[0mcorpus\u001b[0m\u001b[1;33m,\u001b[0m \u001b[0mchunks_as_numpy\u001b[0m\u001b[1;33m=\u001b[0m\u001b[0muse_numpy\u001b[0m\u001b[1;33m)\u001b[0m\u001b[1;33m\u001b[0m\u001b[1;33m\u001b[0m\u001b[0m\n\u001b[0m\u001b[0;32m    520\u001b[0m \u001b[1;33m\u001b[0m\u001b[0m\n\u001b[0;32m    521\u001b[0m     \u001b[1;32mdef\u001b[0m \u001b[0minit_dir_prior\u001b[0m\u001b[1;33m(\u001b[0m\u001b[0mself\u001b[0m\u001b[1;33m,\u001b[0m \u001b[0mprior\u001b[0m\u001b[1;33m,\u001b[0m \u001b[0mname\u001b[0m\u001b[1;33m)\u001b[0m\u001b[1;33m:\u001b[0m\u001b[1;33m\u001b[0m\u001b[1;33m\u001b[0m\u001b[0m\n",
      "\u001b[1;32m~\\Anaconda3\\lib\\site-packages\\gensim\\models\\ldamodel.py\u001b[0m in \u001b[0;36mupdate\u001b[1;34m(self, corpus, chunksize, decay, offset, passes, update_every, eval_every, iterations, gamma_threshold, chunks_as_numpy)\u001b[0m\n\u001b[0;32m    992\u001b[0m                         \u001b[0mlogger\u001b[0m\u001b[1;33m.\u001b[0m\u001b[0minfo\u001b[0m\u001b[1;33m(\u001b[0m\u001b[1;34m\"reached the end of input; now waiting for all remaining jobs to finish\"\u001b[0m\u001b[1;33m)\u001b[0m\u001b[1;33m\u001b[0m\u001b[1;33m\u001b[0m\u001b[0m\n\u001b[0;32m    993\u001b[0m                         \u001b[0mother\u001b[0m \u001b[1;33m=\u001b[0m \u001b[0mself\u001b[0m\u001b[1;33m.\u001b[0m\u001b[0mdispatcher\u001b[0m\u001b[1;33m.\u001b[0m\u001b[0mgetstate\u001b[0m\u001b[1;33m(\u001b[0m\u001b[1;33m)\u001b[0m\u001b[1;33m\u001b[0m\u001b[1;33m\u001b[0m\u001b[0m\n\u001b[1;32m--> 994\u001b[1;33m                     \u001b[0mself\u001b[0m\u001b[1;33m.\u001b[0m\u001b[0mdo_mstep\u001b[0m\u001b[1;33m(\u001b[0m\u001b[0mrho\u001b[0m\u001b[1;33m(\u001b[0m\u001b[1;33m)\u001b[0m\u001b[1;33m,\u001b[0m \u001b[0mother\u001b[0m\u001b[1;33m,\u001b[0m \u001b[0mpass_\u001b[0m \u001b[1;33m>\u001b[0m \u001b[1;36m0\u001b[0m\u001b[1;33m)\u001b[0m\u001b[1;33m\u001b[0m\u001b[1;33m\u001b[0m\u001b[0m\n\u001b[0m\u001b[0;32m    995\u001b[0m                     \u001b[1;32mdel\u001b[0m \u001b[0mother\u001b[0m  \u001b[1;31m# frees up memory\u001b[0m\u001b[1;33m\u001b[0m\u001b[1;33m\u001b[0m\u001b[0m\n\u001b[0;32m    996\u001b[0m \u001b[1;33m\u001b[0m\u001b[0m\n",
      "\u001b[1;32m~\\Anaconda3\\lib\\site-packages\\gensim\\models\\ldamodel.py\u001b[0m in \u001b[0;36mdo_mstep\u001b[1;34m(self, rho, other, extra_pass)\u001b[0m\n\u001b[0;32m   1050\u001b[0m \u001b[1;33m\u001b[0m\u001b[0m\n\u001b[0;32m   1051\u001b[0m         \u001b[1;32mif\u001b[0m \u001b[0mself\u001b[0m\u001b[1;33m.\u001b[0m\u001b[0moptimize_eta\u001b[0m\u001b[1;33m:\u001b[0m\u001b[1;33m\u001b[0m\u001b[1;33m\u001b[0m\u001b[0m\n\u001b[1;32m-> 1052\u001b[1;33m             \u001b[0mself\u001b[0m\u001b[1;33m.\u001b[0m\u001b[0mupdate_eta\u001b[0m\u001b[1;33m(\u001b[0m\u001b[0mself\u001b[0m\u001b[1;33m.\u001b[0m\u001b[0mstate\u001b[0m\u001b[1;33m.\u001b[0m\u001b[0mget_lambda\u001b[0m\u001b[1;33m(\u001b[0m\u001b[1;33m)\u001b[0m\u001b[1;33m,\u001b[0m \u001b[0mrho\u001b[0m\u001b[1;33m)\u001b[0m\u001b[1;33m\u001b[0m\u001b[1;33m\u001b[0m\u001b[0m\n\u001b[0m\u001b[0;32m   1053\u001b[0m \u001b[1;33m\u001b[0m\u001b[0m\n\u001b[0;32m   1054\u001b[0m         \u001b[1;32mif\u001b[0m \u001b[1;32mnot\u001b[0m \u001b[0mextra_pass\u001b[0m\u001b[1;33m:\u001b[0m\u001b[1;33m\u001b[0m\u001b[1;33m\u001b[0m\u001b[0m\n",
      "\u001b[1;32m~\\Anaconda3\\lib\\site-packages\\gensim\\models\\ldamodel.py\u001b[0m in \u001b[0;36mupdate_eta\u001b[1;34m(self, lambdat, rho)\u001b[0m\n\u001b[0;32m    792\u001b[0m         \u001b[1;32massert\u001b[0m \u001b[0mlogphat\u001b[0m\u001b[1;33m.\u001b[0m\u001b[0mdtype\u001b[0m \u001b[1;33m==\u001b[0m \u001b[0mself\u001b[0m\u001b[1;33m.\u001b[0m\u001b[0mdtype\u001b[0m\u001b[1;33m\u001b[0m\u001b[1;33m\u001b[0m\u001b[0m\n\u001b[0;32m    793\u001b[0m \u001b[1;33m\u001b[0m\u001b[0m\n\u001b[1;32m--> 794\u001b[1;33m         \u001b[0mself\u001b[0m\u001b[1;33m.\u001b[0m\u001b[0meta\u001b[0m \u001b[1;33m=\u001b[0m \u001b[0mupdate_dir_prior\u001b[0m\u001b[1;33m(\u001b[0m\u001b[0mself\u001b[0m\u001b[1;33m.\u001b[0m\u001b[0meta\u001b[0m\u001b[1;33m,\u001b[0m \u001b[0mN\u001b[0m\u001b[1;33m,\u001b[0m \u001b[0mlogphat\u001b[0m\u001b[1;33m,\u001b[0m \u001b[0mrho\u001b[0m\u001b[1;33m)\u001b[0m\u001b[1;33m\u001b[0m\u001b[1;33m\u001b[0m\u001b[0m\n\u001b[0m\u001b[0;32m    795\u001b[0m \u001b[1;33m\u001b[0m\u001b[0m\n\u001b[0;32m    796\u001b[0m         \u001b[1;32massert\u001b[0m \u001b[0mself\u001b[0m\u001b[1;33m.\u001b[0m\u001b[0meta\u001b[0m\u001b[1;33m.\u001b[0m\u001b[0mdtype\u001b[0m \u001b[1;33m==\u001b[0m \u001b[0mself\u001b[0m\u001b[1;33m.\u001b[0m\u001b[0mdtype\u001b[0m\u001b[1;33m\u001b[0m\u001b[1;33m\u001b[0m\u001b[0m\n",
      "\u001b[1;32m~\\Anaconda3\\lib\\site-packages\\gensim\\models\\ldamodel.py\u001b[0m in \u001b[0;36mupdate_dir_prior\u001b[1;34m(prior, N, logphat, rho)\u001b[0m\n\u001b[0;32m    133\u001b[0m \u001b[1;33m\u001b[0m\u001b[0m\n\u001b[0;32m    134\u001b[0m     \u001b[0mc\u001b[0m \u001b[1;33m=\u001b[0m \u001b[0mN\u001b[0m \u001b[1;33m*\u001b[0m \u001b[0mpolygamma\u001b[0m\u001b[1;33m(\u001b[0m\u001b[1;36m1\u001b[0m\u001b[1;33m,\u001b[0m \u001b[0mnp\u001b[0m\u001b[1;33m.\u001b[0m\u001b[0msum\u001b[0m\u001b[1;33m(\u001b[0m\u001b[0mprior\u001b[0m\u001b[1;33m)\u001b[0m\u001b[1;33m)\u001b[0m\u001b[1;33m\u001b[0m\u001b[1;33m\u001b[0m\u001b[0m\n\u001b[1;32m--> 135\u001b[1;33m     \u001b[0mq\u001b[0m \u001b[1;33m=\u001b[0m \u001b[1;33m-\u001b[0m\u001b[0mN\u001b[0m \u001b[1;33m*\u001b[0m \u001b[0mpolygamma\u001b[0m\u001b[1;33m(\u001b[0m\u001b[1;36m1\u001b[0m\u001b[1;33m,\u001b[0m \u001b[0mprior\u001b[0m\u001b[1;33m)\u001b[0m\u001b[1;33m\u001b[0m\u001b[1;33m\u001b[0m\u001b[0m\n\u001b[0m\u001b[0;32m    136\u001b[0m \u001b[1;33m\u001b[0m\u001b[0m\n\u001b[0;32m    137\u001b[0m     \u001b[0mb\u001b[0m \u001b[1;33m=\u001b[0m \u001b[0mnp\u001b[0m\u001b[1;33m.\u001b[0m\u001b[0msum\u001b[0m\u001b[1;33m(\u001b[0m\u001b[0mgradf\u001b[0m \u001b[1;33m/\u001b[0m \u001b[0mq\u001b[0m\u001b[1;33m)\u001b[0m \u001b[1;33m/\u001b[0m \u001b[1;33m(\u001b[0m\u001b[1;36m1\u001b[0m \u001b[1;33m/\u001b[0m \u001b[0mc\u001b[0m \u001b[1;33m+\u001b[0m \u001b[0mnp\u001b[0m\u001b[1;33m.\u001b[0m\u001b[0msum\u001b[0m\u001b[1;33m(\u001b[0m\u001b[1;36m1\u001b[0m \u001b[1;33m/\u001b[0m \u001b[0mq\u001b[0m\u001b[1;33m)\u001b[0m\u001b[1;33m)\u001b[0m\u001b[1;33m\u001b[0m\u001b[1;33m\u001b[0m\u001b[0m\n",
      "\u001b[1;32m~\\Anaconda3\\lib\\site-packages\\scipy\\special\\_basic.py\u001b[0m in \u001b[0;36mpolygamma\u001b[1;34m(n, x)\u001b[0m\n\u001b[0;32m   1031\u001b[0m     \"\"\"\n\u001b[0;32m   1032\u001b[0m     \u001b[0mn\u001b[0m\u001b[1;33m,\u001b[0m \u001b[0mx\u001b[0m \u001b[1;33m=\u001b[0m \u001b[0masarray\u001b[0m\u001b[1;33m(\u001b[0m\u001b[0mn\u001b[0m\u001b[1;33m)\u001b[0m\u001b[1;33m,\u001b[0m \u001b[0masarray\u001b[0m\u001b[1;33m(\u001b[0m\u001b[0mx\u001b[0m\u001b[1;33m)\u001b[0m\u001b[1;33m\u001b[0m\u001b[1;33m\u001b[0m\u001b[0m\n\u001b[1;32m-> 1033\u001b[1;33m     \u001b[0mfac2\u001b[0m \u001b[1;33m=\u001b[0m \u001b[1;33m(\u001b[0m\u001b[1;33m-\u001b[0m\u001b[1;36m1.0\u001b[0m\u001b[1;33m)\u001b[0m\u001b[1;33m**\u001b[0m\u001b[1;33m(\u001b[0m\u001b[0mn\u001b[0m\u001b[1;33m+\u001b[0m\u001b[1;36m1\u001b[0m\u001b[1;33m)\u001b[0m \u001b[1;33m*\u001b[0m \u001b[0mgamma\u001b[0m\u001b[1;33m(\u001b[0m\u001b[0mn\u001b[0m\u001b[1;33m+\u001b[0m\u001b[1;36m1.0\u001b[0m\u001b[1;33m)\u001b[0m \u001b[1;33m*\u001b[0m \u001b[0mzeta\u001b[0m\u001b[1;33m(\u001b[0m\u001b[0mn\u001b[0m\u001b[1;33m+\u001b[0m\u001b[1;36m1\u001b[0m\u001b[1;33m,\u001b[0m \u001b[0mx\u001b[0m\u001b[1;33m)\u001b[0m\u001b[1;33m\u001b[0m\u001b[1;33m\u001b[0m\u001b[0m\n\u001b[0m\u001b[0;32m   1034\u001b[0m     \u001b[1;32mreturn\u001b[0m \u001b[0mwhere\u001b[0m\u001b[1;33m(\u001b[0m\u001b[0mn\u001b[0m \u001b[1;33m==\u001b[0m \u001b[1;36m0\u001b[0m\u001b[1;33m,\u001b[0m \u001b[0mpsi\u001b[0m\u001b[1;33m(\u001b[0m\u001b[0mx\u001b[0m\u001b[1;33m)\u001b[0m\u001b[1;33m,\u001b[0m \u001b[0mfac2\u001b[0m\u001b[1;33m)\u001b[0m\u001b[1;33m\u001b[0m\u001b[1;33m\u001b[0m\u001b[0m\n\u001b[0;32m   1035\u001b[0m \u001b[1;33m\u001b[0m\u001b[0m\n",
      "\u001b[1;32m~\\Anaconda3\\lib\\site-packages\\scipy\\special\\_basic.py\u001b[0m in \u001b[0;36mzeta\u001b[1;34m(x, q, out)\u001b[0m\n\u001b[0;32m   2334\u001b[0m         \u001b[1;32mreturn\u001b[0m \u001b[0mufuncs\u001b[0m\u001b[1;33m.\u001b[0m\u001b[0m_riemann_zeta\u001b[0m\u001b[1;33m(\u001b[0m\u001b[0mx\u001b[0m\u001b[1;33m,\u001b[0m \u001b[0mout\u001b[0m\u001b[1;33m)\u001b[0m\u001b[1;33m\u001b[0m\u001b[1;33m\u001b[0m\u001b[0m\n\u001b[0;32m   2335\u001b[0m     \u001b[1;32melse\u001b[0m\u001b[1;33m:\u001b[0m\u001b[1;33m\u001b[0m\u001b[1;33m\u001b[0m\u001b[0m\n\u001b[1;32m-> 2336\u001b[1;33m         \u001b[1;32mreturn\u001b[0m \u001b[0mufuncs\u001b[0m\u001b[1;33m.\u001b[0m\u001b[0m_zeta\u001b[0m\u001b[1;33m(\u001b[0m\u001b[0mx\u001b[0m\u001b[1;33m,\u001b[0m \u001b[0mq\u001b[0m\u001b[1;33m,\u001b[0m \u001b[0mout\u001b[0m\u001b[1;33m)\u001b[0m\u001b[1;33m\u001b[0m\u001b[1;33m\u001b[0m\u001b[0m\n\u001b[0m",
      "\u001b[1;31mKeyboardInterrupt\u001b[0m: "
     ]
    }
   ],
   "source": [
    "'''\n",
    "# Tokenize the documents.\n",
    "from nltk.tokenize import RegexpTokenizer\n",
    "docs = df.cleaned_text.dropna()\n",
    "# Split the documents into tokens.\n",
    "tokenizer = RegexpTokenizer(r'\\w+')\n",
    "for idx in range(len(docs)):\n",
    "    docs[idx] = docs[idx].lower()  # Convert to lowercase.\n",
    "    docs[idx] = tokenizer.tokenize(docs[idx])  # Split into words.\n",
    "\n",
    "# Remove numbers, but not words that contain numbers.\n",
    "docs = [[token for token in doc if not token.isnumeric()] for doc in docs]\n",
    "\n",
    "# Remove words that are only one character.\n",
    "docs = [[token for token in doc if len(token) > 1] for doc in docs]\n",
    "\n",
    "#Remove stopwords\n",
    "stop = list(stopwords.words('english'))\n",
    "docs = [[token for token in doc if token not in stop] for doc in docs]\n",
    "\n",
    "# Lemmatize the documents.\n",
    "from nltk.stem.wordnet import WordNetLemmatizer\n",
    "\n",
    "lemmatizer = WordNetLemmatizer()\n",
    "docs = [[lemmatizer.lemmatize(token) for token in doc] for doc in docs]\n",
    "\n",
    "from gensim.models import Phrases\n",
    "\n",
    "# Add bigrams and trigrams to docs (only ones that appear 10 times or more).\n",
    "bigram = Phrases(docs, min_count=10)\n",
    "for idx in range(len(docs)):\n",
    "    for token in bigram[docs[idx]]:\n",
    "        if '_' in token:\n",
    "            # Token is a bigram, add to document.\n",
    "            docs[idx].append(token)\n",
    "\n",
    "# Remove rare and common tokens.\n",
    "from gensim.corpora import Dictionary\n",
    "\n",
    "# Create a dictionary representation of the documents.\n",
    "dictionary = Dictionary(docs)\n",
    "\n",
    "# Filter out words that occur less than 20 documents, or more than 50% of the documents.\n",
    "dictionary.filter_extremes(no_below=10, no_above=0.5)\n",
    "\n",
    "# Bag-of-words representation of the documents.\n",
    "corpus = [dictionary.doc2bow(doc) for doc in docs]\n",
    "print('Number of unique tokens: %d' % len(dictionary))\n",
    "print('Number of documents: %d' % len(corpus))\n",
    "\n",
    "# Make a index to word dictionary.\n",
    "temp = dictionary[0]  # This is only to \"load\" the dictionary.\n",
    "id2word = dictionary.id2token\n",
    "\n",
    "    \n",
    "# Train LDA model.\n",
    "from gensim.models import LdaModel\n",
    "\n",
    "# Set training parameters.\n",
    "chunksize = 199\n",
    "passes = 20\n",
    "iterations = 400\n",
    "eval_every = None  # Don't evaluate model perplexity, takes too much time.\n",
    "\n",
    "    \n",
    "val2 = []\n",
    "for i in np.arange(5,81,5):\n",
    "    model = LdaModel(\n",
    "    corpus=corpus,\n",
    "    id2word=id2word,\n",
    "    chunksize=chunksize,\n",
    "    alpha='auto',\n",
    "    eta='auto',\n",
    "    iterations=iterations,\n",
    "    num_topics=i,\n",
    "    passes=passes,\n",
    "    eval_every=eval_every,\n",
    "    random_state=4222\n",
    "    )\n",
    "        \n",
    "        \n",
    "    from gensim.models.coherencemodel import CoherenceModel\n",
    "    cm = CoherenceModel(model, corpus=corpus, texts = docs,dictionary=dictionary,coherence='c_v')\n",
    "    score = cm.get_coherence()\n",
    "    print(str('topics: %d, coherence score: %.3f'%(i,score)))\n",
    "    val2.append([i,score])\n",
    "'''"
   ]
  },
  {
   "cell_type": "code",
   "execution_count": 14,
   "metadata": {},
   "outputs": [
    {
     "name": "stdout",
     "output_type": "stream",
     "text": [
      "Number of unique tokens: 4058\n",
      "Number of documents: 26229\n"
     ]
    }
   ],
   "source": [
    "# Tokenize the documents.\n",
    "from nltk.tokenize import RegexpTokenizer\n",
    "docs = df.cleaned_text.dropna()\n",
    "# Split the documents into tokens.\n",
    "tokenizer = RegexpTokenizer(r'\\w+')\n",
    "for idx in range(len(docs)):\n",
    "    docs[idx] = docs[idx].lower()  # Convert to lowercase.\n",
    "    docs[idx] = tokenizer.tokenize(docs[idx])  # Split into words.\n",
    "\n",
    "# Remove numbers, but not words that contain numbers.\n",
    "docs = [[token for token in doc if not token.isnumeric()] for doc in docs]\n",
    "\n",
    "# Remove words that are only one character.\n",
    "docs = [[token for token in doc if len(token) > 1] for doc in docs]\n",
    "\n",
    "#Remove stopwords\n",
    "stop = list(stopwords.words('english'))\n",
    "docs = [[token for token in doc if token not in stop] for doc in docs]\n",
    "\n",
    "# Lemmatize the documents.\n",
    "from nltk.stem.wordnet import WordNetLemmatizer\n",
    "\n",
    "lemmatizer = WordNetLemmatizer()\n",
    "docs = [[lemmatizer.lemmatize(token) for token in doc] for doc in docs]\n",
    "\n",
    "from gensim.models import Phrases\n",
    "\n",
    "# Add bigrams and trigrams to docs (only ones that appear 10 times or more).\n",
    "bigram = Phrases(docs, min_count=10)\n",
    "for idx in range(len(docs)):\n",
    "    for token in bigram[docs[idx]]:\n",
    "        if '_' in token:\n",
    "            # Token is a bigram, add to document.\n",
    "            docs[idx].append(token)\n",
    "\n",
    "# Remove rare and common tokens.\n",
    "from gensim.corpora import Dictionary\n",
    "\n",
    "# Create a dictionary representation of the documents.\n",
    "dictionary = Dictionary(docs)\n",
    "\n",
    "# Filter out words that occur less than 10 documents, or more than 50% of the documents.\n",
    "dictionary.filter_extremes(no_below=10, no_above=0.5)\n",
    "\n",
    "# Bag-of-words representation of the documents.\n",
    "corpus = [dictionary.doc2bow(doc) for doc in docs]\n",
    "print('Number of unique tokens: %d' % len(dictionary))\n",
    "print('Number of documents: %d' % len(corpus))\n",
    "\n",
    "# Make a index to word dictionary.\n",
    "temp = dictionary[0]  # This is only to \"load\" the dictionary.\n",
    "id2word = dictionary.id2token"
   ]
  },
  {
   "cell_type": "code",
   "execution_count": 31,
   "metadata": {},
   "outputs": [
    {
     "name": "stdout",
     "output_type": "stream",
     "text": [
      "decay: 0.50, passes 100, chunksize: 300, coherence score: 0.307\n",
      "decay: 0.50, passes 100, chunksize: 600, coherence score: 0.350\n",
      "decay: 0.50, passes 100, chunksize: 900, coherence score: 0.347\n",
      "decay: 0.50, passes 200, chunksize: 300, coherence score: 0.318\n",
      "decay: 0.50, passes 200, chunksize: 600, coherence score: 0.347\n",
      "decay: 0.50, passes 200, chunksize: 900, coherence score: 0.353\n",
      "decay: 0.50, passes 300, chunksize: 300, coherence score: 0.320\n",
      "decay: 0.50, passes 300, chunksize: 600, coherence score: 0.353\n",
      "decay: 0.50, passes 300, chunksize: 900, coherence score: 0.351\n",
      "decay: 0.70, passes 100, chunksize: 300, coherence score: 0.336\n",
      "decay: 0.70, passes 100, chunksize: 600, coherence score: 0.375\n",
      "decay: 0.70, passes 100, chunksize: 900, coherence score: 0.364\n",
      "decay: 0.70, passes 200, chunksize: 300, coherence score: 0.342\n",
      "decay: 0.70, passes 200, chunksize: 600, coherence score: 0.373\n",
      "decay: 0.70, passes 200, chunksize: 900, coherence score: 0.363\n",
      "decay: 0.70, passes 300, chunksize: 300, coherence score: 0.346\n",
      "decay: 0.70, passes 300, chunksize: 600, coherence score: 0.374\n",
      "decay: 0.70, passes 300, chunksize: 900, coherence score: 0.364\n",
      "decay: 0.90, passes 100, chunksize: 300, coherence score: 0.342\n",
      "decay: 0.90, passes 100, chunksize: 600, coherence score: 0.354\n",
      "decay: 0.90, passes 100, chunksize: 900, coherence score: 0.377\n",
      "decay: 0.90, passes 200, chunksize: 300, coherence score: 0.339\n",
      "decay: 0.90, passes 200, chunksize: 600, coherence score: 0.355\n",
      "decay: 0.90, passes 200, chunksize: 900, coherence score: 0.380\n",
      "decay: 0.90, passes 300, chunksize: 300, coherence score: 0.340\n",
      "decay: 0.90, passes 300, chunksize: 600, coherence score: 0.355\n",
      "decay: 0.90, passes 300, chunksize: 900, coherence score: 0.387\n"
     ]
    }
   ],
   "source": [
    "lis = []\n",
    "#keeping num of topics fixed, gridsearch\n",
    "decay = [0.5,0.7,0.9]\n",
    "passes = [100,200,300]\n",
    "chunksize=[300,600,900]\n",
    "\n",
    "for d in decay:\n",
    "    for p in passes:\n",
    "        for c in chunksize:\n",
    "            model = LdaModel(\n",
    "                corpus=corpus,\n",
    "                id2word=id2word,\n",
    "                chunksize=c,\n",
    "                alpha='auto',\n",
    "                eta='auto',\n",
    "                decay=d,\n",
    "                iterations=500,\n",
    "                num_topics=10,\n",
    "                passes=p,\n",
    "                eval_every=None,\n",
    "                random_state = 4222)\n",
    "            cm = CoherenceModel(model, corpus=corpus, texts = docs,dictionary=dictionary,coherence='c_v')\n",
    "            score = cm.get_coherence()\n",
    "            lis.append([d,p,c,score])\n",
    "            print(str('decay: %.2f, passes %d, chunksize: %d, coherence score: %.3f'%(d,p,c,score)))"
   ]
  },
  {
   "cell_type": "markdown",
   "metadata": {},
   "source": [
    "Best is decay: 0.90, passes 300, chunksize: 900, coherence score: 0.387"
   ]
  },
  {
   "cell_type": "code",
   "execution_count": 32,
   "metadata": {},
   "outputs": [],
   "source": [
    "temp = pd.DataFrame(lis)\n",
    "temp.columns = ['decay','passes','chunksize','coherence score']\n",
    "temp.to_csv(\"list of optimal for 10 topics2.csv\",index=False)"
   ]
  },
  {
   "cell_type": "code",
   "execution_count": 46,
   "metadata": {},
   "outputs": [
    {
     "data": {
      "text/plain": [
       "0.3871525384510754"
      ]
     },
     "execution_count": 46,
     "metadata": {},
     "output_type": "execute_result"
    }
   ],
   "source": [
    "model = LdaModel(\n",
    "    corpus=corpus,\n",
    "    id2word=id2word,\n",
    "    chunksize=900,\n",
    "    alpha='auto',\n",
    "    eta='auto',\n",
    "    decay=0.9,\n",
    "    iterations=500,\n",
    "    num_topics=10,\n",
    "    passes=300,\n",
    "    eval_every=None,\n",
    "    random_state = 4222)\n",
    "cm = CoherenceModel(model, corpus=corpus, texts = docs,dictionary=dictionary,coherence='c_v')\n",
    "score = cm.get_coherence()\n",
    "score"
   ]
  },
  {
   "cell_type": "code",
   "execution_count": 16,
   "metadata": {},
   "outputs": [],
   "source": [
    "import os\n",
    "#filepath = os.getcwd() + \"\\\\Coherence model\"\n",
    "#model.save(filepath+\"\\\\model\")"
   ]
  },
  {
   "cell_type": "code",
   "execution_count": 30,
   "metadata": {},
   "outputs": [],
   "source": [
    "#load model\n",
    "model = LdaModel.load(filepath+\"\\\\model\")"
   ]
  },
  {
   "cell_type": "code",
   "execution_count": 33,
   "metadata": {},
   "outputs": [
    {
     "data": {
      "text/html": [
       "\n",
       "<link rel=\"stylesheet\" type=\"text/css\" href=\"https://cdn.rawgit.com/bmabey/pyLDAvis/files/ldavis.v1.0.0.css\">\n",
       "\n",
       "\n",
       "<div id=\"ldavis_el932414781882519765333091826\"></div>\n",
       "<script type=\"text/javascript\">\n",
       "\n",
       "var ldavis_el932414781882519765333091826_data = {\"mdsDat\": {\"x\": [32.42095184326172, 0.648955225944519, 71.01968383789062, 3.7859814167022705, -42.666500091552734, -3.6216893196105957, -3.632401704788208, -36.58440017700195, 44.391380310058594, 40.235809326171875], \"y\": [8.115229606628418, 71.70709991455078, 9.971006393432617, 33.18513488769531, -9.22206974029541, -43.52651596069336, -4.171707630157471, 35.804412841796875, 50.61538314819336, -31.591665267944336], \"topics\": [1, 2, 3, 4, 5, 6, 7, 8, 9, 10], \"cluster\": [1, 1, 1, 1, 1, 1, 1, 1, 1, 1], \"Freq\": [24.523882648822475, 15.81852633456087, 15.4880214178925, 8.409924190839444, 6.416469153587139, 6.205676991453084, 6.04785474192642, 5.793326525222436, 5.758852071209671, 5.5374659244859625]}, \"tinfo\": {\"Term\": [\"great\", \"amp\", \"trump\", \"president\", \"thank\", \"new\", \"news\", \"make\", \"vote\", \"people\", \"get\", \"fake\", \"american\", \"job\", \"medium\", \"go\", \"big\", \"border\", \"fake_news\", \"country\", \"day\", \"today\", \"house\", \"state\", \"work\", \"republican\", \"say\", \"time\", \"year\", \"america\", \"people\", \"get\", \"go\", \"country\", \"say\", \"time\", \"year\", \"want\", \"many\", \"would\", \"never\", \"take\", \"like\", \"back\", \"much\", \"come\", \"call\", \"give\", \"unite\", \"watch\", \"way\", \"china\", \"impeachment\", \"dont\", \"unite_state\", \"show\", \"world\", \"right\", \"russia\", \"well\", \"state\", \"report\", \"see\", \"one\", \"democrat\", \"amp\", \"make\", \"even\", \"hillary\", \"good\", \"know\", \"deal\", \"election\", \"nothing\", \"bad\", \"ever\", \"dems\", \"campaign\", \"history\", \"let\", \"think\", \"really\", \"make_america\", \"fbi\", \"trade\", \"crook\", \"far\", \"fact\", \"best\", \"better\", \"hunt\", \"witch\", \"crook_hillary\", \"case\", \"others\", \"happen\", \"u\", \"democrat\", \"great\", \"trump\", \"thank\", \"american\", \"job\", \"big\", \"today\", \"work\", \"win\", \"president_trump\", \"maga\", \"keep\", \"honor\", \"family\", \"nation\", \"together\", \"congratulation\", \"th\", \"florida\", \"rally\", \"crowd\", \"forward\", \"week\", \"leader\", \"donald\", \"wonderful\", \"carolina\", \"book\", \"coronavirus\", \"head\", \"president\", \"first\", \"hard\", \"help\", \"national\", \"tonight\", \"america\", \"look\", \"vote\", \"must\", \"need\", \"love\", \"crime\", \"run\", \"senate\", \"security\", \"congress\", \"stop\", \"lose\", \"open\", \"senator\", \"stand\", \"john\", \"debate\", \"city\", \"close\", \"attack\", \"play\", \"presidential\", \"yesterday\", \"kill\", \"respect\", \"iran\", \"voter\", \"texas\", \"fund\", \"hope\", \"mike\", \"border\", \"republican\", \"day\", \"house\", \"meet\", \"live\", \"wall\", \"join\", \"north\", \"white\", \"white_house\", \"build\", \"tomorrow\", \"soon\", \"since\", \"amaze\", \"korea\", \"office\", \"pm\", \"speech\", \"home\", \"ohio\", \"conference\", \"north_korea\", \"nice\", \"promise\", \"leadership\", \"charge\", \"discus\", \"video\", \"historic\", \"free\", \"new\", \"clinton\", \"record\", \"number\", \"order\", \"court\", \"makeamericagreatagain\", \"york\", \"act\", \"justice\", \"sign\", \"new_york\", \"announce\", \"market\", \"low\", \"please\", \"press\", \"economic\", \"hillary_clinton\", \"judge\", \"set\", \"stock\", \"supreme\", \"ad\", \"comey\", \"service\", \"supreme_court\", \"receive\", \"zero\", \"jam\", \"news\", \"fake\", \"medium\", \"fake_news\", \"leave\", \"last\", \"biden\", \"joe\", \"poll\", \"night\", \"story\", \"washington\", \"radical\", \"cruz\", \"last_night\", \"joe_biden\", \"terrible\", \"radical_leave\", \"ted\", \"cnn\", \"little\", \"sleepy\", \"dishonest\", \"victory\", \"public\", \"sleepy_joe\", \"post\", \"hand\", \"correct\", \"ted_cruz\", \"tax\", \"obama\", \"party\", \"try\", \"rat\", \"administration\", \"interview\", \"cut\", \"pelosi\", \"illegal\", \"nancy\", \"enjoy\", \"immigration\", \"morning\", \"republican_party\", \"guy\", \"approval\", \"tough\", \"jordan\", \"supporter\", \"fox\", \"race\", \"tax_cut\", \"nancy_pelosi\", \"rule\", \"spy\", \"primary\", \"focus\", \"agenda\", \"schumer\", \"republican\", \"support\", \"military\", \"law\", \"total\", \"strong\", \"fight\", \"bill\", \"endorsement\", \"protect\", \"complete\", \"business\", \"general\", \"vet\", \"second\", \"full\", \"pas\", \"amendment\", \"congressman\", \"farmer\", \"small\", \"enforcement\", \"complete_total\", \"law_enforcement\", \"create\", \"minister\", \"prime\", \"veteran\", \"border_security\", \"increase\", \"obamacare\", \"life\", \"federal\", \"happy\", \"government\", \"drug\", \"proud\", \"company\", \"police\", \"care\", \"crazy\", \"send\", \"iowa\", \"im\", \"price\", \"almost\", \"system\", \"test\", \"ready\", \"level\", \"california\", \"stay\", \"whistleblower\", \"impeach\", \"covid\", \"process\", \"else\", \"rate\", \"ballot\", \"cost\", \"shoot\", \"wait\", \"safe\", \"high\"], \"Freq\": [4170.0, 3500.0, 2995.0, 2720.0, 2367.0, 1436.0, 1419.0, 1977.0, 1344.0, 2259.0, 2255.0, 1097.0, 1441.0, 1433.0, 915.0, 1771.0, 1327.0, 1075.0, 847.0, 1662.0, 830.0, 1215.0, 820.0, 1654.0, 1176.0, 1045.0, 1466.0, 1373.0, 1371.0, 1414.0, 2258.431404377655, 2255.062143798736, 1770.4471601483617, 1662.1037830643024, 1465.1181239835496, 1372.6946432241525, 1370.4753262590123, 1328.0993058722238, 1148.3121416884132, 1138.8627795303355, 1115.283634772719, 969.1857445251368, 963.1417632609897, 871.676568846408, 870.125212675232, 866.5230252850411, 807.7419453486807, 749.751877593904, 730.8830642304315, 714.1364897527587, 710.342493645743, 693.8124896102806, 626.3448146712219, 606.083741115274, 594.535614489958, 591.1187235585393, 525.6625412564227, 515.5764544258535, 504.20506745512444, 497.4054370850972, 1639.9269697819634, 680.4148059741296, 812.392454837459, 841.8341463209235, 1196.7406244196034, 3499.398920806872, 1976.6446225809136, 967.7782923674291, 916.6188467767089, 908.797187042283, 888.7184546921068, 709.377735729552, 699.9332388774492, 692.4319459949373, 643.9349301543283, 615.1837757848294, 613.6208212346852, 583.0930204447686, 545.2190060153387, 539.7837105565587, 539.3048453917219, 501.35663714493296, 495.0682837400213, 494.1982281319798, 485.6514325104499, 462.63552371981086, 459.59328414495747, 441.65049362039485, 434.95243795083087, 426.58406893549727, 387.9843324926905, 383.9529559887153, 381.7510016916333, 343.234470757629, 330.18471120184034, 510.67042783821245, 702.3597528027786, 835.1046053342454, 4169.30455883438, 2994.715237976986, 2366.8342519336934, 1440.8760601273361, 1432.6930092243801, 1326.5166923076426, 1214.7593921615498, 1176.00412640887, 913.6127890923458, 496.80262802651816, 484.4743938898791, 483.86608106487995, 478.02020438130546, 419.30328718161815, 417.624257702617, 365.3233430782673, 365.1589742748458, 347.52270859506876, 336.5706387549843, 335.3342859791754, 329.07562217697034, 324.90679030398206, 318.2482516836772, 316.38833043890884, 316.15954360284, 296.98520772485466, 294.7496580929829, 293.7313319028006, 288.9572239866047, 287.1844129470829, 2680.076524259979, 642.3071342528137, 473.39860508137696, 582.037297709308, 454.381081919836, 449.8624462608056, 1077.704695402506, 644.837371276796, 1343.5065745238926, 745.2391879790318, 678.1659440666452, 669.2891459941732, 591.4670816681925, 505.2214101963212, 481.25183774621576, 445.6147023325245, 439.85274792516, 420.85786255940894, 404.8375684983215, 359.040433680676, 355.8995702293873, 335.86781456180984, 318.0102171756924, 308.24272183174736, 269.24015299581407, 266.5434696269902, 265.49081087207185, 255.70939676026939, 249.13085732670254, 238.84429061950755, 237.3015925581761, 237.15118676819444, 229.82591582621714, 227.8365707366252, 226.35627341999782, 225.18938209081674, 201.47086681915448, 194.3902260126265, 1028.4400988464931, 458.7249871330928, 830.089554072679, 819.690113312632, 615.9494620937824, 510.04560168646736, 491.8468775443997, 427.73791489367636, 397.42442039590514, 392.7609856946364, 367.6816457615228, 343.86646439271493, 322.29424022082407, 320.95519027681934, 306.2616798926805, 255.67968541834506, 246.8643954642754, 239.18129278345984, 227.48002983138014, 219.06063393793107, 216.84002527971788, 209.44654222547382, 181.81201936722184, 180.85739202647108, 168.1936757825874, 161.71069755518147, 160.37974103144316, 160.18772785515927, 156.95387647343355, 149.0686463175679, 144.4061428054118, 139.7487707396425, 1435.9124231856988, 645.0117647173839, 462.79677433361843, 438.8388765272287, 374.0408169890896, 352.73546751761563, 337.1392957626156, 333.14363016274575, 324.0115671312197, 315.29830129977967, 304.30414665451053, 286.5915697590681, 267.23662798365757, 235.96922825876285, 228.14333881531644, 223.62222222620974, 213.11586591195234, 203.64138404964572, 200.37539439136077, 195.97131721011127, 183.11006975832723, 181.87835837374018, 173.5036023948222, 170.79904931974198, 216.28792512208472, 166.18946335504978, 166.1392981340658, 162.79968938524598, 161.26991840844903, 146.6033744976189, 1418.22801579203, 1096.7751645895078, 914.8439880361418, 846.6357353782205, 657.2854674483003, 588.915980534763, 558.787285153688, 549.217768774678, 542.0353933379188, 450.2434281467674, 436.23091268318973, 293.84386590669266, 292.6729660848976, 235.749561349837, 231.6518694948958, 221.88528280090833, 206.75368881033916, 197.46908684387645, 196.3436030181039, 183.44549749640018, 176.8250516387168, 164.7483930055973, 159.06362497715176, 154.32361984458257, 145.17894471125985, 137.97631695226113, 134.129225409254, 133.6052607643532, 103.87156503289474, 100.64233271867043, 613.1439069359782, 559.5571839044622, 471.20632452049324, 437.3173968938223, 405.4947246221289, 394.5924853301845, 383.9807181653146, 367.51786422248216, 338.0412579358747, 304.9251099550727, 281.15032948890166, 271.6510609109817, 257.2306886159657, 251.76366616663287, 214.15332155782426, 188.61302581552633, 186.54058106801472, 180.22494997006208, 174.3933079021703, 171.5787263683586, 166.88425101546426, 165.36566745766086, 164.64465689269804, 158.27997575333399, 151.99461185817788, 147.25016521035914, 144.21792635383653, 139.5681541568456, 135.76587258236648, 130.4004921225667, 586.2426603728999, 634.6447966460106, 576.1709261025279, 562.4528484565518, 559.7970758531999, 521.1689138382384, 479.64627407083157, 386.318037621706, 383.81863965193037, 332.2226923822953, 330.9906153284825, 327.5381749592127, 274.71370702952373, 273.2791466970514, 235.12578103086383, 231.74779376493538, 227.12490864569355, 226.65991016172515, 215.84262286711618, 195.1493545779882, 193.29967418401515, 188.20337970956524, 185.8361728958057, 183.33168928295493, 173.70952811100437, 161.91665088047023, 156.37717639776238, 155.35793172844745, 143.29388836478608, 141.61429250232962, 138.79229405468953, 227.50599401892214, 331.51400991187876, 302.85260954862827, 292.1525795675995, 255.2261638442458, 244.53536698890377, 237.9517551114984, 237.88874757787684, 235.4707458459481, 224.2621074266272, 222.16230656327295, 222.00876310277866, 209.06583590863204, 197.22614754538438, 185.5375917709239, 179.42546774687375, 178.71679115365475, 174.16277418762263, 172.42398853861982, 172.41095957237297, 166.34778821284345, 164.78636406893054, 160.99426805424426, 156.58187697721817, 155.5545378591404, 145.69658603912308, 144.69925457952718, 142.80059051990614, 137.1737356442177, 136.83629054793875, 135.3653168389941, 220.3518615999125, 153.2632351296908], \"Total\": [4170.0, 3500.0, 2995.0, 2720.0, 2367.0, 1436.0, 1419.0, 1977.0, 1344.0, 2259.0, 2255.0, 1097.0, 1441.0, 1433.0, 915.0, 1771.0, 1327.0, 1075.0, 847.0, 1662.0, 830.0, 1215.0, 820.0, 1654.0, 1176.0, 1045.0, 1466.0, 1373.0, 1371.0, 1414.0, 2259.3249581092496, 2255.9556962662045, 1771.3407010609862, 1662.9973200927552, 1466.0116544942246, 1373.58818259287, 1371.3688584921417, 1328.9928411804767, 1149.2056734419577, 1139.7563127392577, 1116.1771602436256, 970.0792838743974, 964.0388903848798, 872.5700987583442, 871.0187587869007, 867.4165618493812, 808.6354795697882, 750.6454203185112, 731.7765630753971, 715.03002902734, 711.236036272462, 694.7059902967671, 627.2383250604158, 606.9772708616155, 595.429102360202, 592.0122701310233, 526.5560689110513, 516.4699966073017, 505.0985702046937, 498.2989817997995, 1654.8918679550943, 682.7426562432707, 918.4774266546975, 1069.1915732565228, 2111.5383930613593, 3500.2925027918877, 1977.5381770002418, 968.671865933208, 917.5123695599519, 909.6907566064191, 889.6120133442685, 710.2712744667347, 700.8268065456175, 693.3254849741835, 644.8284782020476, 616.0773345177822, 614.5143786040851, 583.9865708288773, 546.1125526130567, 540.6772771570669, 540.1983980717154, 502.2501999658909, 495.9618016475992, 495.0917393165727, 486.5449903263417, 463.5290176420732, 460.48686218983573, 442.54404659910443, 435.84598040899994, 427.4776254061446, 388.87781019177925, 384.8464328736787, 382.64448588786075, 344.1280198402686, 331.07828902387394, 513.1036746559722, 733.2839492926422, 2111.5383930613593, 4170.200344191764, 2995.61101476429, 2367.7300030112956, 1441.771840380992, 1433.5888088700171, 1327.412506861045, 1215.6551779835634, 1176.899922593325, 914.508585193253, 497.69835491987857, 485.3701571435566, 484.7618777573272, 478.9159369860689, 420.1990716175669, 418.520050826171, 366.2191313363824, 366.05472163441317, 348.41851091834695, 337.4664228233156, 336.23003181529106, 329.9713744707616, 325.80252428347063, 319.1440651861654, 317.28413440085353, 317.0552701058388, 297.88097732181507, 295.64537728698855, 294.62709655327507, 289.85299322806037, 288.08020451229504, 2720.024714782994, 646.0838699260327, 487.17612394704094, 609.4414326707429, 490.8935629145544, 485.7222546944982, 1414.453975072178, 976.4576534358689, 1344.399725495121, 746.1323500193955, 679.0591073369042, 670.1823148556963, 592.3602419007657, 506.1145806671658, 482.14499263495327, 446.5078523362873, 440.7459149337454, 421.75102476320956, 405.7307618548684, 359.9335822044155, 356.79272453014903, 336.7609714547189, 318.9033786529597, 309.1358700129687, 270.1333257057017, 267.4366576449496, 266.3839595527869, 256.6025616665288, 250.02402982872428, 239.73749399275553, 238.1947470529613, 238.044354034079, 230.719080332489, 228.7297352504214, 227.249443878541, 226.082575172483, 202.36404433534614, 195.28335707240836, 1075.17931661727, 1045.7617747717825, 830.9856744062812, 820.5862144329476, 616.8455683974007, 510.94169757952994, 492.74300965218055, 428.6339810317484, 398.3205057791688, 393.6570239509141, 368.5776778014216, 344.7625673634988, 323.1903261201316, 321.85131379225396, 307.15782158363044, 256.57579992467447, 247.76041774554216, 240.07741699497353, 228.37607645517133, 219.95673964419328, 217.73616317656607, 210.34265994757092, 182.7080871459814, 181.75341230685507, 169.08979897389565, 162.60677998975916, 161.2758815061758, 161.08388778030172, 157.84998014628462, 149.96475842003247, 145.30226522848028, 140.64492114870637, 1436.807103533681, 645.9064465398627, 463.6914364628488, 439.7335726339908, 374.93551688869826, 353.63011326198244, 338.0339419925813, 334.0382337246753, 324.9062672018835, 316.1929785309246, 305.1988335500488, 287.48617178132326, 268.13130692248717, 236.86385702849932, 229.03803472285355, 224.51693863553737, 214.01055606640907, 204.53607571134805, 201.2700268754075, 196.8659815588036, 184.00475228225767, 182.7729690572043, 174.3981942493088, 171.69373428811144, 217.4271314561368, 167.08416106573918, 167.0338877888908, 163.69437440407842, 162.16466336038823, 147.49800251309293, 1419.1248372178293, 1097.6719606955025, 915.7408157249503, 847.5325126670538, 658.1823406134229, 589.8128462497957, 559.6841044332124, 550.1145712002497, 542.9322568278915, 451.1402870570716, 437.1277589721153, 294.7407435231524, 293.5697828568473, 236.6463822901468, 232.5486705527317, 222.7820562804, 207.6505954683478, 198.36587693754223, 197.2403979546318, 184.34231565301914, 177.7219486094411, 165.6451740266482, 159.9604578301056, 155.220549723625, 146.0758369134299, 138.87309242932824, 135.0260497155718, 134.5021725919988, 104.76841962539487, 101.53912063421791, 614.0390725748543, 560.4523421569489, 472.10145531209514, 438.21259955379406, 406.38989511693563, 395.48766627154487, 384.8758463094212, 368.41301531310705, 338.93638876031804, 305.8203015452488, 282.0454563488041, 272.54618038512797, 258.1258677321239, 252.65882695460863, 215.04840939933985, 189.50820948224626, 187.43569098640788, 181.1201786586907, 175.28846338429813, 172.47391504827456, 167.7794041638303, 166.26084654771657, 165.53976342740714, 159.17507043510201, 152.88979205800092, 148.14529614891876, 145.11310306911147, 140.4633624403395, 136.66108403812356, 131.29566970656873, 1045.7617747717825, 635.5405481042429, 577.0666616355032, 563.3485970876688, 560.6928063736116, 522.0646473686146, 480.5420241135265, 387.21379997238586, 384.7143061687326, 333.1184431451376, 331.8862950908167, 328.43393089471397, 275.6094727141223, 274.1748240071359, 236.0214863703895, 232.6435447381808, 228.0206681468338, 227.55558347518408, 216.73832319308625, 196.04508611688848, 194.19539962469867, 189.09905004809227, 186.7317996238128, 184.22735875162914, 174.6053089368787, 162.8123299006287, 157.27284825719158, 156.2536450573073, 144.18969379363944, 142.51010671257816, 139.68804348594657, 229.9635273983528, 332.407375699752, 303.74597730006866, 293.0459549593742, 256.1195362927492, 245.42876170281775, 238.84514613692713, 238.78213455331763, 236.36414502099584, 225.15550666791484, 223.05570211035158, 222.9021645727648, 209.95921847836811, 198.1194849447952, 186.43102429560335, 180.31887103586325, 179.61015763516176, 175.05613332052653, 173.3173791977263, 173.30434011225958, 167.24119659069828, 165.6797109391226, 161.88765176076922, 157.47523678742192, 156.44792032742097, 146.59001787522052, 145.59262985444744, 143.69389756674616, 138.06713834752009, 137.72968077517191, 136.2587100151741, 225.95265095488858, 295.9798911734942], \"Category\": [\"Default\", \"Default\", \"Default\", \"Default\", \"Default\", \"Default\", \"Default\", \"Default\", \"Default\", \"Default\", \"Default\", \"Default\", \"Default\", \"Default\", \"Default\", \"Default\", \"Default\", \"Default\", \"Default\", \"Default\", \"Default\", \"Default\", \"Default\", \"Default\", \"Default\", \"Default\", \"Default\", \"Default\", \"Default\", \"Default\", \"Topic1\", \"Topic1\", \"Topic1\", \"Topic1\", \"Topic1\", \"Topic1\", \"Topic1\", \"Topic1\", \"Topic1\", \"Topic1\", \"Topic1\", \"Topic1\", \"Topic1\", \"Topic1\", \"Topic1\", \"Topic1\", \"Topic1\", \"Topic1\", \"Topic1\", \"Topic1\", \"Topic1\", \"Topic1\", \"Topic1\", \"Topic1\", \"Topic1\", \"Topic1\", \"Topic1\", \"Topic1\", \"Topic1\", \"Topic1\", \"Topic1\", \"Topic1\", \"Topic1\", \"Topic1\", \"Topic1\", \"Topic2\", \"Topic2\", \"Topic2\", \"Topic2\", \"Topic2\", \"Topic2\", \"Topic2\", \"Topic2\", \"Topic2\", \"Topic2\", \"Topic2\", \"Topic2\", \"Topic2\", \"Topic2\", \"Topic2\", \"Topic2\", \"Topic2\", \"Topic2\", \"Topic2\", \"Topic2\", \"Topic2\", \"Topic2\", \"Topic2\", \"Topic2\", \"Topic2\", \"Topic2\", \"Topic2\", \"Topic2\", \"Topic2\", \"Topic2\", \"Topic2\", \"Topic2\", \"Topic2\", \"Topic3\", \"Topic3\", \"Topic3\", \"Topic3\", \"Topic3\", \"Topic3\", \"Topic3\", \"Topic3\", \"Topic3\", \"Topic3\", \"Topic3\", \"Topic3\", \"Topic3\", \"Topic3\", \"Topic3\", \"Topic3\", \"Topic3\", \"Topic3\", \"Topic3\", \"Topic3\", \"Topic3\", \"Topic3\", \"Topic3\", \"Topic3\", \"Topic3\", \"Topic3\", \"Topic3\", \"Topic3\", \"Topic3\", \"Topic3\", \"Topic3\", \"Topic3\", \"Topic3\", \"Topic3\", \"Topic3\", \"Topic3\", \"Topic3\", \"Topic3\", \"Topic4\", \"Topic4\", \"Topic4\", \"Topic4\", \"Topic4\", \"Topic4\", \"Topic4\", \"Topic4\", \"Topic4\", \"Topic4\", \"Topic4\", \"Topic4\", \"Topic4\", \"Topic4\", \"Topic4\", \"Topic4\", \"Topic4\", \"Topic4\", \"Topic4\", \"Topic4\", \"Topic4\", \"Topic4\", \"Topic4\", \"Topic4\", \"Topic4\", \"Topic4\", \"Topic4\", \"Topic4\", \"Topic4\", \"Topic4\", \"Topic4\", \"Topic4\", \"Topic5\", \"Topic5\", \"Topic5\", \"Topic5\", \"Topic5\", \"Topic5\", \"Topic5\", \"Topic5\", \"Topic5\", \"Topic5\", \"Topic5\", \"Topic5\", \"Topic5\", \"Topic5\", \"Topic5\", \"Topic5\", \"Topic5\", \"Topic5\", \"Topic5\", \"Topic5\", \"Topic5\", \"Topic5\", \"Topic5\", \"Topic5\", \"Topic5\", \"Topic5\", \"Topic5\", \"Topic5\", \"Topic5\", \"Topic5\", \"Topic6\", \"Topic6\", \"Topic6\", \"Topic6\", \"Topic6\", \"Topic6\", \"Topic6\", \"Topic6\", \"Topic6\", \"Topic6\", \"Topic6\", \"Topic6\", \"Topic6\", \"Topic6\", \"Topic6\", \"Topic6\", \"Topic6\", \"Topic6\", \"Topic6\", \"Topic6\", \"Topic6\", \"Topic6\", \"Topic6\", \"Topic6\", \"Topic6\", \"Topic6\", \"Topic6\", \"Topic6\", \"Topic6\", \"Topic6\", \"Topic7\", \"Topic7\", \"Topic7\", \"Topic7\", \"Topic7\", \"Topic7\", \"Topic7\", \"Topic7\", \"Topic7\", \"Topic7\", \"Topic7\", \"Topic7\", \"Topic7\", \"Topic7\", \"Topic7\", \"Topic7\", \"Topic7\", \"Topic7\", \"Topic7\", \"Topic7\", \"Topic7\", \"Topic7\", \"Topic7\", \"Topic7\", \"Topic7\", \"Topic7\", \"Topic7\", \"Topic7\", \"Topic7\", \"Topic7\", \"Topic8\", \"Topic8\", \"Topic8\", \"Topic8\", \"Topic8\", \"Topic8\", \"Topic8\", \"Topic8\", \"Topic8\", \"Topic8\", \"Topic8\", \"Topic8\", \"Topic8\", \"Topic8\", \"Topic8\", \"Topic8\", \"Topic8\", \"Topic8\", \"Topic8\", \"Topic8\", \"Topic8\", \"Topic8\", \"Topic8\", \"Topic8\", \"Topic8\", \"Topic8\", \"Topic8\", \"Topic8\", \"Topic8\", \"Topic8\", \"Topic8\", \"Topic9\", \"Topic9\", \"Topic9\", \"Topic9\", \"Topic9\", \"Topic9\", \"Topic9\", \"Topic9\", \"Topic9\", \"Topic9\", \"Topic9\", \"Topic9\", \"Topic9\", \"Topic9\", \"Topic9\", \"Topic9\", \"Topic9\", \"Topic9\", \"Topic9\", \"Topic9\", \"Topic9\", \"Topic9\", \"Topic9\", \"Topic9\", \"Topic9\", \"Topic9\", \"Topic9\", \"Topic9\", \"Topic9\", \"Topic9\", \"Topic9\", \"Topic10\", \"Topic10\", \"Topic10\", \"Topic10\", \"Topic10\", \"Topic10\", \"Topic10\", \"Topic10\", \"Topic10\", \"Topic10\", \"Topic10\", \"Topic10\", \"Topic10\", \"Topic10\", \"Topic10\", \"Topic10\", \"Topic10\", \"Topic10\", \"Topic10\", \"Topic10\", \"Topic10\", \"Topic10\", \"Topic10\", \"Topic10\", \"Topic10\", \"Topic10\", \"Topic10\", \"Topic10\", \"Topic10\", \"Topic10\", \"Topic10\", \"Topic10\"], \"logprob\": [30.0, 29.0, 28.0, 27.0, 26.0, 25.0, 24.0, 23.0, 22.0, 21.0, 20.0, 19.0, 18.0, 17.0, 16.0, 15.0, 14.0, 13.0, 12.0, 11.0, 10.0, 9.0, 8.0, 7.0, 6.0, 5.0, 4.0, 3.0, 2.0, 1.0, -3.5836000442504883, -3.585099935531616, -3.8269999027252197, -3.890199899673462, -4.016300201416016, -4.081500053405762, -4.083099842071533, -4.114500045776367, -4.260000228881836, -4.268199920654297, -4.289100170135498, -4.429500102996826, -4.435800075531006, -4.535600185394287, -4.537399768829346, -4.541500091552734, -4.611800193786621, -4.686299800872803, -4.711699962615967, -4.734899997711182, -4.740300178527832, -4.763800144195557, -4.866099834442139, -4.89900016784668, -4.9182000160217285, -4.923999786376953, -5.041299819946289, -5.060699939727783, -5.083000183105469, -5.09660005569458, -3.903599977493286, -4.783299922943115, -4.605999946594238, -4.570400238037109, -4.218599796295166, -2.707200050354004, -3.27839994430542, -3.992500066757202, -4.046800136566162, -4.0553998947143555, -4.0777997970581055, -4.303100109100342, -4.316500186920166, -4.327300071716309, -4.399899959564209, -4.4456000328063965, -4.448200225830078, -4.499199867248535, -4.566299915313721, -4.576399803161621, -4.577300071716309, -4.650199890136719, -4.662799835205078, -4.664599895477295, -4.682000160217285, -4.730599880218506, -4.737199783325195, -4.7769999504089355, -4.792300224304199, -4.811699867248535, -4.906599998474121, -4.916999816894531, -4.922800064086914, -5.029099941253662, -5.06790018081665, -4.631800174713135, -4.3130998611450195, -4.139999866485596, -2.5109000205993652, -2.8417999744415283, -3.0771000385284424, -3.5734000205993652, -3.5790998935699463, -3.656100034713745, -3.7441000938415527, -3.7764999866485596, -4.0289998054504395, -4.638199806213379, -4.663400173187256, -4.664599895477295, -4.676799774169922, -4.807799816131592, -4.811800003051758, -4.9456000328063965, -4.946100234985352, -4.99560022354126, -5.027599811553955, -5.031300067901611, -5.050099849700928, -5.062900066375732, -5.083600044250488, -5.089399814605713, -5.090199947357178, -5.152699947357178, -5.160299777984619, -5.16379976272583, -5.180099964141846, -5.186299800872803, -2.9528000354766846, -4.381400108337402, -4.686500072479248, -4.479899883270264, -4.727499961853027, -4.737500190734863, -3.863800048828125, -4.377399921417236, -3.0327000617980957, -3.6221001148223877, -3.716399908065796, -3.7295000553131104, -3.8531999588012695, -4.010799884796143, -4.0594000816345215, -4.136300086975098, -4.1493000984191895, -4.19350004196167, -4.2322998046875, -4.35230016708374, -4.361100196838379, -4.419000148773193, -4.473700046539307, -4.504899978637695, -4.640200138092041, -4.650199890136719, -4.654200077056885, -4.691699981689453, -4.717800140380859, -4.760000228881836, -4.76639986038208, -4.767099857330322, -4.798399925231934, -4.80709981918335, -4.813700199127197, -4.81879997253418, -4.930099964141846, -4.96589994430542, -3.299999952316284, -4.1072998046875, -3.2437000274658203, -3.2562999725341797, -3.542099952697754, -3.7307000160217285, -3.7671000957489014, -3.9066998958587646, -3.9802000522613525, -3.992000102996826, -4.058000087738037, -4.125, -4.189799785614014, -4.193900108337402, -4.240799903869629, -4.421299934387207, -4.456399917602539, -4.48799991607666, -4.5381999015808105, -4.575900077819824, -4.586100101470947, -4.620800018310547, -4.762199878692627, -4.767499923706055, -4.840099811553955, -4.87939977645874, -4.887700080871582, -4.888899803161621, -4.909299850463867, -4.9608001708984375, -4.992599964141846, -5.025400161743164, -2.6623001098632812, -3.4625000953674316, -3.7945001125335693, -3.8477001190185547, -4.007500171661377, -4.066100120544434, -4.111299991607666, -4.123199939727783, -4.151000022888184, -4.178299903869629, -4.213799953460693, -4.273799896240234, -4.343699932098389, -4.468100070953369, -4.501800060272217, -4.521900177001953, -4.570000171661377, -4.615499973297119, -4.6315999031066895, -4.653800010681152, -4.721700191497803, -4.728499889373779, -4.775599956512451, -4.791299819946289, -4.555200099945068, -4.818699836730957, -4.818999767303467, -4.839300155639648, -4.848700046539307, -4.9440999031066895, -2.648900032043457, -2.905900001525879, -3.0873000621795654, -3.164799928665161, -3.4179000854492188, -3.5278000831604004, -3.5803000926971436, -3.597599983215332, -3.6106998920440674, -3.796299934387207, -3.827899932861328, -4.2230000495910645, -4.2270002365112305, -4.443299770355225, -4.4608001708984375, -4.503900051116943, -4.57450008392334, -4.620500087738037, -4.626200199127197, -4.6940999031066895, -4.730899810791016, -4.801599979400635, -4.8368000984191895, -4.867000102996826, -4.928100109100342, -4.979000091552734, -5.007299900054932, -5.011199951171875, -5.262899875640869, -5.29449987411499, -3.444499969482422, -3.535900115966797, -3.7077999114990234, -3.782399892807007, -3.8580000400543213, -3.885200023651123, -3.9124999046325684, -3.9563000202178955, -4.039899826049805, -4.14300012588501, -4.2241997718811035, -4.258500099182129, -4.3130998611450195, -4.33459997177124, -4.496399879455566, -4.6234002113342285, -4.634399890899658, -4.668900012969971, -4.701700210571289, -4.7179999351501465, -4.745800018310547, -4.754899978637695, -4.759300231933594, -4.798699855804443, -4.839200019836426, -4.8709001541137695, -4.89169979095459, -4.924499988555908, -4.952099800109863, -4.992400169372559, -3.489300012588501, -3.4040000438690186, -3.500699996948242, -3.5248000621795654, -3.5295000076293945, -3.6010000705718994, -3.684000015258789, -3.900399923324585, -3.906899929046631, -4.051300048828125, -4.054999828338623, -4.065499782562256, -4.241399765014648, -4.246600151062012, -4.396999835968018, -4.411399841308594, -4.431600093841553, -4.433599948883057, -4.482500076293945, -4.5833001136779785, -4.592800140380859, -4.61959981918335, -4.632199764251709, -4.6458001136779785, -4.699699878692627, -4.769999980926514, -4.804800033569336, -4.811399936676025, -4.892199993133545, -4.9039998054504395, -4.924099922180176, -4.429900169372559, -4.014200210571289, -4.104599952697754, -4.140600204467773, -4.275700092315674, -4.31850004196167, -4.345799922943115, -4.346099853515625, -4.356299877166748, -4.405099868774414, -4.4145002365112305, -4.415200233459473, -4.475200176239014, -4.5335001945495605, -4.594600200653076, -4.6280999183654785, -4.6321001052856445, -4.657899856567383, -4.667900085449219, -4.668000221252441, -4.703800201416016, -4.713200092315674, -4.736499786376953, -4.7642998695373535, -4.770899772644043, -4.836400032043457, -4.843200206756592, -4.856400012969971, -4.896599769592285, -4.899099826812744, -4.909900188446045, -4.422699928283691, -4.785699844360352], \"loglift\": [30.0, 29.0, 28.0, 27.0, 26.0, 25.0, 24.0, 23.0, 22.0, 21.0, 20.0, 19.0, 18.0, 17.0, 16.0, 15.0, 14.0, 13.0, 12.0, 11.0, 10.0, 9.0, 8.0, 7.0, 6.0, 5.0, 4.0, 3.0, 2.0, 1.0, 1.4051, 1.4051, 1.405, 1.405, 1.4049, 1.4049, 1.4049, 1.4049, 1.4047, 1.4047, 1.4047, 1.4046, 1.4046, 1.4045, 1.4045, 1.4045, 1.4044, 1.4043, 1.4043, 1.4043, 1.4043, 1.4042, 1.4041, 1.404, 1.404, 1.404, 1.4038, 1.4038, 1.4038, 1.4037, 1.3964, 1.4021, 1.2828, 1.1664, 0.8377, 1.8437, 1.8435, 1.8431, 1.843, 1.843, 1.843, 1.8427, 1.8427, 1.8427, 1.8426, 1.8425, 1.8425, 1.8425, 1.8424, 1.8423, 1.8423, 1.8422, 1.8422, 1.8422, 1.8422, 1.8421, 1.842, 1.842, 1.8419, 1.8419, 1.8417, 1.8417, 1.8417, 1.8414, 1.8413, 1.8392, 1.8009, 0.9164, 1.8649, 1.8648, 1.8647, 1.8645, 1.8645, 1.8644, 1.8644, 1.8643, 1.8641, 1.8633, 1.8633, 1.8633, 1.8632, 1.863, 1.863, 1.8627, 1.8627, 1.8625, 1.8624, 1.8624, 1.8624, 1.8624, 1.8623, 1.8623, 1.8623, 1.8621, 1.8621, 1.8621, 1.862, 1.862, 1.8503, 1.8592, 1.8364, 1.8191, 1.7878, 1.7884, 1.5932, 1.4502, 2.4751, 2.4746, 2.4744, 2.4744, 2.4742, 2.474, 2.4739, 2.4738, 2.4737, 2.4736, 2.4736, 2.4733, 2.4733, 2.4731, 2.473, 2.4729, 2.4724, 2.4724, 2.4724, 2.4723, 2.4722, 2.472, 2.472, 2.472, 2.4719, 2.4718, 2.4718, 2.4718, 2.4713, 2.4712, 2.4313, 1.6517, 2.7452, 2.7452, 2.7448, 2.7445, 2.7445, 2.7442, 2.744, 2.744, 2.7439, 2.7437, 2.7435, 2.7435, 2.7434, 2.7428, 2.7427, 2.7426, 2.7424, 2.7422, 2.7422, 2.742, 2.7414, 2.7414, 2.741, 2.7408, 2.7407, 2.7407, 2.7406, 2.7403, 2.7401, 2.7399, 2.7791, 2.7783, 2.7778, 2.7777, 2.7773, 2.7772, 2.7771, 2.777, 2.7769, 2.7769, 2.7768, 2.7766, 2.7764, 2.7759, 2.7758, 2.7757, 2.7755, 2.7753, 2.7753, 2.7752, 2.7748, 2.7748, 2.7746, 2.7745, 2.7745, 2.7743, 2.7743, 2.7742, 2.7742, 2.7736, 2.8048, 2.8046, 2.8045, 2.8044, 2.8041, 2.8039, 2.8039, 2.8038, 2.8038, 2.8035, 2.8034, 2.8024, 2.8024, 2.8017, 2.8016, 2.8014, 2.8011, 2.8009, 2.8009, 2.8006, 2.8004, 2.8, 2.7998, 2.7997, 2.7993, 2.799, 2.7988, 2.7988, 2.7969, 2.7966, 2.847, 2.8469, 2.8466, 2.8464, 2.8463, 2.8462, 2.8461, 2.846, 2.8458, 2.8455, 2.8453, 2.8452, 2.845, 2.8449, 2.8443, 2.8437, 2.8437, 2.8435, 2.8433, 2.8433, 2.8431, 2.8431, 2.843, 2.8428, 2.8426, 2.8424, 2.8423, 2.8421, 2.8419, 2.8416, 2.2697, 2.853, 2.8529, 2.8528, 2.8528, 2.8527, 2.8526, 2.8521, 2.8521, 2.8517, 2.8517, 2.8517, 2.8512, 2.8512, 2.8506, 2.8506, 2.8505, 2.8505, 2.8503, 2.8499, 2.8498, 2.8497, 2.8496, 2.8496, 2.8493, 2.8489, 2.8487, 2.8487, 2.8482, 2.8481, 2.848, 2.8437, 2.8909, 2.8907, 2.8906, 2.8901, 2.89, 2.8899, 2.8899, 2.8898, 2.8897, 2.8896, 2.8896, 2.8894, 2.8891, 2.8888, 2.8887, 2.8886, 2.8885, 2.8885, 2.8885, 2.8883, 2.8882, 2.8881, 2.8879, 2.8879, 2.8875, 2.8875, 2.8874, 2.8871, 2.8871, 2.8871, 2.8685, 2.2355]}, \"token.table\": {\"Topic\": [6, 6, 8, 8, 10, 5, 9, 2, 3, 3, 2, 6, 8, 4, 1, 2, 10, 2, 2, 7, 3, 9, 3, 4, 9, 9, 5, 9, 10, 1, 2, 10, 3, 2, 5, 1, 4, 6, 4, 7, 1, 6, 10, 9, 9, 5, 3, 4, 9, 3, 7, 10, 1, 6, 10, 10, 9, 4, 2, 2, 3, 7, 8, 5, 2, 4, 1, 2, 4, 2, 5, 7, 3, 1, 10, 6, 2, 10, 9, 9, 8, 2, 2, 2, 7, 7, 3, 2, 9, 2, 10, 9, 2, 3, 3, 8, 3, 8, 5, 9, 4, 9, 1, 1, 1, 2, 10, 3, 8, 7, 1, 2, 10, 3, 9, 3, 3, 9, 10, 6, 10, 2, 6, 5, 2, 5, 3, 4, 5, 2, 8, 10, 8, 10, 1, 9, 8, 10, 4, 6, 3, 7, 7, 4, 5, 8, 6, 6, 3, 4, 2, 5, 7, 7, 9, 9, 3, 5, 7, 2, 10, 1, 9, 1, 7, 5, 2, 3, 4, 4, 6, 3, 2, 2, 6, 1, 6, 7, 5, 4, 9, 9, 8, 1, 4, 8, 8, 3, 3, 4, 4, 1, 6, 6, 7, 5, 7, 5, 5, 2, 6, 8, 9, 5, 5, 1, 2, 4, 6, 2, 8, 9, 8, 1, 4, 6, 5, 10, 7, 7, 1, 3, 3, 4, 6, 10, 8, 9, 10, 5, 9, 10, 7, 8, 7, 7, 3, 8, 10, 10, 2, 6, 6, 1, 7, 4, 8, 8, 4, 1, 8, 4, 1, 2, 10, 1, 8, 9, 4, 1, 3, 4, 4, 10, 6, 6, 10, 1, 6, 5, 7, 7, 9, 5, 5, 8, 4, 1, 3, 10, 6, 4, 7, 9, 9, 8, 6, 6, 10, 1, 8, 8, 7, 7, 7, 10, 4, 3, 3, 2, 1, 3, 3, 5, 3, 8, 9, 8, 2, 3, 8, 2, 5, 1, 1, 9, 9, 7, 5, 4, 4, 10, 5, 1, 7, 1, 1, 3, 1, 10, 5, 5, 3, 2, 3, 3, 1, 1, 1, 4, 6, 6], \"Freq\": [0.9972106810690715, 0.9959594664826422, 0.9987669241973022, 0.9951626021205924, 0.9976880227031316, 0.9977558291746785, 0.99755847135588, 0.23754749601015068, 0.7621315496992335, 0.9994646584436078, 0.9996307443475491, 0.9957807727285862, 0.9976755174848772, 0.9948046438114729, 0.9993466441731668, 0.9987151960093984, 0.9951710018414398, 0.9980589922885005, 0.9988826891098901, 0.9987776954396352, 0.9996892398866872, 0.99686529774385, 0.9978715584526636, 0.9561195831354852, 0.04278356111306646, 0.9917491065946634, 0.9977881375889198, 0.9986787878660044, 0.9924737019776038, 0.9992141334558727, 0.9983106275415253, 0.9942286296389216, 0.9978170560523865, 0.9967220924329492, 0.993271283706661, 0.9989837567163261, 0.9958045690855026, 0.9985966287459762, 0.9983672483465998, 0.9927183530907481, 0.9995197672402137, 0.9934362770341534, 0.9964615310354994, 0.9973295218756346, 0.9960810123113092, 0.996124489303992, 0.9971186776946793, 0.9983076078337391, 0.9965934811056534, 0.997057152253076, 0.9926655415043732, 0.9922708737191752, 0.9994002876127909, 0.9982181572260063, 0.9969821490850435, 0.9948679617699997, 0.996533273011203, 0.9977036914287142, 0.9988587173144753, 0.9983157058009987, 0.9970561856393768, 0.9972685731178672, 0.9988789339791483, 0.9988138490991612, 0.9982101564396094, 0.9963256609046337, 0.5668852642857043, 0.39544627876237515, 0.037413480266140886, 0.9991629510683647, 0.9946152660551688, 0.9939956546565669, 0.9966716525308457, 0.998389938291712, 0.9956288524141729, 0.9973790652358825, 0.9988202412666078, 0.995975047388815, 0.9981432815019379, 0.9941879663181135, 0.9979960079265974, 0.9993064050306026, 0.9982512998654212, 0.9987706385312708, 0.999387831046466, 0.9993716905734058, 0.9971464201171338, 0.9989427229530057, 0.9946691542359528, 0.9977948747073022, 0.9987744685300848, 0.9988720567893591, 0.004643360002693547, 0.993679040576419, 0.9986178689440762, 0.9967011864710535, 0.9975367769625616, 0.9953545897500671, 0.995414543636279, 0.9972337735014094, 0.995211593942359, 0.99778863655113, 0.9995763674491541, 0.9991401795028105, 0.9992431150821617, 0.9992406687641898, 0.9964307476637265, 0.9997121615047977, 0.9973182719438133, 0.9962664350893268, 0.003897847742643761, 0.9959000982454809, 0.9975440751291605, 0.9709014394379845, 0.026684394741424523, 0.996250334124402, 0.9549728141217987, 0.03117608843352951, 0.013126774077275583, 0.479762322490902, 0.5169270094444226, 0.9994415665914154, 0.9936899353812195, 0.9910375435205189, 0.9979627778051735, 0.9966190128188808, 0.9980874785837508, 0.9932594530820618, 0.9992856150607493, 0.9977427094866989, 0.9973177008161198, 0.9954314057495554, 0.995638299477632, 0.9945168655477136, 0.9980257503233774, 0.9964205576408207, 0.9977243406729217, 0.9959526432841334, 0.9968833079108467, 0.9966236660523676, 0.9995892763208153, 0.9979739289620745, 0.9964895903491631, 0.9971672339854926, 0.9985209268051441, 0.9926494684280885, 0.9956011620090648, 0.9962270555896992, 0.9984283463855451, 0.9949841586863557, 0.9993120446497032, 0.9969308344227804, 0.9986218573315857, 0.9976406205572899, 0.9976061055363576, 0.993337804113645, 0.9959527304972925, 0.9920888263374524, 0.9982036275656971, 0.998747354132158, 0.9923990357814989, 0.008697031318951345, 0.9914615703604533, 0.9989223563538344, 0.9959377633708729, 0.9981569373100864, 0.3389803939119201, 0.6605509186501162, 0.9981988995571163, 0.9982358310127135, 0.995467850027138, 0.9971770882008485, 0.9997278550641898, 0.9980607344267158, 0.9969413071761771, 0.9989508636531991, 0.9963529386064359, 0.9991910203059325, 0.9986292056866072, 0.9934282312038885, 0.9981515798669081, 0.9950106364725295, 0.9973924245491451, 0.9988303824956428, 0.9984823737781024, 0.9962933054751599, 0.9926177482950692, 0.9987574052303005, 0.9248440686500178, 0.07333565302070626, 0.9984403311501738, 0.9989453643332312, 0.9994382659080012, 0.9983088863776965, 0.9992073726085758, 0.9935549099915607, 0.9974724335427677, 0.9966848159710339, 0.9958547556423145, 0.998088221184841, 0.9983317793326612, 0.9991928980879836, 0.9950744282132079, 0.995512210150961, 0.9936167967643578, 0.7875108830454517, 0.21230994115358376, 0.9974062375655594, 0.9975048592449672, 0.9967430995639941, 0.9976669097294627, 0.9955237910881984, 0.9972372728589487, 0.9994135601855351, 0.9976517706502406, 0.9976975517362789, 0.9939745157350515, 0.9967244846236895, 0.9982829223790493, 0.9924010980271353, 0.01433810501354634, 0.9852851650334408, 0.9985968309660357, 0.9959042743634451, 0.9952780083142465, 0.9943494455121002, 0.992329410331875, 0.991906751411343, 0.9971369365186603, 0.9962684213425949, 0.9966425060870908, 0.998253009550132, 0.9926350795849455, 0.9924164553838314, 0.998059122940711, 0.993114355358748, 0.996341695568804, 0.9965798974491339, 0.9959295339672076, 0.9939668876463028, 0.9975108024526903, 0.9957581046593308, 0.9985088435789903, 0.9959828843002692, 0.0029293614244125564, 0.43891449379106245, 0.5603570661471953, 0.9951247749180373, 0.9956127754496984, 0.9990899827475185, 0.9941801735353046, 0.9977977700905266, 0.997825037983678, 0.02212852993257534, 0.973655317033315, 0.9993099273862365, 0.9901316645898193, 0.9956720619546201, 0.9988626127544453, 0.8840718088821057, 0.11431963045889298, 0.9976252109791791, 0.9977781931198486, 0.9952670920296434, 0.9935112876120399, 0.9945395308012676, 0.9947020804007886, 0.998290119678095, 0.996071958938689, 0.9962305319862571, 0.9961050840723896, 0.9937130194621931, 0.993844346328446, 0.9973549469715589, 0.9956503281247898, 0.9922691021673244, 0.9977403217141473, 0.9910013045302496, 0.008459767233794813, 0.9925784040296246, 0.9957708786961688, 0.9982192698556424, 0.997420070107725, 0.9979606982124134, 0.9991494671648327, 0.9972522508801293, 0.9977167524524964, 0.9938103111735176, 0.9926858956675647, 0.9988874271491637, 0.9983078070740723, 0.9967393729685748, 0.9937112378219948, 0.9946905130667811, 0.9968668740540791, 0.9966028779040372, 0.9945018836692564, 0.998798826970347, 0.9996916865477199, 0.9977815593752348, 0.9995717911668694, 0.9994610494855538, 0.9966710331818721, 0.9963169500324427, 0.9264553881374733, 0.07205764129958125, 0.9987643744208304, 0.9938152741070249, 0.998879876810619, 0.9997960300048042, 0.9972328510065005, 0.95733719615325, 0.040911845989455124, 0.9989387975584604, 0.9992793392890923, 0.9957150551244438, 0.9919768588000138, 0.9921366743913855, 0.9935667657508552, 0.9997026736263475, 0.9968096179116263, 0.9907623518890357, 0.998492094991454, 0.9992529371493116, 0.9974867963136077, 0.9985594604624631, 0.9982621292940386, 0.996415207704088, 0.9973931678625798, 0.9958974400952911, 0.9983309736371019, 0.9984326837022051, 0.9994438705098153, 0.9978005957665808, 0.9970425190297959, 0.9992353448444945, 0.9989439511879499, 0.999336425926486, 0.9990018305551674, 0.9969237436311159, 0.9968918715887743, 0.9928180200528648], \"Term\": [\"act\", \"ad\", \"administration\", \"agenda\", \"almost\", \"amaze\", \"amendment\", \"america\", \"america\", \"american\", \"amp\", \"announce\", \"approval\", \"attack\", \"back\", \"bad\", \"ballot\", \"best\", \"better\", \"biden\", \"big\", \"bill\", \"book\", \"border\", \"border\", \"border_security\", \"build\", \"business\", \"california\", \"call\", \"campaign\", \"care\", \"carolina\", \"case\", \"charge\", \"china\", \"city\", \"clinton\", \"close\", \"cnn\", \"come\", \"comey\", \"company\", \"complete\", \"complete_total\", \"conference\", \"congratulation\", \"congress\", \"congressman\", \"coronavirus\", \"correct\", \"cost\", \"country\", \"court\", \"covid\", \"crazy\", \"create\", \"crime\", \"crook\", \"crook_hillary\", \"crowd\", \"cruz\", \"cut\", \"day\", \"deal\", \"debate\", \"democrat\", \"democrat\", \"democrat\", \"dems\", \"discus\", \"dishonest\", \"donald\", \"dont\", \"drug\", \"economic\", \"election\", \"else\", \"endorsement\", \"enforcement\", \"enjoy\", \"even\", \"ever\", \"fact\", \"fake\", \"fake_news\", \"family\", \"far\", \"farmer\", \"fbi\", \"federal\", \"fight\", \"first\", \"first\", \"florida\", \"focus\", \"forward\", \"fox\", \"free\", \"full\", \"fund\", \"general\", \"get\", \"give\", \"go\", \"good\", \"government\", \"great\", \"guy\", \"hand\", \"happen\", \"happen\", \"happy\", \"hard\", \"hard\", \"head\", \"help\", \"help\", \"help\", \"high\", \"high\", \"hillary\", \"hillary_clinton\", \"historic\", \"history\", \"home\", \"honor\", \"hope\", \"house\", \"hunt\", \"illegal\", \"im\", \"immigration\", \"impeach\", \"impeachment\", \"increase\", \"interview\", \"iowa\", \"iran\", \"jam\", \"job\", \"joe\", \"joe_biden\", \"john\", \"join\", \"jordan\", \"judge\", \"justice\", \"keep\", \"kill\", \"know\", \"korea\", \"last\", \"last_night\", \"law\", \"law_enforcement\", \"leader\", \"leadership\", \"leave\", \"let\", \"level\", \"life\", \"life\", \"like\", \"little\", \"live\", \"look\", \"look\", \"lose\", \"love\", \"low\", \"maga\", \"make\", \"make_america\", \"makeamericagreatagain\", \"many\", \"market\", \"medium\", \"meet\", \"mike\", \"military\", \"minister\", \"morning\", \"much\", \"must\", \"nancy\", \"nancy_pelosi\", \"nation\", \"national\", \"national\", \"need\", \"never\", \"new\", \"new_york\", \"news\", \"nice\", \"night\", \"north\", \"north_korea\", \"nothing\", \"number\", \"obama\", \"obamacare\", \"office\", \"ohio\", \"one\", \"one\", \"open\", \"order\", \"others\", \"party\", \"pas\", \"pelosi\", \"people\", \"play\", \"please\", \"pm\", \"police\", \"poll\", \"post\", \"president\", \"president\", \"president_trump\", \"presidential\", \"press\", \"price\", \"primary\", \"prime\", \"process\", \"promise\", \"protect\", \"proud\", \"public\", \"race\", \"radical\", \"radical_leave\", \"rally\", \"rat\", \"rate\", \"ready\", \"really\", \"receive\", \"record\", \"report\", \"report\", \"republican\", \"republican\", \"republican_party\", \"respect\", \"right\", \"rule\", \"run\", \"russia\", \"safe\", \"safe\", \"say\", \"schumer\", \"second\", \"security\", \"see\", \"see\", \"senate\", \"senator\", \"send\", \"service\", \"set\", \"shoot\", \"show\", \"sign\", \"since\", \"sleepy\", \"sleepy_joe\", \"small\", \"soon\", \"speech\", \"spy\", \"stand\", \"state\", \"state\", \"stay\", \"stock\", \"stop\", \"story\", \"strong\", \"support\", \"supporter\", \"supreme\", \"supreme_court\", \"system\", \"take\", \"tax\", \"tax_cut\", \"ted\", \"ted_cruz\", \"terrible\", \"test\", \"texas\", \"th\", \"thank\", \"think\", \"time\", \"today\", \"together\", \"tomorrow\", \"tonight\", \"tonight\", \"total\", \"tough\", \"trade\", \"trump\", \"try\", \"u\", \"u\", \"unite\", \"unite_state\", \"vet\", \"veteran\", \"victory\", \"video\", \"vote\", \"voter\", \"wait\", \"wall\", \"want\", \"washington\", \"watch\", \"way\", \"week\", \"well\", \"whistleblower\", \"white\", \"white_house\", \"win\", \"witch\", \"wonderful\", \"work\", \"world\", \"would\", \"year\", \"yesterday\", \"york\", \"zero\"]}, \"R\": 30, \"lambda.step\": 0.01, \"plot.opts\": {\"xlab\": \"PC1\", \"ylab\": \"PC2\"}, \"topic.order\": [6, 7, 2, 3, 9, 5, 1, 4, 8, 10]};\n",
       "\n",
       "function LDAvis_load_lib(url, callback){\n",
       "  var s = document.createElement('script');\n",
       "  s.src = url;\n",
       "  s.async = true;\n",
       "  s.onreadystatechange = s.onload = callback;\n",
       "  s.onerror = function(){console.warn(\"failed to load library \" + url);};\n",
       "  document.getElementsByTagName(\"head\")[0].appendChild(s);\n",
       "}\n",
       "\n",
       "if(typeof(LDAvis) !== \"undefined\"){\n",
       "   // already loaded: just create the visualization\n",
       "   !function(LDAvis){\n",
       "       new LDAvis(\"#\" + \"ldavis_el932414781882519765333091826\", ldavis_el932414781882519765333091826_data);\n",
       "   }(LDAvis);\n",
       "}else if(typeof define === \"function\" && define.amd){\n",
       "   // require.js is available: use it to load d3/LDAvis\n",
       "   require.config({paths: {d3: \"https://cdnjs.cloudflare.com/ajax/libs/d3/3.5.5/d3.min\"}});\n",
       "   require([\"d3\"], function(d3){\n",
       "      window.d3 = d3;\n",
       "      LDAvis_load_lib(\"https://cdn.rawgit.com/bmabey/pyLDAvis/files/ldavis.v1.0.0.js\", function(){\n",
       "        new LDAvis(\"#\" + \"ldavis_el932414781882519765333091826\", ldavis_el932414781882519765333091826_data);\n",
       "      });\n",
       "    });\n",
       "}else{\n",
       "    // require.js not available: dynamically load d3 & LDAvis\n",
       "    LDAvis_load_lib(\"https://cdnjs.cloudflare.com/ajax/libs/d3/3.5.5/d3.min.js\", function(){\n",
       "         LDAvis_load_lib(\"https://cdn.rawgit.com/bmabey/pyLDAvis/files/ldavis.v1.0.0.js\", function(){\n",
       "                 new LDAvis(\"#\" + \"ldavis_el932414781882519765333091826\", ldavis_el932414781882519765333091826_data);\n",
       "            })\n",
       "         });\n",
       "}\n",
       "</script>"
      ],
      "text/plain": [
       "PreparedData(topic_coordinates=               x          y  topics  cluster       Freq\n",
       "topic                                                  \n",
       "5      32.420952   8.115230       1        1  24.523883\n",
       "6       0.648955  71.707100       2        1  15.818526\n",
       "1      71.019684   9.971006       3        1  15.488021\n",
       "2       3.785981  33.185135       4        1   8.409924\n",
       "8     -42.666500  -9.222070       5        1   6.416469\n",
       "4      -3.621689 -43.526516       6        1   6.205677\n",
       "0      -3.632402  -4.171708       7        1   6.047855\n",
       "3     -36.584400  35.804413       8        1   5.793327\n",
       "7      44.391380  50.615383       9        1   5.758852\n",
       "9      40.235809 -31.591665      10        1   5.537466, topic_info=           Term         Freq        Total Category  logprob  loglift\n",
       "118       great  4170.000000  4170.000000  Default  30.0000  30.0000\n",
       "42          amp  3500.000000  3500.000000  Default  29.0000  29.0000\n",
       "19        trump  2995.000000  2995.000000  Default  28.0000  28.0000\n",
       "26    president  2720.000000  2720.000000  Default  27.0000  27.0000\n",
       "134       thank  2367.000000  2367.000000  Default  26.0000  26.0000\n",
       "...         ...          ...          ...      ...      ...      ...\n",
       "867        cost   137.173736   138.067138  Topic10  -4.8966   2.8871\n",
       "847       shoot   136.836291   137.729681  Topic10  -4.8991   2.8871\n",
       "1026       wait   135.365317   136.258710  Topic10  -4.9099   2.8871\n",
       "1213       safe   220.351862   225.952651  Topic10  -4.4227   2.8685\n",
       "1067       high   153.263235   295.979891  Topic10  -4.7857   2.2355\n",
       "\n",
       "[352 rows x 6 columns], token_table=      Topic      Freq            Term\n",
       "term                                 \n",
       "1691      6  0.997211             act\n",
       "1477      6  0.995959              ad\n",
       "73        8  0.998767  administration\n",
       "972       8  0.995163          agenda\n",
       "1804     10  0.997688          almost\n",
       "...     ...       ...             ...\n",
       "10        1  0.999336           would\n",
       "54        1  0.999002            year\n",
       "660       4  0.996924       yesterday\n",
       "198       6  0.996892            york\n",
       "2177      6  0.992818            zero\n",
       "\n",
       "[342 rows x 3 columns], R=30, lambda_step=0.01, plot_opts={'xlab': 'PC1', 'ylab': 'PC2'}, topic_order=[6, 7, 2, 3, 9, 5, 1, 4, 8, 10])"
      ]
     },
     "execution_count": 33,
     "metadata": {},
     "output_type": "execute_result"
    }
   ],
   "source": [
    "import pyLDAvis.gensim\n",
    "pyLDAvis.enable_notebook()\n",
    "pyLDAvis.gensim.prepare(model, corpus, dictionary, mds='tsne')"
   ]
  }
 ],
 "metadata": {
  "kernelspec": {
   "display_name": "Python 3",
   "language": "python",
   "name": "python3"
  },
  "language_info": {
   "codemirror_mode": {
    "name": "ipython",
    "version": 3
   },
   "file_extension": ".py",
   "mimetype": "text/x-python",
   "name": "python",
   "nbconvert_exporter": "python",
   "pygments_lexer": "ipython3",
   "version": "3.7.4"
  }
 },
 "nbformat": 4,
 "nbformat_minor": 2
}
