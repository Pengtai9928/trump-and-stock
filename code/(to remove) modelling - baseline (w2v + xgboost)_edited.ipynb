{
 "cells": [
  {
   "cell_type": "code",
   "execution_count": 187,
   "metadata": {},
   "outputs": [],
   "source": [
    "import pandas as pd\n",
    "import numpy as np\n",
    "import multiprocessing\n",
    "from time import time\n",
    "import matplotlib.pyplot as plt\n",
    "import seaborn as sns\n",
    "%matplotlib inline"
   ]
  },
  {
   "cell_type": "code",
   "execution_count": 188,
   "metadata": {},
   "outputs": [],
   "source": [
    "df = pd.read_csv('../data/tweets&sentiment&absoluteprices&topics.csv')"
   ]
  },
  {
   "cell_type": "code",
   "execution_count": 189,
   "metadata": {},
   "outputs": [
    {
     "data": {
      "text/plain": [
       "(26231, 30)"
      ]
     },
     "execution_count": 189,
     "metadata": {},
     "output_type": "execute_result"
    }
   ],
   "source": [
    "df.shape"
   ]
  },
  {
   "cell_type": "markdown",
   "metadata": {},
   "source": [
    "## Feature preprocessing"
   ]
  },
  {
   "cell_type": "markdown",
   "metadata": {},
   "source": [
    "### Drop features"
   ]
  },
  {
   "cell_type": "markdown",
   "metadata": {},
   "source": [
    "In this step, features not useful for modelling are discarded. Such features are:\n",
    "* source\n",
    "* text\n",
    "* created_at\n",
    "* id_str\n",
    "* hashtag\n",
    "* mention\n",
    "* neg_sentiment\n",
    "* neu_sentiment\n",
    "* pos_sentiment\n",
    "* created_date\n",
    "* created_time\n",
    "* passed_closing\n",
    "* market_date"
   ]
  },
  {
   "cell_type": "code",
   "execution_count": 190,
   "metadata": {},
   "outputs": [],
   "source": [
    "# drop review_no, product_id and review_date\n",
    "df = df.drop(columns=['source', 'text', 'created_at', 'id_str', 'hashtag', 'mention', \n",
    "                      'neg_sentiment', 'neu_sentiment', 'pos_sentiment', 'created_date',\n",
    "                      'created_time', 'passed_closing'\n",
    "                     ], errors='ignore')"
   ]
  },
  {
   "cell_type": "code",
   "execution_count": 191,
   "metadata": {
    "scrolled": true
   },
   "outputs": [
    {
     "data": {
      "text/plain": [
       "Index(['Unnamed: 0', 'cleaned_text', 'retweet_count', 'favorite_count',\n",
       "       'is_retweet', 'hashtag_count', 'mention_count', 'word_count',\n",
       "       'char_count', 'word_density', 'punctuation_freq', 'upper_case_freq',\n",
       "       'compound_sentiment', 'market_date', '^GSPC', '^IXIC', 'VGT', 'topic'],\n",
       "      dtype='object')"
      ]
     },
     "execution_count": 191,
     "metadata": {},
     "output_type": "execute_result"
    }
   ],
   "source": [
    "df.columns"
   ]
  },
  {
   "cell_type": "markdown",
   "metadata": {},
   "source": [
    "### Type casting"
   ]
  },
  {
   "cell_type": "code",
   "execution_count": 192,
   "metadata": {},
   "outputs": [
    {
     "data": {
      "text/plain": [
       "Unnamed: 0              int64\n",
       "cleaned_text           object\n",
       "retweet_count           int64\n",
       "favorite_count          int64\n",
       "is_retweet               bool\n",
       "hashtag_count           int64\n",
       "mention_count           int64\n",
       "word_count              int64\n",
       "char_count              int64\n",
       "word_density          float64\n",
       "punctuation_freq      float64\n",
       "upper_case_freq       float64\n",
       "compound_sentiment    float64\n",
       "market_date            object\n",
       "^GSPC                 float64\n",
       "^IXIC                 float64\n",
       "VGT                   float64\n",
       "topic                   int64\n",
       "dtype: object"
      ]
     },
     "execution_count": 192,
     "metadata": {},
     "output_type": "execute_result"
    }
   ],
   "source": [
    "df.dtypes"
   ]
  },
  {
   "cell_type": "code",
   "execution_count": 193,
   "metadata": {},
   "outputs": [],
   "source": [
    "# change is_tweet from boolean to binary\n",
    "df['is_retweet'] = df['is_retweet'].replace({True:1, False:0})"
   ]
  },
  {
   "cell_type": "markdown",
   "metadata": {},
   "source": [
    "### Drop NA values"
   ]
  },
  {
   "cell_type": "code",
   "execution_count": 194,
   "metadata": {},
   "outputs": [
    {
     "data": {
      "text/plain": [
       "Unnamed: 0            0\n",
       "cleaned_text          0\n",
       "retweet_count         0\n",
       "favorite_count        0\n",
       "is_retweet            0\n",
       "hashtag_count         0\n",
       "mention_count         0\n",
       "word_count            0\n",
       "char_count            0\n",
       "word_density          0\n",
       "punctuation_freq      0\n",
       "upper_case_freq       0\n",
       "compound_sentiment    0\n",
       "market_date           0\n",
       "^GSPC                 0\n",
       "^IXIC                 0\n",
       "VGT                   0\n",
       "topic                 0\n",
       "dtype: int64"
      ]
     },
     "execution_count": 194,
     "metadata": {},
     "output_type": "execute_result"
    }
   ],
   "source": [
    "df.isna().sum()"
   ]
  },
  {
   "cell_type": "code",
   "execution_count": 195,
   "metadata": {},
   "outputs": [],
   "source": [
    "df = df.dropna(how='any')\n",
    "df = df.reset_index().drop(columns=['index'])"
   ]
  },
  {
   "cell_type": "code",
   "execution_count": 196,
   "metadata": {},
   "outputs": [
    {
     "data": {
      "text/html": [
       "<div>\n",
       "<style scoped>\n",
       "    .dataframe tbody tr th:only-of-type {\n",
       "        vertical-align: middle;\n",
       "    }\n",
       "\n",
       "    .dataframe tbody tr th {\n",
       "        vertical-align: top;\n",
       "    }\n",
       "\n",
       "    .dataframe thead th {\n",
       "        text-align: right;\n",
       "    }\n",
       "</style>\n",
       "<table border=\"1\" class=\"dataframe\">\n",
       "  <thead>\n",
       "    <tr style=\"text-align: right;\">\n",
       "      <th></th>\n",
       "      <th>Unnamed: 0</th>\n",
       "      <th>cleaned_text</th>\n",
       "      <th>retweet_count</th>\n",
       "      <th>favorite_count</th>\n",
       "      <th>is_retweet</th>\n",
       "      <th>hashtag_count</th>\n",
       "      <th>mention_count</th>\n",
       "      <th>word_count</th>\n",
       "      <th>char_count</th>\n",
       "      <th>word_density</th>\n",
       "      <th>punctuation_freq</th>\n",
       "      <th>upper_case_freq</th>\n",
       "      <th>compound_sentiment</th>\n",
       "      <th>market_date</th>\n",
       "      <th>^GSPC</th>\n",
       "      <th>^IXIC</th>\n",
       "      <th>VGT</th>\n",
       "      <th>topic</th>\n",
       "    </tr>\n",
       "  </thead>\n",
       "  <tbody>\n",
       "    <tr>\n",
       "      <th>0</th>\n",
       "      <td>0</td>\n",
       "      <td>thank</td>\n",
       "      <td>19616</td>\n",
       "      <td>65721</td>\n",
       "      <td>0</td>\n",
       "      <td>0</td>\n",
       "      <td>1</td>\n",
       "      <td>5</td>\n",
       "      <td>28</td>\n",
       "      <td>5.600000</td>\n",
       "      <td>0.400000</td>\n",
       "      <td>0.000000</td>\n",
       "      <td>0.4199</td>\n",
       "      <td>2020-10-01</td>\n",
       "      <td>3380.800049</td>\n",
       "      <td>11326.509766</td>\n",
       "      <td>315.329987</td>\n",
       "      <td>6</td>\n",
       "    </tr>\n",
       "    <tr>\n",
       "      <th>1</th>\n",
       "      <td>1</td>\n",
       "      <td>big news maine court side rnc uphold ban ballo...</td>\n",
       "      <td>29393</td>\n",
       "      <td>0</td>\n",
       "      <td>1</td>\n",
       "      <td>0</td>\n",
       "      <td>0</td>\n",
       "      <td>24</td>\n",
       "      <td>138</td>\n",
       "      <td>5.750000</td>\n",
       "      <td>0.291667</td>\n",
       "      <td>0.166667</td>\n",
       "      <td>0.0000</td>\n",
       "      <td>2020-10-01</td>\n",
       "      <td>3380.800049</td>\n",
       "      <td>11326.509766</td>\n",
       "      <td>315.329987</td>\n",
       "      <td>2</td>\n",
       "    </tr>\n",
       "    <tr>\n",
       "      <th>2</th>\n",
       "      <td>2</td>\n",
       "      <td>thank paul</td>\n",
       "      <td>15992</td>\n",
       "      <td>63294</td>\n",
       "      <td>0</td>\n",
       "      <td>0</td>\n",
       "      <td>0</td>\n",
       "      <td>4</td>\n",
       "      <td>16</td>\n",
       "      <td>4.000000</td>\n",
       "      <td>0.250000</td>\n",
       "      <td>0.000000</td>\n",
       "      <td>0.4199</td>\n",
       "      <td>2020-10-01</td>\n",
       "      <td>3380.800049</td>\n",
       "      <td>11326.509766</td>\n",
       "      <td>315.329987</td>\n",
       "      <td>6</td>\n",
       "    </tr>\n",
       "    <tr>\n",
       "      <th>3</th>\n",
       "      <td>3</td>\n",
       "      <td>defective ballot new york want replace happen ...</td>\n",
       "      <td>51445</td>\n",
       "      <td>190750</td>\n",
       "      <td>0</td>\n",
       "      <td>0</td>\n",
       "      <td>0</td>\n",
       "      <td>42</td>\n",
       "      <td>199</td>\n",
       "      <td>4.738095</td>\n",
       "      <td>0.119048</td>\n",
       "      <td>0.857143</td>\n",
       "      <td>-0.7988</td>\n",
       "      <td>2020-10-01</td>\n",
       "      <td>3380.800049</td>\n",
       "      <td>11326.509766</td>\n",
       "      <td>315.329987</td>\n",
       "      <td>6</td>\n",
       "    </tr>\n",
       "    <tr>\n",
       "      <th>4</th>\n",
       "      <td>4</td>\n",
       "      <td>half years secure americas border rebuild awes...</td>\n",
       "      <td>18885</td>\n",
       "      <td>70838</td>\n",
       "      <td>0</td>\n",
       "      <td>1</td>\n",
       "      <td>0</td>\n",
       "      <td>43</td>\n",
       "      <td>239</td>\n",
       "      <td>5.558140</td>\n",
       "      <td>0.093023</td>\n",
       "      <td>0.116279</td>\n",
       "      <td>-0.1260</td>\n",
       "      <td>2020-10-01</td>\n",
       "      <td>3380.800049</td>\n",
       "      <td>11326.509766</td>\n",
       "      <td>315.329987</td>\n",
       "      <td>7</td>\n",
       "    </tr>\n",
       "  </tbody>\n",
       "</table>\n",
       "</div>"
      ],
      "text/plain": [
       "   Unnamed: 0                                       cleaned_text  \\\n",
       "0           0                                              thank   \n",
       "1           1  big news maine court side rnc uphold ban ballo...   \n",
       "2           2                                         thank paul   \n",
       "3           3  defective ballot new york want replace happen ...   \n",
       "4           4  half years secure americas border rebuild awes...   \n",
       "\n",
       "   retweet_count  favorite_count  is_retweet  hashtag_count  mention_count  \\\n",
       "0          19616           65721           0              0              1   \n",
       "1          29393               0           1              0              0   \n",
       "2          15992           63294           0              0              0   \n",
       "3          51445          190750           0              0              0   \n",
       "4          18885           70838           0              1              0   \n",
       "\n",
       "   word_count  char_count  word_density  punctuation_freq  upper_case_freq  \\\n",
       "0           5          28      5.600000          0.400000         0.000000   \n",
       "1          24         138      5.750000          0.291667         0.166667   \n",
       "2           4          16      4.000000          0.250000         0.000000   \n",
       "3          42         199      4.738095          0.119048         0.857143   \n",
       "4          43         239      5.558140          0.093023         0.116279   \n",
       "\n",
       "   compound_sentiment market_date        ^GSPC         ^IXIC         VGT  \\\n",
       "0              0.4199  2020-10-01  3380.800049  11326.509766  315.329987   \n",
       "1              0.0000  2020-10-01  3380.800049  11326.509766  315.329987   \n",
       "2              0.4199  2020-10-01  3380.800049  11326.509766  315.329987   \n",
       "3             -0.7988  2020-10-01  3380.800049  11326.509766  315.329987   \n",
       "4             -0.1260  2020-10-01  3380.800049  11326.509766  315.329987   \n",
       "\n",
       "   topic  \n",
       "0      6  \n",
       "1      2  \n",
       "2      6  \n",
       "3      6  \n",
       "4      7  "
      ]
     },
     "execution_count": 196,
     "metadata": {},
     "output_type": "execute_result"
    }
   ],
   "source": [
    "df.head()"
   ]
  },
  {
   "cell_type": "markdown",
   "metadata": {},
   "source": [
    "### Correlation plot\n",
    "From the correlation plot it can be seen that the meta text features have little correlation with the target variables"
   ]
  },
  {
   "cell_type": "code",
   "execution_count": 197,
   "metadata": {},
   "outputs": [],
   "source": [
    "# from string import ascii_letters"
   ]
  },
  {
   "cell_type": "code",
   "execution_count": 198,
   "metadata": {},
   "outputs": [],
   "source": [
    "# #sns.set_theme(style=\"white\")\n",
    "\n",
    "# # Generate a large random dataset\n",
    "# rs = np.random.RandomState(33)\n",
    "# d = pd.DataFrame(data=rs.normal(size=(100, 26)),\n",
    "#                  columns=list(ascii_letters[26:]))\n",
    "\n",
    "# # Compute the correlation matrix\n",
    "# corr = df.corr()\n",
    "\n",
    "# # Generate a mask for the upper triangle\n",
    "# mask = np.triu(np.ones_like(corr, dtype=bool))\n",
    "\n",
    "# # Set up the matplotlib figure\n",
    "# f, ax = plt.subplots(figsize=(11, 9))\n",
    "\n",
    "# # Generate a custom diverging colormap\n",
    "# cmap = sns.diverging_palette(230, 20, as_cmap=True)\n",
    "\n",
    "# # Draw the heatmap with the mask and correct aspect ratio\n",
    "# sns.heatmap(corr, mask=mask, cmap=cmap, vmax=.3, center=0,\n",
    "#             square=True, linewidths=.5, cbar_kws={\"shrink\": .5}, annot = True)\n",
    "\n",
    "# plt.show()"
   ]
  },
  {
   "cell_type": "markdown",
   "metadata": {},
   "source": [
    "### Normalise features\n",
    "Normalisation is essential for deep-learning/NN-related tasks. MinMax Scaler is chosen in this case to rescale the numeric inputs."
   ]
  },
  {
   "cell_type": "code",
   "execution_count": 199,
   "metadata": {},
   "outputs": [],
   "source": [
    "# from sklearn.preprocessing import MinMaxScaler"
   ]
  },
  {
   "cell_type": "code",
   "execution_count": 200,
   "metadata": {},
   "outputs": [],
   "source": [
    "# # obtain a list of numeric columns\n",
    "# numeric_cols = list(df.columns)\n",
    "\n",
    "# # remove text and output columns\n",
    "# numeric_cols.remove('^GSPC')\n",
    "# numeric_cols.remove('^IXIC')\n",
    "# numeric_cols.remove('VGT')"
   ]
  },
  {
   "cell_type": "code",
   "execution_count": 201,
   "metadata": {},
   "outputs": [],
   "source": [
    "# # scale the features\n",
    "# scaler = MinMaxScaler() \n",
    "# df[numeric_cols] = scaler.fit_transform(df[numeric_cols])"
   ]
  },
  {
   "cell_type": "markdown",
   "metadata": {},
   "source": [
    "### Word embedding\n",
    "Word2Vec is the chosen text embedding method for several reasons:\n",
    "* The mapping between the target word to its context word implicitly embeds the sub-linear relationship into the vector space of words, so that relationships like “king:man as queen:woman” can be infered by word vectors.\n",
    "* It is less computationally expensive than deep language models such as GloVe, BERT, ElMo. BERT + transfer learning with BiLSTM was initially chosen for this problem but due to the relatively large dataset and limited computational power, training was extremely slow."
   ]
  },
  {
   "cell_type": "markdown",
   "metadata": {},
   "source": [
    "#### Further process text for Word2Vec"
   ]
  },
  {
   "cell_type": "code",
   "execution_count": 202,
   "metadata": {},
   "outputs": [],
   "source": [
    "# import nltk"
   ]
  },
  {
   "cell_type": "code",
   "execution_count": 203,
   "metadata": {},
   "outputs": [],
   "source": [
    "# def process_text_w2v(paragraph):    \n",
    "#     result = list()\n",
    "#     for line in nltk.sent_tokenize(paragraph):\n",
    "#         tokenizer = nltk.RegexpTokenizer(r\"\\w+\")\n",
    "#         tokens = [token for token in tokenizer.tokenize(line)]\n",
    "#         result.append(tokens) \n",
    "#     return result"
   ]
  },
  {
   "cell_type": "code",
   "execution_count": 204,
   "metadata": {},
   "outputs": [],
   "source": [
    "# df['cleaned_text_w2v'] = df['cleaned_text'].apply(lambda x: process_text_w2v(x))"
   ]
  },
  {
   "cell_type": "code",
   "execution_count": 205,
   "metadata": {},
   "outputs": [],
   "source": [
    "# # compile all sentences together to compose the corpus for later usage.\n",
    "# sentences = [sent for x in df['cleaned_text_w2v'].values.tolist() for sent in x]"
   ]
  },
  {
   "cell_type": "markdown",
   "metadata": {
    "_uuid": "89c305fcd163488441ac2ac6133678bd973b4419"
   },
   "source": [
    "#### Set parameters for word2vec model\n",
    "`min_count` is set to 1 since we would like to obtain the embeddings of all words in our vocabulary for subsequent modelling to work. Normally, `min_count` is set to a larger value."
   ]
  },
  {
   "cell_type": "code",
   "execution_count": 206,
   "metadata": {},
   "outputs": [],
   "source": [
    "# import gensim\n",
    "# from gensim.models.phrases import Phrases, Phraser\n",
    "# from gensim.models import Word2Vec"
   ]
  },
  {
   "cell_type": "code",
   "execution_count": 207,
   "metadata": {
    "_uuid": "ad619db82c219d6cb81fad516563feb0c4d474cd"
   },
   "outputs": [],
   "source": [
    "# w2v_model = Word2Vec(min_count=1, \n",
    "#                      window=3,\n",
    "#                      size=64,\n",
    "#                      sample=6e-5, \n",
    "#                      alpha=0.03, \n",
    "#                      min_alpha=0.0007, \n",
    "#                      negative=20,\n",
    "#                      workers=multiprocessing.cpu_count())"
   ]
  },
  {
   "cell_type": "markdown",
   "metadata": {
    "_uuid": "d7e9f1bd338f9e15647b5209ffd8fbb131cd7ee5"
   },
   "source": [
    "#### Building the Vocabulary Table\n",
    "Digest all the words and filter out the unique words, and doing some basic counts on them."
   ]
  },
  {
   "cell_type": "code",
   "execution_count": 208,
   "metadata": {
    "_uuid": "66358ad743e05e17dfbed3899af9c41056143daa"
   },
   "outputs": [],
   "source": [
    "# t = time()\n",
    "# w2v_model.build_vocab(sentences, progress_per=10000)\n",
    "# print('Time to build vocab: {} mins'.format(round((time() - t) / 60, 2)))"
   ]
  },
  {
   "cell_type": "markdown",
   "metadata": {
    "_uuid": "63260d82061abb47db7f2f8b23e07ec629adf5a9"
   },
   "source": [
    "### Train Word2Vec"
   ]
  },
  {
   "cell_type": "code",
   "execution_count": 209,
   "metadata": {
    "scrolled": true
   },
   "outputs": [],
   "source": [
    "# start_time = time()\n",
    "# w2v_model.train(sentences, total_examples=w2v_model.corpus_count, epochs=30, report_delay=1)\n",
    "# print('Time to train the model: {} mins'.format(round((time() - start_time) / 60, 2)))"
   ]
  },
  {
   "cell_type": "code",
   "execution_count": 210,
   "metadata": {},
   "outputs": [],
   "source": [
    "# w2v_model.save('../model/word2vec/word2vec.model')"
   ]
  },
  {
   "cell_type": "code",
   "execution_count": 211,
   "metadata": {
    "_uuid": "34dd51c7f2f39d016b982ef81e4df576f6b31bcb"
   },
   "outputs": [],
   "source": [
    "# w2v_model.init_sims(replace=True)"
   ]
  },
  {
   "cell_type": "markdown",
   "metadata": {},
   "source": [
    "#### Generate Word2Vec vectors\n",
    "generate and write the word embedding vectors to directory"
   ]
  },
  {
   "cell_type": "code",
   "execution_count": 212,
   "metadata": {},
   "outputs": [],
   "source": [
    "# # load the model from the model file\n",
    "# w2v_model = Word2Vec.load('../model/word2vec.model')"
   ]
  },
  {
   "cell_type": "code",
   "execution_count": 213,
   "metadata": {},
   "outputs": [],
   "source": [
    "# Store the vectors in a csv file\n",
    "# with open('../model/word2vec/word2vec.csv', 'w+') as word2vec_file:\n",
    "    \n",
    "#     for index, row in df.iterrows():\n",
    "#         model_vector = (np.mean([w2v_model[token] for token in row['cleaned_text_w2v'][0]], axis=0)).tolist()\n",
    "        \n",
    "#         if index == 0:\n",
    "#             header = \",\".join(str(ele) for ele in range(64))\n",
    "#             word2vec_file.write(header)\n",
    "#             word2vec_file.write(\"\\n\")\n",
    "        \n",
    "#         # Check if the line exists else it is vector of zeros\n",
    "#         if type(model_vector) is list:  \n",
    "#             line1 = \",\".join( [str(vector_element) for vector_element in model_vector] )\n",
    "#         else:\n",
    "#             line1 = \",\".join([str(0) for i in range(64)])\n",
    "        \n",
    "#         word2vec_file.write(line1)\n",
    "#         word2vec_file.write('\\n')"
   ]
  },
  {
   "cell_type": "markdown",
   "metadata": {},
   "source": [
    "#### Concatenate the word embeddings with other features in the datasets"
   ]
  },
  {
   "cell_type": "code",
   "execution_count": 214,
   "metadata": {},
   "outputs": [],
   "source": [
    "w2v_embeddings = pd.read_csv('../model/word2vec/word2vec.csv')"
   ]
  },
  {
   "cell_type": "code",
   "execution_count": 215,
   "metadata": {},
   "outputs": [],
   "source": [
    "df = pd.concat([df, w2v_embeddings], axis=1)"
   ]
  },
  {
   "cell_type": "code",
   "execution_count": 216,
   "metadata": {
    "scrolled": false
   },
   "outputs": [
    {
     "data": {
      "text/html": [
       "<div>\n",
       "<style scoped>\n",
       "    .dataframe tbody tr th:only-of-type {\n",
       "        vertical-align: middle;\n",
       "    }\n",
       "\n",
       "    .dataframe tbody tr th {\n",
       "        vertical-align: top;\n",
       "    }\n",
       "\n",
       "    .dataframe thead th {\n",
       "        text-align: right;\n",
       "    }\n",
       "</style>\n",
       "<table border=\"1\" class=\"dataframe\">\n",
       "  <thead>\n",
       "    <tr style=\"text-align: right;\">\n",
       "      <th></th>\n",
       "      <th>Unnamed: 0</th>\n",
       "      <th>cleaned_text</th>\n",
       "      <th>retweet_count</th>\n",
       "      <th>favorite_count</th>\n",
       "      <th>is_retweet</th>\n",
       "      <th>hashtag_count</th>\n",
       "      <th>mention_count</th>\n",
       "      <th>word_count</th>\n",
       "      <th>char_count</th>\n",
       "      <th>word_density</th>\n",
       "      <th>...</th>\n",
       "      <th>54</th>\n",
       "      <th>55</th>\n",
       "      <th>56</th>\n",
       "      <th>57</th>\n",
       "      <th>58</th>\n",
       "      <th>59</th>\n",
       "      <th>60</th>\n",
       "      <th>61</th>\n",
       "      <th>62</th>\n",
       "      <th>63</th>\n",
       "    </tr>\n",
       "  </thead>\n",
       "  <tbody>\n",
       "    <tr>\n",
       "      <th>0</th>\n",
       "      <td>0</td>\n",
       "      <td>thank</td>\n",
       "      <td>19616</td>\n",
       "      <td>65721</td>\n",
       "      <td>0</td>\n",
       "      <td>0</td>\n",
       "      <td>1</td>\n",
       "      <td>5</td>\n",
       "      <td>28</td>\n",
       "      <td>5.600000</td>\n",
       "      <td>...</td>\n",
       "      <td>0.065594</td>\n",
       "      <td>0.094567</td>\n",
       "      <td>0.022625</td>\n",
       "      <td>0.031416</td>\n",
       "      <td>-0.211155</td>\n",
       "      <td>0.256162</td>\n",
       "      <td>-0.076439</td>\n",
       "      <td>0.046196</td>\n",
       "      <td>-0.178672</td>\n",
       "      <td>0.282274</td>\n",
       "    </tr>\n",
       "    <tr>\n",
       "      <th>1</th>\n",
       "      <td>1</td>\n",
       "      <td>big news maine court side rnc uphold ban ballo...</td>\n",
       "      <td>29393</td>\n",
       "      <td>0</td>\n",
       "      <td>1</td>\n",
       "      <td>0</td>\n",
       "      <td>0</td>\n",
       "      <td>24</td>\n",
       "      <td>138</td>\n",
       "      <td>5.750000</td>\n",
       "      <td>...</td>\n",
       "      <td>0.016894</td>\n",
       "      <td>0.028469</td>\n",
       "      <td>-0.032220</td>\n",
       "      <td>0.027841</td>\n",
       "      <td>-0.131000</td>\n",
       "      <td>-0.026378</td>\n",
       "      <td>-0.019021</td>\n",
       "      <td>0.125694</td>\n",
       "      <td>-0.159512</td>\n",
       "      <td>0.051435</td>\n",
       "    </tr>\n",
       "    <tr>\n",
       "      <th>2</th>\n",
       "      <td>2</td>\n",
       "      <td>thank paul</td>\n",
       "      <td>15992</td>\n",
       "      <td>63294</td>\n",
       "      <td>0</td>\n",
       "      <td>0</td>\n",
       "      <td>0</td>\n",
       "      <td>4</td>\n",
       "      <td>16</td>\n",
       "      <td>4.000000</td>\n",
       "      <td>...</td>\n",
       "      <td>-0.025543</td>\n",
       "      <td>0.134922</td>\n",
       "      <td>0.037013</td>\n",
       "      <td>-0.022119</td>\n",
       "      <td>-0.081507</td>\n",
       "      <td>0.268150</td>\n",
       "      <td>-0.066681</td>\n",
       "      <td>0.082602</td>\n",
       "      <td>-0.176282</td>\n",
       "      <td>0.178487</td>\n",
       "    </tr>\n",
       "    <tr>\n",
       "      <th>3</th>\n",
       "      <td>3</td>\n",
       "      <td>defective ballot new york want replace happen ...</td>\n",
       "      <td>51445</td>\n",
       "      <td>190750</td>\n",
       "      <td>0</td>\n",
       "      <td>0</td>\n",
       "      <td>0</td>\n",
       "      <td>42</td>\n",
       "      <td>199</td>\n",
       "      <td>4.738095</td>\n",
       "      <td>...</td>\n",
       "      <td>-0.006196</td>\n",
       "      <td>0.014436</td>\n",
       "      <td>-0.001041</td>\n",
       "      <td>-0.010833</td>\n",
       "      <td>-0.074154</td>\n",
       "      <td>0.013568</td>\n",
       "      <td>-0.091835</td>\n",
       "      <td>0.090702</td>\n",
       "      <td>-0.144243</td>\n",
       "      <td>0.002622</td>\n",
       "    </tr>\n",
       "    <tr>\n",
       "      <th>4</th>\n",
       "      <td>4</td>\n",
       "      <td>half years secure americas border rebuild awes...</td>\n",
       "      <td>18885</td>\n",
       "      <td>70838</td>\n",
       "      <td>0</td>\n",
       "      <td>1</td>\n",
       "      <td>0</td>\n",
       "      <td>43</td>\n",
       "      <td>239</td>\n",
       "      <td>5.558140</td>\n",
       "      <td>...</td>\n",
       "      <td>-0.001725</td>\n",
       "      <td>0.052266</td>\n",
       "      <td>-0.002023</td>\n",
       "      <td>0.012134</td>\n",
       "      <td>-0.030705</td>\n",
       "      <td>0.108762</td>\n",
       "      <td>-0.015056</td>\n",
       "      <td>-0.030167</td>\n",
       "      <td>-0.169160</td>\n",
       "      <td>-0.006276</td>\n",
       "    </tr>\n",
       "  </tbody>\n",
       "</table>\n",
       "<p>5 rows × 82 columns</p>\n",
       "</div>"
      ],
      "text/plain": [
       "   Unnamed: 0                                       cleaned_text  \\\n",
       "0           0                                              thank   \n",
       "1           1  big news maine court side rnc uphold ban ballo...   \n",
       "2           2                                         thank paul   \n",
       "3           3  defective ballot new york want replace happen ...   \n",
       "4           4  half years secure americas border rebuild awes...   \n",
       "\n",
       "   retweet_count  favorite_count  is_retweet  hashtag_count  mention_count  \\\n",
       "0          19616           65721           0              0              1   \n",
       "1          29393               0           1              0              0   \n",
       "2          15992           63294           0              0              0   \n",
       "3          51445          190750           0              0              0   \n",
       "4          18885           70838           0              1              0   \n",
       "\n",
       "   word_count  char_count  word_density  ...        54        55        56  \\\n",
       "0           5          28      5.600000  ...  0.065594  0.094567  0.022625   \n",
       "1          24         138      5.750000  ...  0.016894  0.028469 -0.032220   \n",
       "2           4          16      4.000000  ... -0.025543  0.134922  0.037013   \n",
       "3          42         199      4.738095  ... -0.006196  0.014436 -0.001041   \n",
       "4          43         239      5.558140  ... -0.001725  0.052266 -0.002023   \n",
       "\n",
       "         57        58        59        60        61        62        63  \n",
       "0  0.031416 -0.211155  0.256162 -0.076439  0.046196 -0.178672  0.282274  \n",
       "1  0.027841 -0.131000 -0.026378 -0.019021  0.125694 -0.159512  0.051435  \n",
       "2 -0.022119 -0.081507  0.268150 -0.066681  0.082602 -0.176282  0.178487  \n",
       "3 -0.010833 -0.074154  0.013568 -0.091835  0.090702 -0.144243  0.002622  \n",
       "4  0.012134 -0.030705  0.108762 -0.015056 -0.030167 -0.169160 -0.006276  \n",
       "\n",
       "[5 rows x 82 columns]"
      ]
     },
     "execution_count": 216,
     "metadata": {},
     "output_type": "execute_result"
    }
   ],
   "source": [
    "df.head()"
   ]
  },
  {
   "cell_type": "markdown",
   "metadata": {},
   "source": [
    "#### Drop `cleaned_text` and `cleaned_text_w2v`"
   ]
  },
  {
   "cell_type": "code",
   "execution_count": 217,
   "metadata": {},
   "outputs": [],
   "source": [
    "df = df.drop(columns=['cleaned_text', 'cleaned_text_w2v'], errors='ignore')"
   ]
  },
  {
   "cell_type": "code",
   "execution_count": 218,
   "metadata": {},
   "outputs": [
    {
     "data": {
      "text/plain": [
       "(26231, 81)"
      ]
     },
     "execution_count": 218,
     "metadata": {},
     "output_type": "execute_result"
    }
   ],
   "source": [
    "df.shape"
   ]
  },
  {
   "cell_type": "markdown",
   "metadata": {},
   "source": [
    "#### Group by day"
   ]
  },
  {
   "cell_type": "code",
   "execution_count": 219,
   "metadata": {},
   "outputs": [
    {
     "data": {
      "text/plain": [
       "Index(['Unnamed: 0', 'retweet_count', 'favorite_count', 'is_retweet',\n",
       "       'hashtag_count', 'mention_count', 'word_count', 'char_count',\n",
       "       'word_density', 'punctuation_freq', 'upper_case_freq',\n",
       "       'compound_sentiment', 'market_date', '^GSPC', '^IXIC', 'VGT', 'topic',\n",
       "       '0', '1', '2', '3', '4', '5', '6', '7', '8', '9', '10', '11', '12',\n",
       "       '13', '14', '15', '16', '17', '18', '19', '20', '21', '22', '23', '24',\n",
       "       '25', '26', '27', '28', '29', '30', '31', '32', '33', '34', '35', '36',\n",
       "       '37', '38', '39', '40', '41', '42', '43', '44', '45', '46', '47', '48',\n",
       "       '49', '50', '51', '52', '53', '54', '55', '56', '57', '58', '59', '60',\n",
       "       '61', '62', '63'],\n",
       "      dtype='object')"
      ]
     },
     "execution_count": 219,
     "metadata": {},
     "output_type": "execute_result"
    }
   ],
   "source": [
    "df.columns"
   ]
  },
  {
   "cell_type": "code",
   "execution_count": 220,
   "metadata": {},
   "outputs": [],
   "source": [
    "df = df.groupby(['market_date','topic']).mean()"
   ]
  },
  {
   "cell_type": "markdown",
   "metadata": {},
   "source": [
    "### Train test split"
   ]
  },
  {
   "cell_type": "code",
   "execution_count": 221,
   "metadata": {},
   "outputs": [],
   "source": [
    "from sklearn.model_selection import train_test_split"
   ]
  },
  {
   "cell_type": "code",
   "execution_count": 222,
   "metadata": {},
   "outputs": [],
   "source": [
    "y_GSPC = df['^GSPC']\n",
    "y_IXIC = df['^IXIC']\n",
    "y_VGT = df['VGT']\n",
    "X = df.drop(columns=['^GSPC', '^IXIC', 'VGT'], errors='ignore')"
   ]
  },
  {
   "cell_type": "code",
   "execution_count": 223,
   "metadata": {},
   "outputs": [],
   "source": [
    "# train is 75% of the entire data set\n",
    "train_ratio = 0.75"
   ]
  },
  {
   "cell_type": "markdown",
   "metadata": {},
   "source": [
    "#### GSPC"
   ]
  },
  {
   "cell_type": "code",
   "execution_count": 224,
   "metadata": {},
   "outputs": [],
   "source": [
    "X_train_GSPC, X_test_GSPC, y_train_GSPC, y_test_GSPC = train_test_split(X, y_GSPC, test_size=1 - train_ratio, random_state=1)"
   ]
  },
  {
   "cell_type": "markdown",
   "metadata": {},
   "source": [
    "#### IXIC"
   ]
  },
  {
   "cell_type": "code",
   "execution_count": 225,
   "metadata": {},
   "outputs": [],
   "source": [
    "X_train_IXIC, X_test_IXIC, y_train_IXIC, y_test_IXIC = train_test_split(X, y_IXIC, test_size=1 - train_ratio, random_state=1)"
   ]
  },
  {
   "cell_type": "markdown",
   "metadata": {},
   "source": [
    "#### VGT"
   ]
  },
  {
   "cell_type": "code",
   "execution_count": 226,
   "metadata": {},
   "outputs": [],
   "source": [
    "X_train_VGT, X_test_VGT, y_train_VGT, y_test_VGT = train_test_split(X, y_VGT, test_size=1 - train_ratio, random_state=1)"
   ]
  },
  {
   "cell_type": "markdown",
   "metadata": {},
   "source": [
    "## Modelling - XGBoost \n",
    "XGBoost is chosen to be the classification model for a few reasons:\n",
    "* XGBoost is an ensemble method which helps improve machine learning results by combining and improving on the results from multiple single models.\n",
    "* As compared to gradient boosting algorithms, XGBoost uses a more regularized model formalization to control over-fitting, which gives it better performance.\n",
    "* XGBoost is built with the engineering goal to push the limit of computation resources for boosted tree algorithms. It utilises computational power more efficiently for faster, and production-ready training and testing, which is a good choice given the limited computation resources."
   ]
  },
  {
   "cell_type": "code",
   "execution_count": 227,
   "metadata": {},
   "outputs": [],
   "source": [
    "#!pip install scikit-learn==0.23.2"
   ]
  },
  {
   "cell_type": "code",
   "execution_count": 228,
   "metadata": {},
   "outputs": [],
   "source": [
    "import xgboost\n",
    "from xgboost.sklearn import XGBClassifier\n",
    "from sklearn.metrics import mean_squared_error"
   ]
  },
  {
   "cell_type": "markdown",
   "metadata": {},
   "source": [
    "### Define baseline parameters"
   ]
  },
  {
   "cell_type": "code",
   "execution_count": 229,
   "metadata": {},
   "outputs": [],
   "source": [
    "params = {'objective':'reg:linear',\n",
    "          'learning_rate':0.05,\n",
    "          'n_estimators':200,\n",
    "          'max_depth':10,\n",
    "          'min_child_weight':5,\n",
    "          'gamma':0.1,\n",
    "          'subsample':0.7,\n",
    "          'colsample_bytree':0.7,\n",
    "          'n_jobs':4,\n",
    "          'random_state':1,\n",
    "          'seed':1\n",
    "         }"
   ]
  },
  {
   "cell_type": "markdown",
   "metadata": {},
   "source": [
    "### Define error metrics"
   ]
  },
  {
   "cell_type": "markdown",
   "metadata": {},
   "source": [
    "Write a custom function to calculate MAPE, mean average percentage error. MAPE expresses expresses accuracy as a percentage of the error. Because the MAPE is a percentage, it can be easier to understand than the other accuracy measure statistics e.g. RMSE. Refer to the picture below for a guide on the interpretation of MAPE values"
   ]
  },
  {
   "cell_type": "markdown",
   "metadata": {},
   "source": [
    "<img src=\"https://www.researchgate.net/profile/Albert_Sese/publication/257812432/figure/tbl1/AS:601657310203931@1520457689632/nterpretation-of-typical-MAPE-values.png\" width=300 align=\"left\"/>"
   ]
  },
  {
   "cell_type": "code",
   "execution_count": 230,
   "metadata": {},
   "outputs": [],
   "source": [
    "# define custom functions to calculate MAPE\n",
    "\n",
    "def percentage_error(actual, predicted):\n",
    "    res = np.empty(actual.shape)\n",
    "    for j in range(actual.shape[0]):\n",
    "        if actual[j] != 0:\n",
    "            res[j] = (actual[j] - predicted[j]) / actual[j]\n",
    "        else:\n",
    "            res[j] = predicted[j] / np.mean(actual)\n",
    "    return res\n",
    "\n",
    "def mean_absolute_percentage_error(y_true, y_pred): \n",
    "    return np.mean(np.abs(percentage_error(np.asarray(y_true), np.asarray(y_pred)))) * 100"
   ]
  },
  {
   "cell_type": "markdown",
   "metadata": {},
   "source": [
    "### GSPC"
   ]
  },
  {
   "cell_type": "code",
   "execution_count": 231,
   "metadata": {},
   "outputs": [],
   "source": [
    "# initialise an xgboost object\n",
    "xgb_GSPC = xgboost.XGBModel(**params)"
   ]
  },
  {
   "cell_type": "code",
   "execution_count": 232,
   "metadata": {},
   "outputs": [
    {
     "name": "stdout",
     "output_type": "stream",
     "text": [
      "[18:13:23] WARNING: /Users/travis/build/dmlc/xgboost/src/objective/regression_obj.cu:174: reg:linear is now deprecated in favor of reg:squarederror.\n",
      "[0]\tvalidation_0-rmse:2594.75708\tvalidation_1-rmse:2581.96289\n",
      "[50]\tvalidation_0-rmse:213.04425\tvalidation_1-rmse:215.23517\n",
      "[100]\tvalidation_0-rmse:27.83068\tvalidation_1-rmse:48.93320\n",
      "[150]\tvalidation_0-rmse:9.40329\tvalidation_1-rmse:40.78949\n",
      "[199]\tvalidation_0-rmse:4.87121\tvalidation_1-rmse:39.57674\n",
      "[18:13:25] WARNING: /Users/travis/build/dmlc/xgboost/src/objective/regression_obj.cu:174: reg:linear is now deprecated in favor of reg:squarederror.\n"
     ]
    },
    {
     "data": {
      "text/plain": [
       "XGBModel(base_score=0.5, booster='gbtree', colsample_bylevel=1,\n",
       "     colsample_bynode=1, colsample_bytree=0.7, gamma=0.1, gpu_id=-1,\n",
       "     importance_type='gain', interaction_constraints='',\n",
       "     learning_rate=0.05, max_delta_step=0, max_depth=10,\n",
       "     min_child_weight=5, missing=nan, monotone_constraints='()',\n",
       "     n_estimators=200, n_jobs=4, num_parallel_tree=1,\n",
       "     objective='reg:linear', random_state=1, reg_alpha=0, reg_lambda=1,\n",
       "     scale_pos_weight=1, seed=1, subsample=0.7, tree_method='exact',\n",
       "     validate_parameters=1, verbosity=None)"
      ]
     },
     "execution_count": 232,
     "metadata": {},
     "output_type": "execute_result"
    }
   ],
   "source": [
    "xgb_GSPC.fit(X_train_GSPC, y_train_GSPC,\n",
    "             eval_set=[(X_train_GSPC, y_train_GSPC), (X_test_GSPC, y_test_GSPC)],\n",
    "             eval_metric='rmse',\n",
    "             verbose=50)"
   ]
  },
  {
   "cell_type": "code",
   "execution_count": 233,
   "metadata": {},
   "outputs": [
    {
     "data": {
      "text/plain": [
       "{'validation_0': {'rmse': [2594.75708,\n",
       "   2465.719482,\n",
       "   2344.078613,\n",
       "   2227.643555,\n",
       "   2116.9021,\n",
       "   2011.650879,\n",
       "   1911.685913,\n",
       "   1816.683838,\n",
       "   1726.516968,\n",
       "   1640.758057,\n",
       "   1560.633545,\n",
       "   1484.27002,\n",
       "   1410.541016,\n",
       "   1340.535522,\n",
       "   1274.005249,\n",
       "   1212.083618,\n",
       "   1152.065063,\n",
       "   1094.96521,\n",
       "   1041.656494,\n",
       "   991.345154,\n",
       "   942.297485,\n",
       "   895.640625,\n",
       "   852.534668,\n",
       "   810.357178,\n",
       "   770.253906,\n",
       "   733.156677,\n",
       "   696.991455,\n",
       "   662.573303,\n",
       "   629.801514,\n",
       "   599.609131,\n",
       "   570.088623,\n",
       "   542.05011,\n",
       "   515.423035,\n",
       "   490.14502,\n",
       "   466.921265,\n",
       "   443.912903,\n",
       "   423.042084,\n",
       "   403.26825,\n",
       "   383.53183,\n",
       "   364.788452,\n",
       "   347.917206,\n",
       "   330.960815,\n",
       "   315.65448,\n",
       "   300.279114,\n",
       "   285.721741,\n",
       "   272.591461,\n",
       "   259.407654,\n",
       "   246.8591,\n",
       "   235.000015,\n",
       "   223.704941,\n",
       "   213.04425,\n",
       "   203.52034,\n",
       "   194.448196,\n",
       "   185.171555,\n",
       "   176.413605,\n",
       "   168.15303,\n",
       "   160.732254,\n",
       "   153.277924,\n",
       "   146.687088,\n",
       "   139.846802,\n",
       "   133.373337,\n",
       "   127.256035,\n",
       "   121.839684,\n",
       "   116.310982,\n",
       "   110.999954,\n",
       "   105.986488,\n",
       "   101.345963,\n",
       "   96.837135,\n",
       "   92.531204,\n",
       "   88.781578,\n",
       "   84.892937,\n",
       "   81.250717,\n",
       "   78.073174,\n",
       "   74.663528,\n",
       "   71.488182,\n",
       "   68.807068,\n",
       "   66.20343,\n",
       "   63.357445,\n",
       "   60.720715,\n",
       "   58.219582,\n",
       "   55.801399,\n",
       "   53.508102,\n",
       "   51.350742,\n",
       "   49.571655,\n",
       "   47.902325,\n",
       "   46.024094,\n",
       "   44.221695,\n",
       "   42.578278,\n",
       "   41.185978,\n",
       "   39.648975,\n",
       "   38.164841,\n",
       "   36.944172,\n",
       "   35.897995,\n",
       "   34.658485,\n",
       "   33.480488,\n",
       "   32.32061,\n",
       "   31.200594,\n",
       "   30.15213,\n",
       "   29.309597,\n",
       "   28.535181,\n",
       "   27.830677,\n",
       "   26.928162,\n",
       "   26.319351,\n",
       "   25.459965,\n",
       "   24.680082,\n",
       "   24.048021,\n",
       "   23.322201,\n",
       "   22.879377,\n",
       "   22.400984,\n",
       "   21.778654,\n",
       "   21.14967,\n",
       "   20.582384,\n",
       "   20.031738,\n",
       "   19.632845,\n",
       "   19.297155,\n",
       "   18.76688,\n",
       "   18.437099,\n",
       "   18.127541,\n",
       "   17.738218,\n",
       "   17.313623,\n",
       "   16.849052,\n",
       "   16.396126,\n",
       "   15.993526,\n",
       "   15.606792,\n",
       "   15.361444,\n",
       "   15.098068,\n",
       "   14.76567,\n",
       "   14.397135,\n",
       "   14.040571,\n",
       "   13.837173,\n",
       "   13.562122,\n",
       "   13.256543,\n",
       "   12.98939,\n",
       "   12.699214,\n",
       "   12.428885,\n",
       "   12.159327,\n",
       "   11.965188,\n",
       "   11.743072,\n",
       "   11.493174,\n",
       "   11.325913,\n",
       "   11.199892,\n",
       "   10.970658,\n",
       "   10.759705,\n",
       "   10.581993,\n",
       "   10.423242,\n",
       "   10.206418,\n",
       "   10.038339,\n",
       "   9.843781,\n",
       "   9.68333,\n",
       "   9.508213,\n",
       "   9.403295,\n",
       "   9.256766,\n",
       "   9.098408,\n",
       "   8.928698,\n",
       "   8.786958,\n",
       "   8.71331,\n",
       "   8.55368,\n",
       "   8.37883,\n",
       "   8.257671,\n",
       "   8.119137,\n",
       "   8.00734,\n",
       "   7.873819,\n",
       "   7.767332,\n",
       "   7.662595,\n",
       "   7.551754,\n",
       "   7.456223,\n",
       "   7.371766,\n",
       "   7.27719,\n",
       "   7.165113,\n",
       "   7.058316,\n",
       "   6.93059,\n",
       "   6.835343,\n",
       "   6.751297,\n",
       "   6.656852,\n",
       "   6.572284,\n",
       "   6.486843,\n",
       "   6.391886,\n",
       "   6.33196,\n",
       "   6.23543,\n",
       "   6.177968,\n",
       "   6.080392,\n",
       "   5.973533,\n",
       "   5.880223,\n",
       "   5.827486,\n",
       "   5.729693,\n",
       "   5.6615,\n",
       "   5.612131,\n",
       "   5.549054,\n",
       "   5.507617,\n",
       "   5.438139,\n",
       "   5.383299,\n",
       "   5.302501,\n",
       "   5.242043,\n",
       "   5.190249,\n",
       "   5.120354,\n",
       "   5.071684,\n",
       "   5.042869,\n",
       "   5.009384,\n",
       "   4.934796,\n",
       "   4.871214]},\n",
       " 'validation_1': {'rmse': [2581.962891,\n",
       "   2453.524414,\n",
       "   2332.381592,\n",
       "   2216.594482,\n",
       "   2106.345703,\n",
       "   2001.448242,\n",
       "   1902.02063,\n",
       "   1807.423828,\n",
       "   1717.956909,\n",
       "   1632.491943,\n",
       "   1552.49646,\n",
       "   1476.422363,\n",
       "   1403.396729,\n",
       "   1333.668213,\n",
       "   1267.560059,\n",
       "   1205.857422,\n",
       "   1146.12915,\n",
       "   1089.483154,\n",
       "   1036.515869,\n",
       "   986.379395,\n",
       "   937.589111,\n",
       "   891.301758,\n",
       "   848.315674,\n",
       "   806.465759,\n",
       "   766.516541,\n",
       "   729.611267,\n",
       "   693.675537,\n",
       "   659.443115,\n",
       "   626.797485,\n",
       "   596.830566,\n",
       "   567.587341,\n",
       "   539.841309,\n",
       "   513.489624,\n",
       "   488.369965,\n",
       "   465.349609,\n",
       "   442.587006,\n",
       "   421.8992,\n",
       "   402.499878,\n",
       "   382.957458,\n",
       "   364.467255,\n",
       "   347.926208,\n",
       "   331.095856,\n",
       "   316.23465,\n",
       "   301.054291,\n",
       "   286.71286,\n",
       "   273.813263,\n",
       "   260.794861,\n",
       "   248.396866,\n",
       "   236.766159,\n",
       "   225.643295,\n",
       "   215.235168,\n",
       "   206.176239,\n",
       "   197.519043,\n",
       "   188.464172,\n",
       "   179.907593,\n",
       "   171.806686,\n",
       "   164.829895,\n",
       "   157.560852,\n",
       "   151.524277,\n",
       "   144.902023,\n",
       "   138.701843,\n",
       "   132.866364,\n",
       "   127.969612,\n",
       "   122.658737,\n",
       "   117.586754,\n",
       "   112.809731,\n",
       "   108.566811,\n",
       "   104.429871,\n",
       "   100.385017,\n",
       "   97.182709,\n",
       "   93.65377,\n",
       "   90.375694,\n",
       "   87.689705,\n",
       "   84.608368,\n",
       "   81.79612,\n",
       "   79.639648,\n",
       "   77.494308,\n",
       "   75.012596,\n",
       "   72.783302,\n",
       "   70.65274,\n",
       "   68.600227,\n",
       "   66.683899,\n",
       "   64.918442,\n",
       "   63.668297,\n",
       "   62.437283,\n",
       "   60.927052,\n",
       "   59.536259,\n",
       "   58.309643,\n",
       "   57.418625,\n",
       "   56.305977,\n",
       "   55.240414,\n",
       "   54.593834,\n",
       "   53.960384,\n",
       "   53.103443,\n",
       "   52.280243,\n",
       "   51.564438,\n",
       "   50.794579,\n",
       "   50.102623,\n",
       "   49.663219,\n",
       "   49.299931,\n",
       "   48.933201,\n",
       "   48.419189,\n",
       "   48.089737,\n",
       "   47.620232,\n",
       "   47.138775,\n",
       "   46.864708,\n",
       "   46.475391,\n",
       "   46.27956,\n",
       "   46.107605,\n",
       "   45.774227,\n",
       "   45.429096,\n",
       "   45.101131,\n",
       "   44.789696,\n",
       "   44.629555,\n",
       "   44.516365,\n",
       "   44.236927,\n",
       "   44.111012,\n",
       "   44.020164,\n",
       "   43.910767,\n",
       "   43.745258,\n",
       "   43.514614,\n",
       "   43.251255,\n",
       "   43.10281,\n",
       "   42.910374,\n",
       "   42.856926,\n",
       "   42.81546,\n",
       "   42.713902,\n",
       "   42.592506,\n",
       "   42.380917,\n",
       "   42.333229,\n",
       "   42.309151,\n",
       "   42.195538,\n",
       "   42.091866,\n",
       "   41.906147,\n",
       "   41.762787,\n",
       "   41.645782,\n",
       "   41.639168,\n",
       "   41.557411,\n",
       "   41.473274,\n",
       "   41.461365,\n",
       "   41.439732,\n",
       "   41.346832,\n",
       "   41.272388,\n",
       "   41.191055,\n",
       "   41.121315,\n",
       "   41.002422,\n",
       "   40.938431,\n",
       "   40.861122,\n",
       "   40.861332,\n",
       "   40.79834,\n",
       "   40.78949,\n",
       "   40.709408,\n",
       "   40.719337,\n",
       "   40.67384,\n",
       "   40.660305,\n",
       "   40.665035,\n",
       "   40.597717,\n",
       "   40.511196,\n",
       "   40.497665,\n",
       "   40.451927,\n",
       "   40.386234,\n",
       "   40.34549,\n",
       "   40.343693,\n",
       "   40.282726,\n",
       "   40.259846,\n",
       "   40.259506,\n",
       "   40.25795,\n",
       "   40.252533,\n",
       "   40.219929,\n",
       "   40.194241,\n",
       "   40.173191,\n",
       "   40.112206,\n",
       "   40.103909,\n",
       "   40.054157,\n",
       "   40.050919,\n",
       "   40.019512,\n",
       "   39.978645,\n",
       "   39.938374,\n",
       "   39.889668,\n",
       "   39.857414,\n",
       "   39.83485,\n",
       "   39.82576,\n",
       "   39.802586,\n",
       "   39.778038,\n",
       "   39.778175,\n",
       "   39.746231,\n",
       "   39.717884,\n",
       "   39.699516,\n",
       "   39.688961,\n",
       "   39.668873,\n",
       "   39.635235,\n",
       "   39.636475,\n",
       "   39.614128,\n",
       "   39.588287,\n",
       "   39.585793,\n",
       "   39.573109,\n",
       "   39.573765,\n",
       "   39.576084,\n",
       "   39.574692,\n",
       "   39.57674]}}"
      ]
     },
     "execution_count": 233,
     "metadata": {},
     "output_type": "execute_result"
    }
   ],
   "source": [
    "evals_result_GSPC = xgb_GSPC.evals_result()\n",
    "evals_result_GSPC"
   ]
  },
  {
   "cell_type": "code",
   "execution_count": 234,
   "metadata": {},
   "outputs": [
    {
     "data": {
      "text/plain": [
       "array([5.6328297e-01, 1.5048002e-01, 7.1242161e-02, 2.3248375e-03,\n",
       "       2.7582267e-02, 4.1839378e-03, 1.4056786e-02, 2.2101250e-02,\n",
       "       7.9566555e-04, 7.4377423e-04, 1.8885819e-03, 1.3762016e-03,\n",
       "       9.7340107e-04, 2.0711117e-03, 1.2006206e-03, 1.1725465e-03,\n",
       "       7.2375499e-03, 8.1883520e-03, 8.5810648e-04, 9.9305937e-04,\n",
       "       1.1676942e-03, 3.0797576e-03, 1.7650787e-03, 1.4672289e-03,\n",
       "       1.0386930e-03, 1.7663818e-03, 2.1297678e-03, 1.4775742e-03,\n",
       "       8.6662616e-04, 1.2675005e-03, 1.1544138e-03, 5.6013727e-04,\n",
       "       1.1597485e-03, 2.4313410e-03, 1.0446296e-03, 1.8610805e-03,\n",
       "       1.0320069e-03, 6.3229952e-04, 8.5588952e-04, 9.3936117e-04,\n",
       "       1.1422548e-03, 1.2775699e-03, 1.2739068e-03, 1.2241661e-02,\n",
       "       2.8445623e-03, 1.1837129e-03, 8.4961293e-04, 6.1925566e-03,\n",
       "       2.7422274e-03, 1.0857132e-03, 1.0468216e-03, 3.3657888e-03,\n",
       "       8.8609481e-04, 1.5058150e-03, 1.2480073e-03, 1.2332756e-03,\n",
       "       1.2261642e-03, 1.8027043e-03, 2.6778406e-03, 1.2398190e-03,\n",
       "       1.8213507e-03, 1.1438903e-03, 1.0633797e-03, 1.1900245e-03,\n",
       "       1.4375142e-03, 2.6455382e-03, 1.6158122e-03, 7.4728334e-04,\n",
       "       2.2255688e-03, 1.0106767e-03, 1.7309070e-03, 2.2062078e-02,\n",
       "       1.1212748e-03, 1.1497330e-03, 8.7320834e-04, 6.4517668e-04],\n",
       "      dtype=float32)"
      ]
     },
     "execution_count": 234,
     "metadata": {},
     "output_type": "execute_result"
    }
   ],
   "source": [
    "xgb_GSPC.feature_importances_"
   ]
  },
  {
   "cell_type": "code",
   "execution_count": 235,
   "metadata": {},
   "outputs": [
    {
     "data": {
      "text/plain": [
       "array([3251.2544, 2891.2588, 2363.0037, 3253.876 , 2050.2654, 2974.6746,\n",
       "       2285.8574, 2881.3645, 2988.035 , 2538.1724, 3088.9104, 2098.088 ,\n",
       "       2886.3933, 2435.8433, 2389.6084, 2829.194 , 2180.6304, 2996.4148,\n",
       "       2148.6746, 2381.4993, 3308.24  , 2466.1936, 3404.5017, 2453.2039,\n",
       "       2731.8528, 2797.55  , 2349.4226, 2846.1213, 2910.1973, 3319.6829,\n",
       "       2468.3394, 2715.4255, 2902.2876, 3268.6497, 2886.878 , 2159.0688,\n",
       "       3135.9373, 3119.4849, 2427.9546, 2441.3416, 1990.7104, 3396.8403,\n",
       "       2044.4285, 3054.768 , 2143.3103, 2747.007 , 2764.6567, 2643.158 ,\n",
       "       2981.0125, 3186.356 , 3364.5422, 2041.8695, 2985.515 , 2135.2583,\n",
       "       2324.1184, 2908.5662, 1948.2603, 2468.4333, 2792.8027, 2003.6235,\n",
       "       2746.791 , 2724.0085, 2455.073 , 2593.992 , 2970.6917, 2720.1157,\n",
       "       2902.496 , 2865.4446, 2141.5913, 2467.205 , 2216.128 , 3053.3142,\n",
       "       2823.7437, 2852.0645, 2841.7346, 2673.5337, 2497.8455, 3281.1155,\n",
       "       2972.2065, 2173.9504, 2515.5918, 2429.6487, 3037.5178, 3125.7932,\n",
       "       2802.8198, 2060.6714, 2983.9636, 2813.9666, 2917.7668, 3267.0652,\n",
       "       3444.605 , 2413.3958, 2778.551 , 3027.0237, 2670.9524, 2742.3923,\n",
       "       2138.094 , 2778.1145, 2703.6426, 2413.2112, 2746.6282, 3060.5237,\n",
       "       2638.778 , 2829.0078, 2660.0532, 2525.3984, 3115.9546, 2059.3123,\n",
       "       2915.8115, 2802.3506, 2499.2996, 2898.6853, 2843.1824, 2452.0864,\n",
       "       2087.5242, 2892.939 , 2723.7124, 2814.2878, 2053.2944, 3223.0386,\n",
       "       2792.4448, 2700.6912, 2756.858 , 2376.488 , 2508.5073, 2150.4106,\n",
       "       2444.2158, 3227.6404, 3027.2068, 2847.3242, 2477.2944, 2718.5564,\n",
       "       2767.0708, 2397.5063, 2978.2627, 3000.5713, 2163.1423, 2158.672 ,\n",
       "       2458.351 , 3115.59  , 3022.4988, 1929.9949, 2662.7874, 2514.978 ,\n",
       "       2705.66  , 2294.9023, 2866.6316, 2842.9966, 2999.7349, 2880.743 ,\n",
       "       2380.3882, 2479.8218, 2207.3806, 2776.2449, 2908.187 , 2875.2405,\n",
       "       2945.3418, 2968.318 , 2786.3347, 2676.9255, 2958.2268, 2981.6187,\n",
       "       2158.1626, 2965.9277, 2767.7593, 3285.6318, 2872.0376, 2279.7932,\n",
       "       3000.9292, 2868.5457, 2082.5623, 3138.019 , 3070.9539, 2292.3984,\n",
       "       3214.5664, 2778.332 , 2664.7905, 1904.6392, 2889.3257, 2671.8777,\n",
       "       2930.3982, 2565.1177, 2925.915 , 3249.5642, 2917.1184, 2996.099 ,\n",
       "       2954.8843, 2386.089 , 2147.6638, 2706.5024, 2687.2476, 1968.0153,\n",
       "       2495.1897, 2678.9487, 3378.5789, 2771.4478, 1904.5552, 2583.8352,\n",
       "       2893.115 , 2879.128 , 2183.541 , 1935.5284, 2146.923 , 2748.391 ,\n",
       "       2927.3315, 3171.635 , 1889.7762, 2582.8909, 3035.6775, 2898.045 ,\n",
       "       2472.1123, 2784.309 , 2743.5063, 2738.9106, 2566.3293, 2078.3567,\n",
       "       3453.6653, 2803.4993, 3372.462 , 3212.5393, 2698.8372, 3092.1108,\n",
       "       3112.4458, 2255.6045, 3320.5994, 2963.7947, 2870.547 , 2072.328 ,\n",
       "       2883.0845, 3155.893 , 2897.5488, 2677.808 , 2952.1492, 2720.1265,\n",
       "       2174.4429, 1893.089 , 3228.1982, 2700.8052, 2615.096 , 2959.337 ,\n",
       "       2083.4456, 2700.4377, 2280.872 , 3306.8171, 2371.1807, 2766.8894,\n",
       "       2084.9304, 2798.8203, 2075.6384, 2113.9763, 3027.18  , 2388.3667,\n",
       "       3191.0505, 2444.2898, 2172.24  , 2823.063 , 2929.1401, 2917.1326,\n",
       "       2567.1113, 3216.7617, 2999.7856, 3327.128 , 2464.6191, 2769.0674,\n",
       "       2644.4456, 2572.8264, 3008.1443, 2650.3203, 2550.7341, 2041.2192,\n",
       "       3366.9915, 2683.339 , 3356.764 , 2746.975 , 2913.9365, 3173.7178,\n",
       "       2649.2698, 2802.0542, 3259.2317, 2754.626 , 3090.7668, 2395.4946,\n",
       "       2128.2576, 1926.2375, 1938.843 , 2106.9348, 2870.0557, 2167.4612,\n",
       "       2812.0718, 2765.4912, 2673.8037, 2276.2456, 2411.1184, 3356.4265,\n",
       "       2158.6108, 2869.2532, 2809.1104, 2887.7764, 2481.0945, 2272.2507,\n",
       "       2834.7446, 2655.467 , 2948.05  , 3358.0847, 2747.54  , 2791.1304,\n",
       "       3286.92  , 2098.5916, 2666.5808, 3026.8665, 2450.2893, 2056.4978,\n",
       "       2620.014 , 2902.2747, 3288.9795, 3287.8955, 2701.1929, 2131.8035,\n",
       "       3040.8594, 2442.7185, 1926.6655, 2294.0308, 2040.7407, 2469.6414,\n",
       "       2035.0258, 2985.504 , 3197.1196, 2584.6594, 2869.228 , 2229.3767,\n",
       "       2547.8645, 2109.474 , 2807.2468, 2462.694 , 2182.125 , 2806.0867,\n",
       "       3438.438 , 2681.1702, 2753.042 , 2716.2383, 2577.0977, 2876.234 ,\n",
       "       2456.713 , 2869.985 , 2382.1528, 2980.8118, 3149.1018, 3059.0693,\n",
       "       2919.7207, 2496.93  , 2861.2986, 2550.4563, 2470.5222, 2723.7952,\n",
       "       2167.0366, 2892.0107, 2786.5525, 2891.6274, 1904.4995, 3325.434 ,\n",
       "       2183.4539, 2934.3647, 3036.701 , 2971.316 , 2227.2715, 2191.647 ,\n",
       "       2973.7983, 2469.7705, 2643.9656, 2829.08  , 2828.4995, 3030.2964,\n",
       "       2524.3296, 2925.2444, 2912.1216, 2775.5356, 2378.7676, 3349.0898,\n",
       "       2881.0427, 2357.3977, 2225.1062, 2656.4783, 1972.2998, 2696.5   ,\n",
       "       2965.61  , 2438.7014, 2216.8772, 3215.546 , 2076.045 , 2821.7441,\n",
       "       2145.6082, 2684.2607, 2054.1882, 2142.9285, 3066.484 , 2438.3765,\n",
       "       3331.2092, 2890.1104, 2160.007 , 2703.5156, 3138.5918, 3188.3696,\n",
       "       3063.59  , 2720.1467, 2063.3787, 2598.0193, 3139.5762, 3108.6917,\n",
       "       2721.533 , 2462.7593, 2734.928 , 3290.7546, 2159.3098, 2643.0237,\n",
       "       1949.3365, 2186.2036, 2421.5269, 2176.8257, 3071.06  , 1905.8586,\n",
       "       2791.107 , 3181.479 , 2650.9026, 2664.2202, 3138.1895, 3266.4363,\n",
       "       3272.225 , 2947.769 , 2833.2712, 2880.552 , 2874.9705, 2124.5505,\n",
       "       3138.9434, 2025.8002, 2715.5674, 2271.0547, 2448.268 , 2912.3237,\n",
       "       2186.0872, 2297.4016, 2530.515 , 2496.1763, 2132.0742, 2527.9167,\n",
       "       2901.231 , 2827.7876, 2977.6704, 2363.0442, 2526.0461, 2409.7766,\n",
       "       2854.4136, 3110.3433, 2974.0344, 2482.9243, 2834.8777, 2760.4504,\n",
       "       2179.462 , 2913.8977, 3377.7483, 3159.8762, 3232.081 , 3146.4128,\n",
       "       2129.0164, 2792.2434, 2864.1636, 3421.0637, 2641.2688, 2378.961 ,\n",
       "       3280.08  , 1928.0219, 2370.5952, 3430.9314, 2283.325 , 3079.3396,\n",
       "       2954.2778, 2103.7756, 2457.982 , 2290.1033, 2517.0466, 2295.5515,\n",
       "       2554.8342, 2442.9656, 2908.4492, 2781.9634, 2429.0452, 2526.749 ,\n",
       "       3280.6965, 2416.365 , 2770.3997, 2403.871 , 2151.4622, 2932.8718,\n",
       "       3303.336 , 2957.2795, 3340.8064, 2093.6003, 2743.4412, 2380.3977,\n",
       "       3083.8455, 2833.8374, 3090.734 , 2307.851 , 2196.243 , 2079.9897,\n",
       "       2617.245 , 2463.3286, 2857.1167, 2890.779 , 2727.9465, 2730.659 ,\n",
       "       2137.2998, 2362.2961, 2405.8887, 2438.3555, 2841.1873, 2352.3865,\n",
       "       2918.8242, 2267.9006, 2672.7515, 2988.7227, 1979.4058, 2851.967 ,\n",
       "       1989.5881, 2860.5227, 2219.7927, 2122.9758, 2787.7297, 3333.8945,\n",
       "       2379.8218, 3253.8486, 2198.1338, 2754.0745, 3269.9895, 2972.0266,\n",
       "       2721.0945, 2751.1003, 3386.0974, 3092.6404, 2720.1636, 2988.2898,\n",
       "       2131.2488, 2180.8381, 2839.417 , 2336.042 , 2082.835 , 2144.1506,\n",
       "       3106.4312, 2717.2842, 2160.6038, 2944.3171, 2395.8464, 2765.744 ,\n",
       "       2743.3489, 2154.763 , 2865.9824, 2051.1604, 3291.3145, 3214.419 ,\n",
       "       2841.9167, 2139.0679, 2744.1375, 2596.9617, 2707.593 , 3220.6655,\n",
       "       3023.6445, 2683.0317, 2937.8997, 3196.1553, 2736.4414, 3165.5117,\n",
       "       2845.887 , 2685.1318, 2466.5068, 2107.752 , 2206.9263, 2139.388 ,\n",
       "       3461.9653, 2794.4194, 2078.4993, 3280.992 , 2818.2368, 2683.9443,\n",
       "       1946.0437, 2871.73  , 3110.9622, 2601.9915, 2585.8806, 3206.629 ,\n",
       "       2744.1416, 3175.7114, 2640.3794, 1894.3994, 2061.5476, 3085.5046,\n",
       "       2456.6172, 2878.416 , 3087.5176, 2944.3557, 2859.355 , 2877.2432,\n",
       "       2737.242 , 3146.311 , 2219.253 , 2587.469 , 2368.904 , 2423.4998,\n",
       "       2815.5642, 3088.0938, 3292.0938, 3042.4854, 2965.1467, 2932.0325,\n",
       "       2885.226 , 3074.0798, 2057.4026, 2436.8447, 2906.7603, 2620.0676,\n",
       "       2850.464 , 2728.169 , 1924.6537, 2597.2239, 2468.3218, 2432.0916,\n",
       "       3363.643 , 3156.7532, 3046.1501, 2528.0977, 2962.4534, 2982.334 ,\n",
       "       3192.3738, 2827.0115, 2160.3545, 3294.908 , 2946.8213, 3209.5693,\n",
       "       2107.877 , 1879.486 , 2715.1794, 2996.9082, 2792.3884, 3282.8823,\n",
       "       3234.4485, 3339.5   , 2912.8572, 2756.701 , 2069.3699, 3454.469 ,\n",
       "       2122.9531, 3347.7712, 1907.4086, 3367.473 , 2720.8884, 2059.381 ,\n",
       "       2905.2793, 2952.85  , 2642.5503, 2168.948 , 1896.2689, 2456.855 ,\n",
       "       2157.3843, 2911.2612, 2157.4368, 2571.1763, 2913.083 , 2440.186 ,\n",
       "       3296.9475, 2779.1545, 1907.7261, 2476.5876, 3199.0425, 2093.1816,\n",
       "       2444.0422, 3291.1929, 3458.9097, 3020.077 , 2568.1055, 2861.063 ,\n",
       "       2112.6948, 3000.868 , 2871.5183, 2901.9966, 2949.8345, 3357.5974,\n",
       "       2636.0469, 2282.5588, 3183.311 , 2188.9614, 3033.5435, 2740.2078,\n",
       "       3080.6199, 3156.6514, 2753.197 , 2761.0596, 2368.0986, 3024.68  ,\n",
       "       3076.357 , 2432.0537, 2648.207 , 2705.028 , 2740.8481, 2897.1387,\n",
       "       3336.8616, 3322.4343, 2290.5396, 2857.7588, 2415.3564, 2874.058 ,\n",
       "       2958.93  , 2884.6726, 2890.7097, 2886.9934, 2728.8376, 2071.1133,\n",
       "       2717.5728, 2894.3696, 2895.7217, 2711.1477, 3351.7673, 2920.8354,\n",
       "       2999.6482, 2917.0146, 2690.1704, 2864.1914, 2145.6262, 2602.1333,\n",
       "       2936.8147, 2744.6924, 2225.5667, 2046.6024, 2162.4712, 2979.1199,\n",
       "       3407.9348, 1973.6876, 2929.4182, 2526.3838, 2391.0288, 2067.026 ,\n",
       "       2885.1624, 1924.9814, 3175.1958, 2078.3408, 2194.0193, 3090.8457,\n",
       "       2646.7908, 2676.419 , 1961.5486, 2957.3154, 2301.1428, 2878.1948,\n",
       "       2200.66  , 2829.891 , 2788.8076, 2167.7834, 2784.795 , 2690.587 ,\n",
       "       2170.1558, 2621.3838, 2897.2485, 2725.342 , 3291.2983, 2055.7595,\n",
       "       2777.0093, 2308.1665, 2686.3726, 2118.9182, 2451.0989, 2199.99  ,\n",
       "       2968.8447, 3259.6938, 2691.9614, 2933.1968, 2447.3188, 2829.5962,\n",
       "       3237.2673, 3090.1675, 2681.1245, 2890.217 , 2559.5837, 3234.246 ,\n",
       "       2761.9783, 2065.151 , 3311.1077, 2359.7346, 3322.1584, 2473.4812,\n",
       "       2825.5776, 2763.9373, 2381.2168, 2760.8555, 3061.3574, 3157.3484,\n",
       "       3030.9219, 2859.3945, 2392.0952, 2748.359 , 2286.1875, 2666.8008,\n",
       "       2277.766 , 3063.4705, 3225.072 , 2939.2085, 2879.6426, 2886.3767,\n",
       "       2372.1604, 2746.7476, 2414.2236, 3247.02  , 2815.2812, 2894.8027,\n",
       "       2625.681 , 2623.0103, 2475.4883, 2636.1978, 2089.369 , 2854.1968,\n",
       "       2155.526 , 2227.5623, 2405.1533, 2428.8213, 2817.018 , 2567.8147,\n",
       "       3126.1702, 2586.5327, 3086.2798, 1921.8251, 2751.406 , 2226.2002,\n",
       "       2759.1287, 2896.4792, 2208.0864, 3109.8909, 2197.3118, 2983.3032,\n",
       "       1908.7559, 2288.254 , 2745.2659, 2444.8801, 2076.0405, 2737.7224,\n",
       "       2911.4753, 2636.6453, 1908.6571, 2694.6436, 3324.2524, 2398.603 ,\n",
       "       2776.6187, 3314.8032, 2059.2512, 3215.291 , 3250.492 , 2453.7852,\n",
       "       3117.858 , 3255.799 , 3378.9238, 2741.299 , 2669.2036, 2766.7175,\n",
       "       2825.891 , 2706.091 , 2876.195 , 2582.0327, 2704.1482, 2896.999 ,\n",
       "       2152.998 , 2654.5337, 2830.0117, 3208.7798, 2973.6406, 2765.1633,\n",
       "       2196.0098, 3354.502 , 2387.7488, 2443.0667, 2781.8308, 2193.5645,\n",
       "       2917.2039, 2887.463 , 2863.7363, 3288.1538, 2815.869 , 2659.4617,\n",
       "       2980.3792, 2991.6516, 2772.534 , 3111.7383, 2151.309 , 1988.0354,\n",
       "       2286.0857, 2420.3672, 2665.171 , 2800.8633, 2776.0046, 2429.69  ,\n",
       "       2873.3691, 2638.868 , 2929.498 , 2346.1716, 2183.6584, 3209.8135,\n",
       "       2418.9731, 3098.1343, 2081.5027, 3117.2864, 2954.0059, 3069.8103,\n",
       "       3211.2588, 2490.9016, 2980.6538, 2528.1448, 2839.0725, 2652.37  ,\n",
       "       2266.0793, 2714.2275, 2670.9683, 2090.6633, 2898.0125, 2862.8462,\n",
       "       2446.5664, 2672.183 , 2664.0945, 3009.8638, 2563.2715, 3200.8264,\n",
       "       2153.3706, 2427.446 , 2684.0986, 2458.7046, 2461.9956, 1961.0134,\n",
       "       3063.2385, 2188.9646, 2404.2817, 2857.569 , 2710.7937, 2723.9758,\n",
       "       2454.4358, 2698.8167, 2277.955 , 2961.6326, 2925.2954, 2780.8533,\n",
       "       2141.7502, 3249.5706, 2813.8052, 3136.125 , 2943.8408, 2787.4268,\n",
       "       2561.652 , 2415.1152, 2744.9197, 2212.3052, 2398.3264, 2062.3457,\n",
       "       2159.1467, 3073.7568, 3216.0938, 2610.3806, 2835.2834, 2881.5784,\n",
       "       2937.9426, 2772.0273, 2086.139 , 3444.265 , 2449.6602, 2018.7289,\n",
       "       2734.4373, 2265.228 , 2149.9116, 2297.195 , 2936.9905, 3081.4277,\n",
       "       1928.2794, 3194.364 , 3221.1218, 1974.2788, 2597.7336, 3170.809 ,\n",
       "       2194.1704, 2156.3293, 2827.1353, 2040.649 , 2871.7815, 2450.2302,\n",
       "       2561.9363, 2399.6455, 3076.961 , 1914.1049, 2820.7412, 2711.708 ,\n",
       "       3271.6492, 2197.149 , 1946.2832, 2829.2014, 2665.5696, 2925.7214,\n",
       "       2665.7246, 2964.7383], dtype=float32)"
      ]
     },
     "execution_count": 235,
     "metadata": {},
     "output_type": "execute_result"
    }
   ],
   "source": [
    "xgb_GSPC.predict(X_test_GSPC)"
   ]
  },
  {
   "cell_type": "code",
   "execution_count": 236,
   "metadata": {},
   "outputs": [
    {
     "data": {
      "text/plain": [
       "market_date  topic\n",
       "2020-01-24   2        3295.469971\n",
       "2020-05-12   6        2870.120117\n",
       "2017-04-24   7        2374.149902\n",
       "2020-01-27   7        3243.629883\n",
       "2016-03-17   1        2040.589966\n",
       "2020-03-06   6        2972.370117\n",
       "2017-01-25   6        2298.370117\n",
       "2020-06-11   3        3002.100098\n",
       "2019-07-16   7        3004.040039\n",
       "2020-03-30   9        2626.649902\n",
       "2020-06-23   7        3131.290039\n",
       "2016-06-15   6        2071.500000\n",
       "2018-10-08   2        2884.429932\n",
       "2017-07-07   6        2425.179932\n",
       "2017-05-25   6        2415.070068\n",
       "2019-03-26   6        2818.459961\n",
       "2016-08-12   2        2184.050049\n",
       "2020-05-28   3        3029.729980\n",
       "2016-08-15   7        2190.149902\n",
       "2017-09-26   2        2496.840088\n",
       "2020-02-20   6        3373.229980\n",
       "2017-08-21   3        2428.370117\n",
       "2020-08-24   6        3431.280029\n",
       "2017-07-31   6        2470.300049\n",
       "2018-03-12   10       2783.020020\n",
       "2019-02-22   6        2792.669922\n",
       "2017-03-29   2        2361.129883\n",
       "2019-05-24   6        2826.060059\n",
       "2019-08-13   2        2926.320068\n",
       "2020-08-10   9        3360.469971\n",
       "                         ...     \n",
       "2016-10-19   9        2144.290039\n",
       "2017-02-06   9        2292.560059\n",
       "2019-10-10   9        2938.129883\n",
       "2019-11-06   1        3076.780029\n",
       "2016-02-24   6        1929.800049\n",
       "2019-12-19   7        3205.370117\n",
       "2020-07-22   6        3276.020020\n",
       "2016-03-04   6        1999.989990\n",
       "2017-11-01   7        2579.360107\n",
       "2020-06-08   8        3232.389893\n",
       "2016-09-07   2        2186.159912\n",
       "2016-07-26   9        2169.179932\n",
       "2019-03-15   8        2822.479980\n",
       "2016-05-18   3        2047.630005\n",
       "2019-04-05   2        2892.739990\n",
       "2017-06-19   7        2453.459961\n",
       "2020-03-12   10       2480.639893\n",
       "2017-05-18   6        2365.719971\n",
       "2019-11-04   6        3078.270020\n",
       "2016-01-25   6        1877.079956\n",
       "2019-05-28   2        2802.389893\n",
       "2018-05-21   7        2733.010010\n",
       "2020-01-13   5        3288.129883\n",
       "2016-07-27   2        2166.580078\n",
       "2016-01-22   6        1906.900024\n",
       "2019-03-22   6        2800.709961\n",
       "2018-04-11   2        2642.189941\n",
       "2019-06-25   8        2917.379883\n",
       "2017-12-08   3        2651.500000\n",
       "2019-09-26   7        2977.620117\n",
       "Name: ^GSPC, Length: 998, dtype: float64"
      ]
     },
     "execution_count": 236,
     "metadata": {},
     "output_type": "execute_result"
    }
   ],
   "source": [
    "y_test_GSPC"
   ]
  },
  {
   "cell_type": "code",
   "execution_count": 237,
   "metadata": {},
   "outputs": [
    {
     "data": {
      "text/plain": [
       "39.57673732494457"
      ]
     },
     "execution_count": 237,
     "metadata": {},
     "output_type": "execute_result"
    }
   ],
   "source": [
    "# retrieve the MSE on the test set\n",
    "from math import sqrt\n",
    "sqrt(mean_squared_error(xgb_GSPC.predict(X_test_GSPC), y_test_GSPC)) #RMSE"
   ]
  },
  {
   "cell_type": "code",
   "execution_count": 238,
   "metadata": {},
   "outputs": [
    {
     "data": {
      "text/plain": [
       "1.0447166279482216"
      ]
     },
     "execution_count": 238,
     "metadata": {},
     "output_type": "execute_result"
    }
   ],
   "source": [
    "# # retrieve the MAPE on the test set\n",
    "mean_absolute_percentage_error(y_test_GSPC, xgb_GSPC.predict(X_test_GSPC)) #MAPE"
   ]
  },
  {
   "cell_type": "markdown",
   "metadata": {},
   "source": [
    "#### IXIC"
   ]
  },
  {
   "cell_type": "code",
   "execution_count": 239,
   "metadata": {},
   "outputs": [],
   "source": [
    "dtrain_IXIC = xgboost.DMatrix(data=X_train_IXIC, label=y_train_IXIC)\n",
    "dtest_IXIC = xgboost.DMatrix(data=X_test_IXIC, label=y_test_IXIC)"
   ]
  },
  {
   "cell_type": "code",
   "execution_count": 240,
   "metadata": {},
   "outputs": [
    {
     "name": "stdout",
     "output_type": "stream",
     "text": [
      "[18:13:26] WARNING: /Users/travis/build/dmlc/xgboost/src/objective/regression_obj.cu:174: reg:linear is now deprecated in favor of reg:squarederror.\n",
      "[18:13:26] WARNING: /Users/travis/build/dmlc/xgboost/src/learner.cc:516: \n",
      "Parameters: { n_estimators } might not be used.\n",
      "\n",
      "  This may not be accurate due to some parameters are only used in language bindings but\n",
      "  passed down to XGBoost core.  Or some parameters are not used but slip through this\n",
      "  verification. Please open an issue if you find above cases.\n",
      "\n",
      "\n",
      "[18:13:26] WARNING: /Users/travis/build/dmlc/xgboost/src/objective/regression_obj.cu:174: reg:linear is now deprecated in favor of reg:squarederror.\n",
      "[18:13:26] WARNING: /Users/travis/build/dmlc/xgboost/src/learner.cc:516: \n",
      "Parameters: { n_estimators } might not be used.\n",
      "\n",
      "  This may not be accurate due to some parameters are only used in language bindings but\n",
      "  passed down to XGBoost core.  Or some parameters are not used but slip through this\n",
      "  verification. Please open an issue if you find above cases.\n",
      "\n",
      "\n",
      "[18:13:26] WARNING: /Users/travis/build/dmlc/xgboost/src/objective/regression_obj.cu:174: reg:linear is now deprecated in favor of reg:squarederror.\n",
      "[18:13:26] WARNING: /Users/travis/build/dmlc/xgboost/src/learner.cc:516: \n",
      "Parameters: { n_estimators } might not be used.\n",
      "\n",
      "  This may not be accurate due to some parameters are only used in language bindings but\n",
      "  passed down to XGBoost core.  Or some parameters are not used but slip through this\n",
      "  verification. Please open an issue if you find above cases.\n",
      "\n",
      "\n",
      "[18:13:26] WARNING: /Users/travis/build/dmlc/xgboost/src/objective/regression_obj.cu:174: reg:linear is now deprecated in favor of reg:squarederror.\n",
      "[18:13:26] WARNING: /Users/travis/build/dmlc/xgboost/src/learner.cc:516: \n",
      "Parameters: { n_estimators } might not be used.\n",
      "\n",
      "  This may not be accurate due to some parameters are only used in language bindings but\n",
      "  passed down to XGBoost core.  Or some parameters are not used but slip through this\n",
      "  verification. Please open an issue if you find above cases.\n",
      "\n",
      "\n",
      "[18:13:26] WARNING: /Users/travis/build/dmlc/xgboost/src/objective/regression_obj.cu:174: reg:linear is now deprecated in favor of reg:squarederror.\n",
      "[18:13:26] WARNING: /Users/travis/build/dmlc/xgboost/src/learner.cc:516: \n",
      "Parameters: { n_estimators } might not be used.\n",
      "\n",
      "  This may not be accurate due to some parameters are only used in language bindings but\n",
      "  passed down to XGBoost core.  Or some parameters are not used but slip through this\n",
      "  verification. Please open an issue if you find above cases.\n",
      "\n",
      "\n",
      "[18:13:26] WARNING: /Users/travis/build/dmlc/xgboost/src/objective/regression_obj.cu:174: reg:linear is now deprecated in favor of reg:squarederror.\n",
      "[18:13:26] WARNING: /Users/travis/build/dmlc/xgboost/src/learner.cc:516: \n",
      "Parameters: { n_estimators } might not be used.\n",
      "\n",
      "  This may not be accurate due to some parameters are only used in language bindings but\n",
      "  passed down to XGBoost core.  Or some parameters are not used but slip through this\n",
      "  verification. Please open an issue if you find above cases.\n",
      "\n",
      "\n",
      "[18:13:26] WARNING: /Users/travis/build/dmlc/xgboost/src/objective/regression_obj.cu:174: reg:linear is now deprecated in favor of reg:squarederror.\n",
      "[18:13:26] WARNING: /Users/travis/build/dmlc/xgboost/src/learner.cc:516: \n",
      "Parameters: { n_estimators } might not be used.\n",
      "\n",
      "  This may not be accurate due to some parameters are only used in language bindings but\n",
      "  passed down to XGBoost core.  Or some parameters are not used but slip through this\n",
      "  verification. Please open an issue if you find above cases.\n",
      "\n",
      "\n",
      "[18:13:26] WARNING: /Users/travis/build/dmlc/xgboost/src/objective/regression_obj.cu:174: reg:linear is now deprecated in favor of reg:squarederror.\n",
      "[18:13:26] WARNING: /Users/travis/build/dmlc/xgboost/src/learner.cc:516: \n",
      "Parameters: { n_estimators } might not be used.\n",
      "\n",
      "  This may not be accurate due to some parameters are only used in language bindings but\n",
      "  passed down to XGBoost core.  Or some parameters are not used but slip through this\n",
      "  verification. Please open an issue if you find above cases.\n",
      "\n",
      "\n",
      "[18:13:26] WARNING: /Users/travis/build/dmlc/xgboost/src/objective/regression_obj.cu:174: reg:linear is now deprecated in favor of reg:squarederror.\n",
      "[18:13:26] WARNING: /Users/travis/build/dmlc/xgboost/src/learner.cc:516: \n",
      "Parameters: { n_estimators } might not be used.\n",
      "\n",
      "  This may not be accurate due to some parameters are only used in language bindings but\n",
      "  passed down to XGBoost core.  Or some parameters are not used but slip through this\n",
      "  verification. Please open an issue if you find above cases.\n",
      "\n",
      "\n",
      "[18:13:26] WARNING: /Users/travis/build/dmlc/xgboost/src/objective/regression_obj.cu:174: reg:linear is now deprecated in favor of reg:squarederror.\n",
      "[18:13:26] WARNING: /Users/travis/build/dmlc/xgboost/src/learner.cc:516: \n",
      "Parameters: { n_estimators } might not be used.\n",
      "\n",
      "  This may not be accurate due to some parameters are only used in language bindings but\n",
      "  passed down to XGBoost core.  Or some parameters are not used but slip through this\n",
      "  verification. Please open an issue if you find above cases.\n",
      "\n",
      "\n",
      "[0]\ttrain-rmse:7253.86260+12.65061\ttest-rmse:7253.02593+112.43865\n",
      "[10]\ttrain-rmse:4389.26255+12.33321\ttest-rmse:4391.94785+79.40887\n",
      "[20]\ttrain-rmse:2663.44294+14.18681\ttest-rmse:2670.54563+60.87293\n",
      "[30]\ttrain-rmse:1628.03436+12.36270\ttest-rmse:1639.69910+40.36475\n",
      "[40]\ttrain-rmse:1005.63175+13.40432\ttest-rmse:1025.73479+33.45451\n",
      "[50]\ttrain-rmse:629.29457+12.71619\ttest-rmse:661.07545+30.36951\n",
      "[60]\ttrain-rmse:401.81732+13.28235\ttest-rmse:448.01497+35.27567\n",
      "[70]\ttrain-rmse:263.37092+10.10479\ttest-rmse:327.07348+33.62982\n",
      "[80]\ttrain-rmse:176.62876+7.59910\ttest-rmse:258.73514+33.13009\n",
      "[90]\ttrain-rmse:124.87153+6.74728\ttest-rmse:225.36862+33.49698\n",
      "[100]\ttrain-rmse:92.23588+6.04024\ttest-rmse:207.03187+33.69123\n",
      "[110]\ttrain-rmse:70.81234+5.00031\ttest-rmse:196.48958+33.03211\n",
      "[120]\ttrain-rmse:56.74160+4.15558\ttest-rmse:190.52373+32.60640\n",
      "[130]\ttrain-rmse:46.67860+3.32131\ttest-rmse:186.42603+32.32148\n",
      "[140]\ttrain-rmse:39.34537+2.73023\ttest-rmse:183.96370+32.00606\n",
      "[150]\ttrain-rmse:33.64083+2.21951\ttest-rmse:182.11360+31.46236\n",
      "[160]\ttrain-rmse:29.10220+1.88919\ttest-rmse:180.64352+31.39776\n",
      "[170]\ttrain-rmse:25.42063+1.59083\ttest-rmse:179.66612+31.25430\n",
      "[180]\ttrain-rmse:22.36198+1.52548\ttest-rmse:178.98314+31.06242\n",
      "[190]\ttrain-rmse:19.87343+1.43191\ttest-rmse:178.45413+30.98775\n",
      "[199]\ttrain-rmse:17.88542+1.30688\ttest-rmse:178.06525+30.87679\n"
     ]
    }
   ],
   "source": [
    "cv_results_IXIC = xgboost.cv(dtrain=dtrain_IXIC, \n",
    "                             params=params, \n",
    "                             nfold=10, \n",
    "                             num_boost_round=200,\n",
    "                             early_stopping_rounds=10,\n",
    "                             metrics=\"rmse\", \n",
    "                             as_pandas=True,\n",
    "                             verbose_eval=10,\n",
    "                             seed=1)"
   ]
  },
  {
   "cell_type": "code",
   "execution_count": 241,
   "metadata": {},
   "outputs": [
    {
     "data": {
      "text/html": [
       "<div>\n",
       "<style scoped>\n",
       "    .dataframe tbody tr th:only-of-type {\n",
       "        vertical-align: middle;\n",
       "    }\n",
       "\n",
       "    .dataframe tbody tr th {\n",
       "        vertical-align: top;\n",
       "    }\n",
       "\n",
       "    .dataframe thead th {\n",
       "        text-align: right;\n",
       "    }\n",
       "</style>\n",
       "<table border=\"1\" class=\"dataframe\">\n",
       "  <thead>\n",
       "    <tr style=\"text-align: right;\">\n",
       "      <th></th>\n",
       "      <th>train-rmse-mean</th>\n",
       "      <th>train-rmse-std</th>\n",
       "      <th>test-rmse-mean</th>\n",
       "      <th>test-rmse-std</th>\n",
       "    </tr>\n",
       "  </thead>\n",
       "  <tbody>\n",
       "    <tr>\n",
       "      <th>195</th>\n",
       "      <td>18.751558</td>\n",
       "      <td>1.318926</td>\n",
       "      <td>178.225546</td>\n",
       "      <td>30.929186</td>\n",
       "    </tr>\n",
       "    <tr>\n",
       "      <th>196</th>\n",
       "      <td>18.522792</td>\n",
       "      <td>1.297640</td>\n",
       "      <td>178.170335</td>\n",
       "      <td>30.925507</td>\n",
       "    </tr>\n",
       "    <tr>\n",
       "      <th>197</th>\n",
       "      <td>18.302395</td>\n",
       "      <td>1.319005</td>\n",
       "      <td>178.135288</td>\n",
       "      <td>30.913276</td>\n",
       "    </tr>\n",
       "    <tr>\n",
       "      <th>198</th>\n",
       "      <td>18.087858</td>\n",
       "      <td>1.315673</td>\n",
       "      <td>178.095370</td>\n",
       "      <td>30.882007</td>\n",
       "    </tr>\n",
       "    <tr>\n",
       "      <th>199</th>\n",
       "      <td>17.885424</td>\n",
       "      <td>1.306879</td>\n",
       "      <td>178.065248</td>\n",
       "      <td>30.876786</td>\n",
       "    </tr>\n",
       "  </tbody>\n",
       "</table>\n",
       "</div>"
      ],
      "text/plain": [
       "     train-rmse-mean  train-rmse-std  test-rmse-mean  test-rmse-std\n",
       "195        18.751558        1.318926      178.225546      30.929186\n",
       "196        18.522792        1.297640      178.170335      30.925507\n",
       "197        18.302395        1.319005      178.135288      30.913276\n",
       "198        18.087858        1.315673      178.095370      30.882007\n",
       "199        17.885424        1.306879      178.065248      30.876786"
      ]
     },
     "execution_count": 241,
     "metadata": {},
     "output_type": "execute_result"
    }
   ],
   "source": [
    "cv_results_IXIC.tail()"
   ]
  },
  {
   "cell_type": "code",
   "execution_count": 242,
   "metadata": {},
   "outputs": [
    {
     "data": {
      "text/plain": [
       "178.06524819999998"
      ]
     },
     "execution_count": 242,
     "metadata": {},
     "output_type": "execute_result"
    }
   ],
   "source": [
    "cv_results_IXIC['test-rmse-mean'].min()"
   ]
  },
  {
   "cell_type": "code",
   "execution_count": 243,
   "metadata": {},
   "outputs": [
    {
     "name": "stdout",
     "output_type": "stream",
     "text": [
      "[18:13:48] WARNING: /Users/travis/build/dmlc/xgboost/src/objective/regression_obj.cu:174: reg:linear is now deprecated in favor of reg:squarederror.\n",
      "[18:13:48] WARNING: /Users/travis/build/dmlc/xgboost/src/learner.cc:516: \n",
      "Parameters: { n_estimators } might not be used.\n",
      "\n",
      "  This may not be accurate due to some parameters are only used in language bindings but\n",
      "  passed down to XGBoost core.  Or some parameters are not used but slip through this\n",
      "  verification. Please open an issue if you find above cases.\n",
      "\n",
      "\n",
      "[0]\tTest-rmse:7176.33936\n",
      "Will train until Test-rmse hasn't improved in 10 rounds.\n",
      "[10]\tTest-rmse:4328.48486\n",
      "[20]\tTest-rmse:2632.75757\n",
      "[30]\tTest-rmse:1610.72620\n",
      "[40]\tTest-rmse:1009.41003\n",
      "[50]\tTest-rmse:643.72186\n",
      "[60]\tTest-rmse:440.10031\n",
      "[70]\tTest-rmse:319.40051\n",
      "[80]\tTest-rmse:254.56674\n",
      "[90]\tTest-rmse:221.27261\n",
      "[100]\tTest-rmse:205.33116\n",
      "[110]\tTest-rmse:195.75413\n",
      "[120]\tTest-rmse:190.94350\n",
      "[130]\tTest-rmse:186.89609\n",
      "[140]\tTest-rmse:183.35712\n",
      "[150]\tTest-rmse:180.90083\n",
      "[160]\tTest-rmse:179.39459\n",
      "[170]\tTest-rmse:178.38911\n",
      "[180]\tTest-rmse:177.35422\n",
      "[190]\tTest-rmse:176.58614\n",
      "[199]\tTest-rmse:176.44760\n",
      "[18:13:51] WARNING: /Users/travis/build/dmlc/xgboost/src/objective/regression_obj.cu:174: reg:linear is now deprecated in favor of reg:squarederror.\n"
     ]
    }
   ],
   "source": [
    "xgb_IXIC = xgboost.train(\n",
    "                        params,\n",
    "                        dtrain_IXIC,\n",
    "                        num_boost_round=200,\n",
    "                        evals=[(dtest_IXIC, \"Test\")],\n",
    "                        early_stopping_rounds=10,\n",
    "                        verbose_eval=10\n",
    "                        )"
   ]
  },
  {
   "cell_type": "code",
   "execution_count": 244,
   "metadata": {},
   "outputs": [
    {
     "data": {
      "text/plain": [
       "176.44760097913496"
      ]
     },
     "execution_count": 244,
     "metadata": {},
     "output_type": "execute_result"
    }
   ],
   "source": [
    "# retrieve the RMSE on the test set\n",
    "from math import sqrt\n",
    "sqrt(mean_squared_error(xgb_IXIC.predict(dtest_IXIC), y_test_IXIC)) #RMSE"
   ]
  },
  {
   "cell_type": "code",
   "execution_count": 245,
   "metadata": {},
   "outputs": [
    {
     "data": {
      "text/plain": [
       "1.7776125837895371"
      ]
     },
     "execution_count": 245,
     "metadata": {},
     "output_type": "execute_result"
    }
   ],
   "source": [
    "# retrieve the MAPE on the test set\n",
    "mean_absolute_percentage_error(y_test_IXIC, xgb_IXIC.predict(dtest_IXIC)) #MAPE"
   ]
  },
  {
   "cell_type": "markdown",
   "metadata": {},
   "source": [
    "#### VGT"
   ]
  },
  {
   "cell_type": "code",
   "execution_count": 246,
   "metadata": {},
   "outputs": [],
   "source": [
    "dtrain_VGT = xgboost.DMatrix(data=X_train_VGT, label=y_train_VGT)\n",
    "dtest_VGT = xgboost.DMatrix(data=X_test_VGT, label=y_test_VGT)"
   ]
  },
  {
   "cell_type": "code",
   "execution_count": 247,
   "metadata": {},
   "outputs": [
    {
     "name": "stdout",
     "output_type": "stream",
     "text": [
      "[18:13:51] WARNING: /Users/travis/build/dmlc/xgboost/src/objective/regression_obj.cu:174: reg:linear is now deprecated in favor of reg:squarederror.\n",
      "[18:13:51] WARNING: /Users/travis/build/dmlc/xgboost/src/learner.cc:516: \n",
      "Parameters: { n_estimators } might not be used.\n",
      "\n",
      "  This may not be accurate due to some parameters are only used in language bindings but\n",
      "  passed down to XGBoost core.  Or some parameters are not used but slip through this\n",
      "  verification. Please open an issue if you find above cases.\n",
      "\n",
      "\n",
      "[18:13:51] WARNING: /Users/travis/build/dmlc/xgboost/src/objective/regression_obj.cu:174: reg:linear is now deprecated in favor of reg:squarederror.\n",
      "[18:13:51] WARNING: /Users/travis/build/dmlc/xgboost/src/learner.cc:516: \n",
      "Parameters: { n_estimators } might not be used.\n",
      "\n",
      "  This may not be accurate due to some parameters are only used in language bindings but\n",
      "  passed down to XGBoost core.  Or some parameters are not used but slip through this\n",
      "  verification. Please open an issue if you find above cases.\n",
      "\n",
      "\n",
      "[18:13:51] WARNING: /Users/travis/build/dmlc/xgboost/src/objective/regression_obj.cu:174: reg:linear is now deprecated in favor of reg:squarederror.\n",
      "[18:13:51] WARNING: /Users/travis/build/dmlc/xgboost/src/learner.cc:516: \n",
      "Parameters: { n_estimators } might not be used.\n",
      "\n",
      "  This may not be accurate due to some parameters are only used in language bindings but\n",
      "  passed down to XGBoost core.  Or some parameters are not used but slip through this\n",
      "  verification. Please open an issue if you find above cases.\n",
      "\n",
      "\n",
      "[18:13:51] WARNING: /Users/travis/build/dmlc/xgboost/src/objective/regression_obj.cu:174: reg:linear is now deprecated in favor of reg:squarederror.\n",
      "[18:13:51] WARNING: /Users/travis/build/dmlc/xgboost/src/learner.cc:516: \n",
      "Parameters: { n_estimators } might not be used.\n",
      "\n",
      "  This may not be accurate due to some parameters are only used in language bindings but\n",
      "  passed down to XGBoost core.  Or some parameters are not used but slip through this\n",
      "  verification. Please open an issue if you find above cases.\n",
      "\n",
      "\n",
      "[18:13:51] WARNING: /Users/travis/build/dmlc/xgboost/src/objective/regression_obj.cu:174: reg:linear is now deprecated in favor of reg:squarederror.\n",
      "[18:13:51] WARNING: /Users/travis/build/dmlc/xgboost/src/learner.cc:516: \n",
      "Parameters: { n_estimators } might not be used.\n",
      "\n",
      "  This may not be accurate due to some parameters are only used in language bindings but\n",
      "  passed down to XGBoost core.  Or some parameters are not used but slip through this\n",
      "  verification. Please open an issue if you find above cases.\n",
      "\n",
      "\n",
      "[18:13:51] WARNING: /Users/travis/build/dmlc/xgboost/src/objective/regression_obj.cu:174: reg:linear is now deprecated in favor of reg:squarederror.\n",
      "[18:13:51] WARNING: /Users/travis/build/dmlc/xgboost/src/learner.cc:516: \n",
      "Parameters: { n_estimators } might not be used.\n",
      "\n",
      "  This may not be accurate due to some parameters are only used in language bindings but\n",
      "  passed down to XGBoost core.  Or some parameters are not used but slip through this\n",
      "  verification. Please open an issue if you find above cases.\n",
      "\n",
      "\n",
      "[18:13:51] WARNING: /Users/travis/build/dmlc/xgboost/src/objective/regression_obj.cu:174: reg:linear is now deprecated in favor of reg:squarederror.\n",
      "[18:13:51] WARNING: /Users/travis/build/dmlc/xgboost/src/learner.cc:516: \n",
      "Parameters: { n_estimators } might not be used.\n",
      "\n",
      "  This may not be accurate due to some parameters are only used in language bindings but\n",
      "  passed down to XGBoost core.  Or some parameters are not used but slip through this\n",
      "  verification. Please open an issue if you find above cases.\n",
      "\n",
      "\n",
      "[18:13:51] WARNING: /Users/travis/build/dmlc/xgboost/src/objective/regression_obj.cu:174: reg:linear is now deprecated in favor of reg:squarederror.\n",
      "[18:13:51] WARNING: /Users/travis/build/dmlc/xgboost/src/learner.cc:516: \n",
      "Parameters: { n_estimators } might not be used.\n",
      "\n",
      "  This may not be accurate due to some parameters are only used in language bindings but\n",
      "  passed down to XGBoost core.  Or some parameters are not used but slip through this\n",
      "  verification. Please open an issue if you find above cases.\n",
      "\n",
      "\n",
      "[18:13:51] WARNING: /Users/travis/build/dmlc/xgboost/src/objective/regression_obj.cu:174: reg:linear is now deprecated in favor of reg:squarederror.\n",
      "[18:13:51] WARNING: /Users/travis/build/dmlc/xgboost/src/learner.cc:516: \n",
      "Parameters: { n_estimators } might not be used.\n",
      "\n",
      "  This may not be accurate due to some parameters are only used in language bindings but\n",
      "  passed down to XGBoost core.  Or some parameters are not used but slip through this\n",
      "  verification. Please open an issue if you find above cases.\n",
      "\n",
      "\n",
      "[18:13:51] WARNING: /Users/travis/build/dmlc/xgboost/src/objective/regression_obj.cu:174: reg:linear is now deprecated in favor of reg:squarederror.\n",
      "[18:13:51] WARNING: /Users/travis/build/dmlc/xgboost/src/learner.cc:516: \n",
      "Parameters: { n_estimators } might not be used.\n",
      "\n",
      "  This may not be accurate due to some parameters are only used in language bindings but\n",
      "  passed down to XGBoost core.  Or some parameters are not used but slip through this\n",
      "  verification. Please open an issue if you find above cases.\n",
      "\n",
      "\n",
      "[0]\ttrain-rmse:184.59891+0.43573\ttest-rmse:184.56149+3.91326\n",
      "[10]\ttrain-rmse:112.25019+0.53071\ttest-rmse:112.53157+2.85277\n",
      "[20]\ttrain-rmse:68.45851+0.58560\ttest-rmse:69.05000+2.23017\n",
      "[30]\ttrain-rmse:42.14090+0.46973\ttest-rmse:43.09552+1.52626\n",
      "[40]\ttrain-rmse:26.26995+0.47579\ttest-rmse:27.67042+1.34765\n",
      "[50]\ttrain-rmse:16.63958+0.44294\ttest-rmse:18.58535+1.32006\n",
      "[60]\ttrain-rmse:10.79586+0.46416\ttest-rmse:13.32982+1.44531\n",
      "[70]\ttrain-rmse:7.20306+0.35458\ttest-rmse:10.38904+1.39133\n",
      "[80]\ttrain-rmse:4.91278+0.26714\ttest-rmse:8.69563+1.35445\n",
      "[90]\ttrain-rmse:3.53583+0.22650\ttest-rmse:7.84461+1.34260\n",
      "[100]\ttrain-rmse:2.65594+0.20332\ttest-rmse:7.36408+1.32048\n",
      "[110]\ttrain-rmse:2.05907+0.15854\ttest-rmse:7.06993+1.28644\n",
      "[120]\ttrain-rmse:1.65395+0.13252\ttest-rmse:6.88365+1.25678\n",
      "[130]\ttrain-rmse:1.37066+0.10794\ttest-rmse:6.75555+1.24171\n",
      "[140]\ttrain-rmse:1.15593+0.09053\ttest-rmse:6.67254+1.23396\n",
      "[150]\ttrain-rmse:0.98897+0.07423\ttest-rmse:6.60662+1.22094\n",
      "[160]\ttrain-rmse:0.85417+0.06302\ttest-rmse:6.55853+1.21802\n",
      "[170]\ttrain-rmse:0.74951+0.05855\ttest-rmse:6.52567+1.21305\n",
      "[180]\ttrain-rmse:0.66047+0.05488\ttest-rmse:6.50325+1.20852\n",
      "[190]\ttrain-rmse:0.59016+0.04897\ttest-rmse:6.48541+1.20529\n",
      "[199]\ttrain-rmse:0.53513+0.04775\ttest-rmse:6.47176+1.20251\n"
     ]
    }
   ],
   "source": [
    "cv_results_VGT = xgboost.cv(dtrain=dtrain_VGT, \n",
    "                             params=params, \n",
    "                             nfold=10, \n",
    "                             num_boost_round=200,\n",
    "                             early_stopping_rounds=10,\n",
    "                             metrics=\"rmse\", \n",
    "                             as_pandas=True,\n",
    "                             verbose_eval=10,\n",
    "                             seed=1)"
   ]
  },
  {
   "cell_type": "code",
   "execution_count": 248,
   "metadata": {},
   "outputs": [
    {
     "data": {
      "text/html": [
       "<div>\n",
       "<style scoped>\n",
       "    .dataframe tbody tr th:only-of-type {\n",
       "        vertical-align: middle;\n",
       "    }\n",
       "\n",
       "    .dataframe tbody tr th {\n",
       "        vertical-align: top;\n",
       "    }\n",
       "\n",
       "    .dataframe thead th {\n",
       "        text-align: right;\n",
       "    }\n",
       "</style>\n",
       "<table border=\"1\" class=\"dataframe\">\n",
       "  <thead>\n",
       "    <tr style=\"text-align: right;\">\n",
       "      <th></th>\n",
       "      <th>train-rmse-mean</th>\n",
       "      <th>train-rmse-std</th>\n",
       "      <th>test-rmse-mean</th>\n",
       "      <th>test-rmse-std</th>\n",
       "    </tr>\n",
       "  </thead>\n",
       "  <tbody>\n",
       "    <tr>\n",
       "      <th>195</th>\n",
       "      <td>0.557868</td>\n",
       "      <td>0.047671</td>\n",
       "      <td>6.477263</td>\n",
       "      <td>1.203371</td>\n",
       "    </tr>\n",
       "    <tr>\n",
       "      <th>196</th>\n",
       "      <td>0.552062</td>\n",
       "      <td>0.047985</td>\n",
       "      <td>6.475687</td>\n",
       "      <td>1.203258</td>\n",
       "    </tr>\n",
       "    <tr>\n",
       "      <th>197</th>\n",
       "      <td>0.546232</td>\n",
       "      <td>0.047458</td>\n",
       "      <td>6.474544</td>\n",
       "      <td>1.203463</td>\n",
       "    </tr>\n",
       "    <tr>\n",
       "      <th>198</th>\n",
       "      <td>0.540705</td>\n",
       "      <td>0.047832</td>\n",
       "      <td>6.472815</td>\n",
       "      <td>1.202865</td>\n",
       "    </tr>\n",
       "    <tr>\n",
       "      <th>199</th>\n",
       "      <td>0.535132</td>\n",
       "      <td>0.047751</td>\n",
       "      <td>6.471763</td>\n",
       "      <td>1.202511</td>\n",
       "    </tr>\n",
       "  </tbody>\n",
       "</table>\n",
       "</div>"
      ],
      "text/plain": [
       "     train-rmse-mean  train-rmse-std  test-rmse-mean  test-rmse-std\n",
       "195         0.557868        0.047671        6.477263       1.203371\n",
       "196         0.552062        0.047985        6.475687       1.203258\n",
       "197         0.546232        0.047458        6.474544       1.203463\n",
       "198         0.540705        0.047832        6.472815       1.202865\n",
       "199         0.535132        0.047751        6.471763       1.202511"
      ]
     },
     "execution_count": 248,
     "metadata": {},
     "output_type": "execute_result"
    }
   ],
   "source": [
    "cv_results_VGT.tail()"
   ]
  },
  {
   "cell_type": "code",
   "execution_count": 249,
   "metadata": {},
   "outputs": [
    {
     "data": {
      "text/plain": [
       "6.4717629"
      ]
     },
     "execution_count": 249,
     "metadata": {},
     "output_type": "execute_result"
    }
   ],
   "source": [
    "cv_results_VGT['test-rmse-mean'].min()"
   ]
  },
  {
   "cell_type": "code",
   "execution_count": 250,
   "metadata": {},
   "outputs": [
    {
     "name": "stdout",
     "output_type": "stream",
     "text": [
      "[18:14:15] WARNING: /Users/travis/build/dmlc/xgboost/src/objective/regression_obj.cu:174: reg:linear is now deprecated in favor of reg:squarederror.\n",
      "[18:14:15] WARNING: /Users/travis/build/dmlc/xgboost/src/learner.cc:516: \n",
      "Parameters: { n_estimators } might not be used.\n",
      "\n",
      "  This may not be accurate due to some parameters are only used in language bindings but\n",
      "  passed down to XGBoost core.  Or some parameters are not used but slip through this\n",
      "  verification. Please open an issue if you find above cases.\n",
      "\n",
      "\n",
      "[0]\tTest-rmse:181.98383\n",
      "Will train until Test-rmse hasn't improved in 10 rounds.\n",
      "[10]\tTest-rmse:110.28732\n",
      "[20]\tTest-rmse:67.81508\n",
      "[30]\tTest-rmse:42.05543\n",
      "[40]\tTest-rmse:26.96930\n",
      "[50]\tTest-rmse:17.77968\n",
      "[60]\tTest-rmse:12.86458\n",
      "[70]\tTest-rmse:9.93371\n",
      "[80]\tTest-rmse:8.41603\n",
      "[90]\tTest-rmse:7.60644\n",
      "[100]\tTest-rmse:7.21122\n",
      "[110]\tTest-rmse:6.94426\n",
      "[120]\tTest-rmse:6.79846\n",
      "[130]\tTest-rmse:6.68289\n",
      "[140]\tTest-rmse:6.58359\n",
      "[150]\tTest-rmse:6.50129\n",
      "[160]\tTest-rmse:6.45468\n",
      "[170]\tTest-rmse:6.41602\n",
      "[180]\tTest-rmse:6.38274\n",
      "[190]\tTest-rmse:6.35726\n",
      "[199]\tTest-rmse:6.35113\n",
      "[18:14:18] WARNING: /Users/travis/build/dmlc/xgboost/src/objective/regression_obj.cu:174: reg:linear is now deprecated in favor of reg:squarederror.\n"
     ]
    }
   ],
   "source": [
    "xgb_VGT = xgboost.train(\n",
    "                        params,\n",
    "                        dtrain_VGT,\n",
    "                        num_boost_round=200,\n",
    "                        evals=[(dtest_VGT, \"Test\")],\n",
    "                        early_stopping_rounds=10,\n",
    "                        verbose_eval=10\n",
    "                        )"
   ]
  },
  {
   "cell_type": "code",
   "execution_count": 251,
   "metadata": {},
   "outputs": [
    {
     "data": {
      "text/plain": [
       "6.351127899983594"
      ]
     },
     "execution_count": 251,
     "metadata": {},
     "output_type": "execute_result"
    }
   ],
   "source": [
    "# retrieve the RMSE on the test set\n",
    "from math import sqrt\n",
    "sqrt(mean_squared_error(xgb_VGT.predict(dtest_VGT), y_test_VGT)) #RMSE"
   ]
  },
  {
   "cell_type": "code",
   "execution_count": 252,
   "metadata": {},
   "outputs": [
    {
     "data": {
      "text/plain": [
       "2.7035305890363253"
      ]
     },
     "execution_count": 252,
     "metadata": {},
     "output_type": "execute_result"
    }
   ],
   "source": [
    "# retrieve the MAPE on the test set\n",
    "mean_absolute_percentage_error(y_test_VGT, xgb_VGT.predict(dtest_VGT)) #MAPE"
   ]
  },
  {
   "cell_type": "code",
   "execution_count": null,
   "metadata": {},
   "outputs": [],
   "source": []
  }
 ],
 "metadata": {
  "kernelspec": {
   "display_name": "Python 3",
   "language": "python",
   "name": "python3"
  },
  "language_info": {
   "codemirror_mode": {
    "name": "ipython",
    "version": 3
   },
   "file_extension": ".py",
   "mimetype": "text/x-python",
   "name": "python",
   "nbconvert_exporter": "python",
   "pygments_lexer": "ipython3",
   "version": "3.7.3"
  }
 },
 "nbformat": 4,
 "nbformat_minor": 4
}
