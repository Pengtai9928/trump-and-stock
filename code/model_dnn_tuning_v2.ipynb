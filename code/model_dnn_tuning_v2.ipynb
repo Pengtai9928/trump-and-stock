{
 "cells": [
  {
   "cell_type": "code",
   "execution_count": 218,
   "metadata": {
    "ExecuteTime": {
     "end_time": "2020-11-14T05:16:56.249698Z",
     "start_time": "2020-11-14T05:16:56.246238Z"
    }
   },
   "outputs": [],
   "source": [
    "import matplotlib.pyplot as plt\n",
    "import numpy as np\n",
    "import pandas as pd\n",
    "import seaborn as sns\n",
    "from sklearn.metrics import mean_squared_error\n",
    "from math import sqrt"
   ]
  },
  {
   "cell_type": "code",
   "execution_count": 52,
   "metadata": {
    "ExecuteTime": {
     "end_time": "2020-11-14T05:16:58.894890Z",
     "start_time": "2020-11-14T05:16:56.251860Z"
    }
   },
   "outputs": [
    {
     "name": "stdout",
     "output_type": "stream",
     "text": [
      "2.3.0\n"
     ]
    }
   ],
   "source": [
    "import tensorflow as tf\n",
    "\n",
    "from tensorflow import keras\n",
    "from tensorflow.keras import layers\n",
    "from tensorflow.keras.layers.experimental import preprocessing\n",
    "from keras.layers import Dropout, BatchNormalization\n",
    "print(tf.__version__)"
   ]
  },
  {
   "cell_type": "code",
   "execution_count": 3,
   "metadata": {
    "ExecuteTime": {
     "end_time": "2020-11-14T05:16:58.930338Z",
     "start_time": "2020-11-14T05:16:58.897083Z"
    }
   },
   "outputs": [],
   "source": [
    "dataset = pd.read_csv(\"ZY set.csv\",index_col=0)\n",
    "test = pd.read_csv(\"ZY test set.csv\",index_col=0)\n",
    "\n",
    "#Stock market prices\n",
    "y = dataset.iloc[:,10:13]\n",
    "y_test = test.iloc[:,10:13]\n",
    "\n",
    "#Rearrange so stock market prices are at the end\n",
    "dataset = dataset.iloc[:,np.r_[:10,13:len(dataset.columns)]]\n",
    "dataset = pd.concat([dataset,y],axis=1)\n",
    "\n",
    "test = test.iloc[:,np.r_[:10,13:len(test.columns)]]\n",
    "test = pd.concat([test,y_test],axis=1)"
   ]
  },
  {
   "cell_type": "markdown",
   "metadata": {},
   "source": [
    "### train-test split"
   ]
  },
  {
   "cell_type": "code",
   "execution_count": 5,
   "metadata": {
    "ExecuteTime": {
     "end_time": "2020-11-14T05:16:58.966974Z",
     "start_time": "2020-11-14T05:16:58.961144Z"
    }
   },
   "outputs": [],
   "source": [
    "train_dataset = dataset.sample(frac=0.75, random_state=0)\n",
    "test_dataset = dataset.drop(train_dataset.index)"
   ]
  },
  {
   "cell_type": "markdown",
   "metadata": {},
   "source": [
    "#### predict GSPC original"
   ]
  },
  {
   "cell_type": "code",
   "execution_count": 6,
   "metadata": {
    "ExecuteTime": {
     "end_time": "2020-11-14T05:16:58.974492Z",
     "start_time": "2020-11-14T05:16:58.968704Z"
    }
   },
   "outputs": [],
   "source": [
    "train_feature = train_dataset.iloc[:,:-3].copy()\n",
    "test_feature = test_dataset.iloc[:,:-3].copy()\n",
    "\n",
    "train_gspc = train_dataset['^GSPC']\n",
    "test_gspc = test_dataset['^GSPC']"
   ]
  },
  {
   "cell_type": "code",
   "execution_count": 7,
   "metadata": {
    "ExecuteTime": {
     "end_time": "2020-11-14T05:16:59.007247Z",
     "start_time": "2020-11-14T05:16:58.976322Z"
    }
   },
   "outputs": [],
   "source": [
    "# normalise\n",
    "normalizer = preprocessing.Normalization(input_shape=[84,])\n",
    "normalizer.adapt(np.array(train_feature))"
   ]
  },
  {
   "cell_type": "code",
   "execution_count": 167,
   "metadata": {
    "ExecuteTime": {
     "end_time": "2020-11-14T05:16:59.058793Z",
     "start_time": "2020-11-14T05:16:59.010857Z"
    }
   },
   "outputs": [
    {
     "name": "stdout",
     "output_type": "stream",
     "text": [
      "Model: \"sequential_32\"\n",
      "_________________________________________________________________\n",
      "Layer (type)                 Output Shape              Param #   \n",
      "=================================================================\n",
      "normalization (Normalization (None, 84)                169       \n",
      "_________________________________________________________________\n",
      "dense_320 (Dense)            (None, 64)                5440      \n",
      "_________________________________________________________________\n",
      "dense_321 (Dense)            (None, 64)                4160      \n",
      "_________________________________________________________________\n",
      "dense_322 (Dense)            (None, 1)                 65        \n",
      "=================================================================\n",
      "Total params: 9,834\n",
      "Trainable params: 9,665\n",
      "Non-trainable params: 169\n",
      "_________________________________________________________________\n"
     ]
    }
   ],
   "source": [
    "stopper = tf.keras.callbacks.EarlyStopping(\n",
    "    monitor=\"val_loss\",\n",
    "    min_delta=0,\n",
    "    patience=10,\n",
    "    verbose=0,\n",
    "    mode=\"min\",\n",
    "    baseline=None,\n",
    "    restore_best_weights=False,\n",
    "  )\n",
    "\n",
    "# create model\n",
    "def build_and_compile_model(norm):\n",
    "    model = keras.Sequential([\n",
    "      norm,\n",
    "      layers.Dense(64, activation='relu'),\n",
    "      layers.Dense(64, activation='relu'),\n",
    "      layers.Dense(1)\n",
    "  ])\n",
    "\n",
    "    model.compile(loss='mean_absolute_error',\n",
    "                optimizer=tf.keras.optimizers.Adam(0.001))\n",
    "    return model\n",
    "\n",
    "dnn_model = build_and_compile_model(normalizer)\n",
    "dnn_model.summary()"
   ]
  },
  {
   "cell_type": "code",
   "execution_count": 20,
   "metadata": {
    "ExecuteTime": {
     "end_time": "2020-11-14T05:17:02.781799Z",
     "start_time": "2020-11-14T05:16:59.062453Z"
    }
   },
   "outputs": [],
   "source": [
    "history = dnn_model.fit(\n",
    "    train_feature, train_gspc,\n",
    "    validation_split=0.2,\n",
    "    verbose=0, epochs=400,callbacks=[stopper])"
   ]
  },
  {
   "cell_type": "code",
   "execution_count": 21,
   "metadata": {
    "ExecuteTime": {
     "end_time": "2020-11-14T05:17:02.786566Z",
     "start_time": "2020-11-14T05:17:02.783083Z"
    }
   },
   "outputs": [],
   "source": [
    "def plot_loss(history, ylimt=3000):\n",
    "    plt.plot(history.history['loss'], label='loss')\n",
    "    plt.plot(history.history['val_loss'], label='val_loss')\n",
    "    plt.ylim([0, ylimt])\n",
    "    plt.xlabel('Epoch')\n",
    "    plt.ylabel('Error')\n",
    "    plt.legend()\n",
    "    plt.grid(True)"
   ]
  },
  {
   "cell_type": "code",
   "execution_count": 22,
   "metadata": {
    "ExecuteTime": {
     "end_time": "2020-11-14T05:17:02.934688Z",
     "start_time": "2020-11-14T05:17:02.788241Z"
    }
   },
   "outputs": [
    {
     "data": {
      "image/png": "[encoded data removed]",
      "text/plain": [
       "<Figure size 432x288 with 1 Axes>"
      ]
     },
     "metadata": {
      "needs_background": "light"
     },
     "output_type": "display_data"
    }
   ],
   "source": [
    "plot_loss(history)"
   ]
  },
  {
   "cell_type": "code",
   "execution_count": 23,
   "metadata": {
    "ExecuteTime": {
     "end_time": "2020-11-14T05:17:03.053235Z",
     "start_time": "2020-11-14T05:17:02.936677Z"
    }
   },
   "outputs": [
    {
     "data": {
      "text/plain": [
       "8.920365238989419"
      ]
     },
     "execution_count": 23,
     "metadata": {},
     "output_type": "execute_result"
    }
   ],
   "source": [
    "# retrieve the MAPE on the test set\n",
    "\n",
    "def percentage_error(actual, predicted):\n",
    "    res = np.empty(actual.shape)\n",
    "    for j in range(actual.shape[0]):\n",
    "        if actual[j] != 0:\n",
    "            res[j] = (actual[j] - predicted[j]) / actual[j]\n",
    "        else:\n",
    "            res[j] = predicted[j] / np.mean(actual)\n",
    "    return res\n",
    "\n",
    "def mean_absolute_percentage_error(y_true, y_pred): \n",
    "    return np.mean(np.abs(percentage_error(np.asarray(y_true), np.asarray(y_pred)))) * 100\n",
    "\n",
    "mean_absolute_percentage_error(test_gspc, dnn_model.predict(test_feature)) #MAPE"
   ]
  },
  {
   "cell_type": "code",
   "execution_count": 24,
   "metadata": {
    "ExecuteTime": {
     "end_time": "2020-11-14T05:18:53.755166Z",
     "start_time": "2020-11-14T05:18:53.717563Z"
    }
   },
   "outputs": [
    {
     "data": {
      "text/plain": [
       "344.2987429096365"
      ]
     },
     "execution_count": 24,
     "metadata": {},
     "output_type": "execute_result"
    }
   ],
   "source": [
    "# RMSE\n",
    "sqrt(mean_squared_error(dnn_model.predict(test_feature), test_gspc))"
   ]
  },
  {
   "cell_type": "markdown",
   "metadata": {},
   "source": []
  },
  {
   "cell_type": "markdown",
   "metadata": {},
   "source": [
    "### tuning"
   ]
  },
  {
   "cell_type": "markdown",
   "metadata": {},
   "source": [
    "#### 1. Increase the number of hidden layers to 5"
   ]
  },
  {
   "cell_type": "code",
   "execution_count": 229,
   "metadata": {
    "ExecuteTime": {
     "end_time": "2020-11-14T05:17:03.098898Z",
     "start_time": "2020-11-14T05:17:03.054867Z"
    }
   },
   "outputs": [
    {
     "name": "stdout",
     "output_type": "stream",
     "text": [
      "Model: \"sequential_41\"\n",
      "_________________________________________________________________\n",
      "Layer (type)                 Output Shape              Param #   \n",
      "=================================================================\n",
      "normalization (Normalization (None, 84)                169       \n",
      "_________________________________________________________________\n",
      "dense_386 (Dense)            (None, 64)                5440      \n",
      "_________________________________________________________________\n",
      "dense_387 (Dense)            (None, 64)                4160      \n",
      "_________________________________________________________________\n",
      "dense_388 (Dense)            (None, 64)                4160      \n",
      "_________________________________________________________________\n",
      "dense_389 (Dense)            (None, 64)                4160      \n",
      "_________________________________________________________________\n",
      "dense_390 (Dense)            (None, 64)                4160      \n",
      "_________________________________________________________________\n",
      "dense_391 (Dense)            (None, 1)                 65        \n",
      "=================================================================\n",
      "Total params: 22,314\n",
      "Trainable params: 22,145\n",
      "Non-trainable params: 169\n",
      "_________________________________________________________________\n"
     ]
    }
   ],
   "source": [
    "# create model\n",
    "def build_and_compile_model_layer(norm):\n",
    "    model = keras.Sequential([\n",
    "      norm,\n",
    "      layers.Dense(64, activation='relu'),\n",
    "      layers.Dense(64, activation='relu'),\n",
    "      layers.Dense(64, activation='relu'),\n",
    "      layers.Dense(64, activation='relu'),\n",
    "      layers.Dense(64, activation='relu'),       \n",
    "      layers.Dense(1)\n",
    "  ])\n",
    "\n",
    "    model.compile(loss='mean_absolute_error',\n",
    "                optimizer=tf.keras.optimizers.Adam(0.001))\n",
    "    return model\n",
    "\n",
    "dnn_model_layer = build_and_compile_model_layer(normalizer)\n",
    "dnn_model_layer.summary()"
   ]
  },
  {
   "cell_type": "code",
   "execution_count": 230,
   "metadata": {
    "ExecuteTime": {
     "end_time": "2020-11-14T05:17:06.801179Z",
     "start_time": "2020-11-14T05:17:03.101041Z"
    }
   },
   "outputs": [],
   "source": [
    "history_layer = dnn_model_layer.fit(\n",
    "    train_feature, train_gspc,\n",
    "    validation_split=0.2,\n",
    "    verbose=0, epochs=400,callbacks=[stopper])"
   ]
  },
  {
   "cell_type": "code",
   "execution_count": 231,
   "metadata": {
    "ExecuteTime": {
     "end_time": "2020-11-14T05:17:06.912350Z",
     "start_time": "2020-11-14T05:17:06.802726Z"
    }
   },
   "outputs": [
    {
     "data": {
      "image/png": "[encoded data removed]",
      "text/plain": [
       "<Figure size 432x288 with 1 Axes>"
      ]
     },
     "metadata": {},
     "output_type": "display_data"
    }
   ],
   "source": [
    "plot_loss(history_layer)"
   ]
  },
  {
   "cell_type": "code",
   "execution_count": 232,
   "metadata": {
    "ExecuteTime": {
     "end_time": "2020-11-14T05:18:12.494355Z",
     "start_time": "2020-11-14T05:18:12.403627Z"
    }
   },
   "outputs": [
    {
     "data": {
      "text/plain": [
       "10.537976173691277"
      ]
     },
     "execution_count": 232,
     "metadata": {},
     "output_type": "execute_result"
    }
   ],
   "source": [
    "mean_absolute_percentage_error(test_gspc, dnn_model_layer.predict(test_feature)) #MAPE"
   ]
  },
  {
   "cell_type": "code",
   "execution_count": 125,
   "metadata": {
    "ExecuteTime": {
     "end_time": "2020-11-14T05:18:21.254387Z",
     "start_time": "2020-11-14T05:18:21.215229Z"
    }
   },
   "outputs": [
    {
     "data": {
      "text/plain": [
       "408.75305747033116"
      ]
     },
     "execution_count": 125,
     "metadata": {},
     "output_type": "execute_result"
    }
   ],
   "source": [
    "# RMSE\n",
    "sqrt(mean_squared_error(dnn_model_layer.predict(test_feature), test_gspc))"
   ]
  },
  {
   "cell_type": "markdown",
   "metadata": {},
   "source": [
    "#### 2. Increase the size of each layer to 128"
   ]
  },
  {
   "cell_type": "code",
   "execution_count": 115,
   "metadata": {
    "ExecuteTime": {
     "end_time": "2020-11-14T05:17:06.982288Z",
     "start_time": "2020-11-14T05:17:06.948290Z"
    }
   },
   "outputs": [
    {
     "name": "stdout",
     "output_type": "stream",
     "text": [
      "Model: \"sequential_20\"\n",
      "_________________________________________________________________\n",
      "Layer (type)                 Output Shape              Param #   \n",
      "=================================================================\n",
      "normalization (Normalization (None, 84)                169       \n",
      "_________________________________________________________________\n",
      "dense_233 (Dense)            (None, 128)               10880     \n",
      "_________________________________________________________________\n",
      "dense_234 (Dense)            (None, 128)               16512     \n",
      "_________________________________________________________________\n",
      "dense_235 (Dense)            (None, 1)                 129       \n",
      "=================================================================\n",
      "Total params: 27,690\n",
      "Trainable params: 27,521\n",
      "Non-trainable params: 169\n",
      "_________________________________________________________________\n"
     ]
    }
   ],
   "source": [
    "# create model\n",
    "def build_and_compile_model_size(norm):\n",
    "    model = keras.Sequential([\n",
    "      norm,\n",
    "      layers.Dense(128, activation='relu'),\n",
    "      layers.Dense(128, activation='relu'),    \n",
    "      layers.Dense(1)\n",
    "  ])\n",
    "\n",
    "    model.compile(loss='mean_absolute_error',\n",
    "                optimizer=tf.keras.optimizers.Adam(0.001))\n",
    "    return model\n",
    "\n",
    "dnn_model_size = build_and_compile_model_size(normalizer)\n",
    "dnn_model_size.summary()"
   ]
  },
  {
   "cell_type": "code",
   "execution_count": 116,
   "metadata": {
    "ExecuteTime": {
     "end_time": "2020-11-14T05:17:10.670604Z",
     "start_time": "2020-11-14T05:17:06.983911Z"
    }
   },
   "outputs": [],
   "source": [
    "history_size = dnn_model_size.fit(\n",
    "    train_feature, train_gspc,\n",
    "    validation_split=0.2,\n",
    "    verbose=0, epochs=400,callbacks=[stopper])"
   ]
  },
  {
   "cell_type": "code",
   "execution_count": 117,
   "metadata": {
    "ExecuteTime": {
     "end_time": "2020-11-14T05:17:10.785975Z",
     "start_time": "2020-11-14T05:17:10.671912Z"
    }
   },
   "outputs": [
    {
     "data": {
      "image/png": "[encoded data removed]",
      "text/plain": [
       "<Figure size 432x288 with 1 Axes>"
      ]
     },
     "metadata": {
      "needs_background": "light"
     },
     "output_type": "display_data"
    }
   ],
   "source": [
    "plot_loss(history_size, 300)"
   ]
  },
  {
   "cell_type": "code",
   "execution_count": 118,
   "metadata": {
    "ExecuteTime": {
     "end_time": "2020-11-14T05:17:51.016092Z",
     "start_time": "2020-11-14T05:17:50.940798Z"
    }
   },
   "outputs": [
    {
     "data": {
      "text/plain": [
       "8.925374707079655"
      ]
     },
     "execution_count": 118,
     "metadata": {},
     "output_type": "execute_result"
    }
   ],
   "source": [
    "# MAPE\n",
    "mean_absolute_percentage_error(test_gspc, dnn_model_size.predict(test_feature)) "
   ]
  },
  {
   "cell_type": "code",
   "execution_count": 119,
   "metadata": {
    "ExecuteTime": {
     "end_time": "2020-11-14T05:19:10.396273Z",
     "start_time": "2020-11-14T05:19:10.356199Z"
    }
   },
   "outputs": [
    {
     "data": {
      "text/plain": [
       "357.616442685152"
      ]
     },
     "execution_count": 119,
     "metadata": {},
     "output_type": "execute_result"
    }
   ],
   "source": [
    "# RMSE\n",
    "sqrt(mean_squared_error(dnn_model_size.predict(test_feature), test_gspc))"
   ]
  },
  {
   "cell_type": "markdown",
   "metadata": {},
   "source": [
    "#### 3. Change the activation function to sigmoid"
   ]
  },
  {
   "cell_type": "code",
   "execution_count": 37,
   "metadata": {
    "ExecuteTime": {
     "end_time": "2020-11-14T05:17:10.861014Z",
     "start_time": "2020-11-14T05:17:10.823314Z"
    }
   },
   "outputs": [
    {
     "name": "stdout",
     "output_type": "stream",
     "text": [
      "Model: \"sequential_5\"\n",
      "_________________________________________________________________\n",
      "Layer (type)                 Output Shape              Param #   \n",
      "=================================================================\n",
      "normalization (Normalization (None, 84)                169       \n",
      "_________________________________________________________________\n",
      "dense_21 (Dense)             (None, 128)               10880     \n",
      "_________________________________________________________________\n",
      "dense_22 (Dense)             (None, 128)               16512     \n",
      "_________________________________________________________________\n",
      "dense_23 (Dense)             (None, 1)                 129       \n",
      "=================================================================\n",
      "Total params: 27,690\n",
      "Trainable params: 27,521\n",
      "Non-trainable params: 169\n",
      "_________________________________________________________________\n"
     ]
    }
   ],
   "source": [
    "# create model\n",
    "def build_and_compile_model_fn(norm):\n",
    "    model = keras.Sequential([\n",
    "      norm,\n",
    "      layers.Dense(128, activation='sigmoid'),\n",
    "      layers.Dense(128, activation='sigmoid'),    \n",
    "      layers.Dense(1)\n",
    "  ])\n",
    "\n",
    "    model.compile(loss='mean_absolute_error',\n",
    "                optimizer=tf.keras.optimizers.Adam(0.001))\n",
    "    return model\n",
    "\n",
    "dnn_model_fn = build_and_compile_model_fn(normalizer)\n",
    "dnn_model_fn.summary()"
   ]
  },
  {
   "cell_type": "code",
   "execution_count": 38,
   "metadata": {
    "ExecuteTime": {
     "end_time": "2020-11-14T05:17:14.579018Z",
     "start_time": "2020-11-14T05:17:10.862667Z"
    }
   },
   "outputs": [],
   "source": [
    "history_fn = dnn_model_fn.fit(\n",
    "    train_feature, train_gspc,\n",
    "    validation_split=0.2,\n",
    "    verbose=0, epochs=400,callbacks=[stopper])"
   ]
  },
  {
   "cell_type": "code",
   "execution_count": 39,
   "metadata": {
    "ExecuteTime": {
     "end_time": "2020-11-14T05:17:14.704082Z",
     "start_time": "2020-11-14T05:17:14.583010Z"
    }
   },
   "outputs": [
    {
     "data": {
      "image/png": "[encoded data removed]",
      "text/plain": [
       "<Figure size 432x288 with 1 Axes>"
      ]
     },
     "metadata": {
      "needs_background": "light"
     },
     "output_type": "display_data"
    }
   ],
   "source": [
    "plot_loss(history_fn)"
   ]
  },
  {
   "cell_type": "code",
   "execution_count": 40,
   "metadata": {
    "ExecuteTime": {
     "end_time": "2020-11-14T05:19:51.924611Z",
     "start_time": "2020-11-14T05:19:51.845880Z"
    }
   },
   "outputs": [
    {
     "data": {
      "text/plain": [
       "90.94390077768145"
      ]
     },
     "execution_count": 40,
     "metadata": {},
     "output_type": "execute_result"
    }
   ],
   "source": [
    "# MAPE\n",
    "mean_absolute_percentage_error(test_gspc, dnn_model_fn.predict(test_feature)) "
   ]
  },
  {
   "cell_type": "code",
   "execution_count": 41,
   "metadata": {
    "ExecuteTime": {
     "end_time": "2020-11-14T05:20:10.399716Z",
     "start_time": "2020-11-14T05:20:10.361077Z"
    }
   },
   "outputs": [
    {
     "data": {
      "text/plain": [
       "2447.9672901400654"
      ]
     },
     "execution_count": 41,
     "metadata": {},
     "output_type": "execute_result"
    }
   ],
   "source": [
    "# RMSE\n",
    "sqrt(mean_squared_error(dnn_model_fn.predict(test_feature), test_gspc))"
   ]
  },
  {
   "cell_type": "markdown",
   "metadata": {},
   "source": [
    "### Adding it all together, increasing number of layers of same type does not help, increasing layer unit helps and sigmoid does not help.\n",
    "\n",
    "Therefore, we will use a bottleneck architecture of [512,256,128,64] of 2 layers each, and continue with relu activation. Furthermore, based on https://machinelearningmastery.com/batch-normalization-for-training-of-deep-neural-networks/ , we will introduce Batchnormalization and Dropout layers."
   ]
  },
  {
   "cell_type": "code",
   "execution_count": 193,
   "metadata": {},
   "outputs": [
    {
     "name": "stdout",
     "output_type": "stream",
     "text": [
      "Model: \"sequential_36\"\n",
      "_________________________________________________________________\n",
      "Layer (type)                 Output Shape              Param #   \n",
      "=================================================================\n",
      "normalization (Normalization (None, 84)                169       \n",
      "_________________________________________________________________\n",
      "dense_344 (Dense)            (None, 512)               43520     \n",
      "_________________________________________________________________\n",
      "batch_normalization_181 (Bat (None, 512)               2048      \n",
      "_________________________________________________________________\n",
      "dropout_206 (Dropout)        (None, 512)               0         \n",
      "_________________________________________________________________\n",
      "dense_345 (Dense)            (None, 512)               262656    \n",
      "_________________________________________________________________\n",
      "batch_normalization_182 (Bat (None, 512)               2048      \n",
      "_________________________________________________________________\n",
      "dropout_207 (Dropout)        (None, 512)               0         \n",
      "_________________________________________________________________\n",
      "dense_346 (Dense)            (None, 256)               131328    \n",
      "_________________________________________________________________\n",
      "batch_normalization_183 (Bat (None, 256)               1024      \n",
      "_________________________________________________________________\n",
      "dropout_208 (Dropout)        (None, 256)               0         \n",
      "_________________________________________________________________\n",
      "dense_347 (Dense)            (None, 256)               65792     \n",
      "_________________________________________________________________\n",
      "batch_normalization_184 (Bat (None, 256)               1024      \n",
      "_________________________________________________________________\n",
      "dropout_209 (Dropout)        (None, 256)               0         \n",
      "_________________________________________________________________\n",
      "dense_348 (Dense)            (None, 128)               32896     \n",
      "_________________________________________________________________\n",
      "batch_normalization_185 (Bat (None, 128)               512       \n",
      "_________________________________________________________________\n",
      "dropout_210 (Dropout)        (None, 128)               0         \n",
      "_________________________________________________________________\n",
      "dense_349 (Dense)            (None, 128)               16512     \n",
      "_________________________________________________________________\n",
      "batch_normalization_186 (Bat (None, 128)               512       \n",
      "_________________________________________________________________\n",
      "dropout_211 (Dropout)        (None, 128)               0         \n",
      "_________________________________________________________________\n",
      "dense_350 (Dense)            (None, 64)                8256      \n",
      "_________________________________________________________________\n",
      "batch_normalization_187 (Bat (None, 64)                256       \n",
      "_________________________________________________________________\n",
      "dropout_212 (Dropout)        (None, 64)                0         \n",
      "_________________________________________________________________\n",
      "dense_351 (Dense)            (None, 64)                4160      \n",
      "_________________________________________________________________\n",
      "batch_normalization_188 (Bat (None, 64)                256       \n",
      "_________________________________________________________________\n",
      "dropout_213 (Dropout)        (None, 64)                0         \n",
      "_________________________________________________________________\n",
      "dense_352 (Dense)            (None, 1)                 65        \n",
      "=================================================================\n",
      "Total params: 573,034\n",
      "Trainable params: 569,025\n",
      "Non-trainable params: 4,009\n",
      "_________________________________________________________________\n"
     ]
    }
   ],
   "source": [
    "def build_and_compile_model(norm):\n",
    "    model = keras.Sequential()\n",
    "    model.add(norm)\n",
    "    for i in [512,256,128,64]:\n",
    "        for j in range(2):\n",
    "            model.add(layers.Dense(i,activation='relu'))\n",
    "            model.add(BatchNormalization())\n",
    "            model.add(Dropout(0.1))\n",
    "            \n",
    "    model.add(layers.Dense(1))\n",
    "\n",
    "    model.compile(loss='mean_absolute_error',\n",
    "                optimizer=tf.keras.optimizers.Adam(0.001))\n",
    "    return model\n",
    "\n",
    "dnn_model = build_and_compile_model(normalizer)\n",
    "dnn_model.summary()"
   ]
  },
  {
   "cell_type": "code",
   "execution_count": 194,
   "metadata": {},
   "outputs": [],
   "source": [
    "history_fn = dnn_model.fit(\n",
    "    train_feature, train_gspc,\n",
    "    validation_split=0.2,\n",
    "    verbose=0, epochs=400,callbacks=[stopper])"
   ]
  },
  {
   "cell_type": "code",
   "execution_count": 195,
   "metadata": {},
   "outputs": [
    {
     "data": {
      "image/png": "[encoded data removed]",
      "text/plain": [
       "<Figure size 432x288 with 1 Axes>"
      ]
     },
     "metadata": {
      "needs_background": "light"
     },
     "output_type": "display_data"
    }
   ],
   "source": [
    "plot_loss(history_fn)"
   ]
  },
  {
   "cell_type": "code",
   "execution_count": 196,
   "metadata": {},
   "outputs": [
    {
     "data": {
      "text/plain": [
       "4.845916735949514"
      ]
     },
     "execution_count": 196,
     "metadata": {},
     "output_type": "execute_result"
    }
   ],
   "source": [
    "# MAPE\n",
    "mean_absolute_percentage_error(test_gspc, dnn_model.predict(test_feature)) "
   ]
  },
  {
   "cell_type": "code",
   "execution_count": 197,
   "metadata": {},
   "outputs": [
    {
     "data": {
      "text/plain": [
       "193.54046120706664"
      ]
     },
     "execution_count": 197,
     "metadata": {},
     "output_type": "execute_result"
    }
   ],
   "source": [
    "# RMSE\n",
    "sqrt(mean_squared_error(dnn_model.predict(test_feature), test_gspc))"
   ]
  },
  {
   "cell_type": "markdown",
   "metadata": {},
   "source": [
    "## Test data prediction"
   ]
  },
  {
   "cell_type": "code",
   "execution_count": 199,
   "metadata": {},
   "outputs": [],
   "source": [
    "dnn_model = build_and_compile_model(normalizer)\n",
    "\n",
    "history_fn = dnn_model.fit(\n",
    "    train_feature, train_gspc,\n",
    "    validation_split=0.2,\n",
    "    verbose=0, epochs=400,callbacks=[stopper])\n",
    "\n",
    "GSPC_pred = dnn_model.predict(test.iloc[:,:-3])"
   ]
  },
  {
   "cell_type": "code",
   "execution_count": 200,
   "metadata": {},
   "outputs": [],
   "source": [
    "train_ixic = train_dataset['^IXIC']\n",
    "\n",
    "dnn_model = build_and_compile_model(normalizer)\n",
    "\n",
    "history_ixic = dnn_model.fit(\n",
    "    train_feature, train_ixic,\n",
    "    validation_split=0.2,\n",
    "    verbose=0, epochs=400,callbacks=[stopper])\n",
    "\n",
    "IXIC_pred = dnn_model.predict(test.iloc[:,:-3])"
   ]
  },
  {
   "cell_type": "code",
   "execution_count": 201,
   "metadata": {},
   "outputs": [],
   "source": [
    "train_vgt = train_dataset['VGT']\n",
    "\n",
    "dnn_model = build_and_compile_model(normalizer)\n",
    "\n",
    "history_vgt = dnn_model.fit(\n",
    "    train_feature, train_vgt,\n",
    "    validation_split=0.2,\n",
    "    verbose=0, epochs=500,callbacks=[stopper])\n",
    "\n",
    "VGT_pred = dnn_model.predict(test.iloc[:,:-3])"
   ]
  },
  {
   "cell_type": "code",
   "execution_count": 202,
   "metadata": {},
   "outputs": [],
   "source": [
    "GSPC_pred = [x[0] for x in GSPC_pred]\n",
    "IXIC_pred = [x[0] for x in IXIC_pred]\n",
    "VGT_pred = [x[0] for x in VGT_pred]"
   ]
  },
  {
   "cell_type": "code",
   "execution_count": 225,
   "metadata": {},
   "outputs": [
    {
     "name": "stdout",
     "output_type": "stream",
     "text": [
      "GSPC metrics\n",
      "RMSE: 456.764, MAPE:10.927\n",
      "\n",
      "\n",
      "IXIC metrics\n",
      "RMSE: 2837.708, MAPE:22.172\n",
      "\n",
      "\n",
      "VGT metrics\n",
      "RMSE: 83.895, MAPE:23.194\n"
     ]
    }
   ],
   "source": [
    "print(\"GSPC metrics\")\n",
    "print(\"RMSE: %.3f, MAPE:%.3f\"%(sqrt(mean_squared_error(GSPC_pred,test.reset_index()['^GSPC'])),\n",
    "                               mean_absolute_percentage_error(test.reset_index()['^GSPC'], GSPC_pred)))\n",
    "print(\"\\n\")\n",
    "print(\"IXIC metrics\")\n",
    "print(\"RMSE: %.3f, MAPE:%.3f\"%(sqrt(mean_squared_error(IXIC_pred,test.reset_index()['^IXIC'])),\n",
    "                               mean_absolute_percentage_error(test.reset_index()['^IXIC'], IXIC_pred)))\n",
    "print(\"\\n\")\n",
    "print(\"VGT metrics\")\n",
    "print(\"RMSE: %.3f, MAPE:%.3f\"%(sqrt(mean_squared_error(VGT_pred,test.reset_index()['VGT'])),\n",
    "                               mean_absolute_percentage_error(test.reset_index()['VGT'], VGT_pred)))"
   ]
  },
  {
   "cell_type": "code",
   "execution_count": 216,
   "metadata": {},
   "outputs": [],
   "source": [
    "# obtain time series plots of acutual prices and forecasts prices for GSPC, IXIC and VGT\n",
    "\n",
    "def plot_predictions(test,\n",
    "                     set3_GSPC_pred, set3_IXIC_pred, set3_VGT_pred\n",
    "                    ):\n",
    "    import matplotlib.ticker as ticker\n",
    "    test_df_grouped = test.groupby('market_date').mean().reset_index()\n",
    "    \n",
    "    # obtain dataframes that contain predictions and the actual prices\n",
    "    GSPC_pred_df = pd.DataFrame({'market_date':test_df_grouped['market_date'],\n",
    "                                  'actual_GSPC':test_df_grouped['^GSPC'],\n",
    "                                  'set3_GSPC_pred':set3_GSPC_pred\n",
    "                                 }).set_index('market_date')\n",
    "    \n",
    "    IXIC_pred_df = pd.DataFrame({'market_date':test_df_grouped['market_date'],\n",
    "                                  'actual_IXIC':test_df_grouped['^IXIC'],\n",
    "                                  'set3_IXIC_pred':set3_IXIC_pred\n",
    "                                 }).set_index('market_date')\n",
    "    \n",
    "    VGT_pred_df = pd.DataFrame({'market_date':test_df_grouped['market_date'],\n",
    "                                'actual_VGT':test_df_grouped['VGT'],\n",
    "                                'set3_VGT_pred':set3_VGT_pred\n",
    "                                }).set_index('market_date')    \n",
    "    \n",
    "    # matplotlib and seaborn settings\n",
    "    sns.set_style(\"ticks\")\n",
    "    fig, axes = plt.subplots(nrows=3, ncols=1, figsize=(15,12))\n",
    "    plt.subplots_adjust(hspace=0.5)\n",
    "   \n",
    "    # generate plots\n",
    "    GSPC = sns.lineplot(data=GSPC_pred_df, ax=axes[0])\n",
    "    GSPC.xaxis.set_major_locator(ticker.MultipleLocator(2))\n",
    "    GSPC.legend(loc='center right', bbox_to_anchor=(1.17, 0.5), ncol=1)\n",
    "    axes[0].title.set_text(\"GSPC predictions\")\n",
    "    \n",
    "    IXIC = sns.lineplot(data=IXIC_pred_df, ax=axes[1])\n",
    "    IXIC.xaxis.set_major_locator(ticker.MultipleLocator(2))\n",
    "    IXIC.legend(loc='center right', bbox_to_anchor=(1.17, 0.5), ncol=1)\n",
    "    axes[1].title.set_text(\"IXIC predictions\")\n",
    "    \n",
    "    VGT = sns.lineplot(data=VGT_pred_df, ax=axes[2])\n",
    "    VGT.xaxis.set_major_locator(ticker.MultipleLocator(2))\n",
    "    VGT.legend(loc='center right', bbox_to_anchor=(1.17, 0.5), ncol=1)\n",
    "    axes[2].title.set_text(\"VGT predictions\")\n",
    "    \n",
    "    plt.savefig(\"time_series_prediction.png\", dpi=300, bbox_inches='tight')\n",
    "    plt.show()\n",
    "    \n",
    "    return GSPC_pred_df, IXIC_pred_df, VGT_pred_df"
   ]
  },
  {
   "cell_type": "code",
   "execution_count": 217,
   "metadata": {},
   "outputs": [
    {
     "data": {
      "image/png": "[encoded data removed]",
      "text/plain": [
       "<Figure size 1080x864 with 3 Axes>"
      ]
     },
     "metadata": {},
     "output_type": "display_data"
    }
   ],
   "source": [
    "GSPC_pred_df, IXIC_pred_df, VGT_pred_df = plot_predictions(test.reset_index(),\n",
    "                                                           GSPC_pred, IXIC_pred, VGT_pred\n",
    "                                                          )"
   ]
  }
 ],
 "metadata": {
  "kernelspec": {
   "display_name": "Python 3",
   "language": "python",
   "name": "python3"
  },
  "language_info": {
   "codemirror_mode": {
    "name": "ipython",
    "version": 3
   },
   "file_extension": ".py",
   "mimetype": "text/x-python",
   "name": "python",
   "nbconvert_exporter": "python",
   "pygments_lexer": "ipython3",
   "version": "3.7.4"
  },
  "toc": {
   "base_numbering": 1,
   "nav_menu": {},
   "number_sections": false,
   "sideBar": true,
   "skip_h1_title": false,
   "title_cell": "Table of Contents",
   "title_sidebar": "Contents",
   "toc_cell": false,
   "toc_position": {},
   "toc_section_display": true,
   "toc_window_display": false
  }
 },
 "nbformat": 4,
 "nbformat_minor": 4
}
