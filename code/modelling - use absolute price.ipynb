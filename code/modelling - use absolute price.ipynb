{
 "cells": [
  {
   "cell_type": "code",
   "execution_count": 2,
   "metadata": {},
   "outputs": [],
   "source": [
    "import pandas as pd\n",
    "import numpy as np\n",
    "import multiprocessing\n",
    "from time import time\n",
    "import matplotlib.pyplot as plt\n",
    "import seaborn as sns\n",
    "%matplotlib inline"
   ]
  },
  {
   "cell_type": "code",
   "execution_count": 3,
   "metadata": {},
   "outputs": [],
   "source": [
    "df = pd.read_csv('../data/tweets&sentiment&absoluteprices.csv')"
   ]
  },
  {
   "cell_type": "markdown",
   "metadata": {},
   "source": [
    "## Feature preprocessing"
   ]
  },
  {
   "cell_type": "markdown",
   "metadata": {},
   "source": [
    "### Drop features"
   ]
  },
  {
   "cell_type": "markdown",
   "metadata": {},
   "source": [
    "In this step, features not useful for modelling are discarded. Such features are:\n",
    "* source\n",
    "* text\n",
    "* created_at\n",
    "* id_str\n",
    "* hashtag\n",
    "* mention\n",
    "* neg_sentiment\n",
    "* neu_sentiment\n",
    "* pos_sentiment\n",
    "* created_date\n",
    "* created_time\n",
    "* passed_closing\n",
    "* market_date"
   ]
  },
  {
   "cell_type": "code",
   "execution_count": 4,
   "metadata": {},
   "outputs": [],
   "source": [
    "# drop review_no, product_id and review_date\n",
    "df = df.drop(columns=['source', 'text', 'created_at', 'id_str', 'hashtag', 'mention', \n",
    "                      'neg_sentiment', 'neu_sentiment', 'pos_sentiment', 'created_date',\n",
    "                      'created_time', 'passed_closing'\n",
    "                     ], errors='ignore')"
   ]
  },
  {
   "cell_type": "code",
   "execution_count": 5,
   "metadata": {
    "scrolled": true
   },
   "outputs": [
    {
     "data": {
      "text/plain": [
       "Index(['cleaned_text', 'retweet_count', 'favorite_count', 'is_retweet',\n",
       "       'hashtag_count', 'mention_count', 'word_count', 'char_count',\n",
       "       'word_density', 'punctuation_freq', 'upper_case_freq',\n",
       "       'compound_sentiment', 'market_date', '^GSPC', '^IXIC', 'VGT'],\n",
       "      dtype='object')"
      ]
     },
     "execution_count": 5,
     "metadata": {},
     "output_type": "execute_result"
    }
   ],
   "source": [
    "df.columns"
   ]
  },
  {
   "cell_type": "markdown",
   "metadata": {},
   "source": [
    "### Type casting"
   ]
  },
  {
   "cell_type": "code",
   "execution_count": 6,
   "metadata": {},
   "outputs": [
    {
     "data": {
      "text/plain": [
       "cleaned_text           object\n",
       "retweet_count           int64\n",
       "favorite_count          int64\n",
       "is_retweet             object\n",
       "hashtag_count           int64\n",
       "mention_count           int64\n",
       "word_count              int64\n",
       "char_count              int64\n",
       "word_density          float64\n",
       "punctuation_freq      float64\n",
       "upper_case_freq       float64\n",
       "compound_sentiment    float64\n",
       "market_date            object\n",
       "^GSPC                 float64\n",
       "^IXIC                 float64\n",
       "VGT                   float64\n",
       "dtype: object"
      ]
     },
     "execution_count": 6,
     "metadata": {},
     "output_type": "execute_result"
    }
   ],
   "source": [
    "df.dtypes"
   ]
  },
  {
   "cell_type": "code",
   "execution_count": 7,
   "metadata": {},
   "outputs": [],
   "source": [
    "# change is_tweet from boolean to binary\n",
    "df['is_retweet'] = df['is_retweet'].replace({True:1, False:0})"
   ]
  },
  {
   "cell_type": "markdown",
   "metadata": {},
   "source": [
    "### Drop NA values"
   ]
  },
  {
   "cell_type": "code",
   "execution_count": 8,
   "metadata": {},
   "outputs": [
    {
     "data": {
      "text/plain": [
       "cleaned_text          1192\n",
       "retweet_count            0\n",
       "favorite_count           0\n",
       "is_retweet              58\n",
       "hashtag_count            0\n",
       "mention_count            0\n",
       "word_count               0\n",
       "char_count               0\n",
       "word_density           928\n",
       "punctuation_freq       928\n",
       "upper_case_freq        928\n",
       "compound_sentiment       0\n",
       "market_date              0\n",
       "^GSPC                    0\n",
       "^IXIC                    0\n",
       "VGT                      0\n",
       "dtype: int64"
      ]
     },
     "execution_count": 8,
     "metadata": {},
     "output_type": "execute_result"
    }
   ],
   "source": [
    "df.isna().sum()"
   ]
  },
  {
   "cell_type": "code",
   "execution_count": 9,
   "metadata": {},
   "outputs": [],
   "source": [
    "df = df.dropna(how='any')\n",
    "df = df.reset_index().drop(columns=['index'])"
   ]
  },
  {
   "cell_type": "code",
   "execution_count": 10,
   "metadata": {},
   "outputs": [
    {
     "data": {
      "text/html": [
       "<div>\n",
       "<style scoped>\n",
       "    .dataframe tbody tr th:only-of-type {\n",
       "        vertical-align: middle;\n",
       "    }\n",
       "\n",
       "    .dataframe tbody tr th {\n",
       "        vertical-align: top;\n",
       "    }\n",
       "\n",
       "    .dataframe thead th {\n",
       "        text-align: right;\n",
       "    }\n",
       "</style>\n",
       "<table border=\"1\" class=\"dataframe\">\n",
       "  <thead>\n",
       "    <tr style=\"text-align: right;\">\n",
       "      <th></th>\n",
       "      <th>cleaned_text</th>\n",
       "      <th>retweet_count</th>\n",
       "      <th>favorite_count</th>\n",
       "      <th>is_retweet</th>\n",
       "      <th>hashtag_count</th>\n",
       "      <th>mention_count</th>\n",
       "      <th>word_count</th>\n",
       "      <th>char_count</th>\n",
       "      <th>word_density</th>\n",
       "      <th>punctuation_freq</th>\n",
       "      <th>upper_case_freq</th>\n",
       "      <th>compound_sentiment</th>\n",
       "      <th>market_date</th>\n",
       "      <th>^GSPC</th>\n",
       "      <th>^IXIC</th>\n",
       "      <th>VGT</th>\n",
       "    </tr>\n",
       "  </thead>\n",
       "  <tbody>\n",
       "    <tr>\n",
       "      <th>0</th>\n",
       "      <td>thank</td>\n",
       "      <td>19616</td>\n",
       "      <td>65721</td>\n",
       "      <td>0.0</td>\n",
       "      <td>0</td>\n",
       "      <td>1</td>\n",
       "      <td>5</td>\n",
       "      <td>28</td>\n",
       "      <td>5.600000</td>\n",
       "      <td>0.400000</td>\n",
       "      <td>0.000000</td>\n",
       "      <td>0.4199</td>\n",
       "      <td>2020-10-01</td>\n",
       "      <td>3380.800049</td>\n",
       "      <td>11326.509766</td>\n",
       "      <td>315.329987</td>\n",
       "    </tr>\n",
       "    <tr>\n",
       "      <th>1</th>\n",
       "      <td>big news maine court side rnc uphold ban ballo...</td>\n",
       "      <td>29393</td>\n",
       "      <td>0</td>\n",
       "      <td>1.0</td>\n",
       "      <td>0</td>\n",
       "      <td>0</td>\n",
       "      <td>24</td>\n",
       "      <td>138</td>\n",
       "      <td>5.750000</td>\n",
       "      <td>0.291667</td>\n",
       "      <td>0.166667</td>\n",
       "      <td>0.0000</td>\n",
       "      <td>2020-10-01</td>\n",
       "      <td>3380.800049</td>\n",
       "      <td>11326.509766</td>\n",
       "      <td>315.329987</td>\n",
       "    </tr>\n",
       "    <tr>\n",
       "      <th>2</th>\n",
       "      <td>thank paul</td>\n",
       "      <td>15992</td>\n",
       "      <td>63294</td>\n",
       "      <td>0.0</td>\n",
       "      <td>0</td>\n",
       "      <td>0</td>\n",
       "      <td>4</td>\n",
       "      <td>16</td>\n",
       "      <td>4.000000</td>\n",
       "      <td>0.250000</td>\n",
       "      <td>0.000000</td>\n",
       "      <td>0.4199</td>\n",
       "      <td>2020-10-01</td>\n",
       "      <td>3380.800049</td>\n",
       "      <td>11326.509766</td>\n",
       "      <td>315.329987</td>\n",
       "    </tr>\n",
       "    <tr>\n",
       "      <th>3</th>\n",
       "      <td>defective ballot new york want replace happen ...</td>\n",
       "      <td>51445</td>\n",
       "      <td>190750</td>\n",
       "      <td>0.0</td>\n",
       "      <td>0</td>\n",
       "      <td>0</td>\n",
       "      <td>42</td>\n",
       "      <td>199</td>\n",
       "      <td>4.738095</td>\n",
       "      <td>0.119048</td>\n",
       "      <td>0.857143</td>\n",
       "      <td>-0.7988</td>\n",
       "      <td>2020-10-01</td>\n",
       "      <td>3380.800049</td>\n",
       "      <td>11326.509766</td>\n",
       "      <td>315.329987</td>\n",
       "    </tr>\n",
       "    <tr>\n",
       "      <th>4</th>\n",
       "      <td>half years secure americas border rebuild awes...</td>\n",
       "      <td>18885</td>\n",
       "      <td>70838</td>\n",
       "      <td>0.0</td>\n",
       "      <td>1</td>\n",
       "      <td>0</td>\n",
       "      <td>43</td>\n",
       "      <td>239</td>\n",
       "      <td>5.558140</td>\n",
       "      <td>0.093023</td>\n",
       "      <td>0.116279</td>\n",
       "      <td>-0.1260</td>\n",
       "      <td>2020-10-01</td>\n",
       "      <td>3380.800049</td>\n",
       "      <td>11326.509766</td>\n",
       "      <td>315.329987</td>\n",
       "    </tr>\n",
       "  </tbody>\n",
       "</table>\n",
       "</div>"
      ],
      "text/plain": [
       "                                        cleaned_text  retweet_count  \\\n",
       "0                                              thank          19616   \n",
       "1  big news maine court side rnc uphold ban ballo...          29393   \n",
       "2                                         thank paul          15992   \n",
       "3  defective ballot new york want replace happen ...          51445   \n",
       "4  half years secure americas border rebuild awes...          18885   \n",
       "\n",
       "   favorite_count  is_retweet  hashtag_count  mention_count  word_count  \\\n",
       "0           65721         0.0              0              1           5   \n",
       "1               0         1.0              0              0          24   \n",
       "2           63294         0.0              0              0           4   \n",
       "3          190750         0.0              0              0          42   \n",
       "4           70838         0.0              1              0          43   \n",
       "\n",
       "   char_count  word_density  punctuation_freq  upper_case_freq  \\\n",
       "0          28      5.600000          0.400000         0.000000   \n",
       "1         138      5.750000          0.291667         0.166667   \n",
       "2          16      4.000000          0.250000         0.000000   \n",
       "3         199      4.738095          0.119048         0.857143   \n",
       "4         239      5.558140          0.093023         0.116279   \n",
       "\n",
       "   compound_sentiment market_date        ^GSPC         ^IXIC         VGT  \n",
       "0              0.4199  2020-10-01  3380.800049  11326.509766  315.329987  \n",
       "1              0.0000  2020-10-01  3380.800049  11326.509766  315.329987  \n",
       "2              0.4199  2020-10-01  3380.800049  11326.509766  315.329987  \n",
       "3             -0.7988  2020-10-01  3380.800049  11326.509766  315.329987  \n",
       "4             -0.1260  2020-10-01  3380.800049  11326.509766  315.329987  "
      ]
     },
     "execution_count": 10,
     "metadata": {},
     "output_type": "execute_result"
    }
   ],
   "source": [
    "df.head()"
   ]
  },
  {
   "cell_type": "markdown",
   "metadata": {},
   "source": [
    "### Correlation plot\n",
    "From the correlation plot it can be seen that the meta text features have little correlation with the target variables"
   ]
  },
  {
   "cell_type": "code",
   "execution_count": 13,
   "metadata": {},
   "outputs": [],
   "source": [
    "from string import ascii_letters"
   ]
  },
  {
   "cell_type": "code",
   "execution_count": 14,
   "metadata": {},
   "outputs": [
    {
     "ename": "TypeError",
     "evalue": "'float' object cannot be interpreted as an integer",
     "output_type": "error",
     "traceback": [
      "\u001b[0;31m---------------------------------------------------------------------------\u001b[0m",
      "\u001b[0;31mTypeError\u001b[0m                                 Traceback (most recent call last)",
      "\u001b[0;32m<ipython-input-14-f3160bdc6461>\u001b[0m in \u001b[0;36m<module>\u001b[0;34m\u001b[0m\n\u001b[1;32m     16\u001b[0m \u001b[0;34m\u001b[0m\u001b[0m\n\u001b[1;32m     17\u001b[0m \u001b[0;31m# Generate a custom diverging colormap\u001b[0m\u001b[0;34m\u001b[0m\u001b[0;34m\u001b[0m\u001b[0;34m\u001b[0m\u001b[0m\n\u001b[0;32m---> 18\u001b[0;31m \u001b[0mcmap\u001b[0m \u001b[0;34m=\u001b[0m \u001b[0msns\u001b[0m\u001b[0;34m.\u001b[0m\u001b[0mdiverging_palette\u001b[0m\u001b[0;34m(\u001b[0m\u001b[0;36m230\u001b[0m\u001b[0;34m,\u001b[0m \u001b[0;36m20\u001b[0m\u001b[0;34m,\u001b[0m \u001b[0mas_cmap\u001b[0m\u001b[0;34m=\u001b[0m\u001b[0;32mTrue\u001b[0m\u001b[0;34m)\u001b[0m\u001b[0;34m\u001b[0m\u001b[0;34m\u001b[0m\u001b[0m\n\u001b[0m\u001b[1;32m     19\u001b[0m \u001b[0;34m\u001b[0m\u001b[0m\n\u001b[1;32m     20\u001b[0m \u001b[0;31m# Draw the heatmap with the mask and correct aspect ratio\u001b[0m\u001b[0;34m\u001b[0m\u001b[0;34m\u001b[0m\u001b[0;34m\u001b[0m\u001b[0m\n",
      "\u001b[0;32m/anaconda3/lib/python3.7/site-packages/seaborn/palettes.py\u001b[0m in \u001b[0;36mdiverging_palette\u001b[0;34m(h_neg, h_pos, s, l, sep, n, center, as_cmap)\u001b[0m\n\u001b[1;32m    742\u001b[0m     \"\"\"\n\u001b[1;32m    743\u001b[0m     \u001b[0mpalfunc\u001b[0m \u001b[0;34m=\u001b[0m \u001b[0mdark_palette\u001b[0m \u001b[0;32mif\u001b[0m \u001b[0mcenter\u001b[0m \u001b[0;34m==\u001b[0m \u001b[0;34m\"dark\"\u001b[0m \u001b[0;32melse\u001b[0m \u001b[0mlight_palette\u001b[0m\u001b[0;34m\u001b[0m\u001b[0;34m\u001b[0m\u001b[0m\n\u001b[0;32m--> 744\u001b[0;31m     \u001b[0mneg\u001b[0m \u001b[0;34m=\u001b[0m \u001b[0mpalfunc\u001b[0m\u001b[0;34m(\u001b[0m\u001b[0;34m(\u001b[0m\u001b[0mh_neg\u001b[0m\u001b[0;34m,\u001b[0m \u001b[0ms\u001b[0m\u001b[0;34m,\u001b[0m \u001b[0ml\u001b[0m\u001b[0;34m)\u001b[0m\u001b[0;34m,\u001b[0m \u001b[0;36m128\u001b[0m \u001b[0;34m-\u001b[0m \u001b[0;34m(\u001b[0m\u001b[0msep\u001b[0m \u001b[0;34m/\u001b[0m \u001b[0;36m2\u001b[0m\u001b[0;34m)\u001b[0m\u001b[0;34m,\u001b[0m \u001b[0mreverse\u001b[0m\u001b[0;34m=\u001b[0m\u001b[0;32mTrue\u001b[0m\u001b[0;34m,\u001b[0m \u001b[0minput\u001b[0m\u001b[0;34m=\u001b[0m\u001b[0;34m\"husl\"\u001b[0m\u001b[0;34m)\u001b[0m\u001b[0;34m\u001b[0m\u001b[0;34m\u001b[0m\u001b[0m\n\u001b[0m\u001b[1;32m    745\u001b[0m     \u001b[0mpos\u001b[0m \u001b[0;34m=\u001b[0m \u001b[0mpalfunc\u001b[0m\u001b[0;34m(\u001b[0m\u001b[0;34m(\u001b[0m\u001b[0mh_pos\u001b[0m\u001b[0;34m,\u001b[0m \u001b[0ms\u001b[0m\u001b[0;34m,\u001b[0m \u001b[0ml\u001b[0m\u001b[0;34m)\u001b[0m\u001b[0;34m,\u001b[0m \u001b[0;36m128\u001b[0m \u001b[0;34m-\u001b[0m \u001b[0;34m(\u001b[0m\u001b[0msep\u001b[0m \u001b[0;34m/\u001b[0m \u001b[0;36m2\u001b[0m\u001b[0;34m)\u001b[0m\u001b[0;34m,\u001b[0m \u001b[0minput\u001b[0m\u001b[0;34m=\u001b[0m\u001b[0;34m\"husl\"\u001b[0m\u001b[0;34m)\u001b[0m\u001b[0;34m\u001b[0m\u001b[0;34m\u001b[0m\u001b[0m\n\u001b[1;32m    746\u001b[0m     midpoint = dict(light=[(.95, .95, .95, 1.)],\n",
      "\u001b[0;32m/anaconda3/lib/python3.7/site-packages/seaborn/palettes.py\u001b[0m in \u001b[0;36mlight_palette\u001b[0;34m(color, n_colors, reverse, as_cmap, input)\u001b[0m\n\u001b[1;32m    639\u001b[0m     \u001b[0mlight\u001b[0m \u001b[0;34m=\u001b[0m \u001b[0mset_hls_values\u001b[0m\u001b[0;34m(\u001b[0m\u001b[0mcolor\u001b[0m\u001b[0;34m,\u001b[0m \u001b[0ml\u001b[0m\u001b[0;34m=\u001b[0m\u001b[0;36m.95\u001b[0m\u001b[0;34m)\u001b[0m  \u001b[0;31m# noqa\u001b[0m\u001b[0;34m\u001b[0m\u001b[0;34m\u001b[0m\u001b[0m\n\u001b[1;32m    640\u001b[0m     \u001b[0mcolors\u001b[0m \u001b[0;34m=\u001b[0m \u001b[0;34m[\u001b[0m\u001b[0mcolor\u001b[0m\u001b[0;34m,\u001b[0m \u001b[0mlight\u001b[0m\u001b[0;34m]\u001b[0m \u001b[0;32mif\u001b[0m \u001b[0mreverse\u001b[0m \u001b[0;32melse\u001b[0m \u001b[0;34m[\u001b[0m\u001b[0mlight\u001b[0m\u001b[0;34m,\u001b[0m \u001b[0mcolor\u001b[0m\u001b[0;34m]\u001b[0m\u001b[0;34m\u001b[0m\u001b[0;34m\u001b[0m\u001b[0m\n\u001b[0;32m--> 641\u001b[0;31m     \u001b[0;32mreturn\u001b[0m \u001b[0mblend_palette\u001b[0m\u001b[0;34m(\u001b[0m\u001b[0mcolors\u001b[0m\u001b[0;34m,\u001b[0m \u001b[0mn_colors\u001b[0m\u001b[0;34m,\u001b[0m \u001b[0mas_cmap\u001b[0m\u001b[0;34m)\u001b[0m\u001b[0;34m\u001b[0m\u001b[0;34m\u001b[0m\u001b[0m\n\u001b[0m\u001b[1;32m    642\u001b[0m \u001b[0;34m\u001b[0m\u001b[0m\n\u001b[1;32m    643\u001b[0m \u001b[0;34m\u001b[0m\u001b[0m\n",
      "\u001b[0;32m/anaconda3/lib/python3.7/site-packages/seaborn/palettes.py\u001b[0m in \u001b[0;36mblend_palette\u001b[0;34m(colors, n_colors, as_cmap, input)\u001b[0m\n\u001b[1;32m    775\u001b[0m     \u001b[0mpal\u001b[0m \u001b[0;34m=\u001b[0m \u001b[0mmpl\u001b[0m\u001b[0;34m.\u001b[0m\u001b[0mcolors\u001b[0m\u001b[0;34m.\u001b[0m\u001b[0mLinearSegmentedColormap\u001b[0m\u001b[0;34m.\u001b[0m\u001b[0mfrom_list\u001b[0m\u001b[0;34m(\u001b[0m\u001b[0mname\u001b[0m\u001b[0;34m,\u001b[0m \u001b[0mcolors\u001b[0m\u001b[0;34m)\u001b[0m\u001b[0;34m\u001b[0m\u001b[0;34m\u001b[0m\u001b[0m\n\u001b[1;32m    776\u001b[0m     \u001b[0;32mif\u001b[0m \u001b[0;32mnot\u001b[0m \u001b[0mas_cmap\u001b[0m\u001b[0;34m:\u001b[0m\u001b[0;34m\u001b[0m\u001b[0;34m\u001b[0m\u001b[0m\n\u001b[0;32m--> 777\u001b[0;31m         \u001b[0mpal\u001b[0m \u001b[0;34m=\u001b[0m \u001b[0m_ColorPalette\u001b[0m\u001b[0;34m(\u001b[0m\u001b[0mpal\u001b[0m\u001b[0;34m(\u001b[0m\u001b[0mnp\u001b[0m\u001b[0;34m.\u001b[0m\u001b[0mlinspace\u001b[0m\u001b[0;34m(\u001b[0m\u001b[0;36m0\u001b[0m\u001b[0;34m,\u001b[0m \u001b[0;36m1\u001b[0m\u001b[0;34m,\u001b[0m \u001b[0mn_colors\u001b[0m\u001b[0;34m)\u001b[0m\u001b[0;34m)\u001b[0m\u001b[0;34m)\u001b[0m\u001b[0;34m\u001b[0m\u001b[0;34m\u001b[0m\u001b[0m\n\u001b[0m\u001b[1;32m    778\u001b[0m     \u001b[0;32mreturn\u001b[0m \u001b[0mpal\u001b[0m\u001b[0;34m\u001b[0m\u001b[0;34m\u001b[0m\u001b[0m\n\u001b[1;32m    779\u001b[0m \u001b[0;34m\u001b[0m\u001b[0m\n",
      "\u001b[0;32m<__array_function__ internals>\u001b[0m in \u001b[0;36mlinspace\u001b[0;34m(*args, **kwargs)\u001b[0m\n",
      "\u001b[0;32m/anaconda3/lib/python3.7/site-packages/numpy/core/function_base.py\u001b[0m in \u001b[0;36mlinspace\u001b[0;34m(start, stop, num, endpoint, retstep, dtype, axis)\u001b[0m\n\u001b[1;32m    111\u001b[0m \u001b[0;34m\u001b[0m\u001b[0m\n\u001b[1;32m    112\u001b[0m     \"\"\"\n\u001b[0;32m--> 113\u001b[0;31m     \u001b[0mnum\u001b[0m \u001b[0;34m=\u001b[0m \u001b[0moperator\u001b[0m\u001b[0;34m.\u001b[0m\u001b[0mindex\u001b[0m\u001b[0;34m(\u001b[0m\u001b[0mnum\u001b[0m\u001b[0;34m)\u001b[0m\u001b[0;34m\u001b[0m\u001b[0;34m\u001b[0m\u001b[0m\n\u001b[0m\u001b[1;32m    114\u001b[0m     \u001b[0;32mif\u001b[0m \u001b[0mnum\u001b[0m \u001b[0;34m<\u001b[0m \u001b[0;36m0\u001b[0m\u001b[0;34m:\u001b[0m\u001b[0;34m\u001b[0m\u001b[0;34m\u001b[0m\u001b[0m\n\u001b[1;32m    115\u001b[0m         \u001b[0;32mraise\u001b[0m \u001b[0mValueError\u001b[0m\u001b[0;34m(\u001b[0m\u001b[0;34m\"Number of samples, %s, must be non-negative.\"\u001b[0m \u001b[0;34m%\u001b[0m \u001b[0mnum\u001b[0m\u001b[0;34m)\u001b[0m\u001b[0;34m\u001b[0m\u001b[0;34m\u001b[0m\u001b[0m\n",
      "\u001b[0;31mTypeError\u001b[0m: 'float' object cannot be interpreted as an integer"
     ]
    },
    {
     "data": {
      "image/png": "[encoded data removed]",
      "text/plain": [
       "<Figure size 792x648 with 1 Axes>"
      ]
     },
     "metadata": {
      "needs_background": "light"
     },
     "output_type": "display_data"
    }
   ],
   "source": [
    "# sns.set_theme(style=\"white\")\n",
    "\n",
    "# Generate a large random dataset\n",
    "rs = np.random.RandomState(33)\n",
    "d = pd.DataFrame(data=rs.normal(size=(100, 26)),\n",
    "                 columns=list(ascii_letters[26:]))\n",
    "\n",
    "# Compute the correlation matrix\n",
    "corr = df.corr()\n",
    "\n",
    "# Generate a mask for the upper triangle\n",
    "mask = np.triu(np.ones_like(corr, dtype=bool))\n",
    "\n",
    "# Set up the matplotlib figure\n",
    "f, ax = plt.subplots(figsize=(11, 9))\n",
    "\n",
    "# Generate a custom diverging colormap\n",
    "cmap = sns.diverging_palette(230, 20, as_cmap=True)\n",
    "\n",
    "# Draw the heatmap with the mask and correct aspect ratio\n",
    "sns.heatmap(corr, mask=mask, cmap=cmap, vmax=.3, center=0,\n",
    "            square=True, linewidths=.5, cbar_kws={\"shrink\": .5}, annot = True)\n",
    "\n",
    "plt.show()"
   ]
  },
  {
   "cell_type": "markdown",
   "metadata": {},
   "source": [
    "### Normalise features\n",
    "Normalisation is essential for deep-learning/NN-related tasks. MinMax Scaler is chosen in this case to rescale the numeric inputs."
   ]
  },
  {
   "cell_type": "code",
   "execution_count": 131,
   "metadata": {},
   "outputs": [],
   "source": [
    "from sklearn.preprocessing import MinMaxScaler"
   ]
  },
  {
   "cell_type": "code",
   "execution_count": 132,
   "metadata": {},
   "outputs": [],
   "source": [
    "# obtain a list of numeric columns\n",
    "numeric_cols = list(df.columns)\n",
    "\n",
    "# remove text and output columns\n",
    "numeric_cols.remove('cleaned_text')\n",
    "numeric_cols.remove('^GSPC')\n",
    "numeric_cols.remove('^IXIC')\n",
    "numeric_cols.remove('VGT')"
   ]
  },
  {
   "cell_type": "code",
   "execution_count": 133,
   "metadata": {},
   "outputs": [],
   "source": [
    "# scale the features\n",
    "scaler = MinMaxScaler() \n",
    "df[numeric_cols] = scaler.fit_transform(df[numeric_cols])"
   ]
  },
  {
   "cell_type": "markdown",
   "metadata": {},
   "source": [
    "### Word embedding\n",
    "Word2Vec is the chosen text embedding method for several reasons:\n",
    "* The mapping between the target word to its context word implicitly embeds the sub-linear relationship into the vector space of words, so that relationships like “king:man as queen:woman” can be infered by word vectors.\n",
    "* It is less computationally expensive than deep language models such as GloVe, BERT, ElMo. BERT + transfer learning with BiLSTM was initially chosen for this problem but due to the relatively large dataset and limited computational power, training was extremely slow."
   ]
  },
  {
   "cell_type": "markdown",
   "metadata": {},
   "source": [
    "#### Further process text for Word2Vec"
   ]
  },
  {
   "cell_type": "code",
   "execution_count": 134,
   "metadata": {},
   "outputs": [],
   "source": [
    "import nltk"
   ]
  },
  {
   "cell_type": "code",
   "execution_count": 135,
   "metadata": {},
   "outputs": [],
   "source": [
    "def process_text_w2v(paragraph):    \n",
    "    result = list()\n",
    "    for line in nltk.sent_tokenize(paragraph):\n",
    "        tokenizer = nltk.RegexpTokenizer(r\"\\w+\")\n",
    "        tokens = [token for token in tokenizer.tokenize(line)]\n",
    "        result.append(tokens) \n",
    "    return result"
   ]
  },
  {
   "cell_type": "code",
   "execution_count": 136,
   "metadata": {},
   "outputs": [],
   "source": [
    "df['cleaned_text_w2v'] = df['cleaned_text'].apply(lambda x: process_text_w2v(x))"
   ]
  },
  {
   "cell_type": "code",
   "execution_count": 137,
   "metadata": {},
   "outputs": [],
   "source": [
    "# compile all sentences together to compose the corpus for later usage.\n",
    "sentences = [sent for x in df['cleaned_text_w2v'].values.tolist() for sent in x]"
   ]
  },
  {
   "cell_type": "markdown",
   "metadata": {
    "_uuid": "89c305fcd163488441ac2ac6133678bd973b4419"
   },
   "source": [
    "#### Set parameters for word2vec model\n",
    "`min_count` is set to 1 since we would like to obtain the embeddings of all words in our vocabulary for subsequent modelling to work. Normally, `min_count` is set to a larger value."
   ]
  },
  {
   "cell_type": "code",
   "execution_count": 138,
   "metadata": {},
   "outputs": [],
   "source": [
    "import gensim\n",
    "from gensim.models.phrases import Phrases, Phraser\n",
    "from gensim.models import Word2Vec"
   ]
  },
  {
   "cell_type": "code",
   "execution_count": 139,
   "metadata": {
    "_uuid": "ad619db82c219d6cb81fad516563feb0c4d474cd"
   },
   "outputs": [],
   "source": [
    "w2v_model = Word2Vec(min_count=1, \n",
    "                     window=3,\n",
    "                     size=64,\n",
    "                     sample=6e-5, \n",
    "                     alpha=0.03, \n",
    "                     min_alpha=0.0007, \n",
    "                     negative=20,\n",
    "                     workers=multiprocessing.cpu_count())"
   ]
  },
  {
   "cell_type": "markdown",
   "metadata": {
    "_uuid": "d7e9f1bd338f9e15647b5209ffd8fbb131cd7ee5"
   },
   "source": [
    "#### Building the Vocabulary Table\n",
    "Digest all the words and filter out the unique words, and doing some basic counts on them."
   ]
  },
  {
   "cell_type": "code",
   "execution_count": 140,
   "metadata": {
    "_uuid": "66358ad743e05e17dfbed3899af9c41056143daa"
   },
   "outputs": [
    {
     "name": "stdout",
     "output_type": "stream",
     "text": [
      "Time to build vocab: 0.07 mins\n"
     ]
    }
   ],
   "source": [
    "t = time()\n",
    "w2v_model.build_vocab(sentences, progress_per=10000)\n",
    "print('Time to build vocab: {} mins'.format(round((time() - t) / 60, 2)))"
   ]
  },
  {
   "cell_type": "markdown",
   "metadata": {
    "_uuid": "63260d82061abb47db7f2f8b23e07ec629adf5a9"
   },
   "source": [
    "### Train Word2Vec"
   ]
  },
  {
   "cell_type": "code",
   "execution_count": 141,
   "metadata": {
    "scrolled": true
   },
   "outputs": [
    {
     "name": "stdout",
     "output_type": "stream",
     "text": [
      "Time to train the model: 0.23 mins\n"
     ]
    }
   ],
   "source": [
    "start_time = time()\n",
    "w2v_model.train(sentences, total_examples=w2v_model.corpus_count, epochs=30, report_delay=1)\n",
    "print('Time to train the model: {} mins'.format(round((time() - start_time) / 60, 2)))"
   ]
  },
  {
   "cell_type": "code",
   "execution_count": 142,
   "metadata": {},
   "outputs": [],
   "source": [
    "w2v_model.save('../model/word2vec/word2vec.model')"
   ]
  },
  {
   "cell_type": "code",
   "execution_count": 143,
   "metadata": {
    "_uuid": "34dd51c7f2f39d016b982ef81e4df576f6b31bcb"
   },
   "outputs": [],
   "source": [
    "w2v_model.init_sims(replace=True)"
   ]
  },
  {
   "cell_type": "markdown",
   "metadata": {},
   "source": [
    "#### Generate Word2Vec vectors\n",
    "generate and write the word embedding vectors to directory"
   ]
  },
  {
   "cell_type": "code",
   "execution_count": 144,
   "metadata": {},
   "outputs": [],
   "source": [
    "# # load the model from the model file\n",
    "# w2v_model = Word2Vec.load('../model/word2vec.model')"
   ]
  },
  {
   "cell_type": "code",
   "execution_count": 145,
   "metadata": {},
   "outputs": [
    {
     "name": "stderr",
     "output_type": "stream",
     "text": [
      "C:\\ProgramData\\Anaconda3\\lib\\site-packages\\ipykernel_launcher.py:5: DeprecationWarning: Call to deprecated `__getitem__` (Method will be removed in 4.0.0, use self.wv.__getitem__() instead).\n",
      "  \"\"\"\n"
     ]
    }
   ],
   "source": [
    "# Store the vectors in a csv file\n",
    "with open('../model/word2vec/word2vec.csv', 'w+') as word2vec_file:\n",
    "    \n",
    "    for index, row in df.iterrows():\n",
    "        model_vector = (np.mean([w2v_model[token] for token in row['cleaned_text_w2v'][0]], axis=0)).tolist()\n",
    "        \n",
    "        if index == 0:\n",
    "            header = \",\".join(str(ele) for ele in range(64))\n",
    "            word2vec_file.write(header)\n",
    "            word2vec_file.write(\"\\n\")\n",
    "        \n",
    "        # Check if the line exists else it is vector of zeros\n",
    "        if type(model_vector) is list:  \n",
    "            line1 = \",\".join( [str(vector_element) for vector_element in model_vector] )\n",
    "        else:\n",
    "            line1 = \",\".join([str(0) for i in range(64)])\n",
    "        \n",
    "        word2vec_file.write(line1)\n",
    "        word2vec_file.write('\\n')"
   ]
  },
  {
   "cell_type": "markdown",
   "metadata": {},
   "source": [
    "#### Concatenate the word embeddings with other features in the datasets"
   ]
  },
  {
   "cell_type": "code",
   "execution_count": 146,
   "metadata": {},
   "outputs": [],
   "source": [
    "w2v_embeddings = pd.read_csv('../model/word2vec/word2vec.csv')"
   ]
  },
  {
   "cell_type": "code",
   "execution_count": 147,
   "metadata": {},
   "outputs": [],
   "source": [
    "df = pd.concat([df, w2v_embeddings], axis=1)"
   ]
  },
  {
   "cell_type": "code",
   "execution_count": 148,
   "metadata": {
    "scrolled": false
   },
   "outputs": [
    {
     "data": {
      "text/html": [
       "<div>\n",
       "<style scoped>\n",
       "    .dataframe tbody tr th:only-of-type {\n",
       "        vertical-align: middle;\n",
       "    }\n",
       "\n",
       "    .dataframe tbody tr th {\n",
       "        vertical-align: top;\n",
       "    }\n",
       "\n",
       "    .dataframe thead th {\n",
       "        text-align: right;\n",
       "    }\n",
       "</style>\n",
       "<table border=\"1\" class=\"dataframe\">\n",
       "  <thead>\n",
       "    <tr style=\"text-align: right;\">\n",
       "      <th></th>\n",
       "      <th>cleaned_text</th>\n",
       "      <th>retweet_count</th>\n",
       "      <th>favorite_count</th>\n",
       "      <th>is_retweet</th>\n",
       "      <th>hashtag_count</th>\n",
       "      <th>mention_count</th>\n",
       "      <th>word_count</th>\n",
       "      <th>char_count</th>\n",
       "      <th>word_density</th>\n",
       "      <th>punctuation_freq</th>\n",
       "      <th>...</th>\n",
       "      <th>54</th>\n",
       "      <th>55</th>\n",
       "      <th>56</th>\n",
       "      <th>57</th>\n",
       "      <th>58</th>\n",
       "      <th>59</th>\n",
       "      <th>60</th>\n",
       "      <th>61</th>\n",
       "      <th>62</th>\n",
       "      <th>63</th>\n",
       "    </tr>\n",
       "  </thead>\n",
       "  <tbody>\n",
       "    <tr>\n",
       "      <th>0</th>\n",
       "      <td>thank</td>\n",
       "      <td>0.053084</td>\n",
       "      <td>0.074713</td>\n",
       "      <td>0.0</td>\n",
       "      <td>0.0</td>\n",
       "      <td>0.1</td>\n",
       "      <td>0.057971</td>\n",
       "      <td>0.085174</td>\n",
       "      <td>0.328571</td>\n",
       "      <td>0.240000</td>\n",
       "      <td>...</td>\n",
       "      <td>0.065594</td>\n",
       "      <td>0.094567</td>\n",
       "      <td>0.022625</td>\n",
       "      <td>0.031416</td>\n",
       "      <td>-0.211155</td>\n",
       "      <td>0.256162</td>\n",
       "      <td>-0.076439</td>\n",
       "      <td>0.046196</td>\n",
       "      <td>-0.178672</td>\n",
       "      <td>0.282274</td>\n",
       "    </tr>\n",
       "    <tr>\n",
       "      <th>1</th>\n",
       "      <td>big news maine court side rnc uphold ban ballo...</td>\n",
       "      <td>0.079542</td>\n",
       "      <td>0.000000</td>\n",
       "      <td>1.0</td>\n",
       "      <td>0.0</td>\n",
       "      <td>0.0</td>\n",
       "      <td>0.333333</td>\n",
       "      <td>0.432177</td>\n",
       "      <td>0.339286</td>\n",
       "      <td>0.175000</td>\n",
       "      <td>...</td>\n",
       "      <td>0.016894</td>\n",
       "      <td>0.028469</td>\n",
       "      <td>-0.032220</td>\n",
       "      <td>0.027841</td>\n",
       "      <td>-0.131000</td>\n",
       "      <td>-0.026378</td>\n",
       "      <td>-0.019021</td>\n",
       "      <td>0.125694</td>\n",
       "      <td>-0.159512</td>\n",
       "      <td>0.051435</td>\n",
       "    </tr>\n",
       "    <tr>\n",
       "      <th>2</th>\n",
       "      <td>thank paul</td>\n",
       "      <td>0.043277</td>\n",
       "      <td>0.071954</td>\n",
       "      <td>0.0</td>\n",
       "      <td>0.0</td>\n",
       "      <td>0.0</td>\n",
       "      <td>0.043478</td>\n",
       "      <td>0.047319</td>\n",
       "      <td>0.214286</td>\n",
       "      <td>0.150000</td>\n",
       "      <td>...</td>\n",
       "      <td>-0.025543</td>\n",
       "      <td>0.134922</td>\n",
       "      <td>0.037013</td>\n",
       "      <td>-0.022119</td>\n",
       "      <td>-0.081507</td>\n",
       "      <td>0.268150</td>\n",
       "      <td>-0.066681</td>\n",
       "      <td>0.082602</td>\n",
       "      <td>-0.176282</td>\n",
       "      <td>0.178487</td>\n",
       "    </tr>\n",
       "    <tr>\n",
       "      <th>3</th>\n",
       "      <td>defective ballot new york want replace happen ...</td>\n",
       "      <td>0.139217</td>\n",
       "      <td>0.216848</td>\n",
       "      <td>0.0</td>\n",
       "      <td>0.0</td>\n",
       "      <td>0.0</td>\n",
       "      <td>0.594203</td>\n",
       "      <td>0.624606</td>\n",
       "      <td>0.267007</td>\n",
       "      <td>0.071429</td>\n",
       "      <td>...</td>\n",
       "      <td>-0.006196</td>\n",
       "      <td>0.014436</td>\n",
       "      <td>-0.001041</td>\n",
       "      <td>-0.010833</td>\n",
       "      <td>-0.074154</td>\n",
       "      <td>0.013568</td>\n",
       "      <td>-0.091835</td>\n",
       "      <td>0.090702</td>\n",
       "      <td>-0.144243</td>\n",
       "      <td>0.002622</td>\n",
       "    </tr>\n",
       "    <tr>\n",
       "      <th>4</th>\n",
       "      <td>half years secure americas border rebuild awes...</td>\n",
       "      <td>0.051105</td>\n",
       "      <td>0.080530</td>\n",
       "      <td>0.0</td>\n",
       "      <td>0.1</td>\n",
       "      <td>0.0</td>\n",
       "      <td>0.608696</td>\n",
       "      <td>0.750789</td>\n",
       "      <td>0.325581</td>\n",
       "      <td>0.055814</td>\n",
       "      <td>...</td>\n",
       "      <td>-0.001725</td>\n",
       "      <td>0.052266</td>\n",
       "      <td>-0.002023</td>\n",
       "      <td>0.012134</td>\n",
       "      <td>-0.030705</td>\n",
       "      <td>0.108762</td>\n",
       "      <td>-0.015056</td>\n",
       "      <td>-0.030167</td>\n",
       "      <td>-0.169160</td>\n",
       "      <td>-0.006276</td>\n",
       "    </tr>\n",
       "  </tbody>\n",
       "</table>\n",
       "<p>5 rows × 80 columns</p>\n",
       "</div>"
      ],
      "text/plain": [
       "                                        cleaned_text  retweet_count  \\\n",
       "0                                              thank       0.053084   \n",
       "1  big news maine court side rnc uphold ban ballo...       0.079542   \n",
       "2                                         thank paul       0.043277   \n",
       "3  defective ballot new york want replace happen ...       0.139217   \n",
       "4  half years secure americas border rebuild awes...       0.051105   \n",
       "\n",
       "   favorite_count  is_retweet  hashtag_count  mention_count  word_count  \\\n",
       "0        0.074713         0.0            0.0            0.1    0.057971   \n",
       "1        0.000000         1.0            0.0            0.0    0.333333   \n",
       "2        0.071954         0.0            0.0            0.0    0.043478   \n",
       "3        0.216848         0.0            0.0            0.0    0.594203   \n",
       "4        0.080530         0.0            0.1            0.0    0.608696   \n",
       "\n",
       "   char_count  word_density  punctuation_freq  ...        54        55  \\\n",
       "0    0.085174      0.328571          0.240000  ...  0.065594  0.094567   \n",
       "1    0.432177      0.339286          0.175000  ...  0.016894  0.028469   \n",
       "2    0.047319      0.214286          0.150000  ... -0.025543  0.134922   \n",
       "3    0.624606      0.267007          0.071429  ... -0.006196  0.014436   \n",
       "4    0.750789      0.325581          0.055814  ... -0.001725  0.052266   \n",
       "\n",
       "         56        57        58        59        60        61        62  \\\n",
       "0  0.022625  0.031416 -0.211155  0.256162 -0.076439  0.046196 -0.178672   \n",
       "1 -0.032220  0.027841 -0.131000 -0.026378 -0.019021  0.125694 -0.159512   \n",
       "2  0.037013 -0.022119 -0.081507  0.268150 -0.066681  0.082602 -0.176282   \n",
       "3 -0.001041 -0.010833 -0.074154  0.013568 -0.091835  0.090702 -0.144243   \n",
       "4 -0.002023  0.012134 -0.030705  0.108762 -0.015056 -0.030167 -0.169160   \n",
       "\n",
       "         63  \n",
       "0  0.282274  \n",
       "1  0.051435  \n",
       "2  0.178487  \n",
       "3  0.002622  \n",
       "4 -0.006276  \n",
       "\n",
       "[5 rows x 80 columns]"
      ]
     },
     "execution_count": 148,
     "metadata": {},
     "output_type": "execute_result"
    }
   ],
   "source": [
    "df.head()"
   ]
  },
  {
   "cell_type": "markdown",
   "metadata": {},
   "source": [
    "#### Drop `cleaned_text` and `cleaned_text_w2v`"
   ]
  },
  {
   "cell_type": "code",
   "execution_count": 149,
   "metadata": {},
   "outputs": [],
   "source": [
    "df = df.drop(columns=['cleaned_text', 'cleaned_text_w2v'], errors='ignore')"
   ]
  },
  {
   "cell_type": "markdown",
   "metadata": {},
   "source": [
    "### Train test split"
   ]
  },
  {
   "cell_type": "code",
   "execution_count": 150,
   "metadata": {},
   "outputs": [],
   "source": [
    "from sklearn.model_selection import train_test_split"
   ]
  },
  {
   "cell_type": "code",
   "execution_count": 151,
   "metadata": {},
   "outputs": [],
   "source": [
    "y_GSPC = df['^GSPC']\n",
    "y_IXIC = df['^IXIC']\n",
    "y_VGT = df['VGT']\n",
    "X = df.drop(columns=['^GSPC', '^IXIC', 'VGT'], errors='ignore')"
   ]
  },
  {
   "cell_type": "code",
   "execution_count": 152,
   "metadata": {},
   "outputs": [],
   "source": [
    "# train is 75% of the entire data set\n",
    "train_ratio = 0.75"
   ]
  },
  {
   "cell_type": "markdown",
   "metadata": {},
   "source": [
    "#### GSPC"
   ]
  },
  {
   "cell_type": "code",
   "execution_count": 153,
   "metadata": {},
   "outputs": [],
   "source": [
    "X_train_GSPC, X_test_GSPC, y_train_GSPC, y_test_GSPC = train_test_split(X, y_GSPC, test_size=1 - train_ratio, random_state=1)"
   ]
  },
  {
   "cell_type": "markdown",
   "metadata": {},
   "source": [
    "#### IXIC"
   ]
  },
  {
   "cell_type": "code",
   "execution_count": 154,
   "metadata": {},
   "outputs": [],
   "source": [
    "X_train_IXIC, X_test_IXIC, y_train_IXIC, y_test_IXIC = train_test_split(X, y_IXIC, test_size=1 - train_ratio, random_state=1)"
   ]
  },
  {
   "cell_type": "markdown",
   "metadata": {},
   "source": [
    "#### VGT"
   ]
  },
  {
   "cell_type": "code",
   "execution_count": 155,
   "metadata": {},
   "outputs": [],
   "source": [
    "X_train_VGT, X_test_VGT, y_train_VGT, y_test_VGT = train_test_split(X, y_VGT, test_size=1 - train_ratio, random_state=1)"
   ]
  },
  {
   "cell_type": "markdown",
   "metadata": {},
   "source": [
    "## Modelling - XGBoost \n",
    "XGBoost is chosen to be the classification model for a few reasons:\n",
    "* XGBoost is an ensemble method which helps improve machine learning results by combining and improving on the results from multiple single models.\n",
    "* As compared to gradient boosting algorithms, XGBoost uses a more regularized model formalization to control over-fitting, which gives it better performance.\n",
    "* XGBoost is built with the engineering goal to push the limit of computation resources for boosted tree algorithms. It utilises computational power more efficiently for faster, and production-ready training and testing, which is a good choice given the limited computation resources."
   ]
  },
  {
   "cell_type": "code",
   "execution_count": 156,
   "metadata": {},
   "outputs": [],
   "source": [
    "import xgboost\n",
    "from xgboost.sklearn import XGBClassifier\n",
    "from sklearn.metrics import mean_squared_error"
   ]
  },
  {
   "cell_type": "markdown",
   "metadata": {},
   "source": [
    "### Define baseline parameters"
   ]
  },
  {
   "cell_type": "code",
   "execution_count": 157,
   "metadata": {},
   "outputs": [],
   "source": [
    "params = {'objective':'reg:linear',\n",
    "          'learning_rate':0.05,\n",
    "          'n_estimators':200,\n",
    "          'max_depth':10,\n",
    "          'min_child_weight':5,\n",
    "          'gamma':0.1,\n",
    "          'subsample':0.7,\n",
    "          'colsample_bytree':0.7,\n",
    "          'n_jobs':4,\n",
    "          'random_state':1,\n",
    "          'seed':1\n",
    "         }"
   ]
  },
  {
   "cell_type": "markdown",
   "metadata": {},
   "source": [
    "### Define error metrics"
   ]
  },
  {
   "cell_type": "markdown",
   "metadata": {},
   "source": [
    "Write a custom function to calculate MAPE, mean average percentage error. MAPE expresses expresses accuracy as a percentage of the error. Because the MAPE is a percentage, it can be easier to understand than the other accuracy measure statistics e.g. RMSE. Refer to the picture below for a guide on the interpretation of MAPE values"
   ]
  },
  {
   "cell_type": "markdown",
   "metadata": {},
   "source": [
    "<img src=\"https://www.researchgate.net/profile/Albert_Sese/publication/257812432/figure/tbl1/AS:601657310203931@1520457689632/nterpretation-of-typical-MAPE-values.png\" width=300 align=\"left\"/>"
   ]
  },
  {
   "cell_type": "code",
   "execution_count": 158,
   "metadata": {},
   "outputs": [],
   "source": [
    "# define custom functions to calculate MAPE\n",
    "\n",
    "def percentage_error(actual, predicted):\n",
    "    res = np.empty(actual.shape)\n",
    "    for j in range(actual.shape[0]):\n",
    "        if actual[j] != 0:\n",
    "            res[j] = (actual[j] - predicted[j]) / actual[j]\n",
    "        else:\n",
    "            res[j] = predicted[j] / np.mean(actual)\n",
    "    return res\n",
    "\n",
    "def mean_absolute_percentage_error(y_true, y_pred): \n",
    "    return np.mean(np.abs(percentage_error(np.asarray(y_true), np.asarray(y_pred)))) * 100"
   ]
  },
  {
   "cell_type": "markdown",
   "metadata": {},
   "source": [
    "### GSPC"
   ]
  },
  {
   "cell_type": "code",
   "execution_count": 159,
   "metadata": {},
   "outputs": [],
   "source": [
    "# initialise an xgboost object\n",
    "xgb_GSPC = xgboost.XGBModel(**params)"
   ]
  },
  {
   "cell_type": "code",
   "execution_count": 160,
   "metadata": {},
   "outputs": [
    {
     "name": "stdout",
     "output_type": "stream",
     "text": [
      "[0]\tvalidation_0-rmse:2680.64\tvalidation_1-rmse:2691.38\n",
      "[50]\tvalidation_0-rmse:299.061\tvalidation_1-rmse:333.716\n",
      "[100]\tvalidation_0-rmse:158.623\tvalidation_1-rmse:243.611\n",
      "[150]\tvalidation_0-rmse:127.632\tvalidation_1-rmse:240.366\n",
      "[199]\tvalidation_0-rmse:106.144\tvalidation_1-rmse:239.777\n"
     ]
    },
    {
     "data": {
      "text/plain": [
       "XGBModel(base_score=0.5, booster='gbtree', colsample_bylevel=1,\n",
       "         colsample_bytree=0.7, gamma=0.1, importance_type='gain',\n",
       "         learning_rate=0.05, max_delta_step=0, max_depth=10, min_child_weight=5,\n",
       "         missing=None, n_estimators=200, n_jobs=4, nthread=None,\n",
       "         objective='reg:linear', random_state=1, reg_alpha=0, reg_lambda=1,\n",
       "         scale_pos_weight=1, seed=1, silent=True, subsample=0.7)"
      ]
     },
     "execution_count": 160,
     "metadata": {},
     "output_type": "execute_result"
    }
   ],
   "source": [
    "xgb_GSPC.fit(X_train_GSPC, y_train_GSPC,\n",
    "             eval_set=[(X_train_GSPC, y_train_GSPC), (X_test_GSPC, y_test_GSPC)],\n",
    "             eval_metric='rmse',\n",
    "             verbose=50)"
   ]
  },
  {
   "cell_type": "code",
   "execution_count": 161,
   "metadata": {},
   "outputs": [
    {
     "data": {
      "text/plain": [
       "{'validation_0': {'rmse': [2680.637451,\n",
       "   2548.304199,\n",
       "   2422.600342,\n",
       "   2303.128418,\n",
       "   2189.835449,\n",
       "   2082.210693,\n",
       "   1980.74353,\n",
       "   1884.511108,\n",
       "   1792.992188,\n",
       "   1705.516968,\n",
       "   1622.517456,\n",
       "   1543.719971,\n",
       "   1468.847412,\n",
       "   1398.044434,\n",
       "   1331.250488,\n",
       "   1267.366455,\n",
       "   1206.799194,\n",
       "   1149.467773,\n",
       "   1094.886719,\n",
       "   1043.619995,\n",
       "   994.718994,\n",
       "   948.751404,\n",
       "   905.235413,\n",
       "   863.632141,\n",
       "   824.542358,\n",
       "   787.513245,\n",
       "   752.437866,\n",
       "   719.278503,\n",
       "   688.004089,\n",
       "   657.641479,\n",
       "   629.471741,\n",
       "   602.390442,\n",
       "   576.798706,\n",
       "   552.847778,\n",
       "   529.6698,\n",
       "   507.835754,\n",
       "   487.660156,\n",
       "   468.216492,\n",
       "   449.838074,\n",
       "   432.541077,\n",
       "   416.217255,\n",
       "   401.305695,\n",
       "   386.694153,\n",
       "   372.996948,\n",
       "   360.509338,\n",
       "   348.831848,\n",
       "   337.772064,\n",
       "   326.918091,\n",
       "   317.093903,\n",
       "   308.099854,\n",
       "   299.06073,\n",
       "   290.655762,\n",
       "   283.426758,\n",
       "   275.712372,\n",
       "   268.704498,\n",
       "   262.381195,\n",
       "   256.891357,\n",
       "   251.032883,\n",
       "   245.553116,\n",
       "   240.269028,\n",
       "   235.209305,\n",
       "   230.466003,\n",
       "   226.214096,\n",
       "   222.204453,\n",
       "   218.602036,\n",
       "   215.173782,\n",
       "   211.728226,\n",
       "   209.047256,\n",
       "   205.918823,\n",
       "   202.970184,\n",
       "   200.600845,\n",
       "   198.111481,\n",
       "   196.295761,\n",
       "   194.058014,\n",
       "   191.687576,\n",
       "   189.53569,\n",
       "   187.703796,\n",
       "   186.105301,\n",
       "   184.099884,\n",
       "   182.539719,\n",
       "   180.890808,\n",
       "   179.212311,\n",
       "   177.509949,\n",
       "   176.230728,\n",
       "   174.538254,\n",
       "   173.168671,\n",
       "   172.049515,\n",
       "   170.635559,\n",
       "   169.582108,\n",
       "   167.976501,\n",
       "   167.175385,\n",
       "   166.044983,\n",
       "   165.327896,\n",
       "   164.228745,\n",
       "   163.098328,\n",
       "   162.321762,\n",
       "   161.425232,\n",
       "   160.657883,\n",
       "   159.881027,\n",
       "   159.422226,\n",
       "   158.623077,\n",
       "   157.795456,\n",
       "   156.815613,\n",
       "   155.730652,\n",
       "   154.831467,\n",
       "   154.110291,\n",
       "   153.333054,\n",
       "   152.802795,\n",
       "   152.015778,\n",
       "   151.636353,\n",
       "   150.970352,\n",
       "   150.560486,\n",
       "   150.005798,\n",
       "   149.414749,\n",
       "   148.810059,\n",
       "   148.108261,\n",
       "   147.657639,\n",
       "   146.825531,\n",
       "   146.242477,\n",
       "   145.5504,\n",
       "   144.979965,\n",
       "   144.462524,\n",
       "   143.703293,\n",
       "   143.166565,\n",
       "   142.263641,\n",
       "   142.092682,\n",
       "   141.21196,\n",
       "   140.708466,\n",
       "   139.789673,\n",
       "   139.282944,\n",
       "   138.760559,\n",
       "   138.215485,\n",
       "   137.92392,\n",
       "   137.570465,\n",
       "   136.885254,\n",
       "   136.648483,\n",
       "   135.965302,\n",
       "   135.330658,\n",
       "   135.076859,\n",
       "   134.567413,\n",
       "   133.939133,\n",
       "   133.257996,\n",
       "   132.675766,\n",
       "   132.163498,\n",
       "   131.658844,\n",
       "   130.879227,\n",
       "   130.191116,\n",
       "   129.579041,\n",
       "   128.997787,\n",
       "   128.600189,\n",
       "   127.632278,\n",
       "   127.393059,\n",
       "   127.115967,\n",
       "   126.396729,\n",
       "   126.110146,\n",
       "   125.550858,\n",
       "   125.204788,\n",
       "   124.595505,\n",
       "   123.993858,\n",
       "   123.08873,\n",
       "   122.527817,\n",
       "   122.219925,\n",
       "   121.854004,\n",
       "   121.372856,\n",
       "   120.711151,\n",
       "   120.155228,\n",
       "   119.65937,\n",
       "   119.140228,\n",
       "   119.014,\n",
       "   118.737694,\n",
       "   118.034248,\n",
       "   117.173973,\n",
       "   116.659798,\n",
       "   116.343399,\n",
       "   116.091583,\n",
       "   115.584129,\n",
       "   115.241974,\n",
       "   114.969345,\n",
       "   114.691765,\n",
       "   114.293068,\n",
       "   113.77327,\n",
       "   113.398209,\n",
       "   113.061562,\n",
       "   112.787582,\n",
       "   112.269272,\n",
       "   111.886597,\n",
       "   111.73716,\n",
       "   111.4981,\n",
       "   111.026115,\n",
       "   110.571167,\n",
       "   110.129448,\n",
       "   109.551186,\n",
       "   109.198784,\n",
       "   108.602219,\n",
       "   108.27066,\n",
       "   107.607986,\n",
       "   107.16671,\n",
       "   106.761185,\n",
       "   106.468788,\n",
       "   106.143944]},\n",
       " 'validation_1': {'rmse': [2691.380371,\n",
       "   2558.844971,\n",
       "   2432.925537,\n",
       "   2313.235596,\n",
       "   2199.674072,\n",
       "   2091.820801,\n",
       "   1990.26062,\n",
       "   1893.975342,\n",
       "   1802.530273,\n",
       "   1714.881592,\n",
       "   1631.644775,\n",
       "   1552.739624,\n",
       "   1477.77478,\n",
       "   1407.04541,\n",
       "   1340.32959,\n",
       "   1276.413818,\n",
       "   1215.777344,\n",
       "   1158.334106,\n",
       "   1103.660889,\n",
       "   1052.698486,\n",
       "   1004.051392,\n",
       "   958.322021,\n",
       "   915.134705,\n",
       "   873.87262,\n",
       "   835.279846,\n",
       "   798.717773,\n",
       "   764.13385,\n",
       "   731.477173,\n",
       "   700.565674,\n",
       "   670.826172,\n",
       "   643.268738,\n",
       "   616.855408,\n",
       "   592.106995,\n",
       "   568.970093,\n",
       "   546.686096,\n",
       "   525.792725,\n",
       "   506.638245,\n",
       "   487.996155,\n",
       "   470.550751,\n",
       "   454.317169,\n",
       "   439.181549,\n",
       "   425.245819,\n",
       "   411.871307,\n",
       "   399.275726,\n",
       "   388.14093,\n",
       "   377.559601,\n",
       "   367.633057,\n",
       "   357.975708,\n",
       "   349.423523,\n",
       "   341.352417,\n",
       "   333.716339,\n",
       "   326.527802,\n",
       "   320.20636,\n",
       "   313.948639,\n",
       "   308.247437,\n",
       "   303.240448,\n",
       "   298.545532,\n",
       "   294.131317,\n",
       "   289.926025,\n",
       "   285.963531,\n",
       "   282.600433,\n",
       "   279.293762,\n",
       "   276.361755,\n",
       "   273.60553,\n",
       "   271.228943,\n",
       "   268.958923,\n",
       "   266.843353,\n",
       "   264.946289,\n",
       "   263.122711,\n",
       "   261.448883,\n",
       "   259.915253,\n",
       "   258.621155,\n",
       "   257.391754,\n",
       "   256.214478,\n",
       "   255.114578,\n",
       "   254.088211,\n",
       "   252.989136,\n",
       "   252.251755,\n",
       "   251.257584,\n",
       "   250.584351,\n",
       "   250.086792,\n",
       "   249.417358,\n",
       "   248.804855,\n",
       "   248.398056,\n",
       "   247.882141,\n",
       "   247.520157,\n",
       "   247.109055,\n",
       "   246.763779,\n",
       "   246.446655,\n",
       "   246.023956,\n",
       "   245.754333,\n",
       "   245.495789,\n",
       "   245.234848,\n",
       "   244.962463,\n",
       "   244.665024,\n",
       "   244.474716,\n",
       "   244.317963,\n",
       "   244.096924,\n",
       "   243.999161,\n",
       "   243.855988,\n",
       "   243.610748,\n",
       "   243.494797,\n",
       "   243.342529,\n",
       "   243.279968,\n",
       "   243.209869,\n",
       "   243.092804,\n",
       "   242.996719,\n",
       "   242.89238,\n",
       "   242.771317,\n",
       "   242.680618,\n",
       "   242.566498,\n",
       "   242.445297,\n",
       "   242.389801,\n",
       "   242.331238,\n",
       "   242.266602,\n",
       "   242.155884,\n",
       "   242.063583,\n",
       "   241.941513,\n",
       "   241.810974,\n",
       "   241.7332,\n",
       "   241.633438,\n",
       "   241.581009,\n",
       "   241.478638,\n",
       "   241.374954,\n",
       "   241.260208,\n",
       "   241.285187,\n",
       "   241.213486,\n",
       "   241.183548,\n",
       "   241.088135,\n",
       "   240.9814,\n",
       "   240.991501,\n",
       "   240.947937,\n",
       "   240.962479,\n",
       "   240.943192,\n",
       "   240.83989,\n",
       "   240.846802,\n",
       "   240.814392,\n",
       "   240.782974,\n",
       "   240.781464,\n",
       "   240.776443,\n",
       "   240.813019,\n",
       "   240.778641,\n",
       "   240.697388,\n",
       "   240.621231,\n",
       "   240.616104,\n",
       "   240.453461,\n",
       "   240.427063,\n",
       "   240.426804,\n",
       "   240.410767,\n",
       "   240.399307,\n",
       "   240.366074,\n",
       "   240.38002,\n",
       "   240.354935,\n",
       "   240.354126,\n",
       "   240.336685,\n",
       "   240.330383,\n",
       "   240.30751,\n",
       "   240.261292,\n",
       "   240.243042,\n",
       "   240.171463,\n",
       "   240.16394,\n",
       "   240.126129,\n",
       "   240.102921,\n",
       "   240.096802,\n",
       "   240.070801,\n",
       "   240.075775,\n",
       "   240.077469,\n",
       "   240.090683,\n",
       "   240.060913,\n",
       "   240.050797,\n",
       "   240.035645,\n",
       "   240.054932,\n",
       "   240.027679,\n",
       "   240.007751,\n",
       "   240.04361,\n",
       "   239.996811,\n",
       "   240.005737,\n",
       "   240.032181,\n",
       "   240.013535,\n",
       "   240.00264,\n",
       "   239.968307,\n",
       "   239.921158,\n",
       "   239.882187,\n",
       "   239.854416,\n",
       "   239.88887,\n",
       "   239.897888,\n",
       "   239.891205,\n",
       "   239.891525,\n",
       "   239.89032,\n",
       "   239.85907,\n",
       "   239.883713,\n",
       "   239.80542,\n",
       "   239.792816,\n",
       "   239.759918,\n",
       "   239.750259,\n",
       "   239.710205,\n",
       "   239.768326,\n",
       "   239.771744,\n",
       "   239.778473,\n",
       "   239.777466]}}"
      ]
     },
     "execution_count": 161,
     "metadata": {},
     "output_type": "execute_result"
    }
   ],
   "source": [
    "evals_result_GSPC = xgb_GSPC.evals_result()\n",
    "evals_result_GSPC"
   ]
  },
  {
   "cell_type": "code",
   "execution_count": 162,
   "metadata": {},
   "outputs": [
    {
     "data": {
      "text/plain": [
       "array([0.02246951, 0.2199645 , 0.0521117 , 0.06459955, 0.01423374,\n",
       "       0.02987724, 0.0853476 , 0.0068843 , 0.00755354, 0.01655156,\n",
       "       0.00706139, 0.00619797, 0.00649612, 0.00621454, 0.00701126,\n",
       "       0.01123716, 0.00780968, 0.00783549, 0.00635006, 0.00688092,\n",
       "       0.00875428, 0.00772438, 0.00701625, 0.00679845, 0.00734963,\n",
       "       0.01344883, 0.00631944, 0.0072418 , 0.00642884, 0.00697994,\n",
       "       0.00742444, 0.00620009, 0.00716795, 0.00696809, 0.00763772,\n",
       "       0.00704358, 0.00654781, 0.00698775, 0.00697786, 0.00627073,\n",
       "       0.00786819, 0.00758312, 0.00832984, 0.0087574 , 0.008686  ,\n",
       "       0.0066684 , 0.00700662, 0.0067781 , 0.00724337, 0.00717788,\n",
       "       0.00670956, 0.00687373, 0.00757769, 0.00616302, 0.00648447,\n",
       "       0.00682316, 0.00851082, 0.00840765, 0.00663312, 0.00725726,\n",
       "       0.00800822, 0.00618886, 0.00776204, 0.00699746, 0.00821881,\n",
       "       0.00654431, 0.00797172, 0.00774605, 0.00691926, 0.0072978 ,\n",
       "       0.00846003, 0.00759511, 0.00695124, 0.00957306, 0.00625094],\n",
       "      dtype=float32)"
      ]
     },
     "execution_count": 162,
     "metadata": {},
     "output_type": "execute_result"
    }
   ],
   "source": [
    "xgb_GSPC.feature_importances_"
   ]
  },
  {
   "cell_type": "code",
   "execution_count": 163,
   "metadata": {},
   "outputs": [
    {
     "data": {
      "text/plain": [
       "array([2789.0845, 3113.4585, 2895.252 , ..., 2849.0618, 3093.9722,\n",
       "       2968.9268], dtype=float32)"
      ]
     },
     "execution_count": 163,
     "metadata": {},
     "output_type": "execute_result"
    }
   ],
   "source": [
    "xgb_GSPC.predict(X_test_GSPC)"
   ]
  },
  {
   "cell_type": "code",
   "execution_count": 164,
   "metadata": {},
   "outputs": [
    {
     "data": {
      "text/plain": [
       "239.77750656543208"
      ]
     },
     "execution_count": 164,
     "metadata": {},
     "output_type": "execute_result"
    }
   ],
   "source": [
    "# # retrieve the RMSE on the test set\n",
    "mean_squared_error(xgb_GSPC.predict(X_test_GSPC), y_test_GSPC, squared=False) #RMSE"
   ]
  },
  {
   "cell_type": "code",
   "execution_count": 165,
   "metadata": {},
   "outputs": [
    {
     "data": {
      "text/plain": [
       "6.485020515438017"
      ]
     },
     "execution_count": 165,
     "metadata": {},
     "output_type": "execute_result"
    }
   ],
   "source": [
    "# # retrieve the MAPE on the test set\n",
    "mean_absolute_percentage_error(y_test_GSPC, xgb_GSPC.predict(X_test_GSPC)) #MAPE"
   ]
  },
  {
   "cell_type": "markdown",
   "metadata": {},
   "source": [
    "#### IXIC"
   ]
  },
  {
   "cell_type": "code",
   "execution_count": 166,
   "metadata": {},
   "outputs": [],
   "source": [
    "dtrain_IXIC = xgboost.DMatrix(data=X_train_IXIC, label=y_train_IXIC)\n",
    "dtest_IXIC = xgboost.DMatrix(data=X_test_IXIC, label=y_test_IXIC)"
   ]
  },
  {
   "cell_type": "code",
   "execution_count": 167,
   "metadata": {},
   "outputs": [
    {
     "name": "stdout",
     "output_type": "stream",
     "text": [
      "[0]\ttrain-rmse:7635.2+3.83927\ttest-rmse:7635.47+35.4289\n",
      "[10]\ttrain-rmse:4687.83+6.22325\ttest-rmse:4697.48+30.6118\n",
      "[20]\ttrain-rmse:2955.74+3.87883\ttest-rmse:2992.7+34.431\n",
      "[30]\ttrain-rmse:1955.05+4.7051\ttest-rmse:2043.12+34.3529\n",
      "[40]\ttrain-rmse:1388.34+6.27655\ttest-rmse:1546.65+32.5406\n",
      "[50]\ttrain-rmse:1078.46+5.67097\ttest-rmse:1309.52+31.3476\n",
      "[60]\ttrain-rmse:907.369+5.66392\ttest-rmse:1204.42+29.4936\n",
      "[70]\ttrain-rmse:807.77+5.16925\ttest-rmse:1158.71+27.9258\n",
      "[80]\ttrain-rmse:741.224+5.51103\ttest-rmse:1139.24+26.8188\n",
      "[90]\ttrain-rmse:691.119+5.6127\ttest-rmse:1130.02+25.54\n",
      "[100]\ttrain-rmse:650.85+6.88628\ttest-rmse:1125.35+24.6538\n",
      "[110]\ttrain-rmse:619.676+6.63937\ttest-rmse:1122.72+24.2778\n",
      "[120]\ttrain-rmse:593.42+7.26802\ttest-rmse:1120.41+24.2606\n",
      "[130]\ttrain-rmse:567.493+7.20584\ttest-rmse:1119.05+23.9477\n",
      "[140]\ttrain-rmse:543.458+8.24122\ttest-rmse:1117.89+23.7693\n",
      "[150]\ttrain-rmse:522.881+8.34155\ttest-rmse:1117.29+23.9203\n",
      "[160]\ttrain-rmse:502.028+7.76814\ttest-rmse:1116.43+23.8352\n",
      "[170]\ttrain-rmse:484.13+8.19893\ttest-rmse:1115.88+23.7488\n",
      "[180]\ttrain-rmse:465.694+8.42708\ttest-rmse:1115.17+23.5403\n",
      "[190]\ttrain-rmse:448.348+7.49494\ttest-rmse:1114.77+23.7316\n",
      "[199]\ttrain-rmse:433.484+7.51334\ttest-rmse:1114.18+23.704\n"
     ]
    }
   ],
   "source": [
    "cv_results_IXIC = xgboost.cv(dtrain=dtrain_IXIC, \n",
    "                             params=params, \n",
    "                             nfold=10, \n",
    "                             num_boost_round=200,\n",
    "                             early_stopping_rounds=10,\n",
    "                             metrics=\"rmse\", \n",
    "                             as_pandas=True,\n",
    "                             verbose_eval=10,\n",
    "                             seed=1)"
   ]
  },
  {
   "cell_type": "code",
   "execution_count": 168,
   "metadata": {},
   "outputs": [
    {
     "data": {
      "text/html": [
       "<div>\n",
       "<style scoped>\n",
       "    .dataframe tbody tr th:only-of-type {\n",
       "        vertical-align: middle;\n",
       "    }\n",
       "\n",
       "    .dataframe tbody tr th {\n",
       "        vertical-align: top;\n",
       "    }\n",
       "\n",
       "    .dataframe thead th {\n",
       "        text-align: right;\n",
       "    }\n",
       "</style>\n",
       "<table border=\"1\" class=\"dataframe\">\n",
       "  <thead>\n",
       "    <tr style=\"text-align: right;\">\n",
       "      <th></th>\n",
       "      <th>train-rmse-mean</th>\n",
       "      <th>train-rmse-std</th>\n",
       "      <th>test-rmse-mean</th>\n",
       "      <th>test-rmse-std</th>\n",
       "    </tr>\n",
       "  </thead>\n",
       "  <tbody>\n",
       "    <tr>\n",
       "      <th>195</th>\n",
       "      <td>440.010004</td>\n",
       "      <td>7.135098</td>\n",
       "      <td>1114.611536</td>\n",
       "      <td>23.713537</td>\n",
       "    </tr>\n",
       "    <tr>\n",
       "      <th>196</th>\n",
       "      <td>438.211185</td>\n",
       "      <td>7.163607</td>\n",
       "      <td>1114.628345</td>\n",
       "      <td>23.744436</td>\n",
       "    </tr>\n",
       "    <tr>\n",
       "      <th>197</th>\n",
       "      <td>436.790079</td>\n",
       "      <td>7.261622</td>\n",
       "      <td>1114.491846</td>\n",
       "      <td>23.727091</td>\n",
       "    </tr>\n",
       "    <tr>\n",
       "      <th>198</th>\n",
       "      <td>434.965262</td>\n",
       "      <td>7.401968</td>\n",
       "      <td>1114.286389</td>\n",
       "      <td>23.680896</td>\n",
       "    </tr>\n",
       "    <tr>\n",
       "      <th>199</th>\n",
       "      <td>433.484048</td>\n",
       "      <td>7.513337</td>\n",
       "      <td>1114.183301</td>\n",
       "      <td>23.704010</td>\n",
       "    </tr>\n",
       "  </tbody>\n",
       "</table>\n",
       "</div>"
      ],
      "text/plain": [
       "     train-rmse-mean  train-rmse-std  test-rmse-mean  test-rmse-std\n",
       "195       440.010004        7.135098     1114.611536      23.713537\n",
       "196       438.211185        7.163607     1114.628345      23.744436\n",
       "197       436.790079        7.261622     1114.491846      23.727091\n",
       "198       434.965262        7.401968     1114.286389      23.680896\n",
       "199       433.484048        7.513337     1114.183301      23.704010"
      ]
     },
     "execution_count": 168,
     "metadata": {},
     "output_type": "execute_result"
    }
   ],
   "source": [
    "cv_results_IXIC.tail()"
   ]
  },
  {
   "cell_type": "code",
   "execution_count": 169,
   "metadata": {},
   "outputs": [
    {
     "data": {
      "text/plain": [
       "1114.1833007"
      ]
     },
     "execution_count": 169,
     "metadata": {},
     "output_type": "execute_result"
    }
   ],
   "source": [
    "cv_results_IXIC['test-rmse-mean'].min()"
   ]
  },
  {
   "cell_type": "code",
   "execution_count": 170,
   "metadata": {},
   "outputs": [
    {
     "name": "stdout",
     "output_type": "stream",
     "text": [
      "[0]\tTest-rmse:7685.14\n",
      "Will train until Test-rmse hasn't improved in 10 rounds.\n",
      "[10]\tTest-rmse:4733.83\n",
      "[20]\tTest-rmse:3015.8\n",
      "[30]\tTest-rmse:2069.22\n",
      "[40]\tTest-rmse:1561.47\n",
      "[50]\tTest-rmse:1319.96\n",
      "[60]\tTest-rmse:1207.25\n",
      "[70]\tTest-rmse:1157.18\n",
      "[80]\tTest-rmse:1134\n",
      "[90]\tTest-rmse:1123.27\n",
      "[100]\tTest-rmse:1118.15\n",
      "[110]\tTest-rmse:1115.29\n",
      "[120]\tTest-rmse:1112.57\n",
      "[130]\tTest-rmse:1111.04\n",
      "[140]\tTest-rmse:1109.59\n",
      "[150]\tTest-rmse:1108.77\n",
      "[160]\tTest-rmse:1108.19\n",
      "[170]\tTest-rmse:1107.57\n",
      "[180]\tTest-rmse:1106.68\n",
      "[190]\tTest-rmse:1106.18\n",
      "[199]\tTest-rmse:1105.83\n"
     ]
    }
   ],
   "source": [
    "xgb_IXIC = xgboost.train(\n",
    "                        params,\n",
    "                        dtrain_IXIC,\n",
    "                        num_boost_round=200,\n",
    "                        evals=[(dtest_IXIC, \"Test\")],\n",
    "                        early_stopping_rounds=10,\n",
    "                        verbose_eval=10\n",
    "                        )"
   ]
  },
  {
   "cell_type": "code",
   "execution_count": 171,
   "metadata": {},
   "outputs": [
    {
     "data": {
      "text/plain": [
       "1105.829752208223"
      ]
     },
     "execution_count": 171,
     "metadata": {},
     "output_type": "execute_result"
    }
   ],
   "source": [
    "# retrieve the RMSE on the test set\n",
    "mean_squared_error(xgb_IXIC.predict(dtest_IXIC), y_test_IXIC, squared=False) #RMSE"
   ]
  },
  {
   "cell_type": "code",
   "execution_count": 172,
   "metadata": {},
   "outputs": [
    {
     "data": {
      "text/plain": [
       "10.282228445821124"
      ]
     },
     "execution_count": 172,
     "metadata": {},
     "output_type": "execute_result"
    }
   ],
   "source": [
    "# retrieve the MAPE on the test set\n",
    "mean_absolute_percentage_error(y_test_IXIC, xgb_IXIC.predict(dtest_IXIC)) #MAPE"
   ]
  },
  {
   "cell_type": "markdown",
   "metadata": {},
   "source": [
    "#### VGT"
   ]
  },
  {
   "cell_type": "code",
   "execution_count": 173,
   "metadata": {},
   "outputs": [],
   "source": [
    "dtrain_VGT = xgboost.DMatrix(data=X_train_VGT, label=y_train_VGT)\n",
    "dtest_VGT = xgboost.DMatrix(data=X_test_VGT, label=y_test_VGT)"
   ]
  },
  {
   "cell_type": "code",
   "execution_count": 174,
   "metadata": {},
   "outputs": [
    {
     "name": "stdout",
     "output_type": "stream",
     "text": [
      "[0]\ttrain-rmse:198.986+0.125199\ttest-rmse:199.013+1.1703\n",
      "[10]\ttrain-rmse:123.829+0.232613\ttest-rmse:124.544+0.970082\n",
      "[20]\ttrain-rmse:79.8385+0.156596\ttest-rmse:81.9219+1.13895\n",
      "[30]\ttrain-rmse:54.687+0.173746\ttest-rmse:58.8476+1.08306\n",
      "[40]\ttrain-rmse:40.6046+0.14839\ttest-rmse:47.2462+1.00929\n",
      "[50]\ttrain-rmse:32.9262+0.141216\ttest-rmse:41.9187+0.947035\n",
      "[60]\ttrain-rmse:28.5863+0.176432\ttest-rmse:39.5692+0.925216\n",
      "[70]\ttrain-rmse:25.871+0.174026\ttest-rmse:38.5248+0.858612\n",
      "[80]\ttrain-rmse:23.9089+0.155084\ttest-rmse:38.0133+0.813246\n",
      "[90]\ttrain-rmse:22.3778+0.229924\ttest-rmse:37.7506+0.792476\n",
      "[100]\ttrain-rmse:21.1617+0.222837\ttest-rmse:37.612+0.752059\n",
      "[110]\ttrain-rmse:20.116+0.223273\ttest-rmse:37.5334+0.729825\n",
      "[120]\ttrain-rmse:19.2431+0.205433\ttest-rmse:37.4714+0.70959\n",
      "[130]\ttrain-rmse:18.3838+0.221972\ttest-rmse:37.4281+0.69967\n",
      "[140]\ttrain-rmse:17.6149+0.229364\ttest-rmse:37.3989+0.697239\n",
      "[150]\ttrain-rmse:16.9244+0.234346\ttest-rmse:37.3694+0.701004\n",
      "[160]\ttrain-rmse:16.2734+0.185022\ttest-rmse:37.3337+0.69498\n",
      "[170]\ttrain-rmse:15.6542+0.180445\ttest-rmse:37.3194+0.689009\n",
      "[180]\ttrain-rmse:15.0536+0.186953\ttest-rmse:37.2995+0.685669\n",
      "[190]\ttrain-rmse:14.5009+0.171642\ttest-rmse:37.2857+0.68137\n",
      "[199]\ttrain-rmse:14.038+0.176462\ttest-rmse:37.2713+0.683429\n"
     ]
    }
   ],
   "source": [
    "cv_results_VGT = xgboost.cv(dtrain=dtrain_VGT, \n",
    "                             params=params, \n",
    "                             nfold=10, \n",
    "                             num_boost_round=200,\n",
    "                             early_stopping_rounds=10,\n",
    "                             metrics=\"rmse\", \n",
    "                             as_pandas=True,\n",
    "                             verbose_eval=10,\n",
    "                             seed=1)"
   ]
  },
  {
   "cell_type": "code",
   "execution_count": 175,
   "metadata": {},
   "outputs": [
    {
     "data": {
      "text/html": [
       "<div>\n",
       "<style scoped>\n",
       "    .dataframe tbody tr th:only-of-type {\n",
       "        vertical-align: middle;\n",
       "    }\n",
       "\n",
       "    .dataframe tbody tr th {\n",
       "        vertical-align: top;\n",
       "    }\n",
       "\n",
       "    .dataframe thead th {\n",
       "        text-align: right;\n",
       "    }\n",
       "</style>\n",
       "<table border=\"1\" class=\"dataframe\">\n",
       "  <thead>\n",
       "    <tr style=\"text-align: right;\">\n",
       "      <th></th>\n",
       "      <th>train-rmse-mean</th>\n",
       "      <th>train-rmse-std</th>\n",
       "      <th>test-rmse-mean</th>\n",
       "      <th>test-rmse-std</th>\n",
       "    </tr>\n",
       "  </thead>\n",
       "  <tbody>\n",
       "    <tr>\n",
       "      <th>195</th>\n",
       "      <td>14.228474</td>\n",
       "      <td>0.182361</td>\n",
       "      <td>37.276803</td>\n",
       "      <td>0.681813</td>\n",
       "    </tr>\n",
       "    <tr>\n",
       "      <th>196</th>\n",
       "      <td>14.181347</td>\n",
       "      <td>0.184365</td>\n",
       "      <td>37.277243</td>\n",
       "      <td>0.682819</td>\n",
       "    </tr>\n",
       "    <tr>\n",
       "      <th>197</th>\n",
       "      <td>14.134938</td>\n",
       "      <td>0.183229</td>\n",
       "      <td>37.275464</td>\n",
       "      <td>0.683160</td>\n",
       "    </tr>\n",
       "    <tr>\n",
       "      <th>198</th>\n",
       "      <td>14.079516</td>\n",
       "      <td>0.182071</td>\n",
       "      <td>37.274984</td>\n",
       "      <td>0.682796</td>\n",
       "    </tr>\n",
       "    <tr>\n",
       "      <th>199</th>\n",
       "      <td>14.038023</td>\n",
       "      <td>0.176462</td>\n",
       "      <td>37.271313</td>\n",
       "      <td>0.683429</td>\n",
       "    </tr>\n",
       "  </tbody>\n",
       "</table>\n",
       "</div>"
      ],
      "text/plain": [
       "     train-rmse-mean  train-rmse-std  test-rmse-mean  test-rmse-std\n",
       "195        14.228474        0.182361       37.276803       0.681813\n",
       "196        14.181347        0.184365       37.277243       0.682819\n",
       "197        14.134938        0.183229       37.275464       0.683160\n",
       "198        14.079516        0.182071       37.274984       0.682796\n",
       "199        14.038023        0.176462       37.271313       0.683429"
      ]
     },
     "execution_count": 175,
     "metadata": {},
     "output_type": "execute_result"
    }
   ],
   "source": [
    "cv_results_VGT.tail()"
   ]
  },
  {
   "cell_type": "code",
   "execution_count": 176,
   "metadata": {},
   "outputs": [
    {
     "data": {
      "text/plain": [
       "37.2713135"
      ]
     },
     "execution_count": 176,
     "metadata": {},
     "output_type": "execute_result"
    }
   ],
   "source": [
    "cv_results_VGT['test-rmse-mean'].min()"
   ]
  },
  {
   "cell_type": "code",
   "execution_count": 177,
   "metadata": {},
   "outputs": [
    {
     "name": "stdout",
     "output_type": "stream",
     "text": [
      "[0]\tTest-rmse:200.753\n",
      "Will train until Test-rmse hasn't improved in 10 rounds.\n",
      "[10]\tTest-rmse:125.767\n",
      "[20]\tTest-rmse:82.6231\n",
      "[30]\tTest-rmse:59.6987\n",
      "[40]\tTest-rmse:47.6419\n",
      "[50]\tTest-rmse:42.209\n",
      "[60]\tTest-rmse:39.6098\n",
      "[70]\tTest-rmse:38.4143\n",
      "[80]\tTest-rmse:37.8481\n",
      "[90]\tTest-rmse:37.5185\n",
      "[100]\tTest-rmse:37.3836\n",
      "[110]\tTest-rmse:37.2988\n",
      "[120]\tTest-rmse:37.2044\n",
      "[130]\tTest-rmse:37.1443\n",
      "[140]\tTest-rmse:37.114\n",
      "[150]\tTest-rmse:37.0513\n",
      "[160]\tTest-rmse:37.018\n",
      "[170]\tTest-rmse:36.9884\n",
      "[180]\tTest-rmse:36.9746\n",
      "[190]\tTest-rmse:36.9605\n",
      "[199]\tTest-rmse:36.9487\n"
     ]
    }
   ],
   "source": [
    "xgb_VGT = xgboost.train(\n",
    "                        params,\n",
    "                        dtrain_VGT,\n",
    "                        num_boost_round=200,\n",
    "                        evals=[(dtest_VGT, \"Test\")],\n",
    "                        early_stopping_rounds=10,\n",
    "                        verbose_eval=10\n",
    "                        )"
   ]
  },
  {
   "cell_type": "code",
   "execution_count": 178,
   "metadata": {},
   "outputs": [
    {
     "data": {
      "text/plain": [
       "36.94864606263214"
      ]
     },
     "execution_count": 178,
     "metadata": {},
     "output_type": "execute_result"
    }
   ],
   "source": [
    "# retrieve the RMSE on the test set\n",
    "mean_squared_error(xgb_VGT.predict(dtest_VGT), y_test_VGT, squared=False) #RMSE"
   ]
  },
  {
   "cell_type": "code",
   "execution_count": 179,
   "metadata": {},
   "outputs": [
    {
     "data": {
      "text/plain": [
       "14.09895063723"
      ]
     },
     "execution_count": 179,
     "metadata": {},
     "output_type": "execute_result"
    }
   ],
   "source": [
    "# retrieve the MAPE on the test set\n",
    "mean_absolute_percentage_error(y_test_VGT, xgb_VGT.predict(dtest_VGT)) #MAPE"
   ]
  }
 ],
 "metadata": {
  "kernelspec": {
   "display_name": "Python 3",
   "language": "python",
   "name": "python3"
  },
  "language_info": {
   "codemirror_mode": {
    "name": "ipython",
    "version": 3
   },
   "file_extension": ".py",
   "mimetype": "text/x-python",
   "name": "python",
   "nbconvert_exporter": "python",
   "pygments_lexer": "ipython3",
   "version": "3.7.3"
  }
 },
 "nbformat": 4,
 "nbformat_minor": 4
}
