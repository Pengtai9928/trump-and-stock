{
 "cells": [
  {
   "cell_type": "code",
   "execution_count": 1,
   "metadata": {
    "ExecuteTime": {
     "end_time": "2020-11-17T05:00:46.457788Z",
     "start_time": "2020-11-17T05:00:44.593263Z"
    }
   },
   "outputs": [],
   "source": [
    "import matplotlib.pyplot as plt\n",
    "import numpy as np\n",
    "import pandas as pd\n",
    "import seaborn as sns\n",
    "from sklearn.metrics import mean_squared_error\n",
    "from math import sqrt"
   ]
  },
  {
   "cell_type": "code",
   "execution_count": 3,
   "metadata": {
    "ExecuteTime": {
     "end_time": "2020-11-15T09:32:39.277222Z",
     "start_time": "2020-11-15T09:32:39.273260Z"
    }
   },
   "outputs": [
    {
     "name": "stdout",
     "output_type": "stream",
     "text": [
      "2.2.0\n"
     ]
    }
   ],
   "source": [
    "import tensorflow as tf\n",
    "\n",
    "from tensorflow import keras\n",
    "from tensorflow.keras import layers\n",
    "from tensorflow.keras.layers.experimental import preprocessing\n",
    "from keras.layers import Dropout, BatchNormalization\n",
    "print(tf.__version__)"
   ]
  },
  {
   "cell_type": "code",
   "execution_count": 4,
   "metadata": {
    "ExecuteTime": {
     "end_time": "2020-11-15T09:32:40.999059Z",
     "start_time": "2020-11-15T09:32:40.950758Z"
    }
   },
   "outputs": [],
   "source": [
    "dataset = pd.read_csv(\"../data/train_validation_grouped_by_day.csv\",index_col=0)\n",
    "test = pd.read_csv(\"../data/test_grouped_by_day.csv\",index_col=0)\n",
    "\n",
    "#Stock market prices\n",
    "y = dataset.iloc[:,10:13]\n",
    "y_test = test.iloc[:,10:13]\n",
    "\n",
    "#Rearrange so stock market prices are at the end\n",
    "dataset = dataset.iloc[:,np.r_[:10,13:len(dataset.columns)]]\n",
    "dataset = pd.concat([dataset,y],axis=1)\n",
    "\n",
    "test = test.iloc[:,np.r_[:10,13:len(test.columns)]]\n",
    "test = pd.concat([test,y_test],axis=1)"
   ]
  },
  {
   "cell_type": "code",
   "execution_count": 21,
   "metadata": {
    "ExecuteTime": {
     "end_time": "2020-11-15T10:47:03.621982Z",
     "start_time": "2020-11-15T10:47:03.616908Z"
    }
   },
   "outputs": [
    {
     "data": {
      "text/plain": [
       "['retweet_count',\n",
       " 'favorite_count',\n",
       " 'is_retweet',\n",
       " 'hashtag_count',\n",
       " 'mention_count',\n",
       " 'word_count',\n",
       " 'char_count',\n",
       " 'word_density',\n",
       " 'punctuation_freq',\n",
       " 'upper_case_freq',\n",
       " 'topic1',\n",
       " 'topic2',\n",
       " 'topic3',\n",
       " 'topic4',\n",
       " 'topic5',\n",
       " 'topic6',\n",
       " 'topic7',\n",
       " 'topic8',\n",
       " 'topic9',\n",
       " 'topic10',\n",
       " '0',\n",
       " '1',\n",
       " '2',\n",
       " '3',\n",
       " '4',\n",
       " '5',\n",
       " '6',\n",
       " '7',\n",
       " '8',\n",
       " '9',\n",
       " '10',\n",
       " '11',\n",
       " '12',\n",
       " '13',\n",
       " '14',\n",
       " '15',\n",
       " '16',\n",
       " '17',\n",
       " '18',\n",
       " '19',\n",
       " '20',\n",
       " '21',\n",
       " '22',\n",
       " '23',\n",
       " '24',\n",
       " '25',\n",
       " '26',\n",
       " '27',\n",
       " '28',\n",
       " '29',\n",
       " '30',\n",
       " '31',\n",
       " '32',\n",
       " '33',\n",
       " '34',\n",
       " '35',\n",
       " '36',\n",
       " '37',\n",
       " '38',\n",
       " '39',\n",
       " '40',\n",
       " '41',\n",
       " '42',\n",
       " '43',\n",
       " '44',\n",
       " '45',\n",
       " '46',\n",
       " '47',\n",
       " '48',\n",
       " '49',\n",
       " '50',\n",
       " '51',\n",
       " '52',\n",
       " '53',\n",
       " '54',\n",
       " '55',\n",
       " '56',\n",
       " '57',\n",
       " '58',\n",
       " '59',\n",
       " '60',\n",
       " '61',\n",
       " '62',\n",
       " '63',\n",
       " '^GSPC',\n",
       " '^IXIC',\n",
       " 'VGT']"
      ]
     },
     "execution_count": 21,
     "metadata": {},
     "output_type": "execute_result"
    }
   ],
   "source": [
    "list(train_dataset)"
   ]
  },
  {
   "cell_type": "code",
   "execution_count": 30,
   "metadata": {
    "ExecuteTime": {
     "end_time": "2020-11-15T10:54:30.399496Z",
     "start_time": "2020-11-15T10:54:30.375147Z"
    }
   },
   "outputs": [
    {
     "data": {
      "text/html": [
       "<div>\n",
       "<style scoped>\n",
       "    .dataframe tbody tr th:only-of-type {\n",
       "        vertical-align: middle;\n",
       "    }\n",
       "\n",
       "    .dataframe tbody tr th {\n",
       "        vertical-align: top;\n",
       "    }\n",
       "\n",
       "    .dataframe thead th {\n",
       "        text-align: right;\n",
       "    }\n",
       "</style>\n",
       "<table border=\"1\" class=\"dataframe\">\n",
       "  <thead>\n",
       "    <tr style=\"text-align: right;\">\n",
       "      <th></th>\n",
       "      <th>retweet_count</th>\n",
       "      <th>favorite_count</th>\n",
       "      <th>is_retweet</th>\n",
       "      <th>hashtag_count</th>\n",
       "      <th>mention_count</th>\n",
       "      <th>word_count</th>\n",
       "      <th>char_count</th>\n",
       "      <th>word_density</th>\n",
       "      <th>punctuation_freq</th>\n",
       "      <th>upper_case_freq</th>\n",
       "      <th>...</th>\n",
       "      <th>57</th>\n",
       "      <th>58</th>\n",
       "      <th>59</th>\n",
       "      <th>60</th>\n",
       "      <th>61</th>\n",
       "      <th>62</th>\n",
       "      <th>63</th>\n",
       "      <th>^GSPC</th>\n",
       "      <th>^IXIC</th>\n",
       "      <th>VGT</th>\n",
       "    </tr>\n",
       "    <tr>\n",
       "      <th>market_date</th>\n",
       "      <th></th>\n",
       "      <th></th>\n",
       "      <th></th>\n",
       "      <th></th>\n",
       "      <th></th>\n",
       "      <th></th>\n",
       "      <th></th>\n",
       "      <th></th>\n",
       "      <th></th>\n",
       "      <th></th>\n",
       "      <th></th>\n",
       "      <th></th>\n",
       "      <th></th>\n",
       "      <th></th>\n",
       "      <th></th>\n",
       "      <th></th>\n",
       "      <th></th>\n",
       "      <th></th>\n",
       "      <th></th>\n",
       "      <th></th>\n",
       "      <th></th>\n",
       "    </tr>\n",
       "  </thead>\n",
       "  <tbody>\n",
       "    <tr>\n",
       "      <th>2019-05-10</th>\n",
       "      <td>10719.357143</td>\n",
       "      <td>37912.190476</td>\n",
       "      <td>0.000000</td>\n",
       "      <td>0.000000</td>\n",
       "      <td>0.190476</td>\n",
       "      <td>37.261905</td>\n",
       "      <td>195.261905</td>\n",
       "      <td>5.277689</td>\n",
       "      <td>0.174045</td>\n",
       "      <td>0.047063</td>\n",
       "      <td>...</td>\n",
       "      <td>-0.120131</td>\n",
       "      <td>-0.023096</td>\n",
       "      <td>-0.042284</td>\n",
       "      <td>-0.058552</td>\n",
       "      <td>0.031299</td>\n",
       "      <td>-0.177001</td>\n",
       "      <td>0.058784</td>\n",
       "      <td>2881.399902</td>\n",
       "      <td>7916.939941</td>\n",
       "      <td>202.811295</td>\n",
       "    </tr>\n",
       "    <tr>\n",
       "      <th>2018-04-19</th>\n",
       "      <td>13649.900000</td>\n",
       "      <td>58518.700000</td>\n",
       "      <td>0.100000</td>\n",
       "      <td>0.300000</td>\n",
       "      <td>1.000000</td>\n",
       "      <td>30.400000</td>\n",
       "      <td>171.800000</td>\n",
       "      <td>5.730311</td>\n",
       "      <td>0.193687</td>\n",
       "      <td>0.049240</td>\n",
       "      <td>...</td>\n",
       "      <td>-0.140691</td>\n",
       "      <td>0.032219</td>\n",
       "      <td>-0.098025</td>\n",
       "      <td>-0.068693</td>\n",
       "      <td>0.017239</td>\n",
       "      <td>-0.133172</td>\n",
       "      <td>0.028903</td>\n",
       "      <td>2693.129883</td>\n",
       "      <td>7238.060059</td>\n",
       "      <td>170.318359</td>\n",
       "    </tr>\n",
       "    <tr>\n",
       "      <th>2019-10-25</th>\n",
       "      <td>14697.100000</td>\n",
       "      <td>34956.750000</td>\n",
       "      <td>0.000000</td>\n",
       "      <td>0.050000</td>\n",
       "      <td>0.500000</td>\n",
       "      <td>34.650000</td>\n",
       "      <td>183.500000</td>\n",
       "      <td>5.421858</td>\n",
       "      <td>0.186293</td>\n",
       "      <td>0.048752</td>\n",
       "      <td>...</td>\n",
       "      <td>-0.136549</td>\n",
       "      <td>-0.005516</td>\n",
       "      <td>-0.065343</td>\n",
       "      <td>-0.080538</td>\n",
       "      <td>0.048815</td>\n",
       "      <td>-0.181037</td>\n",
       "      <td>-0.001925</td>\n",
       "      <td>3022.550049</td>\n",
       "      <td>8243.120117</td>\n",
       "      <td>219.163239</td>\n",
       "    </tr>\n",
       "    <tr>\n",
       "      <th>2019-09-17</th>\n",
       "      <td>12048.863636</td>\n",
       "      <td>39756.863636</td>\n",
       "      <td>0.000000</td>\n",
       "      <td>0.227273</td>\n",
       "      <td>0.409091</td>\n",
       "      <td>25.909091</td>\n",
       "      <td>136.090909</td>\n",
       "      <td>5.423615</td>\n",
       "      <td>0.182792</td>\n",
       "      <td>0.072996</td>\n",
       "      <td>...</td>\n",
       "      <td>-0.087630</td>\n",
       "      <td>0.010655</td>\n",
       "      <td>-0.089670</td>\n",
       "      <td>-0.053215</td>\n",
       "      <td>0.021621</td>\n",
       "      <td>-0.179488</td>\n",
       "      <td>0.042504</td>\n",
       "      <td>3005.699951</td>\n",
       "      <td>8186.020020</td>\n",
       "      <td>214.804993</td>\n",
       "    </tr>\n",
       "    <tr>\n",
       "      <th>2017-06-16</th>\n",
       "      <td>24525.428571</td>\n",
       "      <td>101453.571429</td>\n",
       "      <td>0.000000</td>\n",
       "      <td>0.428571</td>\n",
       "      <td>0.428571</td>\n",
       "      <td>20.285714</td>\n",
       "      <td>102.571429</td>\n",
       "      <td>6.027193</td>\n",
       "      <td>0.255552</td>\n",
       "      <td>0.062443</td>\n",
       "      <td>...</td>\n",
       "      <td>-0.032961</td>\n",
       "      <td>-0.029269</td>\n",
       "      <td>-0.013370</td>\n",
       "      <td>-0.018417</td>\n",
       "      <td>0.005554</td>\n",
       "      <td>-0.145150</td>\n",
       "      <td>0.008310</td>\n",
       "      <td>2433.149902</td>\n",
       "      <td>6151.759766</td>\n",
       "      <td>136.372421</td>\n",
       "    </tr>\n",
       "    <tr>\n",
       "      <th>...</th>\n",
       "      <td>...</td>\n",
       "      <td>...</td>\n",
       "      <td>...</td>\n",
       "      <td>...</td>\n",
       "      <td>...</td>\n",
       "      <td>...</td>\n",
       "      <td>...</td>\n",
       "      <td>...</td>\n",
       "      <td>...</td>\n",
       "      <td>...</td>\n",
       "      <td>...</td>\n",
       "      <td>...</td>\n",
       "      <td>...</td>\n",
       "      <td>...</td>\n",
       "      <td>...</td>\n",
       "      <td>...</td>\n",
       "      <td>...</td>\n",
       "      <td>...</td>\n",
       "      <td>...</td>\n",
       "      <td>...</td>\n",
       "      <td>...</td>\n",
       "    </tr>\n",
       "    <tr>\n",
       "      <th>2016-08-26</th>\n",
       "      <td>8950.421053</td>\n",
       "      <td>22260.210526</td>\n",
       "      <td>0.000000</td>\n",
       "      <td>0.157895</td>\n",
       "      <td>0.368421</td>\n",
       "      <td>20.315789</td>\n",
       "      <td>113.315789</td>\n",
       "      <td>5.669092</td>\n",
       "      <td>0.240888</td>\n",
       "      <td>0.062383</td>\n",
       "      <td>...</td>\n",
       "      <td>-0.106673</td>\n",
       "      <td>-0.013199</td>\n",
       "      <td>-0.071373</td>\n",
       "      <td>-0.040022</td>\n",
       "      <td>0.079723</td>\n",
       "      <td>-0.182173</td>\n",
       "      <td>0.051119</td>\n",
       "      <td>2169.040039</td>\n",
       "      <td>5218.919922</td>\n",
       "      <td>112.058411</td>\n",
       "    </tr>\n",
       "    <tr>\n",
       "      <th>2016-06-06</th>\n",
       "      <td>6964.772727</td>\n",
       "      <td>18037.454545</td>\n",
       "      <td>0.090909</td>\n",
       "      <td>0.363636</td>\n",
       "      <td>0.363636</td>\n",
       "      <td>21.272727</td>\n",
       "      <td>108.863636</td>\n",
       "      <td>5.167805</td>\n",
       "      <td>0.183602</td>\n",
       "      <td>0.045413</td>\n",
       "      <td>...</td>\n",
       "      <td>-0.098326</td>\n",
       "      <td>-0.027543</td>\n",
       "      <td>-0.056414</td>\n",
       "      <td>-0.026903</td>\n",
       "      <td>0.005200</td>\n",
       "      <td>-0.193717</td>\n",
       "      <td>0.070208</td>\n",
       "      <td>2109.409912</td>\n",
       "      <td>4968.709961</td>\n",
       "      <td>104.173271</td>\n",
       "    </tr>\n",
       "    <tr>\n",
       "      <th>2016-01-27</th>\n",
       "      <td>4053.444444</td>\n",
       "      <td>11585.444444</td>\n",
       "      <td>0.000000</td>\n",
       "      <td>0.555556</td>\n",
       "      <td>0.222222</td>\n",
       "      <td>18.000000</td>\n",
       "      <td>95.666667</td>\n",
       "      <td>5.580489</td>\n",
       "      <td>0.248560</td>\n",
       "      <td>0.042008</td>\n",
       "      <td>...</td>\n",
       "      <td>-0.081841</td>\n",
       "      <td>-0.049391</td>\n",
       "      <td>-0.063068</td>\n",
       "      <td>-0.042646</td>\n",
       "      <td>0.017201</td>\n",
       "      <td>-0.173208</td>\n",
       "      <td>0.044521</td>\n",
       "      <td>1882.949951</td>\n",
       "      <td>4468.169922</td>\n",
       "      <td>91.964165</td>\n",
       "    </tr>\n",
       "    <tr>\n",
       "      <th>2018-05-01</th>\n",
       "      <td>19403.272727</td>\n",
       "      <td>88506.181818</td>\n",
       "      <td>0.000000</td>\n",
       "      <td>0.000000</td>\n",
       "      <td>0.545455</td>\n",
       "      <td>33.818182</td>\n",
       "      <td>189.363636</td>\n",
       "      <td>5.875284</td>\n",
       "      <td>0.181160</td>\n",
       "      <td>0.010012</td>\n",
       "      <td>...</td>\n",
       "      <td>-0.115739</td>\n",
       "      <td>-0.014144</td>\n",
       "      <td>-0.082035</td>\n",
       "      <td>-0.045655</td>\n",
       "      <td>0.014576</td>\n",
       "      <td>-0.180453</td>\n",
       "      <td>0.040802</td>\n",
       "      <td>2654.800049</td>\n",
       "      <td>7130.700195</td>\n",
       "      <td>167.768173</td>\n",
       "    </tr>\n",
       "    <tr>\n",
       "      <th>2018-06-29</th>\n",
       "      <td>16051.000000</td>\n",
       "      <td>79650.000000</td>\n",
       "      <td>0.000000</td>\n",
       "      <td>0.333333</td>\n",
       "      <td>0.000000</td>\n",
       "      <td>35.333333</td>\n",
       "      <td>209.000000</td>\n",
       "      <td>6.051515</td>\n",
       "      <td>0.086364</td>\n",
       "      <td>0.061364</td>\n",
       "      <td>...</td>\n",
       "      <td>-0.116151</td>\n",
       "      <td>0.086636</td>\n",
       "      <td>-0.132028</td>\n",
       "      <td>-0.046192</td>\n",
       "      <td>0.098952</td>\n",
       "      <td>-0.119645</td>\n",
       "      <td>0.040590</td>\n",
       "      <td>2718.370117</td>\n",
       "      <td>7510.299805</td>\n",
       "      <td>176.372711</td>\n",
       "    </tr>\n",
       "  </tbody>\n",
       "</table>\n",
       "<p>890 rows × 87 columns</p>\n",
       "</div>"
      ],
      "text/plain": [
       "             retweet_count  favorite_count  is_retweet  hashtag_count  \\\n",
       "market_date                                                             \n",
       "2019-05-10    10719.357143    37912.190476    0.000000       0.000000   \n",
       "2018-04-19    13649.900000    58518.700000    0.100000       0.300000   \n",
       "2019-10-25    14697.100000    34956.750000    0.000000       0.050000   \n",
       "2019-09-17    12048.863636    39756.863636    0.000000       0.227273   \n",
       "2017-06-16    24525.428571   101453.571429    0.000000       0.428571   \n",
       "...                    ...             ...         ...            ...   \n",
       "2016-08-26     8950.421053    22260.210526    0.000000       0.157895   \n",
       "2016-06-06     6964.772727    18037.454545    0.090909       0.363636   \n",
       "2016-01-27     4053.444444    11585.444444    0.000000       0.555556   \n",
       "2018-05-01    19403.272727    88506.181818    0.000000       0.000000   \n",
       "2018-06-29    16051.000000    79650.000000    0.000000       0.333333   \n",
       "\n",
       "             mention_count  word_count  char_count  word_density  \\\n",
       "market_date                                                        \n",
       "2019-05-10        0.190476   37.261905  195.261905      5.277689   \n",
       "2018-04-19        1.000000   30.400000  171.800000      5.730311   \n",
       "2019-10-25        0.500000   34.650000  183.500000      5.421858   \n",
       "2019-09-17        0.409091   25.909091  136.090909      5.423615   \n",
       "2017-06-16        0.428571   20.285714  102.571429      6.027193   \n",
       "...                    ...         ...         ...           ...   \n",
       "2016-08-26        0.368421   20.315789  113.315789      5.669092   \n",
       "2016-06-06        0.363636   21.272727  108.863636      5.167805   \n",
       "2016-01-27        0.222222   18.000000   95.666667      5.580489   \n",
       "2018-05-01        0.545455   33.818182  189.363636      5.875284   \n",
       "2018-06-29        0.000000   35.333333  209.000000      6.051515   \n",
       "\n",
       "             punctuation_freq  upper_case_freq  ...        57        58  \\\n",
       "market_date                                     ...                       \n",
       "2019-05-10           0.174045         0.047063  ... -0.120131 -0.023096   \n",
       "2018-04-19           0.193687         0.049240  ... -0.140691  0.032219   \n",
       "2019-10-25           0.186293         0.048752  ... -0.136549 -0.005516   \n",
       "2019-09-17           0.182792         0.072996  ... -0.087630  0.010655   \n",
       "2017-06-16           0.255552         0.062443  ... -0.032961 -0.029269   \n",
       "...                       ...              ...  ...       ...       ...   \n",
       "2016-08-26           0.240888         0.062383  ... -0.106673 -0.013199   \n",
       "2016-06-06           0.183602         0.045413  ... -0.098326 -0.027543   \n",
       "2016-01-27           0.248560         0.042008  ... -0.081841 -0.049391   \n",
       "2018-05-01           0.181160         0.010012  ... -0.115739 -0.014144   \n",
       "2018-06-29           0.086364         0.061364  ... -0.116151  0.086636   \n",
       "\n",
       "                   59        60        61        62        63        ^GSPC  \\\n",
       "market_date                                                                  \n",
       "2019-05-10  -0.042284 -0.058552  0.031299 -0.177001  0.058784  2881.399902   \n",
       "2018-04-19  -0.098025 -0.068693  0.017239 -0.133172  0.028903  2693.129883   \n",
       "2019-10-25  -0.065343 -0.080538  0.048815 -0.181037 -0.001925  3022.550049   \n",
       "2019-09-17  -0.089670 -0.053215  0.021621 -0.179488  0.042504  3005.699951   \n",
       "2017-06-16  -0.013370 -0.018417  0.005554 -0.145150  0.008310  2433.149902   \n",
       "...               ...       ...       ...       ...       ...          ...   \n",
       "2016-08-26  -0.071373 -0.040022  0.079723 -0.182173  0.051119  2169.040039   \n",
       "2016-06-06  -0.056414 -0.026903  0.005200 -0.193717  0.070208  2109.409912   \n",
       "2016-01-27  -0.063068 -0.042646  0.017201 -0.173208  0.044521  1882.949951   \n",
       "2018-05-01  -0.082035 -0.045655  0.014576 -0.180453  0.040802  2654.800049   \n",
       "2018-06-29  -0.132028 -0.046192  0.098952 -0.119645  0.040590  2718.370117   \n",
       "\n",
       "                   ^IXIC         VGT  \n",
       "market_date                           \n",
       "2019-05-10   7916.939941  202.811295  \n",
       "2018-04-19   7238.060059  170.318359  \n",
       "2019-10-25   8243.120117  219.163239  \n",
       "2019-09-17   8186.020020  214.804993  \n",
       "2017-06-16   6151.759766  136.372421  \n",
       "...                  ...         ...  \n",
       "2016-08-26   5218.919922  112.058411  \n",
       "2016-06-06   4968.709961  104.173271  \n",
       "2016-01-27   4468.169922   91.964165  \n",
       "2018-05-01   7130.700195  167.768173  \n",
       "2018-06-29   7510.299805  176.372711  \n",
       "\n",
       "[890 rows x 87 columns]"
      ]
     },
     "execution_count": 30,
     "metadata": {},
     "output_type": "execute_result"
    }
   ],
   "source": [
    "train_dataset"
   ]
  },
  {
   "cell_type": "code",
   "execution_count": 29,
   "metadata": {
    "ExecuteTime": {
     "end_time": "2020-11-15T10:51:46.566540Z",
     "start_time": "2020-11-15T10:51:46.550057Z"
    }
   },
   "outputs": [
    {
     "data": {
      "text/html": [
       "<div>\n",
       "<style scoped>\n",
       "    .dataframe tbody tr th:only-of-type {\n",
       "        vertical-align: middle;\n",
       "    }\n",
       "\n",
       "    .dataframe tbody tr th {\n",
       "        vertical-align: top;\n",
       "    }\n",
       "\n",
       "    .dataframe thead th {\n",
       "        text-align: right;\n",
       "    }\n",
       "</style>\n",
       "<table border=\"1\" class=\"dataframe\">\n",
       "  <thead>\n",
       "    <tr style=\"text-align: right;\">\n",
       "      <th></th>\n",
       "      <th>retweet_count</th>\n",
       "      <th>favorite_count</th>\n",
       "      <th>upper_case_freq</th>\n",
       "      <th>topic1</th>\n",
       "      <th>topic10</th>\n",
       "      <th>0</th>\n",
       "      <th>63</th>\n",
       "      <th>^GSPC</th>\n",
       "      <th>^IXIC</th>\n",
       "      <th>VGT</th>\n",
       "    </tr>\n",
       "    <tr>\n",
       "      <th>market_date</th>\n",
       "      <th></th>\n",
       "      <th></th>\n",
       "      <th></th>\n",
       "      <th></th>\n",
       "      <th></th>\n",
       "      <th></th>\n",
       "      <th></th>\n",
       "      <th></th>\n",
       "      <th></th>\n",
       "      <th></th>\n",
       "    </tr>\n",
       "  </thead>\n",
       "  <tbody>\n",
       "    <tr>\n",
       "      <th>2019-05-10</th>\n",
       "      <td>10719.357143</td>\n",
       "      <td>37912.190476</td>\n",
       "      <td>0.047063</td>\n",
       "      <td>0.0</td>\n",
       "      <td>0.00000</td>\n",
       "      <td>0.065245</td>\n",
       "      <td>0.058784</td>\n",
       "      <td>2881.399902</td>\n",
       "      <td>7916.939941</td>\n",
       "      <td>202.811295</td>\n",
       "    </tr>\n",
       "    <tr>\n",
       "      <th>2018-04-19</th>\n",
       "      <td>13649.900000</td>\n",
       "      <td>58518.700000</td>\n",
       "      <td>0.049240</td>\n",
       "      <td>0.0</td>\n",
       "      <td>0.06749</td>\n",
       "      <td>0.120334</td>\n",
       "      <td>0.028903</td>\n",
       "      <td>2693.129883</td>\n",
       "      <td>7238.060059</td>\n",
       "      <td>170.318359</td>\n",
       "    </tr>\n",
       "    <tr>\n",
       "      <th>2019-10-25</th>\n",
       "      <td>14697.100000</td>\n",
       "      <td>34956.750000</td>\n",
       "      <td>0.048752</td>\n",
       "      <td>0.0</td>\n",
       "      <td>0.00000</td>\n",
       "      <td>0.047276</td>\n",
       "      <td>-0.001925</td>\n",
       "      <td>3022.550049</td>\n",
       "      <td>8243.120117</td>\n",
       "      <td>219.163239</td>\n",
       "    </tr>\n",
       "    <tr>\n",
       "      <th>2019-09-17</th>\n",
       "      <td>12048.863636</td>\n",
       "      <td>39756.863636</td>\n",
       "      <td>0.072996</td>\n",
       "      <td>0.0</td>\n",
       "      <td>0.00000</td>\n",
       "      <td>0.058009</td>\n",
       "      <td>0.042504</td>\n",
       "      <td>3005.699951</td>\n",
       "      <td>8186.020020</td>\n",
       "      <td>214.804993</td>\n",
       "    </tr>\n",
       "    <tr>\n",
       "      <th>2017-06-16</th>\n",
       "      <td>24525.428571</td>\n",
       "      <td>101453.571429</td>\n",
       "      <td>0.062443</td>\n",
       "      <td>0.0</td>\n",
       "      <td>0.00000</td>\n",
       "      <td>0.063215</td>\n",
       "      <td>0.008310</td>\n",
       "      <td>2433.149902</td>\n",
       "      <td>6151.759766</td>\n",
       "      <td>136.372421</td>\n",
       "    </tr>\n",
       "    <tr>\n",
       "      <th>...</th>\n",
       "      <td>...</td>\n",
       "      <td>...</td>\n",
       "      <td>...</td>\n",
       "      <td>...</td>\n",
       "      <td>...</td>\n",
       "      <td>...</td>\n",
       "      <td>...</td>\n",
       "      <td>...</td>\n",
       "      <td>...</td>\n",
       "      <td>...</td>\n",
       "    </tr>\n",
       "    <tr>\n",
       "      <th>2016-08-26</th>\n",
       "      <td>8950.421053</td>\n",
       "      <td>22260.210526</td>\n",
       "      <td>0.062383</td>\n",
       "      <td>0.0</td>\n",
       "      <td>0.00000</td>\n",
       "      <td>0.005689</td>\n",
       "      <td>0.051119</td>\n",
       "      <td>2169.040039</td>\n",
       "      <td>5218.919922</td>\n",
       "      <td>112.058411</td>\n",
       "    </tr>\n",
       "    <tr>\n",
       "      <th>2016-06-06</th>\n",
       "      <td>6964.772727</td>\n",
       "      <td>18037.454545</td>\n",
       "      <td>0.045413</td>\n",
       "      <td>0.0</td>\n",
       "      <td>0.00000</td>\n",
       "      <td>0.031816</td>\n",
       "      <td>0.070208</td>\n",
       "      <td>2109.409912</td>\n",
       "      <td>4968.709961</td>\n",
       "      <td>104.173271</td>\n",
       "    </tr>\n",
       "    <tr>\n",
       "      <th>2016-01-27</th>\n",
       "      <td>4053.444444</td>\n",
       "      <td>11585.444444</td>\n",
       "      <td>0.042008</td>\n",
       "      <td>0.0</td>\n",
       "      <td>0.00000</td>\n",
       "      <td>0.021532</td>\n",
       "      <td>0.044521</td>\n",
       "      <td>1882.949951</td>\n",
       "      <td>4468.169922</td>\n",
       "      <td>91.964165</td>\n",
       "    </tr>\n",
       "    <tr>\n",
       "      <th>2018-05-01</th>\n",
       "      <td>19403.272727</td>\n",
       "      <td>88506.181818</td>\n",
       "      <td>0.010012</td>\n",
       "      <td>0.0</td>\n",
       "      <td>0.00000</td>\n",
       "      <td>0.055994</td>\n",
       "      <td>0.040802</td>\n",
       "      <td>2654.800049</td>\n",
       "      <td>7130.700195</td>\n",
       "      <td>167.768173</td>\n",
       "    </tr>\n",
       "    <tr>\n",
       "      <th>2018-06-29</th>\n",
       "      <td>16051.000000</td>\n",
       "      <td>79650.000000</td>\n",
       "      <td>0.061364</td>\n",
       "      <td>0.0</td>\n",
       "      <td>0.00000</td>\n",
       "      <td>0.088171</td>\n",
       "      <td>0.040590</td>\n",
       "      <td>2718.370117</td>\n",
       "      <td>7510.299805</td>\n",
       "      <td>176.372711</td>\n",
       "    </tr>\n",
       "  </tbody>\n",
       "</table>\n",
       "<p>890 rows × 10 columns</p>\n",
       "</div>"
      ],
      "text/plain": [
       "             retweet_count  favorite_count  upper_case_freq  topic1  topic10  \\\n",
       "market_date                                                                    \n",
       "2019-05-10    10719.357143    37912.190476         0.047063     0.0  0.00000   \n",
       "2018-04-19    13649.900000    58518.700000         0.049240     0.0  0.06749   \n",
       "2019-10-25    14697.100000    34956.750000         0.048752     0.0  0.00000   \n",
       "2019-09-17    12048.863636    39756.863636         0.072996     0.0  0.00000   \n",
       "2017-06-16    24525.428571   101453.571429         0.062443     0.0  0.00000   \n",
       "...                    ...             ...              ...     ...      ...   \n",
       "2016-08-26     8950.421053    22260.210526         0.062383     0.0  0.00000   \n",
       "2016-06-06     6964.772727    18037.454545         0.045413     0.0  0.00000   \n",
       "2016-01-27     4053.444444    11585.444444         0.042008     0.0  0.00000   \n",
       "2018-05-01    19403.272727    88506.181818         0.010012     0.0  0.00000   \n",
       "2018-06-29    16051.000000    79650.000000         0.061364     0.0  0.00000   \n",
       "\n",
       "                    0        63        ^GSPC        ^IXIC         VGT  \n",
       "market_date                                                            \n",
       "2019-05-10   0.065245  0.058784  2881.399902  7916.939941  202.811295  \n",
       "2018-04-19   0.120334  0.028903  2693.129883  7238.060059  170.318359  \n",
       "2019-10-25   0.047276 -0.001925  3022.550049  8243.120117  219.163239  \n",
       "2019-09-17   0.058009  0.042504  3005.699951  8186.020020  214.804993  \n",
       "2017-06-16   0.063215  0.008310  2433.149902  6151.759766  136.372421  \n",
       "...               ...       ...          ...          ...         ...  \n",
       "2016-08-26   0.005689  0.051119  2169.040039  5218.919922  112.058411  \n",
       "2016-06-06   0.031816  0.070208  2109.409912  4968.709961  104.173271  \n",
       "2016-01-27   0.021532  0.044521  1882.949951  4468.169922   91.964165  \n",
       "2018-05-01   0.055994  0.040802  2654.800049  7130.700195  167.768173  \n",
       "2018-06-29   0.088171  0.040590  2718.370117  7510.299805  176.372711  \n",
       "\n",
       "[890 rows x 10 columns]"
      ]
     },
     "execution_count": 29,
     "metadata": {},
     "output_type": "execute_result"
    }
   ],
   "source": [
    "train_dataset[['retweet_count', 'favorite_count', 'upper_case_freq', 'topic1', 'topic10', '0', '63', '^GSPC', '^IXIC','VGT' ]]"
   ]
  },
  {
   "cell_type": "markdown",
   "metadata": {},
   "source": [
    "### train-test split"
   ]
  },
  {
   "cell_type": "code",
   "execution_count": 5,
   "metadata": {
    "ExecuteTime": {
     "end_time": "2020-11-15T09:32:43.509847Z",
     "start_time": "2020-11-15T09:32:43.503886Z"
    }
   },
   "outputs": [],
   "source": [
    "train_dataset = dataset.sample(frac=0.75, random_state=0)\n",
    "test_dataset = dataset.drop(train_dataset.index)"
   ]
  },
  {
   "cell_type": "markdown",
   "metadata": {},
   "source": [
    "#### predict GSPC original"
   ]
  },
  {
   "cell_type": "code",
   "execution_count": 6,
   "metadata": {
    "ExecuteTime": {
     "end_time": "2020-11-15T09:34:26.132336Z",
     "start_time": "2020-11-15T09:34:26.128075Z"
    }
   },
   "outputs": [],
   "source": [
    "train_feature = train_dataset.iloc[:,:-3].copy()\n",
    "test_feature = test_dataset.iloc[:,:-3].copy()\n",
    "\n",
    "train_gspc = train_dataset['^GSPC']\n",
    "test_gspc = test_dataset['^GSPC']"
   ]
  },
  {
   "cell_type": "code",
   "execution_count": 7,
   "metadata": {
    "ExecuteTime": {
     "end_time": "2020-11-15T09:34:27.898305Z",
     "start_time": "2020-11-15T09:34:27.867464Z"
    }
   },
   "outputs": [],
   "source": [
    "# normalise\n",
    "normalizer = preprocessing.Normalization(input_shape=[84,])\n",
    "normalizer.adapt(np.array(train_feature))"
   ]
  },
  {
   "cell_type": "code",
   "execution_count": 8,
   "metadata": {
    "ExecuteTime": {
     "end_time": "2020-11-15T09:34:30.362653Z",
     "start_time": "2020-11-15T09:34:30.313967Z"
    }
   },
   "outputs": [
    {
     "name": "stdout",
     "output_type": "stream",
     "text": [
      "Model: \"sequential\"\n",
      "_________________________________________________________________\n",
      "Layer (type)                 Output Shape              Param #   \n",
      "=================================================================\n",
      "normalization (Normalization (None, 84)                169       \n",
      "_________________________________________________________________\n",
      "dense (Dense)                (None, 64)                5440      \n",
      "_________________________________________________________________\n",
      "dense_1 (Dense)              (None, 64)                4160      \n",
      "_________________________________________________________________\n",
      "dense_2 (Dense)              (None, 1)                 65        \n",
      "=================================================================\n",
      "Total params: 9,834\n",
      "Trainable params: 9,665\n",
      "Non-trainable params: 169\n",
      "_________________________________________________________________\n"
     ]
    }
   ],
   "source": [
    "stopper = tf.keras.callbacks.EarlyStopping(\n",
    "    monitor=\"val_loss\",\n",
    "    min_delta=0,\n",
    "    patience=10,\n",
    "    verbose=0,\n",
    "    mode=\"min\",\n",
    "    baseline=None,\n",
    "    restore_best_weights=False,\n",
    "  )\n",
    "\n",
    "# create model\n",
    "def build_and_compile_model(norm):\n",
    "    model = keras.Sequential([\n",
    "      norm,\n",
    "      layers.Dense(64, activation='relu'),\n",
    "      layers.Dense(64, activation='relu'),\n",
    "      layers.Dense(1)\n",
    "  ])\n",
    "\n",
    "    model.compile(loss='mean_absolute_error',\n",
    "                optimizer=tf.keras.optimizers.Adam(0.001))\n",
    "    return model\n",
    "\n",
    "dnn_model = build_and_compile_model(normalizer)\n",
    "dnn_model.summary()"
   ]
  },
  {
   "cell_type": "code",
   "execution_count": 20,
   "metadata": {
    "ExecuteTime": {
     "end_time": "2020-11-14T05:17:02.781799Z",
     "start_time": "2020-11-14T05:16:59.062453Z"
    }
   },
   "outputs": [],
   "source": [
    "history = dnn_model.fit(\n",
    "    train_feature, train_gspc,\n",
    "    validation_split=0.2,\n",
    "    verbose=0, epochs=400,callbacks=[stopper])"
   ]
  },
  {
   "cell_type": "code",
   "execution_count": 9,
   "metadata": {
    "ExecuteTime": {
     "end_time": "2020-11-15T09:34:35.372933Z",
     "start_time": "2020-11-15T09:34:35.369054Z"
    }
   },
   "outputs": [],
   "source": [
    "def plot_loss(history, ylimt=3000):\n",
    "    plt.plot(history.history['loss'], label='loss')\n",
    "    plt.plot(history.history['val_loss'], label='val_loss')\n",
    "    plt.ylim([0, ylimt])\n",
    "    plt.xlabel('Epoch')\n",
    "    plt.ylabel('Error')\n",
    "    plt.legend()\n",
    "    plt.grid(True)"
   ]
  },
  {
   "cell_type": "code",
   "execution_count": 22,
   "metadata": {
    "ExecuteTime": {
     "end_time": "2020-11-14T05:17:02.934688Z",
     "start_time": "2020-11-14T05:17:02.788241Z"
    }
   },
   "outputs": [
    {
     "data": {
      "image/png": "[encoded data removed]",
      "text/plain": [
       "<Figure size 432x288 with 1 Axes>"
      ]
     },
     "metadata": {
      "needs_background": "light"
     },
     "output_type": "display_data"
    }
   ],
   "source": [
    "plot_loss(history)"
   ]
  },
  {
   "cell_type": "code",
   "execution_count": 10,
   "metadata": {
    "ExecuteTime": {
     "end_time": "2020-11-15T09:35:00.006196Z",
     "start_time": "2020-11-15T09:35:00.001180Z"
    }
   },
   "outputs": [],
   "source": [
    "def percentage_error(actual, predicted):\n",
    "    res = np.empty(actual.shape)\n",
    "    for j in range(actual.shape[0]):\n",
    "        if actual[j] != 0:\n",
    "            res[j] = (actual[j] - predicted[j]) / actual[j]\n",
    "        else:\n",
    "            res[j] = predicted[j] / np.mean(actual)\n",
    "    return res\n",
    "\n",
    "def mean_absolute_percentage_error(y_true, y_pred): \n",
    "    return np.mean(np.abs(percentage_error(np.asarray(y_true), np.asarray(y_pred)))) * 100"
   ]
  },
  {
   "cell_type": "code",
   "execution_count": 23,
   "metadata": {
    "ExecuteTime": {
     "end_time": "2020-11-14T05:17:03.053235Z",
     "start_time": "2020-11-14T05:17:02.936677Z"
    }
   },
   "outputs": [
    {
     "data": {
      "text/plain": [
       "8.920365238989419"
      ]
     },
     "execution_count": 23,
     "metadata": {},
     "output_type": "execute_result"
    }
   ],
   "source": [
    "# retrieve the MAPE on the test set\n",
    "\n",
    "mean_absolute_percentage_error(test_gspc, dnn_model.predict(test_feature)) #MAPE"
   ]
  },
  {
   "cell_type": "code",
   "execution_count": 24,
   "metadata": {
    "ExecuteTime": {
     "end_time": "2020-11-14T05:18:53.755166Z",
     "start_time": "2020-11-14T05:18:53.717563Z"
    }
   },
   "outputs": [
    {
     "data": {
      "text/plain": [
       "344.2987429096365"
      ]
     },
     "execution_count": 24,
     "metadata": {},
     "output_type": "execute_result"
    }
   ],
   "source": [
    "# RMSE\n",
    "sqrt(mean_squared_error(dnn_model.predict(test_feature), test_gspc))"
   ]
  },
  {
   "cell_type": "markdown",
   "metadata": {},
   "source": []
  },
  {
   "cell_type": "markdown",
   "metadata": {},
   "source": [
    "### tuning"
   ]
  },
  {
   "cell_type": "markdown",
   "metadata": {},
   "source": [
    "#### 1. Increase the number of hidden layers to 5"
   ]
  },
  {
   "cell_type": "code",
   "execution_count": 11,
   "metadata": {
    "ExecuteTime": {
     "end_time": "2020-11-15T09:35:21.081816Z",
     "start_time": "2020-11-15T09:35:21.020549Z"
    }
   },
   "outputs": [
    {
     "name": "stdout",
     "output_type": "stream",
     "text": [
      "Model: \"sequential_1\"\n",
      "_________________________________________________________________\n",
      "Layer (type)                 Output Shape              Param #   \n",
      "=================================================================\n",
      "normalization (Normalization (None, 84)                169       \n",
      "_________________________________________________________________\n",
      "dense_3 (Dense)              (None, 64)                5440      \n",
      "_________________________________________________________________\n",
      "dense_4 (Dense)              (None, 64)                4160      \n",
      "_________________________________________________________________\n",
      "dense_5 (Dense)              (None, 64)                4160      \n",
      "_________________________________________________________________\n",
      "dense_6 (Dense)              (None, 64)                4160      \n",
      "_________________________________________________________________\n",
      "dense_7 (Dense)              (None, 64)                4160      \n",
      "_________________________________________________________________\n",
      "dense_8 (Dense)              (None, 1)                 65        \n",
      "=================================================================\n",
      "Total params: 22,314\n",
      "Trainable params: 22,145\n",
      "Non-trainable params: 169\n",
      "_________________________________________________________________\n"
     ]
    }
   ],
   "source": [
    "# create model\n",
    "def build_and_compile_model_layer(norm):\n",
    "    model = keras.Sequential([\n",
    "      norm,\n",
    "      layers.Dense(64, activation='relu'),\n",
    "      layers.Dense(64, activation='relu'),\n",
    "      layers.Dense(64, activation='relu'),\n",
    "      layers.Dense(64, activation='relu'),\n",
    "      layers.Dense(64, activation='relu'),       \n",
    "      layers.Dense(1)\n",
    "  ])\n",
    "\n",
    "    model.compile(loss='mean_absolute_error',\n",
    "                optimizer=tf.keras.optimizers.Adam(0.001))\n",
    "    return model\n",
    "\n",
    "dnn_model_layer = build_and_compile_model_layer(normalizer)\n",
    "dnn_model_layer.summary()"
   ]
  },
  {
   "cell_type": "code",
   "execution_count": 230,
   "metadata": {
    "ExecuteTime": {
     "end_time": "2020-11-14T05:17:06.801179Z",
     "start_time": "2020-11-14T05:17:03.101041Z"
    }
   },
   "outputs": [],
   "source": [
    "history_layer = dnn_model_layer.fit(\n",
    "    train_feature, train_gspc,\n",
    "    validation_split=0.2,\n",
    "    verbose=0, epochs=400,callbacks=[stopper])"
   ]
  },
  {
   "cell_type": "code",
   "execution_count": 231,
   "metadata": {
    "ExecuteTime": {
     "end_time": "2020-11-14T05:17:06.912350Z",
     "start_time": "2020-11-14T05:17:06.802726Z"
    }
   },
   "outputs": [
    {
     "data": {
      "image/png": "[encoded data removed]",
      "text/plain": [
       "<Figure size 432x288 with 1 Axes>"
      ]
     },
     "metadata": {},
     "output_type": "display_data"
    }
   ],
   "source": [
    "plot_loss(history_layer)"
   ]
  },
  {
   "cell_type": "code",
   "execution_count": 232,
   "metadata": {
    "ExecuteTime": {
     "end_time": "2020-11-14T05:18:12.494355Z",
     "start_time": "2020-11-14T05:18:12.403627Z"
    }
   },
   "outputs": [
    {
     "data": {
      "text/plain": [
       "10.537976173691277"
      ]
     },
     "execution_count": 232,
     "metadata": {},
     "output_type": "execute_result"
    }
   ],
   "source": [
    "mean_absolute_percentage_error(test_gspc, dnn_model_layer.predict(test_feature)) #MAPE"
   ]
  },
  {
   "cell_type": "code",
   "execution_count": 125,
   "metadata": {
    "ExecuteTime": {
     "end_time": "2020-11-14T05:18:21.254387Z",
     "start_time": "2020-11-14T05:18:21.215229Z"
    }
   },
   "outputs": [
    {
     "data": {
      "text/plain": [
       "408.75305747033116"
      ]
     },
     "execution_count": 125,
     "metadata": {},
     "output_type": "execute_result"
    }
   ],
   "source": [
    "# RMSE\n",
    "sqrt(mean_squared_error(dnn_model_layer.predict(test_feature), test_gspc))"
   ]
  },
  {
   "cell_type": "markdown",
   "metadata": {},
   "source": [
    "#### 2. Increase the size of each layer to 128"
   ]
  },
  {
   "cell_type": "code",
   "execution_count": 115,
   "metadata": {
    "ExecuteTime": {
     "end_time": "2020-11-14T05:17:06.982288Z",
     "start_time": "2020-11-14T05:17:06.948290Z"
    }
   },
   "outputs": [
    {
     "name": "stdout",
     "output_type": "stream",
     "text": [
      "Model: \"sequential_20\"\n",
      "_________________________________________________________________\n",
      "Layer (type)                 Output Shape              Param #   \n",
      "=================================================================\n",
      "normalization (Normalization (None, 84)                169       \n",
      "_________________________________________________________________\n",
      "dense_233 (Dense)            (None, 128)               10880     \n",
      "_________________________________________________________________\n",
      "dense_234 (Dense)            (None, 128)               16512     \n",
      "_________________________________________________________________\n",
      "dense_235 (Dense)            (None, 1)                 129       \n",
      "=================================================================\n",
      "Total params: 27,690\n",
      "Trainable params: 27,521\n",
      "Non-trainable params: 169\n",
      "_________________________________________________________________\n"
     ]
    }
   ],
   "source": [
    "# create model\n",
    "def build_and_compile_model_size(norm):\n",
    "    model = keras.Sequential([\n",
    "      norm,\n",
    "      layers.Dense(128, activation='relu'),\n",
    "      layers.Dense(128, activation='relu'),    \n",
    "      layers.Dense(1)\n",
    "  ])\n",
    "\n",
    "    model.compile(loss='mean_absolute_error',\n",
    "                optimizer=tf.keras.optimizers.Adam(0.001))\n",
    "    return model\n",
    "\n",
    "dnn_model_size = build_and_compile_model_size(normalizer)\n",
    "dnn_model_size.summary()"
   ]
  },
  {
   "cell_type": "code",
   "execution_count": 116,
   "metadata": {
    "ExecuteTime": {
     "end_time": "2020-11-14T05:17:10.670604Z",
     "start_time": "2020-11-14T05:17:06.983911Z"
    }
   },
   "outputs": [],
   "source": [
    "history_size = dnn_model_size.fit(\n",
    "    train_feature, train_gspc,\n",
    "    validation_split=0.2,\n",
    "    verbose=0, epochs=400,callbacks=[stopper])"
   ]
  },
  {
   "cell_type": "code",
   "execution_count": 117,
   "metadata": {
    "ExecuteTime": {
     "end_time": "2020-11-14T05:17:10.785975Z",
     "start_time": "2020-11-14T05:17:10.671912Z"
    }
   },
   "outputs": [
    {
     "data": {
      "image/png": "[encoded data removed]",
      "text/plain": [
       "<Figure size 432x288 with 1 Axes>"
      ]
     },
     "metadata": {
      "needs_background": "light"
     },
     "output_type": "display_data"
    }
   ],
   "source": [
    "plot_loss(history_size, 300)"
   ]
  },
  {
   "cell_type": "code",
   "execution_count": 118,
   "metadata": {
    "ExecuteTime": {
     "end_time": "2020-11-14T05:17:51.016092Z",
     "start_time": "2020-11-14T05:17:50.940798Z"
    }
   },
   "outputs": [
    {
     "data": {
      "text/plain": [
       "8.925374707079655"
      ]
     },
     "execution_count": 118,
     "metadata": {},
     "output_type": "execute_result"
    }
   ],
   "source": [
    "# MAPE\n",
    "mean_absolute_percentage_error(test_gspc, dnn_model_size.predict(test_feature)) "
   ]
  },
  {
   "cell_type": "code",
   "execution_count": 119,
   "metadata": {
    "ExecuteTime": {
     "end_time": "2020-11-14T05:19:10.396273Z",
     "start_time": "2020-11-14T05:19:10.356199Z"
    }
   },
   "outputs": [
    {
     "data": {
      "text/plain": [
       "357.616442685152"
      ]
     },
     "execution_count": 119,
     "metadata": {},
     "output_type": "execute_result"
    }
   ],
   "source": [
    "# RMSE\n",
    "sqrt(mean_squared_error(dnn_model_size.predict(test_feature), test_gspc))"
   ]
  },
  {
   "cell_type": "markdown",
   "metadata": {},
   "source": [
    "#### 3. Change the activation function to sigmoid"
   ]
  },
  {
   "cell_type": "code",
   "execution_count": 37,
   "metadata": {
    "ExecuteTime": {
     "end_time": "2020-11-14T05:17:10.861014Z",
     "start_time": "2020-11-14T05:17:10.823314Z"
    }
   },
   "outputs": [
    {
     "name": "stdout",
     "output_type": "stream",
     "text": [
      "Model: \"sequential_5\"\n",
      "_________________________________________________________________\n",
      "Layer (type)                 Output Shape              Param #   \n",
      "=================================================================\n",
      "normalization (Normalization (None, 84)                169       \n",
      "_________________________________________________________________\n",
      "dense_21 (Dense)             (None, 128)               10880     \n",
      "_________________________________________________________________\n",
      "dense_22 (Dense)             (None, 128)               16512     \n",
      "_________________________________________________________________\n",
      "dense_23 (Dense)             (None, 1)                 129       \n",
      "=================================================================\n",
      "Total params: 27,690\n",
      "Trainable params: 27,521\n",
      "Non-trainable params: 169\n",
      "_________________________________________________________________\n"
     ]
    }
   ],
   "source": [
    "# create model\n",
    "def build_and_compile_model_fn(norm):\n",
    "    model = keras.Sequential([\n",
    "      norm,\n",
    "      layers.Dense(128, activation='sigmoid'),\n",
    "      layers.Dense(128, activation='sigmoid'),    \n",
    "      layers.Dense(1)\n",
    "  ])\n",
    "\n",
    "    model.compile(loss='mean_absolute_error',\n",
    "                optimizer=tf.keras.optimizers.Adam(0.001))\n",
    "    return model\n",
    "\n",
    "dnn_model_fn = build_and_compile_model_fn(normalizer)\n",
    "dnn_model_fn.summary()"
   ]
  },
  {
   "cell_type": "code",
   "execution_count": 38,
   "metadata": {
    "ExecuteTime": {
     "end_time": "2020-11-14T05:17:14.579018Z",
     "start_time": "2020-11-14T05:17:10.862667Z"
    }
   },
   "outputs": [],
   "source": [
    "history_fn = dnn_model_fn.fit(\n",
    "    train_feature, train_gspc,\n",
    "    validation_split=0.2,\n",
    "    verbose=0, epochs=400,callbacks=[stopper])"
   ]
  },
  {
   "cell_type": "code",
   "execution_count": 39,
   "metadata": {
    "ExecuteTime": {
     "end_time": "2020-11-14T05:17:14.704082Z",
     "start_time": "2020-11-14T05:17:14.583010Z"
    }
   },
   "outputs": [
    {
     "data": {
      "image/png": "[encoded data removed]",
      "text/plain": [
       "<Figure size 432x288 with 1 Axes>"
      ]
     },
     "metadata": {
      "needs_background": "light"
     },
     "output_type": "display_data"
    }
   ],
   "source": [
    "plot_loss(history_fn)"
   ]
  },
  {
   "cell_type": "code",
   "execution_count": 40,
   "metadata": {
    "ExecuteTime": {
     "end_time": "2020-11-14T05:19:51.924611Z",
     "start_time": "2020-11-14T05:19:51.845880Z"
    }
   },
   "outputs": [
    {
     "data": {
      "text/plain": [
       "90.94390077768145"
      ]
     },
     "execution_count": 40,
     "metadata": {},
     "output_type": "execute_result"
    }
   ],
   "source": [
    "# MAPE\n",
    "mean_absolute_percentage_error(test_gspc, dnn_model_fn.predict(test_feature)) "
   ]
  },
  {
   "cell_type": "code",
   "execution_count": 41,
   "metadata": {
    "ExecuteTime": {
     "end_time": "2020-11-14T05:20:10.399716Z",
     "start_time": "2020-11-14T05:20:10.361077Z"
    }
   },
   "outputs": [
    {
     "data": {
      "text/plain": [
       "2447.9672901400654"
      ]
     },
     "execution_count": 41,
     "metadata": {},
     "output_type": "execute_result"
    }
   ],
   "source": [
    "# RMSE\n",
    "sqrt(mean_squared_error(dnn_model_fn.predict(test_feature), test_gspc))"
   ]
  },
  {
   "cell_type": "markdown",
   "metadata": {},
   "source": [
    "### Adding it all together, increasing number of layers of same type does not help, increasing layer unit helps and sigmoid does not help.\n",
    "\n",
    "Therefore, we will use a bottleneck architecture of [512,256,128,64] of 2 layers each, and continue with relu activation. Furthermore, based on https://machinelearningmastery.com/batch-normalization-for-training-of-deep-neural-networks/ , we will introduce Batchnormalization and Dropout layers."
   ]
  },
  {
   "cell_type": "code",
   "execution_count": 12,
   "metadata": {
    "ExecuteTime": {
     "end_time": "2020-11-15T09:35:56.838533Z",
     "start_time": "2020-11-15T09:35:56.399588Z"
    }
   },
   "outputs": [
    {
     "name": "stdout",
     "output_type": "stream",
     "text": [
      "Model: \"sequential_2\"\n",
      "_________________________________________________________________\n",
      "Layer (type)                 Output Shape              Param #   \n",
      "=================================================================\n",
      "normalization (Normalization (None, 84)                169       \n",
      "_________________________________________________________________\n",
      "dense_9 (Dense)              (None, 512)               43520     \n",
      "_________________________________________________________________\n",
      "batch_normalization (BatchNo (None, 512)               2048      \n",
      "_________________________________________________________________\n",
      "dropout (Dropout)            (None, 512)               0         \n",
      "_________________________________________________________________\n",
      "dense_10 (Dense)             (None, 512)               262656    \n",
      "_________________________________________________________________\n",
      "batch_normalization_1 (Batch (None, 512)               2048      \n",
      "_________________________________________________________________\n",
      "dropout_1 (Dropout)          (None, 512)               0         \n",
      "_________________________________________________________________\n",
      "dense_11 (Dense)             (None, 256)               131328    \n",
      "_________________________________________________________________\n",
      "batch_normalization_2 (Batch (None, 256)               1024      \n",
      "_________________________________________________________________\n",
      "dropout_2 (Dropout)          (None, 256)               0         \n",
      "_________________________________________________________________\n",
      "dense_12 (Dense)             (None, 256)               65792     \n",
      "_________________________________________________________________\n",
      "batch_normalization_3 (Batch (None, 256)               1024      \n",
      "_________________________________________________________________\n",
      "dropout_3 (Dropout)          (None, 256)               0         \n",
      "_________________________________________________________________\n",
      "dense_13 (Dense)             (None, 128)               32896     \n",
      "_________________________________________________________________\n",
      "batch_normalization_4 (Batch (None, 128)               512       \n",
      "_________________________________________________________________\n",
      "dropout_4 (Dropout)          (None, 128)               0         \n",
      "_________________________________________________________________\n",
      "dense_14 (Dense)             (None, 128)               16512     \n",
      "_________________________________________________________________\n",
      "batch_normalization_5 (Batch (None, 128)               512       \n",
      "_________________________________________________________________\n",
      "dropout_5 (Dropout)          (None, 128)               0         \n",
      "_________________________________________________________________\n",
      "dense_15 (Dense)             (None, 64)                8256      \n",
      "_________________________________________________________________\n",
      "batch_normalization_6 (Batch (None, 64)                256       \n",
      "_________________________________________________________________\n",
      "dropout_6 (Dropout)          (None, 64)                0         \n",
      "_________________________________________________________________\n",
      "dense_16 (Dense)             (None, 64)                4160      \n",
      "_________________________________________________________________\n",
      "batch_normalization_7 (Batch (None, 64)                256       \n",
      "_________________________________________________________________\n",
      "dropout_7 (Dropout)          (None, 64)                0         \n",
      "_________________________________________________________________\n",
      "dense_17 (Dense)             (None, 1)                 65        \n",
      "=================================================================\n",
      "Total params: 573,034\n",
      "Trainable params: 569,025\n",
      "Non-trainable params: 4,009\n",
      "_________________________________________________________________\n"
     ]
    }
   ],
   "source": [
    "def build_and_compile_model(norm):\n",
    "    model = keras.Sequential()\n",
    "    model.add(norm)\n",
    "    for i in [512,256,128,64]:\n",
    "        for j in range(2):\n",
    "            model.add(layers.Dense(i,activation='relu'))\n",
    "            model.add(BatchNormalization())\n",
    "            model.add(Dropout(0.1))\n",
    "            \n",
    "    model.add(layers.Dense(1))\n",
    "\n",
    "    model.compile(loss='mean_absolute_error',\n",
    "                optimizer=tf.keras.optimizers.Adam(0.001))\n",
    "    return model\n",
    "\n",
    "dnn_model = build_and_compile_model(normalizer)\n",
    "dnn_model.summary()"
   ]
  },
  {
   "cell_type": "code",
   "execution_count": 194,
   "metadata": {},
   "outputs": [],
   "source": [
    "history_fn = dnn_model.fit(\n",
    "    train_feature, train_gspc,\n",
    "    validation_split=0.2,\n",
    "    verbose=0, epochs=400,callbacks=[stopper])"
   ]
  },
  {
   "cell_type": "code",
   "execution_count": 195,
   "metadata": {},
   "outputs": [
    {
     "data": {
      "image/png": "[encoded data removed]",
      "text/plain": [
       "<Figure size 432x288 with 1 Axes>"
      ]
     },
     "metadata": {
      "needs_background": "light"
     },
     "output_type": "display_data"
    }
   ],
   "source": [
    "plot_loss(history_fn)"
   ]
  },
  {
   "cell_type": "code",
   "execution_count": 196,
   "metadata": {},
   "outputs": [
    {
     "data": {
      "text/plain": [
       "4.845916735949514"
      ]
     },
     "execution_count": 196,
     "metadata": {},
     "output_type": "execute_result"
    }
   ],
   "source": [
    "# MAPE\n",
    "mean_absolute_percentage_error(test_gspc, dnn_model.predict(test_feature)) "
   ]
  },
  {
   "cell_type": "code",
   "execution_count": 197,
   "metadata": {},
   "outputs": [
    {
     "data": {
      "text/plain": [
       "193.54046120706664"
      ]
     },
     "execution_count": 197,
     "metadata": {},
     "output_type": "execute_result"
    }
   ],
   "source": [
    "# RMSE\n",
    "sqrt(mean_squared_error(dnn_model.predict(test_feature), test_gspc))"
   ]
  },
  {
   "cell_type": "markdown",
   "metadata": {},
   "source": [
    "## Val/Test data prediction"
   ]
  },
  {
   "cell_type": "code",
   "execution_count": 13,
   "metadata": {
    "ExecuteTime": {
     "end_time": "2020-11-15T09:37:37.111773Z",
     "start_time": "2020-11-15T09:37:04.327551Z"
    }
   },
   "outputs": [],
   "source": [
    "dnn_model = build_and_compile_model(normalizer)\n",
    "\n",
    "history_fn = dnn_model.fit(\n",
    "    train_feature, train_gspc,\n",
    "    validation_split=0.2,\n",
    "    verbose=0, epochs=400,callbacks=[stopper])\n",
    "\n",
    "GSPC_pred = dnn_model.predict(test.iloc[:,:-3])"
   ]
  },
  {
   "cell_type": "code",
   "execution_count": 14,
   "metadata": {
    "ExecuteTime": {
     "end_time": "2020-11-15T09:38:30.404395Z",
     "start_time": "2020-11-15T09:37:37.113552Z"
    }
   },
   "outputs": [],
   "source": [
    "train_ixic = train_dataset['^IXIC']\n",
    "\n",
    "dnn_model = build_and_compile_model(normalizer)\n",
    "\n",
    "history_ixic = dnn_model.fit(\n",
    "    train_feature, train_ixic,\n",
    "    validation_split=0.2,\n",
    "    verbose=0, epochs=400,callbacks=[stopper])\n",
    "\n",
    "IXIC_val = dnn_model.predict(test_feature)\n",
    "IXIC_pred = dnn_model.predict(test.iloc[:,:-3])"
   ]
  },
  {
   "cell_type": "code",
   "execution_count": 15,
   "metadata": {
    "ExecuteTime": {
     "end_time": "2020-11-15T09:38:45.053248Z",
     "start_time": "2020-11-15T09:38:30.406327Z"
    }
   },
   "outputs": [],
   "source": [
    "train_vgt = train_dataset['VGT']\n",
    "\n",
    "dnn_model = build_and_compile_model(normalizer)\n",
    "\n",
    "history_vgt = dnn_model.fit(\n",
    "    train_feature, train_vgt,\n",
    "    validation_split=0.2,\n",
    "    verbose=0, epochs=500,callbacks=[stopper])\n",
    "\n",
    "VGT_val = dnn_model.predict(test_feature)\n",
    "VGT_pred = dnn_model.predict(test.iloc[:,:-3])"
   ]
  },
  {
   "cell_type": "code",
   "execution_count": 16,
   "metadata": {
    "ExecuteTime": {
     "end_time": "2020-11-15T09:38:45.058120Z",
     "start_time": "2020-11-15T09:38:45.055205Z"
    }
   },
   "outputs": [],
   "source": [
    "GSPC_pred = [x[0] for x in GSPC_pred]\n",
    "IXIC_pred = [x[0] for x in IXIC_pred]\n",
    "VGT_pred = [x[0] for x in VGT_pred]"
   ]
  },
  {
   "cell_type": "code",
   "execution_count": 17,
   "metadata": {
    "ExecuteTime": {
     "end_time": "2020-11-15T09:38:45.080449Z",
     "start_time": "2020-11-15T09:38:45.059875Z"
    }
   },
   "outputs": [
    {
     "name": "stdout",
     "output_type": "stream",
     "text": [
      "GSPC metrics\n",
      "RMSE: 405.704, MAPE:8.714\n",
      "\n",
      "\n",
      "IXIC metrics\n",
      "val\n",
      "RMSE: 797.551, MAPE:7.010\n",
      "test\n",
      "RMSE: 2905.028, MAPE:20.870\n",
      "\n",
      "\n",
      "VGT metrics\n",
      "val\n",
      "RMSE: 30.228, MAPE:10.263\n",
      "test\n",
      "RMSE: 103.855, MAPE:27.733\n"
     ]
    }
   ],
   "source": [
    "print(\"GSPC metrics\")\n",
    "print(\"RMSE: %.3f, MAPE:%.3f\"%(sqrt(mean_squared_error(GSPC_pred,test.reset_index()['^GSPC'])),\n",
    "                               mean_absolute_percentage_error(test.reset_index()['^GSPC'], GSPC_pred)))\n",
    "print(\"\\n\")\n",
    "print(\"IXIC metrics\")\n",
    "print(\"val\")\n",
    "print(\"RMSE: %.3f, MAPE:%.3f\"%(sqrt(mean_squared_error(IXIC_val,test_dataset['^IXIC'])),\n",
    "                               mean_absolute_percentage_error(test_dataset['^IXIC'], IXIC_val)))\n",
    "print(\"test\")\n",
    "print(\"RMSE: %.3f, MAPE:%.3f\"%(sqrt(mean_squared_error(IXIC_pred,test.reset_index()['^IXIC'])),\n",
    "                               mean_absolute_percentage_error(test.reset_index()['^IXIC'], IXIC_pred)))\n",
    "print(\"\\n\")\n",
    "print(\"VGT metrics\")\n",
    "print(\"val\")\n",
    "print(\"RMSE: %.3f, MAPE:%.3f\"%(sqrt(mean_squared_error(VGT_val,test_dataset['VGT'])),\n",
    "                               mean_absolute_percentage_error(test_dataset['VGT'], VGT_val)))\n",
    "print(\"test\")\n",
    "print(\"RMSE: %.3f, MAPE:%.3f\"%(sqrt(mean_squared_error(VGT_pred,test.reset_index()['VGT'])),\n",
    "                               mean_absolute_percentage_error(test.reset_index()['VGT'], VGT_pred)))"
   ]
  },
  {
   "cell_type": "code",
   "execution_count": 18,
   "metadata": {
    "ExecuteTime": {
     "end_time": "2020-11-15T09:38:45.094874Z",
     "start_time": "2020-11-15T09:38:45.083033Z"
    }
   },
   "outputs": [],
   "source": [
    "# obtain time series plots of acutual prices and forecasts prices for GSPC, IXIC and VGT\n",
    "\n",
    "def plot_predictions(test,\n",
    "                     set3_GSPC_pred, set3_IXIC_pred, set3_VGT_pred\n",
    "                    ):\n",
    "    import matplotlib.ticker as ticker\n",
    "    test_df_grouped = test.groupby('market_date').mean().reset_index()\n",
    "    \n",
    "    # obtain dataframes that contain predictions and the actual prices\n",
    "    GSPC_pred_df = pd.DataFrame({'market_date':test_df_grouped['market_date'],\n",
    "                                  'actual_GSPC':test_df_grouped['^GSPC'],\n",
    "                                  'set3_GSPC_pred':set3_GSPC_pred\n",
    "                                 }).set_index('market_date')\n",
    "    \n",
    "    IXIC_pred_df = pd.DataFrame({'market_date':test_df_grouped['market_date'],\n",
    "                                  'actual_IXIC':test_df_grouped['^IXIC'],\n",
    "                                  'set3_IXIC_pred':set3_IXIC_pred\n",
    "                                 }).set_index('market_date')\n",
    "    \n",
    "    VGT_pred_df = pd.DataFrame({'market_date':test_df_grouped['market_date'],\n",
    "                                'actual_VGT':test_df_grouped['VGT'],\n",
    "                                'set3_VGT_pred':set3_VGT_pred\n",
    "                                }).set_index('market_date')    \n",
    "    \n",
    "    # matplotlib and seaborn settings\n",
    "    sns.set_style(\"ticks\")\n",
    "    fig, axes = plt.subplots(nrows=3, ncols=1, figsize=(15,12))\n",
    "    plt.subplots_adjust(hspace=0.5)\n",
    "   \n",
    "    # generate plots\n",
    "    GSPC = sns.lineplot(data=GSPC_pred_df, ax=axes[0])\n",
    "    GSPC.xaxis.set_major_locator(ticker.MultipleLocator(2))\n",
    "    GSPC.legend(loc='center right', bbox_to_anchor=(1.17, 0.5), ncol=1)\n",
    "    axes[0].title.set_text(\"GSPC predictions\")\n",
    "    \n",
    "    IXIC = sns.lineplot(data=IXIC_pred_df, ax=axes[1])\n",
    "    IXIC.xaxis.set_major_locator(ticker.MultipleLocator(2))\n",
    "    IXIC.legend(loc='center right', bbox_to_anchor=(1.17, 0.5), ncol=1)\n",
    "    axes[1].title.set_text(\"IXIC predictions\")\n",
    "    \n",
    "    VGT = sns.lineplot(data=VGT_pred_df, ax=axes[2])\n",
    "    VGT.xaxis.set_major_locator(ticker.MultipleLocator(2))\n",
    "    VGT.legend(loc='center right', bbox_to_anchor=(1.17, 0.5), ncol=1)\n",
    "    axes[2].title.set_text(\"VGT predictions\")\n",
    "    \n",
    "    plt.savefig(\"time_series_prediction.png\", dpi=300, bbox_inches='tight')\n",
    "    plt.show()\n",
    "    \n",
    "    return GSPC_pred_df, IXIC_pred_df, VGT_pred_df"
   ]
  },
  {
   "cell_type": "code",
   "execution_count": 19,
   "metadata": {
    "ExecuteTime": {
     "end_time": "2020-11-15T09:38:47.605223Z",
     "start_time": "2020-11-15T09:38:45.096853Z"
    }
   },
   "outputs": [
    {
     "data": {
      "image/png": "[encoded data removed]",
      "text/plain": [
       "<Figure size 1080x864 with 3 Axes>"
      ]
     },
     "metadata": {},
     "output_type": "display_data"
    }
   ],
   "source": [
    "GSPC_pred_df, IXIC_pred_df, VGT_pred_df = plot_predictions(test.reset_index(),\n",
    "                                                           GSPC_pred, IXIC_pred, VGT_pred\n",
    "                                                          )"
   ]
  },
  {
   "cell_type": "code",
   "execution_count": 12,
   "metadata": {
    "ExecuteTime": {
     "end_time": "2020-11-17T05:08:56.565052Z",
     "start_time": "2020-11-17T05:08:56.559248Z"
    }
   },
   "outputs": [],
   "source": [
    "category = ['validation', 'validation', 'validation', 'test', 'test', 'test']\n",
    "ticker_symbol = ['GSPC', 'IXIC', 'VGT', 'GSPC', 'IXIC', 'VGT']\n",
    "loss = [4.846, 7.010, 10.263, 8.714, 20.870, 27.733]\n",
    "\n",
    "loss_summary_df = pd.DataFrame({'category': category, 'loss': loss, 'ticker_symbol':ticker_symbol})\n",
    "loss_summary_df['feature_set'] = 'feature_set_3'\n",
    "loss_summary_df['metric'] = 'MAPE'"
   ]
  },
  {
   "cell_type": "code",
   "execution_count": 13,
   "metadata": {
    "ExecuteTime": {
     "end_time": "2020-11-17T05:08:59.028918Z",
     "start_time": "2020-11-17T05:08:59.020270Z"
    }
   },
   "outputs": [
    {
     "data": {
      "text/html": [
       "<div>\n",
       "<style scoped>\n",
       "    .dataframe tbody tr th:only-of-type {\n",
       "        vertical-align: middle;\n",
       "    }\n",
       "\n",
       "    .dataframe tbody tr th {\n",
       "        vertical-align: top;\n",
       "    }\n",
       "\n",
       "    .dataframe thead th {\n",
       "        text-align: right;\n",
       "    }\n",
       "</style>\n",
       "<table border=\"1\" class=\"dataframe\">\n",
       "  <thead>\n",
       "    <tr style=\"text-align: right;\">\n",
       "      <th></th>\n",
       "      <th>category</th>\n",
       "      <th>loss</th>\n",
       "      <th>ticker_symbol</th>\n",
       "      <th>feature_set</th>\n",
       "      <th>metric</th>\n",
       "    </tr>\n",
       "  </thead>\n",
       "  <tbody>\n",
       "    <tr>\n",
       "      <th>0</th>\n",
       "      <td>validation</td>\n",
       "      <td>4.846</td>\n",
       "      <td>GSPC</td>\n",
       "      <td>feature_set_3</td>\n",
       "      <td>MAPE</td>\n",
       "    </tr>\n",
       "    <tr>\n",
       "      <th>1</th>\n",
       "      <td>validation</td>\n",
       "      <td>7.010</td>\n",
       "      <td>IXIC</td>\n",
       "      <td>feature_set_3</td>\n",
       "      <td>MAPE</td>\n",
       "    </tr>\n",
       "    <tr>\n",
       "      <th>2</th>\n",
       "      <td>validation</td>\n",
       "      <td>10.263</td>\n",
       "      <td>VGT</td>\n",
       "      <td>feature_set_3</td>\n",
       "      <td>MAPE</td>\n",
       "    </tr>\n",
       "    <tr>\n",
       "      <th>3</th>\n",
       "      <td>test</td>\n",
       "      <td>8.714</td>\n",
       "      <td>GSPC</td>\n",
       "      <td>feature_set_3</td>\n",
       "      <td>MAPE</td>\n",
       "    </tr>\n",
       "    <tr>\n",
       "      <th>4</th>\n",
       "      <td>test</td>\n",
       "      <td>20.870</td>\n",
       "      <td>IXIC</td>\n",
       "      <td>feature_set_3</td>\n",
       "      <td>MAPE</td>\n",
       "    </tr>\n",
       "    <tr>\n",
       "      <th>5</th>\n",
       "      <td>test</td>\n",
       "      <td>27.733</td>\n",
       "      <td>VGT</td>\n",
       "      <td>feature_set_3</td>\n",
       "      <td>MAPE</td>\n",
       "    </tr>\n",
       "  </tbody>\n",
       "</table>\n",
       "</div>"
      ],
      "text/plain": [
       "     category    loss ticker_symbol    feature_set metric\n",
       "0  validation   4.846          GSPC  feature_set_3   MAPE\n",
       "1  validation   7.010          IXIC  feature_set_3   MAPE\n",
       "2  validation  10.263           VGT  feature_set_3   MAPE\n",
       "3        test   8.714          GSPC  feature_set_3   MAPE\n",
       "4        test  20.870          IXIC  feature_set_3   MAPE\n",
       "5        test  27.733           VGT  feature_set_3   MAPE"
      ]
     },
     "execution_count": 13,
     "metadata": {},
     "output_type": "execute_result"
    }
   ],
   "source": [
    "loss_summary_df"
   ]
  },
  {
   "cell_type": "code",
   "execution_count": 14,
   "metadata": {
    "ExecuteTime": {
     "end_time": "2020-11-17T05:09:00.787058Z",
     "start_time": "2020-11-17T05:09:00.340494Z"
    }
   },
   "outputs": [
    {
     "data": {
      "image/png": "[encoded data removed]",
      "text/plain": [
       "<Figure size 301.375x216 with 1 Axes>"
      ]
     },
     "metadata": {
      "needs_background": "light"
     },
     "output_type": "display_data"
    }
   ],
   "source": [
    "# MAPE\n",
    "g = sns.FacetGrid(loss_summary_df[loss_summary_df['metric']=='MAPE'], col=\"feature_set\")\n",
    "g.map_dataframe(sns.barplot, x=\"ticker_symbol\", y=\"loss\", hue=\"category\", palette=[\"C0\", \"C1\"])\n",
    "g.set_axis_labels(\"ticker symbol\", \"MAPE\")\n",
    "g.add_legend()\n",
    "plt.subplots_adjust(top=0.8)\n",
    "g.fig.suptitle('Validation and test losses (MAPE)', fontweight=\"bold\")\n",
    "plt.savefig(\"../plots/DNN_validation_test_MAPE.png\", dpi=300, bbox_inches='tight')\n",
    "plt.show()"
   ]
  },
  {
   "cell_type": "code",
   "execution_count": null,
   "metadata": {},
   "outputs": [],
   "source": []
  }
 ],
 "metadata": {
  "kernelspec": {
   "display_name": "Python 3",
   "language": "python",
   "name": "python3"
  },
  "language_info": {
   "codemirror_mode": {
    "name": "ipython",
    "version": 3
   },
   "file_extension": ".py",
   "mimetype": "text/x-python",
   "name": "python",
   "nbconvert_exporter": "python",
   "pygments_lexer": "ipython3",
   "version": "3.7.6"
  },
  "toc": {
   "base_numbering": 1,
   "nav_menu": {},
   "number_sections": false,
   "sideBar": true,
   "skip_h1_title": false,
   "title_cell": "Table of Contents",
   "title_sidebar": "Contents",
   "toc_cell": false,
   "toc_position": {},
   "toc_section_display": true,
   "toc_window_display": false
  }
 },
 "nbformat": 4,
 "nbformat_minor": 4
}
