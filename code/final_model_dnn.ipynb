{
 "cells": [
  {
   "cell_type": "code",
   "execution_count": 60,
   "metadata": {
    "ExecuteTime": {
     "end_time": "2020-11-14T05:31:18.041935Z",
     "start_time": "2020-11-14T05:31:18.038938Z"
    }
   },
   "outputs": [],
   "source": [
    "import matplotlib.pyplot as plt\n",
    "import numpy as np\n",
    "import pandas as pd\n",
    "import seaborn as sns\n",
    "from sklearn.metrics import mean_squared_error\n",
    "from math import sqrt"
   ]
  },
  {
   "cell_type": "code",
   "execution_count": 61,
   "metadata": {
    "ExecuteTime": {
     "end_time": "2020-11-14T05:31:18.047386Z",
     "start_time": "2020-11-14T05:31:18.043867Z"
    }
   },
   "outputs": [
    {
     "name": "stdout",
     "output_type": "stream",
     "text": [
      "2.2.0\n"
     ]
    }
   ],
   "source": [
    "import tensorflow as tf\n",
    "\n",
    "from tensorflow import keras\n",
    "from tensorflow.keras import layers\n",
    "from tensorflow.keras.layers.experimental import preprocessing\n",
    "\n",
    "print(tf.__version__)"
   ]
  },
  {
   "cell_type": "code",
   "execution_count": 62,
   "metadata": {
    "ExecuteTime": {
     "end_time": "2020-11-14T05:31:18.081668Z",
     "start_time": "2020-11-14T05:31:18.049672Z"
    }
   },
   "outputs": [],
   "source": [
    "dataset = pd.read_csv('../data/aggregated_metadata_sentiment_frequency_by_topics.csv', index_col=0)"
   ]
  },
  {
   "cell_type": "code",
   "execution_count": 63,
   "metadata": {
    "ExecuteTime": {
     "end_time": "2020-11-14T05:31:18.106113Z",
     "start_time": "2020-11-14T05:31:18.083593Z"
    }
   },
   "outputs": [
    {
     "data": {
      "text/html": [
       "<div>\n",
       "<style scoped>\n",
       "    .dataframe tbody tr th:only-of-type {\n",
       "        vertical-align: middle;\n",
       "    }\n",
       "\n",
       "    .dataframe tbody tr th {\n",
       "        vertical-align: top;\n",
       "    }\n",
       "\n",
       "    .dataframe thead th {\n",
       "        text-align: right;\n",
       "    }\n",
       "</style>\n",
       "<table border=\"1\" class=\"dataframe\">\n",
       "  <thead>\n",
       "    <tr style=\"text-align: right;\">\n",
       "      <th></th>\n",
       "      <th>retweet_count_1</th>\n",
       "      <th>retweet_count_2</th>\n",
       "      <th>retweet_count_3</th>\n",
       "      <th>retweet_count_4</th>\n",
       "      <th>retweet_count_5</th>\n",
       "      <th>retweet_count_6</th>\n",
       "      <th>retweet_count_7</th>\n",
       "      <th>retweet_count_8</th>\n",
       "      <th>retweet_count_9</th>\n",
       "      <th>retweet_count_10</th>\n",
       "      <th>...</th>\n",
       "      <th>freq_4</th>\n",
       "      <th>freq_5</th>\n",
       "      <th>freq_6</th>\n",
       "      <th>freq_7</th>\n",
       "      <th>freq_8</th>\n",
       "      <th>freq_9</th>\n",
       "      <th>freq_10</th>\n",
       "      <th>GSPC</th>\n",
       "      <th>IXIC</th>\n",
       "      <th>VGT</th>\n",
       "    </tr>\n",
       "  </thead>\n",
       "  <tbody>\n",
       "    <tr>\n",
       "      <th>4/1/16</th>\n",
       "      <td>1985.357143</td>\n",
       "      <td>7542.333333</td>\n",
       "      <td>2248.00</td>\n",
       "      <td>2714.571429</td>\n",
       "      <td>6065.00000</td>\n",
       "      <td>2062.666667</td>\n",
       "      <td>1539.500000</td>\n",
       "      <td>2324.5</td>\n",
       "      <td>1449.333333</td>\n",
       "      <td>4195.00000</td>\n",
       "      <td>...</td>\n",
       "      <td>7</td>\n",
       "      <td>1</td>\n",
       "      <td>3</td>\n",
       "      <td>2</td>\n",
       "      <td>2</td>\n",
       "      <td>3</td>\n",
       "      <td>2</td>\n",
       "      <td>3380.800049</td>\n",
       "      <td>11326.509770</td>\n",
       "      <td>315.329987</td>\n",
       "    </tr>\n",
       "    <tr>\n",
       "      <th>5/1/16</th>\n",
       "      <td>1286.000000</td>\n",
       "      <td>1159.000000</td>\n",
       "      <td>1049.00</td>\n",
       "      <td>1092.000000</td>\n",
       "      <td>0.00000</td>\n",
       "      <td>1571.000000</td>\n",
       "      <td>932.000000</td>\n",
       "      <td>0.0</td>\n",
       "      <td>1325.750000</td>\n",
       "      <td>0.00000</td>\n",
       "      <td>...</td>\n",
       "      <td>1</td>\n",
       "      <td>0</td>\n",
       "      <td>4</td>\n",
       "      <td>1</td>\n",
       "      <td>0</td>\n",
       "      <td>4</td>\n",
       "      <td>0</td>\n",
       "      <td>3363.000000</td>\n",
       "      <td>11167.509770</td>\n",
       "      <td>311.450012</td>\n",
       "    </tr>\n",
       "    <tr>\n",
       "      <th>6/1/16</th>\n",
       "      <td>2096.250000</td>\n",
       "      <td>800.000000</td>\n",
       "      <td>3134.20</td>\n",
       "      <td>1237.000000</td>\n",
       "      <td>2517.00000</td>\n",
       "      <td>2341.000000</td>\n",
       "      <td>0.000000</td>\n",
       "      <td>0.0</td>\n",
       "      <td>724.000000</td>\n",
       "      <td>0.00000</td>\n",
       "      <td>...</td>\n",
       "      <td>1</td>\n",
       "      <td>1</td>\n",
       "      <td>1</td>\n",
       "      <td>0</td>\n",
       "      <td>0</td>\n",
       "      <td>3</td>\n",
       "      <td>0</td>\n",
       "      <td>3335.469971</td>\n",
       "      <td>11085.250000</td>\n",
       "      <td>309.149994</td>\n",
       "    </tr>\n",
       "    <tr>\n",
       "      <th>7/1/16</th>\n",
       "      <td>1471.000000</td>\n",
       "      <td>0.000000</td>\n",
       "      <td>6813.50</td>\n",
       "      <td>1726.500000</td>\n",
       "      <td>1393.00000</td>\n",
       "      <td>1588.500000</td>\n",
       "      <td>0.000000</td>\n",
       "      <td>0.0</td>\n",
       "      <td>1114.500000</td>\n",
       "      <td>2026.00000</td>\n",
       "      <td>...</td>\n",
       "      <td>2</td>\n",
       "      <td>3</td>\n",
       "      <td>2</td>\n",
       "      <td>0</td>\n",
       "      <td>0</td>\n",
       "      <td>2</td>\n",
       "      <td>1</td>\n",
       "      <td>3351.600098</td>\n",
       "      <td>11117.530270</td>\n",
       "      <td>310.000000</td>\n",
       "    </tr>\n",
       "    <tr>\n",
       "      <th>8/1/16</th>\n",
       "      <td>2246.333333</td>\n",
       "      <td>0.000000</td>\n",
       "      <td>1014.00</td>\n",
       "      <td>1548.000000</td>\n",
       "      <td>1425.00000</td>\n",
       "      <td>1688.666667</td>\n",
       "      <td>0.000000</td>\n",
       "      <td>1968.0</td>\n",
       "      <td>0.000000</td>\n",
       "      <td>0.00000</td>\n",
       "      <td>...</td>\n",
       "      <td>2</td>\n",
       "      <td>1</td>\n",
       "      <td>3</td>\n",
       "      <td>0</td>\n",
       "      <td>1</td>\n",
       "      <td>0</td>\n",
       "      <td>0</td>\n",
       "      <td>3298.459961</td>\n",
       "      <td>10913.559570</td>\n",
       "      <td>304.359985</td>\n",
       "    </tr>\n",
       "    <tr>\n",
       "      <th>...</th>\n",
       "      <td>...</td>\n",
       "      <td>...</td>\n",
       "      <td>...</td>\n",
       "      <td>...</td>\n",
       "      <td>...</td>\n",
       "      <td>...</td>\n",
       "      <td>...</td>\n",
       "      <td>...</td>\n",
       "      <td>...</td>\n",
       "      <td>...</td>\n",
       "      <td>...</td>\n",
       "      <td>...</td>\n",
       "      <td>...</td>\n",
       "      <td>...</td>\n",
       "      <td>...</td>\n",
       "      <td>...</td>\n",
       "      <td>...</td>\n",
       "      <td>...</td>\n",
       "      <td>...</td>\n",
       "      <td>...</td>\n",
       "      <td>...</td>\n",
       "    </tr>\n",
       "    <tr>\n",
       "      <th>25/9/20</th>\n",
       "      <td>13841.125000</td>\n",
       "      <td>7468.823529</td>\n",
       "      <td>9028.75</td>\n",
       "      <td>11875.416670</td>\n",
       "      <td>17963.90909</td>\n",
       "      <td>13305.666670</td>\n",
       "      <td>5581.083333</td>\n",
       "      <td>13394.0</td>\n",
       "      <td>17808.250000</td>\n",
       "      <td>5749.50000</td>\n",
       "      <td>...</td>\n",
       "      <td>12</td>\n",
       "      <td>11</td>\n",
       "      <td>3</td>\n",
       "      <td>12</td>\n",
       "      <td>4</td>\n",
       "      <td>4</td>\n",
       "      <td>2</td>\n",
       "      <td>1922.030029</td>\n",
       "      <td>4643.629883</td>\n",
       "      <td>94.776695</td>\n",
       "    </tr>\n",
       "    <tr>\n",
       "      <th>28/9/20</th>\n",
       "      <td>14742.000000</td>\n",
       "      <td>9792.750000</td>\n",
       "      <td>26678.20</td>\n",
       "      <td>25413.666670</td>\n",
       "      <td>19582.33333</td>\n",
       "      <td>29004.500000</td>\n",
       "      <td>8355.521739</td>\n",
       "      <td>20924.0</td>\n",
       "      <td>19850.000000</td>\n",
       "      <td>30891.55556</td>\n",
       "      <td>...</td>\n",
       "      <td>6</td>\n",
       "      <td>3</td>\n",
       "      <td>6</td>\n",
       "      <td>23</td>\n",
       "      <td>6</td>\n",
       "      <td>1</td>\n",
       "      <td>9</td>\n",
       "      <td>1943.089966</td>\n",
       "      <td>4689.430176</td>\n",
       "      <td>95.597809</td>\n",
       "    </tr>\n",
       "    <tr>\n",
       "      <th>29/9/20</th>\n",
       "      <td>19296.200000</td>\n",
       "      <td>6911.500000</td>\n",
       "      <td>8287.00</td>\n",
       "      <td>15762.000000</td>\n",
       "      <td>32283.50000</td>\n",
       "      <td>36918.500000</td>\n",
       "      <td>0.000000</td>\n",
       "      <td>13933.2</td>\n",
       "      <td>22894.000000</td>\n",
       "      <td>17406.66667</td>\n",
       "      <td>...</td>\n",
       "      <td>2</td>\n",
       "      <td>2</td>\n",
       "      <td>2</td>\n",
       "      <td>0</td>\n",
       "      <td>5</td>\n",
       "      <td>1</td>\n",
       "      <td>3</td>\n",
       "      <td>1990.260010</td>\n",
       "      <td>4835.759766</td>\n",
       "      <td>98.778427</td>\n",
       "    </tr>\n",
       "    <tr>\n",
       "      <th>30/9/20</th>\n",
       "      <td>20460.000000</td>\n",
       "      <td>14327.750000</td>\n",
       "      <td>24470.75</td>\n",
       "      <td>13862.222220</td>\n",
       "      <td>20833.27273</td>\n",
       "      <td>17549.750000</td>\n",
       "      <td>32909.000000</td>\n",
       "      <td>16050.0</td>\n",
       "      <td>13780.142860</td>\n",
       "      <td>9885.60000</td>\n",
       "      <td>...</td>\n",
       "      <td>9</td>\n",
       "      <td>11</td>\n",
       "      <td>4</td>\n",
       "      <td>1</td>\n",
       "      <td>3</td>\n",
       "      <td>7</td>\n",
       "      <td>10</td>\n",
       "      <td>2016.709961</td>\n",
       "      <td>4891.430176</td>\n",
       "      <td>100.137505</td>\n",
       "    </tr>\n",
       "    <tr>\n",
       "      <th>1/10/20</th>\n",
       "      <td>15992.000000</td>\n",
       "      <td>20217.000000</td>\n",
       "      <td>15340.50</td>\n",
       "      <td>25018.500000</td>\n",
       "      <td>28177.50000</td>\n",
       "      <td>29550.666670</td>\n",
       "      <td>26220.000000</td>\n",
       "      <td>37965.5</td>\n",
       "      <td>11984.750000</td>\n",
       "      <td>23622.00000</td>\n",
       "      <td>...</td>\n",
       "      <td>2</td>\n",
       "      <td>2</td>\n",
       "      <td>3</td>\n",
       "      <td>1</td>\n",
       "      <td>2</td>\n",
       "      <td>4</td>\n",
       "      <td>1</td>\n",
       "      <td>2012.660034</td>\n",
       "      <td>4903.089844</td>\n",
       "      <td>100.618843</td>\n",
       "    </tr>\n",
       "  </tbody>\n",
       "</table>\n",
       "<p>1186 rows × 153 columns</p>\n",
       "</div>"
      ],
      "text/plain": [
       "         retweet_count_1  retweet_count_2  retweet_count_3  retweet_count_4  \\\n",
       "4/1/16       1985.357143      7542.333333          2248.00      2714.571429   \n",
       "5/1/16       1286.000000      1159.000000          1049.00      1092.000000   \n",
       "6/1/16       2096.250000       800.000000          3134.20      1237.000000   \n",
       "7/1/16       1471.000000         0.000000          6813.50      1726.500000   \n",
       "8/1/16       2246.333333         0.000000          1014.00      1548.000000   \n",
       "...                  ...              ...              ...              ...   \n",
       "25/9/20     13841.125000      7468.823529          9028.75     11875.416670   \n",
       "28/9/20     14742.000000      9792.750000         26678.20     25413.666670   \n",
       "29/9/20     19296.200000      6911.500000          8287.00     15762.000000   \n",
       "30/9/20     20460.000000     14327.750000         24470.75     13862.222220   \n",
       "1/10/20     15992.000000     20217.000000         15340.50     25018.500000   \n",
       "\n",
       "         retweet_count_5  retweet_count_6  retweet_count_7  retweet_count_8  \\\n",
       "4/1/16        6065.00000      2062.666667      1539.500000           2324.5   \n",
       "5/1/16           0.00000      1571.000000       932.000000              0.0   \n",
       "6/1/16        2517.00000      2341.000000         0.000000              0.0   \n",
       "7/1/16        1393.00000      1588.500000         0.000000              0.0   \n",
       "8/1/16        1425.00000      1688.666667         0.000000           1968.0   \n",
       "...                  ...              ...              ...              ...   \n",
       "25/9/20      17963.90909     13305.666670      5581.083333          13394.0   \n",
       "28/9/20      19582.33333     29004.500000      8355.521739          20924.0   \n",
       "29/9/20      32283.50000     36918.500000         0.000000          13933.2   \n",
       "30/9/20      20833.27273     17549.750000     32909.000000          16050.0   \n",
       "1/10/20      28177.50000     29550.666670     26220.000000          37965.5   \n",
       "\n",
       "         retweet_count_9  retweet_count_10  ...  freq_4  freq_5  freq_6  \\\n",
       "4/1/16       1449.333333        4195.00000  ...       7       1       3   \n",
       "5/1/16       1325.750000           0.00000  ...       1       0       4   \n",
       "6/1/16        724.000000           0.00000  ...       1       1       1   \n",
       "7/1/16       1114.500000        2026.00000  ...       2       3       2   \n",
       "8/1/16          0.000000           0.00000  ...       2       1       3   \n",
       "...                  ...               ...  ...     ...     ...     ...   \n",
       "25/9/20     17808.250000        5749.50000  ...      12      11       3   \n",
       "28/9/20     19850.000000       30891.55556  ...       6       3       6   \n",
       "29/9/20     22894.000000       17406.66667  ...       2       2       2   \n",
       "30/9/20     13780.142860        9885.60000  ...       9      11       4   \n",
       "1/10/20     11984.750000       23622.00000  ...       2       2       3   \n",
       "\n",
       "         freq_7  freq_8  freq_9  freq_10         GSPC          IXIC  \\\n",
       "4/1/16        2       2       3        2  3380.800049  11326.509770   \n",
       "5/1/16        1       0       4        0  3363.000000  11167.509770   \n",
       "6/1/16        0       0       3        0  3335.469971  11085.250000   \n",
       "7/1/16        0       0       2        1  3351.600098  11117.530270   \n",
       "8/1/16        0       1       0        0  3298.459961  10913.559570   \n",
       "...         ...     ...     ...      ...          ...           ...   \n",
       "25/9/20      12       4       4        2  1922.030029   4643.629883   \n",
       "28/9/20      23       6       1        9  1943.089966   4689.430176   \n",
       "29/9/20       0       5       1        3  1990.260010   4835.759766   \n",
       "30/9/20       1       3       7       10  2016.709961   4891.430176   \n",
       "1/10/20       1       2       4        1  2012.660034   4903.089844   \n",
       "\n",
       "                VGT  \n",
       "4/1/16   315.329987  \n",
       "5/1/16   311.450012  \n",
       "6/1/16   309.149994  \n",
       "7/1/16   310.000000  \n",
       "8/1/16   304.359985  \n",
       "...             ...  \n",
       "25/9/20   94.776695  \n",
       "28/9/20   95.597809  \n",
       "29/9/20   98.778427  \n",
       "30/9/20  100.137505  \n",
       "1/10/20  100.618843  \n",
       "\n",
       "[1186 rows x 153 columns]"
      ]
     },
     "execution_count": 63,
     "metadata": {},
     "output_type": "execute_result"
    }
   ],
   "source": [
    "dataset"
   ]
  },
  {
   "cell_type": "markdown",
   "metadata": {},
   "source": [
    "### train-test split"
   ]
  },
  {
   "cell_type": "code",
   "execution_count": 64,
   "metadata": {
    "ExecuteTime": {
     "end_time": "2020-11-14T05:31:18.112362Z",
     "start_time": "2020-11-14T05:31:18.107733Z"
    }
   },
   "outputs": [],
   "source": [
    "train_dataset = dataset.sample(frac=0.75, random_state=0)\n",
    "test_dataset = dataset.drop(train_dataset.index)"
   ]
  },
  {
   "cell_type": "markdown",
   "metadata": {},
   "source": [
    "#### predict GSPC"
   ]
  },
  {
   "cell_type": "code",
   "execution_count": 65,
   "metadata": {
    "ExecuteTime": {
     "end_time": "2020-11-14T05:31:18.119722Z",
     "start_time": "2020-11-14T05:31:18.113943Z"
    }
   },
   "outputs": [],
   "source": [
    "train_feature = train_dataset.iloc[:,:-3].copy()\n",
    "test_feature = test_dataset.iloc[:,:-3].copy()\n",
    "\n",
    "train_gspc = train_dataset['GSPC']\n",
    "test_gspc = test_dataset['GSPC']"
   ]
  },
  {
   "cell_type": "code",
   "execution_count": 66,
   "metadata": {
    "ExecuteTime": {
     "end_time": "2020-11-14T05:31:18.132624Z",
     "start_time": "2020-11-14T05:31:18.122625Z"
    }
   },
   "outputs": [],
   "source": [
    "# normalise\n",
    "normalizer = preprocessing.Normalization(input_shape=[150,])\n",
    "normalizer.adapt(np.array(train_feature))"
   ]
  },
  {
   "cell_type": "code",
   "execution_count": 67,
   "metadata": {
    "ExecuteTime": {
     "end_time": "2020-11-14T05:31:18.180348Z",
     "start_time": "2020-11-14T05:31:18.136178Z"
    }
   },
   "outputs": [
    {
     "name": "stdout",
     "output_type": "stream",
     "text": [
      "Model: \"sequential_2\"\n",
      "_________________________________________________________________\n",
      "Layer (type)                 Output Shape              Param #   \n",
      "=================================================================\n",
      "normalization_2 (Normalizati (None, 150)               301       \n",
      "_________________________________________________________________\n",
      "dense_6 (Dense)              (None, 64)                9664      \n",
      "_________________________________________________________________\n",
      "dense_7 (Dense)              (None, 64)                4160      \n",
      "_________________________________________________________________\n",
      "dense_8 (Dense)              (None, 1)                 65        \n",
      "=================================================================\n",
      "Total params: 14,190\n",
      "Trainable params: 13,889\n",
      "Non-trainable params: 301\n",
      "_________________________________________________________________\n"
     ]
    }
   ],
   "source": [
    "# create model\n",
    "def build_and_compile_model(norm):\n",
    "    model = keras.Sequential([\n",
    "      norm,\n",
    "      layers.Dense(64, activation='relu'),\n",
    "      layers.Dense(64, activation='relu'),\n",
    "      layers.Dense(1)\n",
    "  ])\n",
    "\n",
    "    model.compile(loss='mean_absolute_error',\n",
    "                optimizer=tf.keras.optimizers.Adam(0.001))\n",
    "    return model\n",
    "\n",
    "dnn_model = build_and_compile_model(normalizer)\n",
    "dnn_model.summary()"
   ]
  },
  {
   "cell_type": "code",
   "execution_count": 68,
   "metadata": {
    "ExecuteTime": {
     "end_time": "2020-11-14T05:31:21.863577Z",
     "start_time": "2020-11-14T05:31:18.182295Z"
    }
   },
   "outputs": [],
   "source": [
    "history = dnn_model.fit(\n",
    "    train_feature, train_gspc,\n",
    "    validation_split=0.2,\n",
    "    verbose=0, epochs=100)"
   ]
  },
  {
   "cell_type": "code",
   "execution_count": 69,
   "metadata": {
    "ExecuteTime": {
     "end_time": "2020-11-14T05:31:21.868244Z",
     "start_time": "2020-11-14T05:31:21.864931Z"
    }
   },
   "outputs": [],
   "source": [
    "def plot_loss(history):\n",
    "    plt.plot(history.history['loss'], label='loss')\n",
    "    plt.plot(history.history['val_loss'], label='val_loss')\n",
    "    plt.ylim([0, 2000])\n",
    "    plt.xlabel('Epoch')\n",
    "    plt.ylabel('Error')\n",
    "    plt.legend()\n",
    "    plt.grid(True)"
   ]
  },
  {
   "cell_type": "code",
   "execution_count": 70,
   "metadata": {
    "ExecuteTime": {
     "end_time": "2020-11-14T05:31:21.990136Z",
     "start_time": "2020-11-14T05:31:21.869671Z"
    }
   },
   "outputs": [
    {
     "data": {
      "image/png": "[encoded data removed]",
      "text/plain": [
       "<Figure size 432x288 with 1 Axes>"
      ]
     },
     "metadata": {
      "needs_background": "light"
     },
     "output_type": "display_data"
    }
   ],
   "source": [
    "plot_loss(history)"
   ]
  },
  {
   "cell_type": "code",
   "execution_count": 71,
   "metadata": {
    "ExecuteTime": {
     "end_time": "2020-11-14T05:31:22.065406Z",
     "start_time": "2020-11-14T05:31:21.991866Z"
    }
   },
   "outputs": [
    {
     "data": {
      "text/plain": [
       "12.208955695697679"
      ]
     },
     "execution_count": 71,
     "metadata": {},
     "output_type": "execute_result"
    }
   ],
   "source": [
    "# retrieve the MAPE on the test set\n",
    "\n",
    "def percentage_error(actual, predicted):\n",
    "    res = np.empty(actual.shape)\n",
    "    for j in range(actual.shape[0]):\n",
    "        if actual[j] != 0:\n",
    "            res[j] = (actual[j] - predicted[j]) / actual[j]\n",
    "        else:\n",
    "            res[j] = predicted[j] / np.mean(actual)\n",
    "    return res\n",
    "\n",
    "def mean_absolute_percentage_error(y_true, y_pred): \n",
    "    return np.mean(np.abs(percentage_error(np.asarray(y_true), np.asarray(y_pred)))) * 100\n",
    "\n",
    "mean_absolute_percentage_error(test_gspc, dnn_model.predict(test_feature)) #MAPE"
   ]
  },
  {
   "cell_type": "code",
   "execution_count": 72,
   "metadata": {
    "ExecuteTime": {
     "end_time": "2020-11-14T05:31:22.107198Z",
     "start_time": "2020-11-14T05:31:22.067358Z"
    }
   },
   "outputs": [
    {
     "data": {
      "text/plain": [
       "402.657588375739"
      ]
     },
     "execution_count": 72,
     "metadata": {},
     "output_type": "execute_result"
    }
   ],
   "source": [
    "# RMSE\n",
    "sqrt(mean_squared_error(dnn_model.predict(test_feature), test_gspc))"
   ]
  },
  {
   "cell_type": "markdown",
   "metadata": {},
   "source": []
  },
  {
   "cell_type": "markdown",
   "metadata": {},
   "source": [
    "#### predict IXIC"
   ]
  },
  {
   "cell_type": "code",
   "execution_count": 73,
   "metadata": {
    "ExecuteTime": {
     "end_time": "2020-11-14T05:31:22.111526Z",
     "start_time": "2020-11-14T05:31:22.108770Z"
    }
   },
   "outputs": [],
   "source": [
    "train_ixic = train_dataset['IXIC']\n",
    "test_ixic = test_dataset['IXIC']"
   ]
  },
  {
   "cell_type": "code",
   "execution_count": 84,
   "metadata": {
    "ExecuteTime": {
     "end_time": "2020-11-14T05:32:04.531026Z",
     "start_time": "2020-11-14T05:32:01.357317Z"
    }
   },
   "outputs": [],
   "source": [
    "history_ixic = dnn_model.fit(\n",
    "    train_feature, train_ixic,\n",
    "    validation_split=0.2,\n",
    "    verbose=0, epochs=100)"
   ]
  },
  {
   "cell_type": "code",
   "execution_count": 75,
   "metadata": {
    "ExecuteTime": {
     "end_time": "2020-11-14T05:31:25.661354Z",
     "start_time": "2020-11-14T05:31:25.501206Z"
    }
   },
   "outputs": [
    {
     "data": {
      "image/png": "[encoded data removed]",
      "text/plain": [
       "<Figure size 432x288 with 1 Axes>"
      ]
     },
     "metadata": {
      "needs_background": "light"
     },
     "output_type": "display_data"
    }
   ],
   "source": [
    "plot_loss(history_ixic)"
   ]
  },
  {
   "cell_type": "code",
   "execution_count": 76,
   "metadata": {
    "ExecuteTime": {
     "end_time": "2020-11-14T05:31:25.703388Z",
     "start_time": "2020-11-14T05:31:25.663438Z"
    }
   },
   "outputs": [
    {
     "data": {
      "text/plain": [
       "14.087932328009236"
      ]
     },
     "execution_count": 76,
     "metadata": {},
     "output_type": "execute_result"
    }
   ],
   "source": [
    "#MAPE\n",
    "mean_absolute_percentage_error(test_ixic, dnn_model.predict(test_feature)) "
   ]
  },
  {
   "cell_type": "code",
   "execution_count": 77,
   "metadata": {
    "ExecuteTime": {
     "end_time": "2020-11-14T05:31:25.745814Z",
     "start_time": "2020-11-14T05:31:25.707800Z"
    }
   },
   "outputs": [
    {
     "data": {
      "text/plain": [
       "1230.0313907048421"
      ]
     },
     "execution_count": 77,
     "metadata": {},
     "output_type": "execute_result"
    }
   ],
   "source": [
    "# RMSE\n",
    "sqrt(mean_squared_error(dnn_model.predict(test_feature), test_ixic))"
   ]
  },
  {
   "cell_type": "markdown",
   "metadata": {},
   "source": [
    "#### predict VGT"
   ]
  },
  {
   "cell_type": "code",
   "execution_count": 78,
   "metadata": {
    "ExecuteTime": {
     "end_time": "2020-11-14T05:31:25.750790Z",
     "start_time": "2020-11-14T05:31:25.748167Z"
    }
   },
   "outputs": [],
   "source": [
    "train_vgt = train_dataset['VGT']\n",
    "test_vgt = test_dataset['VGT']"
   ]
  },
  {
   "cell_type": "code",
   "execution_count": 79,
   "metadata": {
    "ExecuteTime": {
     "end_time": "2020-11-14T05:31:29.078064Z",
     "start_time": "2020-11-14T05:31:25.752547Z"
    }
   },
   "outputs": [],
   "source": [
    "history_vgt = dnn_model.fit(\n",
    "    train_feature, train_vgt,\n",
    "    validation_split=0.2,\n",
    "    verbose=0, epochs=100)"
   ]
  },
  {
   "cell_type": "code",
   "execution_count": 80,
   "metadata": {
    "ExecuteTime": {
     "end_time": "2020-11-14T05:31:29.207665Z",
     "start_time": "2020-11-14T05:31:29.079328Z"
    }
   },
   "outputs": [
    {
     "data": {
      "image/png": "[encoded data removed]",
      "text/plain": [
       "<Figure size 432x288 with 1 Axes>"
      ]
     },
     "metadata": {
      "needs_background": "light"
     },
     "output_type": "display_data"
    }
   ],
   "source": [
    "plot_loss(history_vgt)"
   ]
  },
  {
   "cell_type": "code",
   "execution_count": 81,
   "metadata": {
    "ExecuteTime": {
     "end_time": "2020-11-14T05:31:29.245125Z",
     "start_time": "2020-11-14T05:31:29.209346Z"
    }
   },
   "outputs": [
    {
     "data": {
      "text/plain": [
       "18.706604676112505"
      ]
     },
     "execution_count": 81,
     "metadata": {},
     "output_type": "execute_result"
    }
   ],
   "source": [
    "mean_absolute_percentage_error(test_vgt, dnn_model.predict(test_feature)) #MAPE"
   ]
  },
  {
   "cell_type": "code",
   "execution_count": 82,
   "metadata": {
    "ExecuteTime": {
     "end_time": "2020-11-14T05:31:29.284762Z",
     "start_time": "2020-11-14T05:31:29.246809Z"
    }
   },
   "outputs": [
    {
     "data": {
      "text/plain": [
       "38.466189122478745"
      ]
     },
     "execution_count": 82,
     "metadata": {},
     "output_type": "execute_result"
    }
   ],
   "source": [
    "# RMSE\n",
    "sqrt(mean_squared_error(dnn_model.predict(test_feature), test_vgt))"
   ]
  },
  {
   "cell_type": "code",
   "execution_count": null,
   "metadata": {},
   "outputs": [],
   "source": []
  }
 ],
 "metadata": {
  "kernelspec": {
   "display_name": "Python 3",
   "language": "python",
   "name": "python3"
  },
  "language_info": {
   "codemirror_mode": {
    "name": "ipython",
    "version": 3
   },
   "file_extension": ".py",
   "mimetype": "text/x-python",
   "name": "python",
   "nbconvert_exporter": "python",
   "pygments_lexer": "ipython3",
   "version": "3.7.6"
  },
  "toc": {
   "base_numbering": 1,
   "nav_menu": {},
   "number_sections": false,
   "sideBar": true,
   "skip_h1_title": false,
   "title_cell": "Table of Contents",
   "title_sidebar": "Contents",
   "toc_cell": false,
   "toc_position": {},
   "toc_section_display": true,
   "toc_window_display": false
  }
 },
 "nbformat": 4,
 "nbformat_minor": 4
}
