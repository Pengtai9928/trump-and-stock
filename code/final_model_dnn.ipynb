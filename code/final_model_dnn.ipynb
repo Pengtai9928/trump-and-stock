{
 "cells": [
  {
   "cell_type": "code",
   "execution_count": 117,
   "metadata": {
    "ExecuteTime": {
     "end_time": "2020-11-14T05:31:18.041935Z",
     "start_time": "2020-11-14T05:31:18.038938Z"
    }
   },
   "outputs": [],
   "source": [
    "import matplotlib.pyplot as plt\n",
    "import numpy as np\n",
    "import pandas as pd\n",
    "import seaborn as sns\n",
    "from sklearn.metrics import mean_squared_error\n",
    "from math import sqrt\n",
    "from keras.layers import Conv2D,UpSampling2D,MaxPooling2D, Input, Flatten, Dense, Dropout, BatchNormalization"
   ]
  },
  {
   "cell_type": "code",
   "execution_count": 118,
   "metadata": {
    "ExecuteTime": {
     "end_time": "2020-11-14T05:31:18.047386Z",
     "start_time": "2020-11-14T05:31:18.043867Z"
    }
   },
   "outputs": [
    {
     "name": "stdout",
     "output_type": "stream",
     "text": [
      "2.3.0\n"
     ]
    }
   ],
   "source": [
    "import tensorflow as tf\n",
    "\n",
    "from tensorflow import keras\n",
    "from tensorflow.keras import layers\n",
    "from tensorflow.keras.layers.experimental import preprocessing\n",
    "\n",
    "print(tf.__version__)"
   ]
  },
  {
   "cell_type": "code",
   "execution_count": 161,
   "metadata": {
    "ExecuteTime": {
     "end_time": "2020-11-14T05:31:18.081668Z",
     "start_time": "2020-11-14T05:31:18.049672Z"
    }
   },
   "outputs": [],
   "source": [
    "dataset = pd.read_csv(\"ZY set.csv\",index_col=0)\n",
    "test = pd.read_csv(\"ZY test set.csv\",index_col=0)"
   ]
  },
  {
   "cell_type": "code",
   "execution_count": 163,
   "metadata": {},
   "outputs": [
    {
     "data": {
      "text/html": [
       "<div>\n",
       "<style scoped>\n",
       "    .dataframe tbody tr th:only-of-type {\n",
       "        vertical-align: middle;\n",
       "    }\n",
       "\n",
       "    .dataframe tbody tr th {\n",
       "        vertical-align: top;\n",
       "    }\n",
       "\n",
       "    .dataframe thead th {\n",
       "        text-align: right;\n",
       "    }\n",
       "</style>\n",
       "<table border=\"1\" class=\"dataframe\">\n",
       "  <thead>\n",
       "    <tr style=\"text-align: right;\">\n",
       "      <th></th>\n",
       "      <th>retweet_count</th>\n",
       "      <th>favorite_count</th>\n",
       "      <th>is_retweet</th>\n",
       "      <th>hashtag_count</th>\n",
       "      <th>mention_count</th>\n",
       "      <th>word_count</th>\n",
       "      <th>char_count</th>\n",
       "      <th>word_density</th>\n",
       "      <th>punctuation_freq</th>\n",
       "      <th>upper_case_freq</th>\n",
       "      <th>...</th>\n",
       "      <th>54</th>\n",
       "      <th>55</th>\n",
       "      <th>56</th>\n",
       "      <th>57</th>\n",
       "      <th>58</th>\n",
       "      <th>59</th>\n",
       "      <th>60</th>\n",
       "      <th>61</th>\n",
       "      <th>62</th>\n",
       "      <th>63</th>\n",
       "    </tr>\n",
       "    <tr>\n",
       "      <th>market_date</th>\n",
       "      <th></th>\n",
       "      <th></th>\n",
       "      <th></th>\n",
       "      <th></th>\n",
       "      <th></th>\n",
       "      <th></th>\n",
       "      <th></th>\n",
       "      <th></th>\n",
       "      <th></th>\n",
       "      <th></th>\n",
       "      <th></th>\n",
       "      <th></th>\n",
       "      <th></th>\n",
       "      <th></th>\n",
       "      <th></th>\n",
       "      <th></th>\n",
       "      <th></th>\n",
       "      <th></th>\n",
       "      <th></th>\n",
       "      <th></th>\n",
       "      <th></th>\n",
       "    </tr>\n",
       "  </thead>\n",
       "  <tbody>\n",
       "    <tr>\n",
       "      <th>2016-01-04</th>\n",
       "      <td>2660.326087</td>\n",
       "      <td>6782.043478</td>\n",
       "      <td>0.021739</td>\n",
       "      <td>0.369565</td>\n",
       "      <td>0.847826</td>\n",
       "      <td>25.434783</td>\n",
       "      <td>125.586957</td>\n",
       "      <td>5.041834</td>\n",
       "      <td>0.264225</td>\n",
       "      <td>0.040537</td>\n",
       "      <td>...</td>\n",
       "      <td>-0.017944</td>\n",
       "      <td>0.104394</td>\n",
       "      <td>0.075825</td>\n",
       "      <td>-0.092878</td>\n",
       "      <td>-0.024292</td>\n",
       "      <td>-0.058247</td>\n",
       "      <td>-0.044973</td>\n",
       "      <td>0.028491</td>\n",
       "      <td>-0.181183</td>\n",
       "      <td>0.054244</td>\n",
       "    </tr>\n",
       "    <tr>\n",
       "      <th>2016-01-05</th>\n",
       "      <td>1311.800000</td>\n",
       "      <td>3935.666667</td>\n",
       "      <td>0.000000</td>\n",
       "      <td>0.200000</td>\n",
       "      <td>1.933333</td>\n",
       "      <td>23.933333</td>\n",
       "      <td>125.066667</td>\n",
       "      <td>5.315622</td>\n",
       "      <td>0.369321</td>\n",
       "      <td>0.068486</td>\n",
       "      <td>...</td>\n",
       "      <td>0.010007</td>\n",
       "      <td>0.120056</td>\n",
       "      <td>0.097633</td>\n",
       "      <td>-0.081707</td>\n",
       "      <td>-0.043652</td>\n",
       "      <td>-0.079861</td>\n",
       "      <td>-0.050876</td>\n",
       "      <td>-0.000848</td>\n",
       "      <td>-0.194857</td>\n",
       "      <td>0.077745</td>\n",
       "    </tr>\n",
       "    <tr>\n",
       "      <th>2016-01-06</th>\n",
       "      <td>2070.187500</td>\n",
       "      <td>5250.812500</td>\n",
       "      <td>0.000000</td>\n",
       "      <td>0.187500</td>\n",
       "      <td>1.812500</td>\n",
       "      <td>22.312500</td>\n",
       "      <td>115.125000</td>\n",
       "      <td>5.171109</td>\n",
       "      <td>0.328001</td>\n",
       "      <td>0.049176</td>\n",
       "      <td>...</td>\n",
       "      <td>0.000862</td>\n",
       "      <td>0.108198</td>\n",
       "      <td>0.062387</td>\n",
       "      <td>-0.120868</td>\n",
       "      <td>-0.012046</td>\n",
       "      <td>-0.101719</td>\n",
       "      <td>-0.050537</td>\n",
       "      <td>0.028487</td>\n",
       "      <td>-0.173961</td>\n",
       "      <td>0.071916</td>\n",
       "    </tr>\n",
       "    <tr>\n",
       "      <th>2016-01-07</th>\n",
       "      <td>2320.153846</td>\n",
       "      <td>4770.153846</td>\n",
       "      <td>0.076923</td>\n",
       "      <td>0.000000</td>\n",
       "      <td>0.615385</td>\n",
       "      <td>24.307692</td>\n",
       "      <td>119.384615</td>\n",
       "      <td>4.932159</td>\n",
       "      <td>0.196628</td>\n",
       "      <td>0.061658</td>\n",
       "      <td>...</td>\n",
       "      <td>0.016458</td>\n",
       "      <td>0.062872</td>\n",
       "      <td>0.096209</td>\n",
       "      <td>-0.116414</td>\n",
       "      <td>-0.040070</td>\n",
       "      <td>-0.039273</td>\n",
       "      <td>-0.037580</td>\n",
       "      <td>0.042244</td>\n",
       "      <td>-0.169883</td>\n",
       "      <td>0.053672</td>\n",
       "    </tr>\n",
       "    <tr>\n",
       "      <th>2016-01-08</th>\n",
       "      <td>1755.272727</td>\n",
       "      <td>5410.545455</td>\n",
       "      <td>0.000000</td>\n",
       "      <td>0.181818</td>\n",
       "      <td>1.272727</td>\n",
       "      <td>21.090909</td>\n",
       "      <td>103.000000</td>\n",
       "      <td>4.857924</td>\n",
       "      <td>0.233505</td>\n",
       "      <td>0.023726</td>\n",
       "      <td>...</td>\n",
       "      <td>0.011105</td>\n",
       "      <td>0.133338</td>\n",
       "      <td>0.113586</td>\n",
       "      <td>-0.117101</td>\n",
       "      <td>-0.046171</td>\n",
       "      <td>-0.057523</td>\n",
       "      <td>-0.045804</td>\n",
       "      <td>-0.004404</td>\n",
       "      <td>-0.201545</td>\n",
       "      <td>0.091630</td>\n",
       "    </tr>\n",
       "  </tbody>\n",
       "</table>\n",
       "<p>5 rows × 87 columns</p>\n",
       "</div>"
      ],
      "text/plain": [
       "             retweet_count  favorite_count  is_retweet  hashtag_count  \\\n",
       "market_date                                                             \n",
       "2016-01-04     2660.326087     6782.043478    0.021739       0.369565   \n",
       "2016-01-05     1311.800000     3935.666667    0.000000       0.200000   \n",
       "2016-01-06     2070.187500     5250.812500    0.000000       0.187500   \n",
       "2016-01-07     2320.153846     4770.153846    0.076923       0.000000   \n",
       "2016-01-08     1755.272727     5410.545455    0.000000       0.181818   \n",
       "\n",
       "             mention_count  word_count  char_count  word_density  \\\n",
       "market_date                                                        \n",
       "2016-01-04        0.847826   25.434783  125.586957      5.041834   \n",
       "2016-01-05        1.933333   23.933333  125.066667      5.315622   \n",
       "2016-01-06        1.812500   22.312500  115.125000      5.171109   \n",
       "2016-01-07        0.615385   24.307692  119.384615      4.932159   \n",
       "2016-01-08        1.272727   21.090909  103.000000      4.857924   \n",
       "\n",
       "             punctuation_freq  upper_case_freq  ...        54        55  \\\n",
       "market_date                                     ...                       \n",
       "2016-01-04           0.264225         0.040537  ... -0.017944  0.104394   \n",
       "2016-01-05           0.369321         0.068486  ...  0.010007  0.120056   \n",
       "2016-01-06           0.328001         0.049176  ...  0.000862  0.108198   \n",
       "2016-01-07           0.196628         0.061658  ...  0.016458  0.062872   \n",
       "2016-01-08           0.233505         0.023726  ...  0.011105  0.133338   \n",
       "\n",
       "                   56        57        58        59        60        61  \\\n",
       "market_date                                                               \n",
       "2016-01-04   0.075825 -0.092878 -0.024292 -0.058247 -0.044973  0.028491   \n",
       "2016-01-05   0.097633 -0.081707 -0.043652 -0.079861 -0.050876 -0.000848   \n",
       "2016-01-06   0.062387 -0.120868 -0.012046 -0.101719 -0.050537  0.028487   \n",
       "2016-01-07   0.096209 -0.116414 -0.040070 -0.039273 -0.037580  0.042244   \n",
       "2016-01-08   0.113586 -0.117101 -0.046171 -0.057523 -0.045804 -0.004404   \n",
       "\n",
       "                   62        63  \n",
       "market_date                      \n",
       "2016-01-04  -0.181183  0.054244  \n",
       "2016-01-05  -0.194857  0.077745  \n",
       "2016-01-06  -0.173961  0.071916  \n",
       "2016-01-07  -0.169883  0.053672  \n",
       "2016-01-08  -0.201545  0.091630  \n",
       "\n",
       "[5 rows x 87 columns]"
      ]
     },
     "execution_count": 163,
     "metadata": {},
     "output_type": "execute_result"
    }
   ],
   "source": [
    "dataset.head()"
   ]
  },
  {
   "cell_type": "code",
   "execution_count": 164,
   "metadata": {},
   "outputs": [
    {
     "data": {
      "text/html": [
       "<div>\n",
       "<style scoped>\n",
       "    .dataframe tbody tr th:only-of-type {\n",
       "        vertical-align: middle;\n",
       "    }\n",
       "\n",
       "    .dataframe tbody tr th {\n",
       "        vertical-align: top;\n",
       "    }\n",
       "\n",
       "    .dataframe thead th {\n",
       "        text-align: right;\n",
       "    }\n",
       "</style>\n",
       "<table border=\"1\" class=\"dataframe\">\n",
       "  <thead>\n",
       "    <tr style=\"text-align: right;\">\n",
       "      <th></th>\n",
       "      <th>retweet_count</th>\n",
       "      <th>favorite_count</th>\n",
       "      <th>is_retweet</th>\n",
       "      <th>hashtag_count</th>\n",
       "      <th>mention_count</th>\n",
       "      <th>word_count</th>\n",
       "      <th>char_count</th>\n",
       "      <th>word_density</th>\n",
       "      <th>punctuation_freq</th>\n",
       "      <th>upper_case_freq</th>\n",
       "      <th>...</th>\n",
       "      <th>54</th>\n",
       "      <th>55</th>\n",
       "      <th>56</th>\n",
       "      <th>57</th>\n",
       "      <th>58</th>\n",
       "      <th>59</th>\n",
       "      <th>60</th>\n",
       "      <th>61</th>\n",
       "      <th>62</th>\n",
       "      <th>63</th>\n",
       "    </tr>\n",
       "    <tr>\n",
       "      <th>market_date</th>\n",
       "      <th></th>\n",
       "      <th></th>\n",
       "      <th></th>\n",
       "      <th></th>\n",
       "      <th></th>\n",
       "      <th></th>\n",
       "      <th></th>\n",
       "      <th></th>\n",
       "      <th></th>\n",
       "      <th></th>\n",
       "      <th></th>\n",
       "      <th></th>\n",
       "      <th></th>\n",
       "      <th></th>\n",
       "      <th></th>\n",
       "      <th></th>\n",
       "      <th></th>\n",
       "      <th></th>\n",
       "      <th></th>\n",
       "      <th></th>\n",
       "      <th></th>\n",
       "    </tr>\n",
       "  </thead>\n",
       "  <tbody>\n",
       "    <tr>\n",
       "      <th>2020-10-01</th>\n",
       "      <td>34830.333333</td>\n",
       "      <td>216241.000000</td>\n",
       "      <td>0.000000</td>\n",
       "      <td>0.333333</td>\n",
       "      <td>0.000000</td>\n",
       "      <td>14.666667</td>\n",
       "      <td>69.333333</td>\n",
       "      <td>4.405556</td>\n",
       "      <td>0.191667</td>\n",
       "      <td>0.250000</td>\n",
       "      <td>...</td>\n",
       "      <td>0.010593</td>\n",
       "      <td>0.130864</td>\n",
       "      <td>0.096210</td>\n",
       "      <td>-0.014320</td>\n",
       "      <td>-0.039816</td>\n",
       "      <td>-0.092404</td>\n",
       "      <td>-0.068976</td>\n",
       "      <td>-0.008147</td>\n",
       "      <td>-0.211419</td>\n",
       "      <td>0.100159</td>\n",
       "    </tr>\n",
       "    <tr>\n",
       "      <th>2020-10-02</th>\n",
       "      <td>23461.477273</td>\n",
       "      <td>58863.386364</td>\n",
       "      <td>0.840909</td>\n",
       "      <td>0.022727</td>\n",
       "      <td>0.295455</td>\n",
       "      <td>19.568182</td>\n",
       "      <td>106.022727</td>\n",
       "      <td>5.392871</td>\n",
       "      <td>0.216006</td>\n",
       "      <td>0.080107</td>\n",
       "      <td>...</td>\n",
       "      <td>0.018224</td>\n",
       "      <td>0.049644</td>\n",
       "      <td>0.090730</td>\n",
       "      <td>-0.114625</td>\n",
       "      <td>-0.010032</td>\n",
       "      <td>-0.056911</td>\n",
       "      <td>-0.057783</td>\n",
       "      <td>0.050584</td>\n",
       "      <td>-0.163385</td>\n",
       "      <td>0.044907</td>\n",
       "    </tr>\n",
       "    <tr>\n",
       "      <th>2020-10-05</th>\n",
       "      <td>52996.437500</td>\n",
       "      <td>296731.781250</td>\n",
       "      <td>0.125000</td>\n",
       "      <td>0.093750</td>\n",
       "      <td>0.156250</td>\n",
       "      <td>20.562500</td>\n",
       "      <td>102.687500</td>\n",
       "      <td>4.813073</td>\n",
       "      <td>0.272551</td>\n",
       "      <td>0.376988</td>\n",
       "      <td>...</td>\n",
       "      <td>-0.000669</td>\n",
       "      <td>0.117264</td>\n",
       "      <td>0.066918</td>\n",
       "      <td>-0.064577</td>\n",
       "      <td>0.000650</td>\n",
       "      <td>-0.080865</td>\n",
       "      <td>-0.050203</td>\n",
       "      <td>0.039510</td>\n",
       "      <td>-0.197192</td>\n",
       "      <td>0.039019</td>\n",
       "    </tr>\n",
       "    <tr>\n",
       "      <th>2020-10-06</th>\n",
       "      <td>32445.666667</td>\n",
       "      <td>165082.857143</td>\n",
       "      <td>0.000000</td>\n",
       "      <td>0.000000</td>\n",
       "      <td>0.238095</td>\n",
       "      <td>38.761905</td>\n",
       "      <td>198.333333</td>\n",
       "      <td>4.953241</td>\n",
       "      <td>0.190124</td>\n",
       "      <td>0.131421</td>\n",
       "      <td>...</td>\n",
       "      <td>0.000649</td>\n",
       "      <td>0.092569</td>\n",
       "      <td>0.095646</td>\n",
       "      <td>-0.085586</td>\n",
       "      <td>-0.023837</td>\n",
       "      <td>-0.054720</td>\n",
       "      <td>-0.044865</td>\n",
       "      <td>0.004891</td>\n",
       "      <td>-0.197438</td>\n",
       "      <td>0.051640</td>\n",
       "    </tr>\n",
       "    <tr>\n",
       "      <th>2020-10-07</th>\n",
       "      <td>23030.730769</td>\n",
       "      <td>49591.557692</td>\n",
       "      <td>0.548077</td>\n",
       "      <td>0.134615</td>\n",
       "      <td>0.192308</td>\n",
       "      <td>23.250000</td>\n",
       "      <td>122.538462</td>\n",
       "      <td>5.212676</td>\n",
       "      <td>0.210228</td>\n",
       "      <td>0.122730</td>\n",
       "      <td>...</td>\n",
       "      <td>0.010200</td>\n",
       "      <td>0.046346</td>\n",
       "      <td>0.075819</td>\n",
       "      <td>-0.122187</td>\n",
       "      <td>-0.018855</td>\n",
       "      <td>-0.052574</td>\n",
       "      <td>-0.062234</td>\n",
       "      <td>0.054490</td>\n",
       "      <td>-0.179098</td>\n",
       "      <td>0.016661</td>\n",
       "    </tr>\n",
       "  </tbody>\n",
       "</table>\n",
       "<p>5 rows × 87 columns</p>\n",
       "</div>"
      ],
      "text/plain": [
       "             retweet_count  favorite_count  is_retweet  hashtag_count  \\\n",
       "market_date                                                             \n",
       "2020-10-01    34830.333333   216241.000000    0.000000       0.333333   \n",
       "2020-10-02    23461.477273    58863.386364    0.840909       0.022727   \n",
       "2020-10-05    52996.437500   296731.781250    0.125000       0.093750   \n",
       "2020-10-06    32445.666667   165082.857143    0.000000       0.000000   \n",
       "2020-10-07    23030.730769    49591.557692    0.548077       0.134615   \n",
       "\n",
       "             mention_count  word_count  char_count  word_density  \\\n",
       "market_date                                                        \n",
       "2020-10-01        0.000000   14.666667   69.333333      4.405556   \n",
       "2020-10-02        0.295455   19.568182  106.022727      5.392871   \n",
       "2020-10-05        0.156250   20.562500  102.687500      4.813073   \n",
       "2020-10-06        0.238095   38.761905  198.333333      4.953241   \n",
       "2020-10-07        0.192308   23.250000  122.538462      5.212676   \n",
       "\n",
       "             punctuation_freq  upper_case_freq  ...        54        55  \\\n",
       "market_date                                     ...                       \n",
       "2020-10-01           0.191667         0.250000  ...  0.010593  0.130864   \n",
       "2020-10-02           0.216006         0.080107  ...  0.018224  0.049644   \n",
       "2020-10-05           0.272551         0.376988  ... -0.000669  0.117264   \n",
       "2020-10-06           0.190124         0.131421  ...  0.000649  0.092569   \n",
       "2020-10-07           0.210228         0.122730  ...  0.010200  0.046346   \n",
       "\n",
       "                   56        57        58        59        60        61  \\\n",
       "market_date                                                               \n",
       "2020-10-01   0.096210 -0.014320 -0.039816 -0.092404 -0.068976 -0.008147   \n",
       "2020-10-02   0.090730 -0.114625 -0.010032 -0.056911 -0.057783  0.050584   \n",
       "2020-10-05   0.066918 -0.064577  0.000650 -0.080865 -0.050203  0.039510   \n",
       "2020-10-06   0.095646 -0.085586 -0.023837 -0.054720 -0.044865  0.004891   \n",
       "2020-10-07   0.075819 -0.122187 -0.018855 -0.052574 -0.062234  0.054490   \n",
       "\n",
       "                   62        63  \n",
       "market_date                      \n",
       "2020-10-01  -0.211419  0.100159  \n",
       "2020-10-02  -0.163385  0.044907  \n",
       "2020-10-05  -0.197192  0.039019  \n",
       "2020-10-06  -0.197438  0.051640  \n",
       "2020-10-07  -0.179098  0.016661  \n",
       "\n",
       "[5 rows x 87 columns]"
      ]
     },
     "execution_count": 164,
     "metadata": {},
     "output_type": "execute_result"
    }
   ],
   "source": [
    "test.head()"
   ]
  },
  {
   "cell_type": "code",
   "execution_count": 121,
   "metadata": {},
   "outputs": [
    {
     "data": {
      "text/plain": [
       "Index(['retweet_count', 'favorite_count', 'is_retweet', 'hashtag_count',\n",
       "       'mention_count', 'word_count', 'char_count', 'word_density',\n",
       "       'punctuation_freq', 'upper_case_freq', '^GSPC', '^IXIC', 'VGT',\n",
       "       'topic1', 'topic2', 'topic3', 'topic4', 'topic5', 'topic6', 'topic7',\n",
       "       'topic8', 'topic9', 'topic10', '0', '1', '2', '3', '4', '5', '6', '7',\n",
       "       '8', '9', '10', '11', '12', '13', '14', '15', '16', '17', '18', '19',\n",
       "       '20', '21', '22', '23', '24', '25', '26', '27', '28', '29', '30', '31',\n",
       "       '32', '33', '34', '35', '36', '37', '38', '39', '40', '41', '42', '43',\n",
       "       '44', '45', '46', '47', '48', '49', '50', '51', '52', '53', '54', '55',\n",
       "       '56', '57', '58', '59', '60', '61', '62', '63'],\n",
       "      dtype='object')"
      ]
     },
     "execution_count": 121,
     "metadata": {},
     "output_type": "execute_result"
    }
   ],
   "source": [
    "dataset.columns"
   ]
  },
  {
   "cell_type": "code",
   "execution_count": 165,
   "metadata": {},
   "outputs": [
    {
     "data": {
      "text/html": [
       "<div>\n",
       "<style scoped>\n",
       "    .dataframe tbody tr th:only-of-type {\n",
       "        vertical-align: middle;\n",
       "    }\n",
       "\n",
       "    .dataframe tbody tr th {\n",
       "        vertical-align: top;\n",
       "    }\n",
       "\n",
       "    .dataframe thead th {\n",
       "        text-align: right;\n",
       "    }\n",
       "</style>\n",
       "<table border=\"1\" class=\"dataframe\">\n",
       "  <thead>\n",
       "    <tr style=\"text-align: right;\">\n",
       "      <th></th>\n",
       "      <th>retweet_count</th>\n",
       "      <th>favorite_count</th>\n",
       "      <th>is_retweet</th>\n",
       "      <th>hashtag_count</th>\n",
       "      <th>mention_count</th>\n",
       "      <th>word_count</th>\n",
       "      <th>char_count</th>\n",
       "      <th>word_density</th>\n",
       "      <th>punctuation_freq</th>\n",
       "      <th>upper_case_freq</th>\n",
       "      <th>...</th>\n",
       "      <th>57</th>\n",
       "      <th>58</th>\n",
       "      <th>59</th>\n",
       "      <th>60</th>\n",
       "      <th>61</th>\n",
       "      <th>62</th>\n",
       "      <th>63</th>\n",
       "      <th>^GSPC</th>\n",
       "      <th>^IXIC</th>\n",
       "      <th>VGT</th>\n",
       "    </tr>\n",
       "    <tr>\n",
       "      <th>market_date</th>\n",
       "      <th></th>\n",
       "      <th></th>\n",
       "      <th></th>\n",
       "      <th></th>\n",
       "      <th></th>\n",
       "      <th></th>\n",
       "      <th></th>\n",
       "      <th></th>\n",
       "      <th></th>\n",
       "      <th></th>\n",
       "      <th></th>\n",
       "      <th></th>\n",
       "      <th></th>\n",
       "      <th></th>\n",
       "      <th></th>\n",
       "      <th></th>\n",
       "      <th></th>\n",
       "      <th></th>\n",
       "      <th></th>\n",
       "      <th></th>\n",
       "      <th></th>\n",
       "    </tr>\n",
       "  </thead>\n",
       "  <tbody>\n",
       "    <tr>\n",
       "      <th>2016-01-04</th>\n",
       "      <td>2660.326087</td>\n",
       "      <td>6782.043478</td>\n",
       "      <td>0.021739</td>\n",
       "      <td>0.369565</td>\n",
       "      <td>0.847826</td>\n",
       "      <td>25.434783</td>\n",
       "      <td>125.586957</td>\n",
       "      <td>5.041834</td>\n",
       "      <td>0.264225</td>\n",
       "      <td>0.040537</td>\n",
       "      <td>...</td>\n",
       "      <td>-0.092878</td>\n",
       "      <td>-0.024292</td>\n",
       "      <td>-0.058247</td>\n",
       "      <td>-0.044973</td>\n",
       "      <td>0.028491</td>\n",
       "      <td>-0.181183</td>\n",
       "      <td>0.054244</td>\n",
       "      <td>2012.660034</td>\n",
       "      <td>4903.089844</td>\n",
       "      <td>100.618843</td>\n",
       "    </tr>\n",
       "    <tr>\n",
       "      <th>2016-01-05</th>\n",
       "      <td>1311.800000</td>\n",
       "      <td>3935.666667</td>\n",
       "      <td>0.000000</td>\n",
       "      <td>0.200000</td>\n",
       "      <td>1.933333</td>\n",
       "      <td>23.933333</td>\n",
       "      <td>125.066667</td>\n",
       "      <td>5.315622</td>\n",
       "      <td>0.369321</td>\n",
       "      <td>0.068486</td>\n",
       "      <td>...</td>\n",
       "      <td>-0.081707</td>\n",
       "      <td>-0.043652</td>\n",
       "      <td>-0.079861</td>\n",
       "      <td>-0.050876</td>\n",
       "      <td>-0.000848</td>\n",
       "      <td>-0.194857</td>\n",
       "      <td>0.077745</td>\n",
       "      <td>2016.709961</td>\n",
       "      <td>4891.430176</td>\n",
       "      <td>100.137505</td>\n",
       "    </tr>\n",
       "    <tr>\n",
       "      <th>2016-01-06</th>\n",
       "      <td>2070.187500</td>\n",
       "      <td>5250.812500</td>\n",
       "      <td>0.000000</td>\n",
       "      <td>0.187500</td>\n",
       "      <td>1.812500</td>\n",
       "      <td>22.312500</td>\n",
       "      <td>115.125000</td>\n",
       "      <td>5.171109</td>\n",
       "      <td>0.328001</td>\n",
       "      <td>0.049176</td>\n",
       "      <td>...</td>\n",
       "      <td>-0.120868</td>\n",
       "      <td>-0.012046</td>\n",
       "      <td>-0.101719</td>\n",
       "      <td>-0.050537</td>\n",
       "      <td>0.028487</td>\n",
       "      <td>-0.173961</td>\n",
       "      <td>0.071916</td>\n",
       "      <td>1990.260010</td>\n",
       "      <td>4835.759766</td>\n",
       "      <td>98.778427</td>\n",
       "    </tr>\n",
       "    <tr>\n",
       "      <th>2016-01-07</th>\n",
       "      <td>2320.153846</td>\n",
       "      <td>4770.153846</td>\n",
       "      <td>0.076923</td>\n",
       "      <td>0.000000</td>\n",
       "      <td>0.615385</td>\n",
       "      <td>24.307692</td>\n",
       "      <td>119.384615</td>\n",
       "      <td>4.932159</td>\n",
       "      <td>0.196628</td>\n",
       "      <td>0.061658</td>\n",
       "      <td>...</td>\n",
       "      <td>-0.116414</td>\n",
       "      <td>-0.040070</td>\n",
       "      <td>-0.039273</td>\n",
       "      <td>-0.037580</td>\n",
       "      <td>0.042244</td>\n",
       "      <td>-0.169883</td>\n",
       "      <td>0.053672</td>\n",
       "      <td>1943.089966</td>\n",
       "      <td>4689.430176</td>\n",
       "      <td>95.597809</td>\n",
       "    </tr>\n",
       "    <tr>\n",
       "      <th>2016-01-08</th>\n",
       "      <td>1755.272727</td>\n",
       "      <td>5410.545455</td>\n",
       "      <td>0.000000</td>\n",
       "      <td>0.181818</td>\n",
       "      <td>1.272727</td>\n",
       "      <td>21.090909</td>\n",
       "      <td>103.000000</td>\n",
       "      <td>4.857924</td>\n",
       "      <td>0.233505</td>\n",
       "      <td>0.023726</td>\n",
       "      <td>...</td>\n",
       "      <td>-0.117101</td>\n",
       "      <td>-0.046171</td>\n",
       "      <td>-0.057523</td>\n",
       "      <td>-0.045804</td>\n",
       "      <td>-0.004404</td>\n",
       "      <td>-0.201545</td>\n",
       "      <td>0.091630</td>\n",
       "      <td>1922.030029</td>\n",
       "      <td>4643.629883</td>\n",
       "      <td>94.776695</td>\n",
       "    </tr>\n",
       "  </tbody>\n",
       "</table>\n",
       "<p>5 rows × 87 columns</p>\n",
       "</div>"
      ],
      "text/plain": [
       "             retweet_count  favorite_count  is_retweet  hashtag_count  \\\n",
       "market_date                                                             \n",
       "2016-01-04     2660.326087     6782.043478    0.021739       0.369565   \n",
       "2016-01-05     1311.800000     3935.666667    0.000000       0.200000   \n",
       "2016-01-06     2070.187500     5250.812500    0.000000       0.187500   \n",
       "2016-01-07     2320.153846     4770.153846    0.076923       0.000000   \n",
       "2016-01-08     1755.272727     5410.545455    0.000000       0.181818   \n",
       "\n",
       "             mention_count  word_count  char_count  word_density  \\\n",
       "market_date                                                        \n",
       "2016-01-04        0.847826   25.434783  125.586957      5.041834   \n",
       "2016-01-05        1.933333   23.933333  125.066667      5.315622   \n",
       "2016-01-06        1.812500   22.312500  115.125000      5.171109   \n",
       "2016-01-07        0.615385   24.307692  119.384615      4.932159   \n",
       "2016-01-08        1.272727   21.090909  103.000000      4.857924   \n",
       "\n",
       "             punctuation_freq  upper_case_freq  ...        57        58  \\\n",
       "market_date                                     ...                       \n",
       "2016-01-04           0.264225         0.040537  ... -0.092878 -0.024292   \n",
       "2016-01-05           0.369321         0.068486  ... -0.081707 -0.043652   \n",
       "2016-01-06           0.328001         0.049176  ... -0.120868 -0.012046   \n",
       "2016-01-07           0.196628         0.061658  ... -0.116414 -0.040070   \n",
       "2016-01-08           0.233505         0.023726  ... -0.117101 -0.046171   \n",
       "\n",
       "                   59        60        61        62        63        ^GSPC  \\\n",
       "market_date                                                                  \n",
       "2016-01-04  -0.058247 -0.044973  0.028491 -0.181183  0.054244  2012.660034   \n",
       "2016-01-05  -0.079861 -0.050876 -0.000848 -0.194857  0.077745  2016.709961   \n",
       "2016-01-06  -0.101719 -0.050537  0.028487 -0.173961  0.071916  1990.260010   \n",
       "2016-01-07  -0.039273 -0.037580  0.042244 -0.169883  0.053672  1943.089966   \n",
       "2016-01-08  -0.057523 -0.045804 -0.004404 -0.201545  0.091630  1922.030029   \n",
       "\n",
       "                   ^IXIC         VGT  \n",
       "market_date                           \n",
       "2016-01-04   4903.089844  100.618843  \n",
       "2016-01-05   4891.430176  100.137505  \n",
       "2016-01-06   4835.759766   98.778427  \n",
       "2016-01-07   4689.430176   95.597809  \n",
       "2016-01-08   4643.629883   94.776695  \n",
       "\n",
       "[5 rows x 87 columns]"
      ]
     },
     "execution_count": 165,
     "metadata": {},
     "output_type": "execute_result"
    }
   ],
   "source": [
    "#Stock market prices\n",
    "y = dataset.iloc[:,10:13]\n",
    "y_test = test.iloc[:,10:13]\n",
    "\n",
    "#Rearrange so stock market prices are at the end\n",
    "dataset = dataset.iloc[:,np.r_[:10,13:len(dataset.columns)]]\n",
    "dataset = pd.concat([dataset,y],axis=1)\n",
    "\n",
    "test = test.iloc[:,np.r_[:10,13:len(test.columns)]]\n",
    "test = pd.concat([test,y_test],axis=1)\n",
    "dataset.head()"
   ]
  },
  {
   "cell_type": "markdown",
   "metadata": {},
   "source": [
    "### train-test split"
   ]
  },
  {
   "cell_type": "code",
   "execution_count": 123,
   "metadata": {
    "ExecuteTime": {
     "end_time": "2020-11-14T05:31:18.112362Z",
     "start_time": "2020-11-14T05:31:18.107733Z"
    }
   },
   "outputs": [],
   "source": [
    "train_dataset = dataset.sample(frac=0.75, random_state=0)\n",
    "test_dataset = dataset.drop(train_dataset.index)"
   ]
  },
  {
   "cell_type": "markdown",
   "metadata": {},
   "source": [
    "#### predict GSPC"
   ]
  },
  {
   "cell_type": "code",
   "execution_count": 125,
   "metadata": {
    "ExecuteTime": {
     "end_time": "2020-11-14T05:31:18.119722Z",
     "start_time": "2020-11-14T05:31:18.113943Z"
    }
   },
   "outputs": [],
   "source": [
    "train_feature = train_dataset.iloc[:,:-3].copy()\n",
    "test_feature = test_dataset.iloc[:,:-3].copy()\n",
    "\n",
    "train_gspc = train_dataset['^GSPC']\n",
    "test_gspc = test_dataset['^GSPC']"
   ]
  },
  {
   "cell_type": "code",
   "execution_count": 126,
   "metadata": {},
   "outputs": [
    {
     "data": {
      "text/html": [
       "<div>\n",
       "<style scoped>\n",
       "    .dataframe tbody tr th:only-of-type {\n",
       "        vertical-align: middle;\n",
       "    }\n",
       "\n",
       "    .dataframe tbody tr th {\n",
       "        vertical-align: top;\n",
       "    }\n",
       "\n",
       "    .dataframe thead th {\n",
       "        text-align: right;\n",
       "    }\n",
       "</style>\n",
       "<table border=\"1\" class=\"dataframe\">\n",
       "  <thead>\n",
       "    <tr style=\"text-align: right;\">\n",
       "      <th></th>\n",
       "      <th>retweet_count</th>\n",
       "      <th>favorite_count</th>\n",
       "      <th>is_retweet</th>\n",
       "      <th>hashtag_count</th>\n",
       "      <th>mention_count</th>\n",
       "      <th>word_count</th>\n",
       "      <th>char_count</th>\n",
       "      <th>word_density</th>\n",
       "      <th>punctuation_freq</th>\n",
       "      <th>upper_case_freq</th>\n",
       "      <th>...</th>\n",
       "      <th>54</th>\n",
       "      <th>55</th>\n",
       "      <th>56</th>\n",
       "      <th>57</th>\n",
       "      <th>58</th>\n",
       "      <th>59</th>\n",
       "      <th>60</th>\n",
       "      <th>61</th>\n",
       "      <th>62</th>\n",
       "      <th>63</th>\n",
       "    </tr>\n",
       "    <tr>\n",
       "      <th>market_date</th>\n",
       "      <th></th>\n",
       "      <th></th>\n",
       "      <th></th>\n",
       "      <th></th>\n",
       "      <th></th>\n",
       "      <th></th>\n",
       "      <th></th>\n",
       "      <th></th>\n",
       "      <th></th>\n",
       "      <th></th>\n",
       "      <th></th>\n",
       "      <th></th>\n",
       "      <th></th>\n",
       "      <th></th>\n",
       "      <th></th>\n",
       "      <th></th>\n",
       "      <th></th>\n",
       "      <th></th>\n",
       "      <th></th>\n",
       "      <th></th>\n",
       "      <th></th>\n",
       "    </tr>\n",
       "  </thead>\n",
       "  <tbody>\n",
       "    <tr>\n",
       "      <th>2019-05-10</th>\n",
       "      <td>10719.357143</td>\n",
       "      <td>37912.190476</td>\n",
       "      <td>0.000000</td>\n",
       "      <td>0.000000</td>\n",
       "      <td>0.190476</td>\n",
       "      <td>37.261905</td>\n",
       "      <td>195.261905</td>\n",
       "      <td>5.277689</td>\n",
       "      <td>0.174045</td>\n",
       "      <td>0.047063</td>\n",
       "      <td>...</td>\n",
       "      <td>0.004930</td>\n",
       "      <td>0.060488</td>\n",
       "      <td>0.061357</td>\n",
       "      <td>-0.120131</td>\n",
       "      <td>-0.023096</td>\n",
       "      <td>-0.042284</td>\n",
       "      <td>-0.058552</td>\n",
       "      <td>0.031299</td>\n",
       "      <td>-0.177001</td>\n",
       "      <td>0.058784</td>\n",
       "    </tr>\n",
       "    <tr>\n",
       "      <th>2018-04-19</th>\n",
       "      <td>13649.900000</td>\n",
       "      <td>58518.700000</td>\n",
       "      <td>0.100000</td>\n",
       "      <td>0.300000</td>\n",
       "      <td>1.000000</td>\n",
       "      <td>30.400000</td>\n",
       "      <td>171.800000</td>\n",
       "      <td>5.730311</td>\n",
       "      <td>0.193687</td>\n",
       "      <td>0.049240</td>\n",
       "      <td>...</td>\n",
       "      <td>0.031333</td>\n",
       "      <td>0.138005</td>\n",
       "      <td>0.065698</td>\n",
       "      <td>-0.140691</td>\n",
       "      <td>0.032219</td>\n",
       "      <td>-0.098025</td>\n",
       "      <td>-0.068693</td>\n",
       "      <td>0.017239</td>\n",
       "      <td>-0.133172</td>\n",
       "      <td>0.028903</td>\n",
       "    </tr>\n",
       "    <tr>\n",
       "      <th>2019-10-25</th>\n",
       "      <td>14697.100000</td>\n",
       "      <td>34956.750000</td>\n",
       "      <td>0.000000</td>\n",
       "      <td>0.050000</td>\n",
       "      <td>0.500000</td>\n",
       "      <td>34.650000</td>\n",
       "      <td>183.500000</td>\n",
       "      <td>5.421858</td>\n",
       "      <td>0.186293</td>\n",
       "      <td>0.048752</td>\n",
       "      <td>...</td>\n",
       "      <td>0.000431</td>\n",
       "      <td>0.043647</td>\n",
       "      <td>0.092263</td>\n",
       "      <td>-0.136549</td>\n",
       "      <td>-0.005516</td>\n",
       "      <td>-0.065343</td>\n",
       "      <td>-0.080538</td>\n",
       "      <td>0.048815</td>\n",
       "      <td>-0.181037</td>\n",
       "      <td>-0.001925</td>\n",
       "    </tr>\n",
       "    <tr>\n",
       "      <th>2019-09-17</th>\n",
       "      <td>12048.863636</td>\n",
       "      <td>39756.863636</td>\n",
       "      <td>0.000000</td>\n",
       "      <td>0.227273</td>\n",
       "      <td>0.409091</td>\n",
       "      <td>25.909091</td>\n",
       "      <td>136.090909</td>\n",
       "      <td>5.423615</td>\n",
       "      <td>0.182792</td>\n",
       "      <td>0.072996</td>\n",
       "      <td>...</td>\n",
       "      <td>0.055528</td>\n",
       "      <td>0.098555</td>\n",
       "      <td>0.049272</td>\n",
       "      <td>-0.087630</td>\n",
       "      <td>0.010655</td>\n",
       "      <td>-0.089670</td>\n",
       "      <td>-0.053215</td>\n",
       "      <td>0.021621</td>\n",
       "      <td>-0.179488</td>\n",
       "      <td>0.042504</td>\n",
       "    </tr>\n",
       "    <tr>\n",
       "      <th>2017-06-16</th>\n",
       "      <td>24525.428571</td>\n",
       "      <td>101453.571429</td>\n",
       "      <td>0.000000</td>\n",
       "      <td>0.428571</td>\n",
       "      <td>0.428571</td>\n",
       "      <td>20.285714</td>\n",
       "      <td>102.571429</td>\n",
       "      <td>6.027193</td>\n",
       "      <td>0.255552</td>\n",
       "      <td>0.062443</td>\n",
       "      <td>...</td>\n",
       "      <td>0.043311</td>\n",
       "      <td>0.079596</td>\n",
       "      <td>0.047680</td>\n",
       "      <td>-0.032961</td>\n",
       "      <td>-0.029269</td>\n",
       "      <td>-0.013370</td>\n",
       "      <td>-0.018417</td>\n",
       "      <td>0.005554</td>\n",
       "      <td>-0.145150</td>\n",
       "      <td>0.008310</td>\n",
       "    </tr>\n",
       "    <tr>\n",
       "      <th>...</th>\n",
       "      <td>...</td>\n",
       "      <td>...</td>\n",
       "      <td>...</td>\n",
       "      <td>...</td>\n",
       "      <td>...</td>\n",
       "      <td>...</td>\n",
       "      <td>...</td>\n",
       "      <td>...</td>\n",
       "      <td>...</td>\n",
       "      <td>...</td>\n",
       "      <td>...</td>\n",
       "      <td>...</td>\n",
       "      <td>...</td>\n",
       "      <td>...</td>\n",
       "      <td>...</td>\n",
       "      <td>...</td>\n",
       "      <td>...</td>\n",
       "      <td>...</td>\n",
       "      <td>...</td>\n",
       "      <td>...</td>\n",
       "      <td>...</td>\n",
       "    </tr>\n",
       "    <tr>\n",
       "      <th>2016-08-26</th>\n",
       "      <td>8950.421053</td>\n",
       "      <td>22260.210526</td>\n",
       "      <td>0.000000</td>\n",
       "      <td>0.157895</td>\n",
       "      <td>0.368421</td>\n",
       "      <td>20.315789</td>\n",
       "      <td>113.315789</td>\n",
       "      <td>5.669092</td>\n",
       "      <td>0.240888</td>\n",
       "      <td>0.062383</td>\n",
       "      <td>...</td>\n",
       "      <td>-0.012737</td>\n",
       "      <td>0.074143</td>\n",
       "      <td>0.082612</td>\n",
       "      <td>-0.106673</td>\n",
       "      <td>-0.013199</td>\n",
       "      <td>-0.071373</td>\n",
       "      <td>-0.040022</td>\n",
       "      <td>0.079723</td>\n",
       "      <td>-0.182173</td>\n",
       "      <td>0.051119</td>\n",
       "    </tr>\n",
       "    <tr>\n",
       "      <th>2016-06-06</th>\n",
       "      <td>6964.772727</td>\n",
       "      <td>18037.454545</td>\n",
       "      <td>0.090909</td>\n",
       "      <td>0.363636</td>\n",
       "      <td>0.363636</td>\n",
       "      <td>21.272727</td>\n",
       "      <td>108.863636</td>\n",
       "      <td>5.167805</td>\n",
       "      <td>0.183602</td>\n",
       "      <td>0.045413</td>\n",
       "      <td>...</td>\n",
       "      <td>0.005322</td>\n",
       "      <td>0.085896</td>\n",
       "      <td>0.082546</td>\n",
       "      <td>-0.098326</td>\n",
       "      <td>-0.027543</td>\n",
       "      <td>-0.056414</td>\n",
       "      <td>-0.026903</td>\n",
       "      <td>0.005200</td>\n",
       "      <td>-0.193717</td>\n",
       "      <td>0.070208</td>\n",
       "    </tr>\n",
       "    <tr>\n",
       "      <th>2016-01-27</th>\n",
       "      <td>4053.444444</td>\n",
       "      <td>11585.444444</td>\n",
       "      <td>0.000000</td>\n",
       "      <td>0.555556</td>\n",
       "      <td>0.222222</td>\n",
       "      <td>18.000000</td>\n",
       "      <td>95.666667</td>\n",
       "      <td>5.580489</td>\n",
       "      <td>0.248560</td>\n",
       "      <td>0.042008</td>\n",
       "      <td>...</td>\n",
       "      <td>0.039942</td>\n",
       "      <td>0.082271</td>\n",
       "      <td>0.090642</td>\n",
       "      <td>-0.081841</td>\n",
       "      <td>-0.049391</td>\n",
       "      <td>-0.063068</td>\n",
       "      <td>-0.042646</td>\n",
       "      <td>0.017201</td>\n",
       "      <td>-0.173208</td>\n",
       "      <td>0.044521</td>\n",
       "    </tr>\n",
       "    <tr>\n",
       "      <th>2018-05-01</th>\n",
       "      <td>19403.272727</td>\n",
       "      <td>88506.181818</td>\n",
       "      <td>0.000000</td>\n",
       "      <td>0.000000</td>\n",
       "      <td>0.545455</td>\n",
       "      <td>33.818182</td>\n",
       "      <td>189.363636</td>\n",
       "      <td>5.875284</td>\n",
       "      <td>0.181160</td>\n",
       "      <td>0.010012</td>\n",
       "      <td>...</td>\n",
       "      <td>0.018426</td>\n",
       "      <td>0.116686</td>\n",
       "      <td>0.073648</td>\n",
       "      <td>-0.115739</td>\n",
       "      <td>-0.014144</td>\n",
       "      <td>-0.082035</td>\n",
       "      <td>-0.045655</td>\n",
       "      <td>0.014576</td>\n",
       "      <td>-0.180453</td>\n",
       "      <td>0.040802</td>\n",
       "    </tr>\n",
       "    <tr>\n",
       "      <th>2018-06-29</th>\n",
       "      <td>16051.000000</td>\n",
       "      <td>79650.000000</td>\n",
       "      <td>0.000000</td>\n",
       "      <td>0.333333</td>\n",
       "      <td>0.000000</td>\n",
       "      <td>35.333333</td>\n",
       "      <td>209.000000</td>\n",
       "      <td>6.051515</td>\n",
       "      <td>0.086364</td>\n",
       "      <td>0.061364</td>\n",
       "      <td>...</td>\n",
       "      <td>0.024071</td>\n",
       "      <td>0.068409</td>\n",
       "      <td>0.017108</td>\n",
       "      <td>-0.116151</td>\n",
       "      <td>0.086636</td>\n",
       "      <td>-0.132028</td>\n",
       "      <td>-0.046192</td>\n",
       "      <td>0.098952</td>\n",
       "      <td>-0.119645</td>\n",
       "      <td>0.040590</td>\n",
       "    </tr>\n",
       "  </tbody>\n",
       "</table>\n",
       "<p>890 rows × 84 columns</p>\n",
       "</div>"
      ],
      "text/plain": [
       "             retweet_count  favorite_count  is_retweet  hashtag_count  \\\n",
       "market_date                                                             \n",
       "2019-05-10    10719.357143    37912.190476    0.000000       0.000000   \n",
       "2018-04-19    13649.900000    58518.700000    0.100000       0.300000   \n",
       "2019-10-25    14697.100000    34956.750000    0.000000       0.050000   \n",
       "2019-09-17    12048.863636    39756.863636    0.000000       0.227273   \n",
       "2017-06-16    24525.428571   101453.571429    0.000000       0.428571   \n",
       "...                    ...             ...         ...            ...   \n",
       "2016-08-26     8950.421053    22260.210526    0.000000       0.157895   \n",
       "2016-06-06     6964.772727    18037.454545    0.090909       0.363636   \n",
       "2016-01-27     4053.444444    11585.444444    0.000000       0.555556   \n",
       "2018-05-01    19403.272727    88506.181818    0.000000       0.000000   \n",
       "2018-06-29    16051.000000    79650.000000    0.000000       0.333333   \n",
       "\n",
       "             mention_count  word_count  char_count  word_density  \\\n",
       "market_date                                                        \n",
       "2019-05-10        0.190476   37.261905  195.261905      5.277689   \n",
       "2018-04-19        1.000000   30.400000  171.800000      5.730311   \n",
       "2019-10-25        0.500000   34.650000  183.500000      5.421858   \n",
       "2019-09-17        0.409091   25.909091  136.090909      5.423615   \n",
       "2017-06-16        0.428571   20.285714  102.571429      6.027193   \n",
       "...                    ...         ...         ...           ...   \n",
       "2016-08-26        0.368421   20.315789  113.315789      5.669092   \n",
       "2016-06-06        0.363636   21.272727  108.863636      5.167805   \n",
       "2016-01-27        0.222222   18.000000   95.666667      5.580489   \n",
       "2018-05-01        0.545455   33.818182  189.363636      5.875284   \n",
       "2018-06-29        0.000000   35.333333  209.000000      6.051515   \n",
       "\n",
       "             punctuation_freq  upper_case_freq  ...        54        55  \\\n",
       "market_date                                     ...                       \n",
       "2019-05-10           0.174045         0.047063  ...  0.004930  0.060488   \n",
       "2018-04-19           0.193687         0.049240  ...  0.031333  0.138005   \n",
       "2019-10-25           0.186293         0.048752  ...  0.000431  0.043647   \n",
       "2019-09-17           0.182792         0.072996  ...  0.055528  0.098555   \n",
       "2017-06-16           0.255552         0.062443  ...  0.043311  0.079596   \n",
       "...                       ...              ...  ...       ...       ...   \n",
       "2016-08-26           0.240888         0.062383  ... -0.012737  0.074143   \n",
       "2016-06-06           0.183602         0.045413  ...  0.005322  0.085896   \n",
       "2016-01-27           0.248560         0.042008  ...  0.039942  0.082271   \n",
       "2018-05-01           0.181160         0.010012  ...  0.018426  0.116686   \n",
       "2018-06-29           0.086364         0.061364  ...  0.024071  0.068409   \n",
       "\n",
       "                   56        57        58        59        60        61  \\\n",
       "market_date                                                               \n",
       "2019-05-10   0.061357 -0.120131 -0.023096 -0.042284 -0.058552  0.031299   \n",
       "2018-04-19   0.065698 -0.140691  0.032219 -0.098025 -0.068693  0.017239   \n",
       "2019-10-25   0.092263 -0.136549 -0.005516 -0.065343 -0.080538  0.048815   \n",
       "2019-09-17   0.049272 -0.087630  0.010655 -0.089670 -0.053215  0.021621   \n",
       "2017-06-16   0.047680 -0.032961 -0.029269 -0.013370 -0.018417  0.005554   \n",
       "...               ...       ...       ...       ...       ...       ...   \n",
       "2016-08-26   0.082612 -0.106673 -0.013199 -0.071373 -0.040022  0.079723   \n",
       "2016-06-06   0.082546 -0.098326 -0.027543 -0.056414 -0.026903  0.005200   \n",
       "2016-01-27   0.090642 -0.081841 -0.049391 -0.063068 -0.042646  0.017201   \n",
       "2018-05-01   0.073648 -0.115739 -0.014144 -0.082035 -0.045655  0.014576   \n",
       "2018-06-29   0.017108 -0.116151  0.086636 -0.132028 -0.046192  0.098952   \n",
       "\n",
       "                   62        63  \n",
       "market_date                      \n",
       "2019-05-10  -0.177001  0.058784  \n",
       "2018-04-19  -0.133172  0.028903  \n",
       "2019-10-25  -0.181037 -0.001925  \n",
       "2019-09-17  -0.179488  0.042504  \n",
       "2017-06-16  -0.145150  0.008310  \n",
       "...               ...       ...  \n",
       "2016-08-26  -0.182173  0.051119  \n",
       "2016-06-06  -0.193717  0.070208  \n",
       "2016-01-27  -0.173208  0.044521  \n",
       "2018-05-01  -0.180453  0.040802  \n",
       "2018-06-29  -0.119645  0.040590  \n",
       "\n",
       "[890 rows x 84 columns]"
      ]
     },
     "execution_count": 126,
     "metadata": {},
     "output_type": "execute_result"
    }
   ],
   "source": [
    "train_feature"
   ]
  },
  {
   "cell_type": "code",
   "execution_count": 129,
   "metadata": {
    "ExecuteTime": {
     "end_time": "2020-11-14T05:31:18.132624Z",
     "start_time": "2020-11-14T05:31:18.122625Z"
    }
   },
   "outputs": [],
   "source": [
    "# normalise\n",
    "normalizer = preprocessing.Normalization(input_shape=[84,])\n",
    "normalizer.adapt(np.array(train_feature))"
   ]
  },
  {
   "cell_type": "code",
   "execution_count": 211,
   "metadata": {
    "ExecuteTime": {
     "end_time": "2020-11-14T05:31:18.180348Z",
     "start_time": "2020-11-14T05:31:18.136178Z"
    }
   },
   "outputs": [
    {
     "name": "stdout",
     "output_type": "stream",
     "text": [
      "Model: \"sequential_9\"\n",
      "_________________________________________________________________\n",
      "Layer (type)                 Output Shape              Param #   \n",
      "=================================================================\n",
      "normalization_2 (Normalizati (None, 84)                169       \n",
      "_________________________________________________________________\n",
      "dense_51 (Dense)             (None, 64)                5440      \n",
      "_________________________________________________________________\n",
      "dense_52 (Dense)             (None, 64)                4160      \n",
      "_________________________________________________________________\n",
      "dense_53 (Dense)             (None, 1)                 65        \n",
      "=================================================================\n",
      "Total params: 9,834\n",
      "Trainable params: 9,665\n",
      "Non-trainable params: 169\n",
      "_________________________________________________________________\n"
     ]
    }
   ],
   "source": [
    "stopper = tf.keras.callbacks.EarlyStopping(\n",
    "    monitor=\"val_loss\",\n",
    "    min_delta=0,\n",
    "    patience=10,\n",
    "    verbose=0,\n",
    "    mode=\"min\",\n",
    "    baseline=None,\n",
    "    restore_best_weights=False,\n",
    "  )\n",
    "# create model\n",
    "def build_and_compile_model(norm):\n",
    "    model = keras.Sequential([\n",
    "      norm,\n",
    "      layers.Dense(64, activation='relu'),\n",
    "      layers.Dense(64, activation='relu'),\n",
    "      layers.Dense(1)\n",
    "  ])\n",
    "\n",
    "    model.compile(loss='mean_absolute_error',\n",
    "                optimizer=tf.keras.optimizers.Adam(0.001))\n",
    "    return model\n",
    "\n",
    "dnn_model = build_and_compile_model(normalizer)\n",
    "dnn_model.summary()"
   ]
  },
  {
   "cell_type": "code",
   "execution_count": 213,
   "metadata": {
    "ExecuteTime": {
     "end_time": "2020-11-14T05:31:21.863577Z",
     "start_time": "2020-11-14T05:31:18.182295Z"
    }
   },
   "outputs": [],
   "source": [
    "history = dnn_model.fit(\n",
    "    train_feature, train_gspc,\n",
    "    validation_split=0.2,\n",
    "    verbose=0, epochs=400,\n",
    "    callbacks=[stopper])"
   ]
  },
  {
   "cell_type": "code",
   "execution_count": 214,
   "metadata": {
    "ExecuteTime": {
     "end_time": "2020-11-14T05:31:21.868244Z",
     "start_time": "2020-11-14T05:31:21.864931Z"
    }
   },
   "outputs": [],
   "source": [
    "def plot_loss(history):\n",
    "    plt.plot(history.history['loss'], label='loss')\n",
    "    plt.plot(history.history['val_loss'], label='val_loss')\n",
    "    plt.ylim([0, 2000])\n",
    "    plt.xlabel('Epoch')\n",
    "    plt.ylabel('Error')\n",
    "    plt.legend()\n",
    "    plt.grid(True)"
   ]
  },
  {
   "cell_type": "code",
   "execution_count": 215,
   "metadata": {
    "ExecuteTime": {
     "end_time": "2020-11-14T05:31:21.990136Z",
     "start_time": "2020-11-14T05:31:21.869671Z"
    }
   },
   "outputs": [
    {
     "data": {
      "image/png": "[encoded data removed]",
      "text/plain": [
       "<Figure size 432x288 with 1 Axes>"
      ]
     },
     "metadata": {
      "needs_background": "light"
     },
     "output_type": "display_data"
    }
   ],
   "source": [
    "plot_loss(history)"
   ]
  },
  {
   "cell_type": "code",
   "execution_count": 216,
   "metadata": {
    "ExecuteTime": {
     "end_time": "2020-11-14T05:31:22.065406Z",
     "start_time": "2020-11-14T05:31:21.991866Z"
    }
   },
   "outputs": [
    {
     "data": {
      "text/plain": [
       "9.630543774275448"
      ]
     },
     "execution_count": 216,
     "metadata": {},
     "output_type": "execute_result"
    }
   ],
   "source": [
    "# retrieve the MAPE on the test set\n",
    "\n",
    "def percentage_error(actual, predicted):\n",
    "    res = np.empty(actual.shape)\n",
    "    for j in range(actual.shape[0]):\n",
    "        if actual[j] != 0:\n",
    "            res[j] = (actual[j] - predicted[j]) / actual[j]\n",
    "        else:\n",
    "            res[j] = predicted[j] / np.mean(actual)\n",
    "    return res\n",
    "\n",
    "def mean_absolute_percentage_error(y_true, y_pred): \n",
    "    return np.mean(np.abs(percentage_error(np.asarray(y_true), np.asarray(y_pred)))) * 100\n",
    "\n",
    "mean_absolute_percentage_error(test_gspc, dnn_model.predict(test_feature)) #MAPE"
   ]
  },
  {
   "cell_type": "code",
   "execution_count": 217,
   "metadata": {
    "ExecuteTime": {
     "end_time": "2020-11-14T05:31:22.107198Z",
     "start_time": "2020-11-14T05:31:22.067358Z"
    }
   },
   "outputs": [
    {
     "data": {
      "text/plain": [
       "367.7301467354653"
      ]
     },
     "execution_count": 217,
     "metadata": {},
     "output_type": "execute_result"
    }
   ],
   "source": [
    "# RMSE\n",
    "sqrt(mean_squared_error(dnn_model.predict(test_feature), test_gspc))"
   ]
  },
  {
   "cell_type": "markdown",
   "metadata": {},
   "source": []
  },
  {
   "cell_type": "markdown",
   "metadata": {},
   "source": [
    "#### predict IXIC"
   ]
  },
  {
   "cell_type": "code",
   "execution_count": 219,
   "metadata": {
    "ExecuteTime": {
     "end_time": "2020-11-14T05:31:22.111526Z",
     "start_time": "2020-11-14T05:31:22.108770Z"
    }
   },
   "outputs": [],
   "source": [
    "train_ixic = train_dataset['^IXIC']\n",
    "test_ixic = test_dataset['^IXIC']"
   ]
  },
  {
   "cell_type": "code",
   "execution_count": 220,
   "metadata": {
    "ExecuteTime": {
     "end_time": "2020-11-14T05:32:04.531026Z",
     "start_time": "2020-11-14T05:32:01.357317Z"
    }
   },
   "outputs": [],
   "source": [
    "history_ixic = dnn_model.fit(\n",
    "    train_feature, train_ixic,\n",
    "    validation_split=0.2,\n",
    "    verbose=0, epochs=500,callbacks=[stopper])"
   ]
  },
  {
   "cell_type": "code",
   "execution_count": 221,
   "metadata": {
    "ExecuteTime": {
     "end_time": "2020-11-14T05:31:25.661354Z",
     "start_time": "2020-11-14T05:31:25.501206Z"
    }
   },
   "outputs": [
    {
     "data": {
      "image/png": "[encoded data removed]",
      "text/plain": [
       "<Figure size 432x288 with 1 Axes>"
      ]
     },
     "metadata": {
      "needs_background": "light"
     },
     "output_type": "display_data"
    }
   ],
   "source": [
    "plot_loss(history_ixic)"
   ]
  },
  {
   "cell_type": "code",
   "execution_count": 222,
   "metadata": {
    "ExecuteTime": {
     "end_time": "2020-11-14T05:31:25.703388Z",
     "start_time": "2020-11-14T05:31:25.663438Z"
    }
   },
   "outputs": [
    {
     "data": {
      "text/plain": [
       "13.017857712445737"
      ]
     },
     "execution_count": 222,
     "metadata": {},
     "output_type": "execute_result"
    }
   ],
   "source": [
    "#MAPE\n",
    "mean_absolute_percentage_error(test_ixic, dnn_model.predict(test_feature)) "
   ]
  },
  {
   "cell_type": "code",
   "execution_count": 223,
   "metadata": {
    "ExecuteTime": {
     "end_time": "2020-11-14T05:31:25.745814Z",
     "start_time": "2020-11-14T05:31:25.707800Z"
    }
   },
   "outputs": [
    {
     "data": {
      "text/plain": [
       "1326.5581657875393"
      ]
     },
     "execution_count": 223,
     "metadata": {},
     "output_type": "execute_result"
    }
   ],
   "source": [
    "# RMSE\n",
    "sqrt(mean_squared_error(dnn_model.predict(test_feature), test_ixic))"
   ]
  },
  {
   "cell_type": "markdown",
   "metadata": {},
   "source": [
    "#### predict VGT"
   ]
  },
  {
   "cell_type": "code",
   "execution_count": 224,
   "metadata": {
    "ExecuteTime": {
     "end_time": "2020-11-14T05:31:25.750790Z",
     "start_time": "2020-11-14T05:31:25.748167Z"
    }
   },
   "outputs": [],
   "source": [
    "train_vgt = train_dataset['VGT']\n",
    "test_vgt = test_dataset['VGT']"
   ]
  },
  {
   "cell_type": "code",
   "execution_count": 225,
   "metadata": {
    "ExecuteTime": {
     "end_time": "2020-11-14T05:31:29.078064Z",
     "start_time": "2020-11-14T05:31:25.752547Z"
    }
   },
   "outputs": [],
   "source": [
    "history_vgt = dnn_model.fit(\n",
    "    train_feature, train_vgt,\n",
    "    validation_split=0.2,\n",
    "    verbose=0, epochs=500,callbacks=[stopper])"
   ]
  },
  {
   "cell_type": "code",
   "execution_count": 226,
   "metadata": {
    "ExecuteTime": {
     "end_time": "2020-11-14T05:31:29.207665Z",
     "start_time": "2020-11-14T05:31:29.079328Z"
    }
   },
   "outputs": [
    {
     "data": {
      "image/png": "[encoded data removed]",
      "text/plain": [
       "<Figure size 432x288 with 1 Axes>"
      ]
     },
     "metadata": {
      "needs_background": "light"
     },
     "output_type": "display_data"
    }
   ],
   "source": [
    "plot_loss(history_vgt)"
   ]
  },
  {
   "cell_type": "code",
   "execution_count": 228,
   "metadata": {
    "ExecuteTime": {
     "end_time": "2020-11-14T05:31:29.245125Z",
     "start_time": "2020-11-14T05:31:29.209346Z"
    }
   },
   "outputs": [
    {
     "data": {
      "text/plain": [
       "18.585568473827152"
      ]
     },
     "execution_count": 228,
     "metadata": {},
     "output_type": "execute_result"
    }
   ],
   "source": [
    "mean_absolute_percentage_error(test_vgt, dnn_model.predict(test_feature)) #MAPE"
   ]
  },
  {
   "cell_type": "code",
   "execution_count": 229,
   "metadata": {
    "ExecuteTime": {
     "end_time": "2020-11-14T05:31:29.284762Z",
     "start_time": "2020-11-14T05:31:29.246809Z"
    }
   },
   "outputs": [
    {
     "data": {
      "text/plain": [
       "43.69192410802111"
      ]
     },
     "execution_count": 229,
     "metadata": {},
     "output_type": "execute_result"
    }
   ],
   "source": [
    "# RMSE\n",
    "sqrt(mean_squared_error(dnn_model.predict(test_feature), test_vgt))"
   ]
  }
 ],
 "metadata": {
  "kernelspec": {
   "display_name": "Python 3",
   "language": "python",
   "name": "python3"
  },
  "language_info": {
   "codemirror_mode": {
    "name": "ipython",
    "version": 3
   },
   "file_extension": ".py",
   "mimetype": "text/x-python",
   "name": "python",
   "nbconvert_exporter": "python",
   "pygments_lexer": "ipython3",
   "version": "3.7.4"
  },
  "toc": {
   "base_numbering": 1,
   "nav_menu": {},
   "number_sections": false,
   "sideBar": true,
   "skip_h1_title": false,
   "title_cell": "Table of Contents",
   "title_sidebar": "Contents",
   "toc_cell": false,
   "toc_position": {},
   "toc_section_display": true,
   "toc_window_display": false
  }
 },
 "nbformat": 4,
 "nbformat_minor": 4
}
